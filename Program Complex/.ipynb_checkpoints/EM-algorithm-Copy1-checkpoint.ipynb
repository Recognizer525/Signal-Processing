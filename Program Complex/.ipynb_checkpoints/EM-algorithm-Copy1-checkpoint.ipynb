{
 "cells": [
  {
   "cell_type": "code",
   "execution_count": 1,
   "id": "c9413b81-cfa1-46d3-92cb-3cfb0d1df8ea",
   "metadata": {},
   "outputs": [],
   "source": [
    "import numpy as np\n",
    "import matplotlib.pyplot as plt\n",
    "from sensors import *\n",
    "from functools import partial"
   ]
  },
  {
   "cell_type": "code",
   "execution_count": 2,
   "id": "6c9c1e0b-6f7d-43a2-b972-cd0fed4d6c30",
   "metadata": {},
   "outputs": [],
   "source": [
    "dist_ratio = 0.5\n",
    "Num_sensors = 5\n",
    "Num_emitters = 2\n",
    "sample_size = 100\n",
    "# DOA in radian\n",
    "theta1 = np.array([0.34906585, 1.22173048])\n",
    "GS_1 = np.array([[2,0],[0,3]])\n",
    "GN_1 = 0.1*np.eye(5, dtype=np.float64)"
   ]
  },
  {
   "cell_type": "code",
   "execution_count": 3,
   "id": "dee941ca-5c28-45a7-9fd7-be47fcff8a59",
   "metadata": {},
   "outputs": [
    {
     "data": {
      "text/plain": [
       "array([0.34906585, 1.22173048])"
      ]
     },
     "execution_count": 3,
     "metadata": {},
     "output_type": "execute_result"
    }
   ],
   "source": [
    "theta1"
   ]
  },
  {
   "cell_type": "code",
   "execution_count": 4,
   "id": "c03cb4f6-00ff-4341-86b5-b3d73965348a",
   "metadata": {},
   "outputs": [],
   "source": [
    "A1 = np.zeros((Num_sensors, Num_emitters),dtype=np.complex128)\n",
    "for i in range(Num_emitters):\n",
    "    A1[:,i] = np.exp(-2j * np.pi * dist_ratio * np.arange(Num_sensors) * np.sin(theta1[i]))"
   ]
  },
  {
   "cell_type": "code",
   "execution_count": 5,
   "id": "1773c31a-944c-422d-bb6b-d14e3c217d75",
   "metadata": {},
   "outputs": [
    {
     "data": {
      "text/plain": [
       "array([[ 1.        +0.j        ,  1.        +0.j        ],\n",
       "       [ 0.47618256-0.87934645j, -0.98210585-0.18832978j],\n",
       "       [-0.54650034-0.83745888j,  0.92906379+0.36991955j],\n",
       "       [-0.99665042+0.08177982j, -0.84277211-0.53827054j],\n",
       "       [-0.40267475+0.91534313j,  0.72631905+0.68735773j]])"
      ]
     },
     "execution_count": 5,
     "metadata": {},
     "output_type": "execute_result"
    }
   ],
   "source": [
    "A1"
   ]
  },
  {
   "cell_type": "code",
   "execution_count": 6,
   "id": "4c1fc5e5-0a72-4741-ab11-7bdda17f0f6e",
   "metadata": {},
   "outputs": [],
   "source": [
    "s1 = CN(Num_emitters,sample_size,GS_1)\n",
    "n1 = CN(Num_sensors,sample_size,GN_1)\n",
    "X1 = np.zeros((sample_size, 5), dtype=np.complex128)\n",
    "for i in range(sample_size):\n",
    "    X1[i] = A1 @ s1[i] + n1[i]"
   ]
  },
  {
   "cell_type": "code",
   "execution_count": 7,
   "id": "3af55516-fcba-4378-a722-04d8499b9640",
   "metadata": {},
   "outputs": [
    {
     "name": "stdout",
     "output_type": "stream",
     "text": [
      "Initial theta = [[ 0.90568055]\n",
      " [-0.74927934]]\n",
      "K=[[ 0.02091006+3.69286540e-15j -0.00472409+9.64185679e-04j]\n",
      " [-0.00472409-9.64185679e-04j  0.0209793 -9.80015839e-15j]]\n",
      "theta_new=[ 0.98318958 -0.84645221]\n",
      "Iteration=1\n",
      "K=[[ 0.01984717-3.74970749e-15j -0.00082779-4.63269782e-04j]\n",
      " [-0.00082779+4.63269782e-04j  0.01991289+7.33491621e-15j]]\n",
      "theta_new=[ 1.03339697 -0.92237393]\n",
      "Iteration=2\n",
      "K=[[0.02035217-5.02752609e-15j 0.00186513+2.78494043e-03j]\n",
      " [0.00186513-2.78494043e-03j 0.02041956-1.40264393e-15j]]\n",
      "theta_new=[ 1.06879986 -0.97576279]\n",
      "Iteration=3\n",
      "K=[[0.02214091-5.50574995e-15j 0.00202174+6.91882070e-03j]\n",
      " [0.00202174-6.91882070e-03j 0.02221422+6.89842749e-15j]]\n",
      "theta_new=[ 1.09501822 -1.0097097 ]\n",
      "Iteration=4\n",
      "K=[[0.02429611+2.58578007e-15j 0.00094479+1.04239483e-02j]\n",
      " [0.00094479-1.04239483e-02j 0.02437656+2.30649715e-15j]]\n",
      "theta_new=[ 1.11520797 -1.02591602]\n",
      "Iteration=5\n",
      "K=[[ 0.02604544-1.04925398e-15j -0.00025613+1.27705308e-02j]\n",
      " [-0.00025613-1.27705308e-02j  0.02613168+9.64746518e-15j]]\n",
      "theta_new=[ 1.13160074 -1.02655576]\n",
      "Iteration=6\n",
      "K=[[ 0.02693037+3.88644841e-15j -0.00092492+1.38473897e-02j]\n",
      " [-0.00092492-1.38473897e-02j  0.02701954-1.01822570e-14j]]\n",
      "theta_new=[ 1.14582237 -1.01428129]\n",
      "Iteration=7\n",
      "K=[[ 0.02687217+5.00920780e-15j -0.00087996+1.37784648e-02j]\n",
      " [-0.00087996-1.37784648e-02j  0.02696115+4.53809158e-15j]]\n",
      "theta_new=[ 1.15900651 -0.99254948]\n",
      "Iteration=8\n",
      "K=[[ 0.0261176 +3.15357384e-15j -0.00030939+1.28607622e-02j]\n",
      " [-0.00030939-1.28607622e-02j  0.02620408+5.05103497e-15j]]\n",
      "theta_new=[ 1.17176751 -0.9658909 ]\n",
      "Iteration=9\n",
      "K=[[0.0250742 +7.31318972e-15j 0.00043445+1.15085058e-02j]\n",
      " [0.00043445-1.15085058e-02j 0.02515723-1.36037615e-14j]]\n",
      "theta_new=[ 1.1841939 -0.9387818]\n",
      "Iteration=10\n",
      "K=[[0.02407528+1.62783489e-15j 0.00108096+1.01021308e-02j]\n",
      " [0.00108096-1.01021308e-02j 0.024155  -6.27773860e-15j]]\n",
      "theta_new=[ 1.19599402 -0.9148267 ]\n",
      "Iteration=11\n",
      "K=[[0.023295  +6.19892132e-15j 0.00152342+8.90609409e-03j]\n",
      " [0.00152342-8.90609409e-03j 0.02337214-6.59877190e-15j]]\n",
      "theta_new=[ 1.20681379 -0.8957382 ]\n",
      "Iteration=12\n",
      "K=[[0.02275753-3.41768903e-15j 0.0017841 +8.01876958e-03j]\n",
      " [0.0017841 -8.01876958e-03j 0.02283288+5.61924055e-15j]]\n",
      "theta_new=[ 1.2164755  -0.88166122]\n",
      "Iteration=13\n",
      "K=[[0.02242034+5.35457715e-16j 0.00192359+7.42957913e-03j]\n",
      " [0.00192359-7.42957913e-03j 0.02249458-5.92734990e-16j]]\n",
      "theta_new=[ 1.22488649 -0.87185007]\n",
      "Iteration=14\n",
      "K=[[0.02222565-3.95953693e-15j 0.00199383+7.07606079e-03j]\n",
      " [0.00199383-7.07606079e-03j 0.02229924+9.41484134e-15j]]\n",
      "theta_new=[ 1.23209986 -0.86545932]\n",
      "Iteration=15\n",
      "K=[[0.02213156+3.25145979e-15j 0.00202471+6.90133760e-03j]\n",
      " [0.00202471-6.90133760e-03j 0.02220484-4.27383742e-15j]]\n",
      "theta_new=[ 1.2382741  -0.86160811]\n",
      "Iteration=16\n",
      "K=[[0.02210615-4.16064855e-15j 0.00203268+6.85369294e-03j]\n",
      " [0.00203268-6.85369294e-03j 0.02217935+2.95127199e-15j]]\n",
      "theta_new=[ 1.24356146 -0.85960717]\n",
      "Iteration=17\n",
      "K=[[0.02212826+1.46276848e-15j 0.00202575+6.89515740e-03j]\n",
      " [0.00202575-6.89515740e-03j 0.02220153-2.19430191e-14j]]\n",
      "theta_new=[ 1.24809219 -0.85880068]\n",
      "Iteration=18\n",
      "K=[[0.02217862+5.70910973e-15j 0.00200953+6.98905135e-03j]\n",
      " [0.00200953-6.98905135e-03j 0.02225206-6.83480043e-15j]]\n",
      "theta_new=[ 1.25200581 -0.85889867]\n",
      "Iteration=19\n",
      "K=[[0.02225094-6.91983164e-15j 0.00198518+7.12257440e-03j]\n",
      " [0.00198518-7.12257440e-03j 0.02232462-5.96805123e-15j]]\n",
      "theta_new=[ 1.25538483 -0.85954231]\n",
      "Iteration=20\n"
     ]
    }
   ],
   "source": [
    "theta_estimate1 = EM(X1, GS_1, GN_1)"
   ]
  },
  {
   "cell_type": "code",
   "execution_count": 8,
   "id": "6c8b7a47-827e-4c92-9559-c62f088d7014",
   "metadata": {},
   "outputs": [
    {
     "data": {
      "text/plain": [
       "array([ 1.25538483, -0.85954231])"
      ]
     },
     "execution_count": 8,
     "metadata": {},
     "output_type": "execute_result"
    }
   ],
   "source": [
    "theta_estimate1"
   ]
  },
  {
   "cell_type": "code",
   "execution_count": 9,
   "id": "8f9e4166-9aa2-46ef-88dc-16530bed8b97",
   "metadata": {},
   "outputs": [
    {
     "data": {
      "text/plain": [
       "array([0.34906585, 1.22173048])"
      ]
     },
     "execution_count": 9,
     "metadata": {},
     "output_type": "execute_result"
    }
   ],
   "source": [
    "theta1"
   ]
  },
  {
   "cell_type": "code",
   "execution_count": 10,
   "id": "eb68b10d-3211-4723-8443-a0d805c26dc2",
   "metadata": {},
   "outputs": [
    {
     "data": {
      "text/plain": [
       "array([-0.90631898,  2.08127279])"
      ]
     },
     "execution_count": 10,
     "metadata": {},
     "output_type": "execute_result"
    }
   ],
   "source": [
    "theta1-theta_estimate1"
   ]
  },
  {
   "cell_type": "code",
   "execution_count": 11,
   "id": "61a3038f-0338-4543-b350-c3c7d3ff3fa4",
   "metadata": {},
   "outputs": [
    {
     "data": {
      "text/plain": [
       "array([ 0.60864867, -1.69723649])"
      ]
     },
     "execution_count": 11,
     "metadata": {},
     "output_type": "execute_result"
    }
   ],
   "source": [
    "np.sin(theta_estimate1)-np.sin(theta1)"
   ]
  },
  {
   "cell_type": "code",
   "execution_count": 12,
   "id": "07f23bde-530c-400f-8a10-8a0a59176889",
   "metadata": {},
   "outputs": [],
   "source": [
    "theta2 = [0.5]\n",
    "GS_2 = np.array([[0.7]])\n",
    "GN_2 = 0.1*np.eye(5, dtype=np.float64)"
   ]
  },
  {
   "cell_type": "code",
   "execution_count": 13,
   "id": "b74ede85-4b72-4628-b7f1-46a2bfe768bf",
   "metadata": {},
   "outputs": [],
   "source": [
    "A2 = np.zeros((5, 1),dtype=np.complex128)\n",
    "for i in range(1):\n",
    "    A2[:,i] = np.exp(-2j * np.pi * dist_ratio * np.arange(5) * np.sin(theta2[i]))"
   ]
  },
  {
   "cell_type": "code",
   "execution_count": 14,
   "id": "c3f4848b-d644-4fac-81be-280419b853b8",
   "metadata": {},
   "outputs": [
    {
     "data": {
      "text/plain": [
       "array([[ 1.        +0.j        ],\n",
       "       [ 0.06459158-0.99791178j],\n",
       "       [-0.99165586-0.1289134j ],\n",
       "       [-0.19269681+0.98125834j],\n",
       "       [ 0.96676267+0.25567545j]])"
      ]
     },
     "execution_count": 14,
     "metadata": {},
     "output_type": "execute_result"
    }
   ],
   "source": [
    "A2"
   ]
  },
  {
   "cell_type": "code",
   "execution_count": 15,
   "id": "4956d1eb-601e-47e3-8e66-725c9eb1d3fa",
   "metadata": {},
   "outputs": [],
   "source": [
    "s2 = CN(1,sample_size,GS_2)\n",
    "n2 = CN(5,sample_size,GN_2)\n",
    "X2 = np.zeros((sample_size, 5), dtype=np.complex128)\n",
    "for i in range(sample_size):\n",
    "    X2[i] = A2 @ s2[i] + n2[i]"
   ]
  },
  {
   "cell_type": "code",
   "execution_count": 16,
   "id": "569d6c62-4af5-465c-98cd-1ef1ed941d93",
   "metadata": {},
   "outputs": [],
   "source": [
    "W1, W2 = goal_function(X2, GS_2, GN_2, 50)"
   ]
  },
  {
   "cell_type": "code",
   "execution_count": 17,
   "id": "6bbeb039-2000-4761-91f0-0626a1e76545",
   "metadata": {},
   "outputs": [
    {
     "data": {
      "text/plain": [
       "[<matplotlib.lines.Line2D at 0x1ae4dd5e800>]"
      ]
     },
     "execution_count": 17,
     "metadata": {},
     "output_type": "execute_result"
    },
    {
     "data": {
      "image/png": "[encoded data removed]",
      "text/plain": [
       "<Figure size 640x480 with 1 Axes>"
      ]
     },
     "metadata": {},
     "output_type": "display_data"
    }
   ],
   "source": [
    "plt.title(\"График функции, подлежащей максимизации, на первом шаге ЕМ-алгоритма\")\n",
    "plt.plot(W1, W2.real, color='green')"
   ]
  },
  {
   "cell_type": "code",
   "execution_count": 18,
   "id": "f0ad2519-28a4-41f5-8698-606a0b58805b",
   "metadata": {},
   "outputs": [
    {
     "name": "stdout",
     "output_type": "stream",
     "text": [
      "Initial theta = [[0.90568055]]\n",
      "K=[[0.01944444-5.82867088e-17j]]\n",
      "theta_new=[0.76080704]\n",
      "Iteration=1\n",
      "K=[[0.01944444-3.9829251e-16j]]\n",
      "theta_new=[0.67112988]\n",
      "Iteration=2\n",
      "K=[[0.01944444+5.34294831e-17j]]\n",
      "theta_new=[0.61411006]\n",
      "Iteration=3\n",
      "K=[[0.01944444-8.01442246e-17j]]\n",
      "theta_new=[0.57692761]\n",
      "Iteration=4\n",
      "K=[[0.01944444+1.70002901e-16j]]\n",
      "theta_new=[0.55241946]\n",
      "Iteration=5\n",
      "K=[[0.01944444+4.12864187e-17j]]\n",
      "theta_new=[0.53607345]\n",
      "Iteration=6\n",
      "K=[[0.01944444-2.40432674e-16j]]\n",
      "theta_new=[0.52518446]\n",
      "Iteration=7\n",
      "K=[[0.01944444+1.35091591e-17j]]\n",
      "theta_new=[0.51787598]\n",
      "Iteration=8\n",
      "K=[[0.01944444+1.57859836e-17j]]\n",
      "theta_new=[0.51297032]\n",
      "Iteration=9\n",
      "K=[[0.01944444-8.1358531e-17j]]\n",
      "theta_new=[0.50968912]\n",
      "Iteration=10\n",
      "K=[[0.01944444+4.85722573e-18j]]\n",
      "theta_new=[0.50749905]\n",
      "Iteration=11\n",
      "K=[[0.01944444+2.55004351e-16j]]\n",
      "theta_new=[0.50601223]\n",
      "Iteration=12\n",
      "K=[[0.01944444+5.10008702e-17j]]\n",
      "theta_new=[0.50502393]\n",
      "Iteration=13\n",
      "K=[[0.01944444-9.71445147e-18j]]\n",
      "theta_new=[0.50433346]\n",
      "Iteration=14\n",
      "K=[[0.01944444+8.98586761e-17j]]\n",
      "theta_new=[0.50386558]\n",
      "Iteration=15\n",
      "K=[[0.01944444+4.29864477e-16j]]\n",
      "theta_new=[0.50357034]\n",
      "Iteration=16\n",
      "K=[[0.01944444-5.34294831e-17j]]\n",
      "theta_new=[0.50334905]\n",
      "Iteration=17\n",
      "K=[[0.01944444-8.25728375e-17j]]\n",
      "theta_new=[0.50320158]\n",
      "Iteration=18\n",
      "K=[[0.01944444+1.09287579e-16j]]\n",
      "theta_new=[0.5031033]\n",
      "Iteration=19\n",
      "K=[[0.01944444-1.23859256e-16j]]\n",
      "theta_new=[0.50305417]\n",
      "Iteration=20\n"
     ]
    }
   ],
   "source": [
    "theta_estimate2=EM(X2, GS_2, GN_2)"
   ]
  },
  {
   "cell_type": "code",
   "execution_count": 19,
   "id": "b07f261b-e5cc-45b7-9e28-cdbe40aca681",
   "metadata": {},
   "outputs": [
    {
     "data": {
      "text/plain": [
       "array([0.50305417])"
      ]
     },
     "execution_count": 19,
     "metadata": {},
     "output_type": "execute_result"
    }
   ],
   "source": [
    "theta_estimate2"
   ]
  },
  {
   "cell_type": "code",
   "execution_count": 20,
   "id": "cc13f26f-4cdb-482c-88e5-967ce565ff31",
   "metadata": {},
   "outputs": [
    {
     "data": {
      "text/plain": [
       "array([0.00305417])"
      ]
     },
     "execution_count": 20,
     "metadata": {},
     "output_type": "execute_result"
    }
   ],
   "source": [
    "np.abs(theta_estimate2-theta2)"
   ]
  },
  {
   "cell_type": "code",
   "execution_count": null,
   "id": "db250388-a8c0-4c78-8116-6b61fea37ff2",
   "metadata": {},
   "outputs": [],
   "source": []
  }
 ],
 "metadata": {
  "kernelspec": {
   "display_name": "Python 3 (ipykernel)",
   "language": "python",
   "name": "python3"
  },
  "language_info": {
   "codemirror_mode": {
    "name": "ipython",
    "version": 3
   },
   "file_extension": ".py",
   "mimetype": "text/x-python",
   "name": "python",
   "nbconvert_exporter": "python",
   "pygments_lexer": "ipython3",
   "version": "3.10.9"
  }
 },
 "nbformat": 4,
 "nbformat_minor": 5
}
