{
 "cells": [
  {
   "cell_type": "code",
   "execution_count": 1,
   "id": "c80a4695-d895-481a-aab7-395b55382e18",
   "metadata": {},
   "outputs": [],
   "source": [
    "import numpy as np\n",
    "import matplotlib.pyplot as plt\n",
    "import em_stools\n",
    "from functools import partial"
   ]
  },
  {
   "cell_type": "code",
   "execution_count": 2,
   "id": "162c3737-e770-46b0-8b56-ca4e84f36fc2",
   "metadata": {},
   "outputs": [],
   "source": [
    "dist_ratio = 0.5"
   ]
  },
  {
   "cell_type": "code",
   "execution_count": 3,
   "id": "915faee4-1211-4f37-b00e-57a7266d80a6",
   "metadata": {},
   "outputs": [],
   "source": [
    "Num_sensors1 = 5\n",
    "Num_emitters1 = 1\n",
    "sample_size1 = 100\n",
    "theta1_rad = [0.5] # Направление прибытия (DOA) в радианах\n",
    "theta1_deg = np.rad2deg(theta1_rad[0]) # Направление прибытия (DOA) в градусах\n",
    "GS_1 = np.array([[0.7]]) # Ковариация сигнала\n",
    "GN_1 = 4.1*np.eye(Num_sensors1, dtype=np.float64) # Ковариация шума\n",
    "A1 = np.exp(-2j * np.pi * dist_ratio * np.arange(Num_sensors1).reshape(-1,1) * np.sin(theta1_rad).reshape(1,-1)) # Матрица управляющих векторов\n",
    "# Генерация векторов сигнала, шума и принятого сигнала\n",
    "s1 = em_stools.generate_stochastic_signals(Num_emitters1, sample_size1, GS_1)\n",
    "n1 = em_stools.generate_stochastic_signals(Num_sensors1, sample_size1, GN_1)\n",
    "X1 = (A1 @ s1.T + n1.T).T"
   ]
  },
  {
   "cell_type": "code",
   "execution_count": 4,
   "id": "44b48825-b392-4827-ba84-0e97741619ad",
   "metadata": {},
   "outputs": [],
   "source": [
    "# EM_theta1_rad, neglhd_1, K1, mu1 = multi_start_EM(X1, GS_1, GN_1, 10, max_iter=50, eps=1e-6)"
   ]
  },
  {
   "cell_type": "code",
   "execution_count": 5,
   "id": "8c7fe22d-bd55-4340-8b96-719866346576",
   "metadata": {},
   "outputs": [],
   "source": [
    "#EM_theta1_deg = np.rad2deg(EM_theta1_rad)"
   ]
  },
  {
   "cell_type": "code",
   "execution_count": 6,
   "id": "3b7f585d-9d6e-46c1-b2fe-82fc1aad2bfb",
   "metadata": {},
   "outputs": [],
   "source": [
    "# print(f\"Погрешность в смысле разности углов в градусах: {np.abs(EM_theta1_deg-theta1_deg)}.\\nПогрешность в смысле разности синусов углов {np.abs(np.sin(EM_theta1_rad)-np.sin(theta1_rad))}.\")"
   ]
  }
 ],
 "metadata": {
  "kernelspec": {
   "display_name": "Python 3 (ipykernel)",
   "language": "python",
   "name": "python3"
  },
  "language_info": {
   "codemirror_mode": {
    "name": "ipython",
    "version": 3
   },
   "file_extension": ".py",
   "mimetype": "text/x-python",
   "name": "python",
   "nbconvert_exporter": "python",
   "pygments_lexer": "ipython3",
   "version": "3.10.9"
  }
 },
 "nbformat": 4,
 "nbformat_minor": 5
}
