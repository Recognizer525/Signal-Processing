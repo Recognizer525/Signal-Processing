{
 "cells": [
  {
   "cell_type": "code",
   "execution_count": 1,
   "id": "bc1f1f4f-75c9-4cf5-8af3-6f6560cb8046",
   "metadata": {},
   "outputs": [],
   "source": [
    "import numpy as np\n",
    "import matplotlib.pyplot as plt\n",
    "from sensors import *\n",
    "from functools import partial"
   ]
  },
  {
   "cell_type": "code",
   "execution_count": 2,
   "id": "a773ecdb-c4b4-4aae-9b78-ad8c9c2a03d1",
   "metadata": {},
   "outputs": [],
   "source": [
    "Num_sensors1 = 5\n",
    "Num_emitters1 = 1\n",
    "sample_size1 = 100\n",
    "theta1_rad = [0.5] # Направление прибытия (DOA) в радианах\n",
    "# Истинное DOA в градусах\n",
    "theta1_deg = rad_to_deg(theta1_rad[0])\n",
    "GS_1 = np.array([[0.7]]) # Ковариация сигнала\n",
    "GN_1 = 4.1*np.eye(5, dtype=np.float64) # Ковариация шума\n",
    "A1 = np.exp(-2j * np.pi * dist_ratio * np.arange(Num_sensors1).reshape(-1,1) * np.sin(theta1_rad).reshape(1,-1)) # Матрица управляющих векторов\n",
    "# Генерация векторов сигнала, шума и принятого сигнала\n",
    "s1 = CN(Num_emitters1, sample_size1, GS_1)\n",
    "n1 = CN(Num_sensors1, sample_size1, GN_1)\n",
    "X1 = (A1 @ s1.T + n1.T).T"
   ]
  },
  {
   "cell_type": "code",
   "execution_count": 3,
   "id": "7b624f85-0b15-437c-86a4-ecd24154719c",
   "metadata": {},
   "outputs": [],
   "source": [
    "#EM_theta1_rad, neglhd_1, K1, mu1 = multi_start_EM(X1, GS_1, GN_1, 10, max_iter=50, eps=1e-6)"
   ]
  },
  {
   "cell_type": "code",
   "execution_count": 4,
   "id": "476a5a06-9599-4111-9ea5-79212e6bff70",
   "metadata": {},
   "outputs": [
    {
     "name": "stdout",
     "output_type": "stream",
     "text": [
      "0-th start\n",
      "1-th start\n",
      "2-th start\n",
      "3-th start\n",
      "4-th start\n",
      "5-th start\n",
      "6-th start\n",
      "7-th start\n",
      "8-th start\n",
      "9-th start\n",
      "10-th start\n",
      "11-th start\n",
      "12-th start\n",
      "13-th start\n",
      "14-th start\n",
      "15-th start\n",
      "16-th start\n",
      "17-th start\n",
      "18-th start\n",
      "19-th start\n"
     ]
    }
   ],
   "source": [
    "theta_ML, ML_func_val = multi_start_ML2(X1, GS_1, GN_1, method='BFGS')"
   ]
  },
  {
   "cell_type": "code",
   "execution_count": 5,
   "id": "4af27eba-0a1b-4155-ab85-b11ac95ec2a7",
   "metadata": {},
   "outputs": [
    {
     "data": {
      "text/plain": [
       "array([0.51204279])"
      ]
     },
     "execution_count": 5,
     "metadata": {},
     "output_type": "execute_result"
    }
   ],
   "source": [
    "theta_ML"
   ]
  },
  {
   "cell_type": "code",
   "execution_count": 6,
   "id": "941ea6bc-2d46-456d-bbcb-99598b86e216",
   "metadata": {},
   "outputs": [
    {
     "ename": "NameError",
     "evalue": "name 'EM_theta1_rad' is not defined",
     "output_type": "error",
     "traceback": [
      "\u001b[1;31m---------------------------------------------------------------------------\u001b[0m",
      "\u001b[1;31mNameError\u001b[0m                                 Traceback (most recent call last)",
      "Cell \u001b[1;32mIn[6], line 1\u001b[0m\n\u001b[1;32m----> 1\u001b[0m \u001b[43mEM_theta1_rad\u001b[49m\n",
      "\u001b[1;31mNameError\u001b[0m: name 'EM_theta1_rad' is not defined"
     ]
    }
   ],
   "source": [
    "#EM_theta1_rad"
   ]
  },
  {
   "cell_type": "code",
   "execution_count": null,
   "id": "9bfa43e3-acbd-48e7-9ca6-97a0de6e7487",
   "metadata": {},
   "outputs": [],
   "source": [
    "theta1_rad"
   ]
  },
  {
   "cell_type": "code",
   "execution_count": null,
   "id": "96a25a24-8d25-48e5-98da-3401c75a64fb",
   "metadata": {},
   "outputs": [],
   "source": [
    "L = 5\n",
    "M = 1\n",
    "theta2 = np.random.uniform(-np.pi, np.pi, M).reshape(M,1)\n",
    "Ga_s = np.array([[0.7]])\n",
    "sigma2 = 4.1\n",
    "res = d_ML2(X1, theta2, Ga_s, sigma2, L, M)"
   ]
  },
  {
   "cell_type": "code",
   "execution_count": null,
   "id": "3dddd042-b455-4caa-b760-5ef5edd0d9d7",
   "metadata": {},
   "outputs": [],
   "source": [
    "res"
   ]
  },
  {
   "cell_type": "code",
   "execution_count": null,
   "id": "ec80e0e6-ff1a-40d8-a4c7-b39df3749cc2",
   "metadata": {},
   "outputs": [],
   "source": []
  }
 ],
 "metadata": {
  "kernelspec": {
   "display_name": "Python 3 (ipykernel)",
   "language": "python",
   "name": "python3"
  },
  "language_info": {
   "codemirror_mode": {
    "name": "ipython",
    "version": 3
   },
   "file_extension": ".py",
   "mimetype": "text/x-python",
   "name": "python",
   "nbconvert_exporter": "python",
   "pygments_lexer": "ipython3",
   "version": "3.10.9"
  }
 },
 "nbformat": 4,
 "nbformat_minor": 5
}
