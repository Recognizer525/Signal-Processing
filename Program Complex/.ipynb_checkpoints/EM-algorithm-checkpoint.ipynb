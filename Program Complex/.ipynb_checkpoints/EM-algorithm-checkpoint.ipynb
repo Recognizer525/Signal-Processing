{
 "cells": [
  {
   "cell_type": "code",
   "execution_count": 1,
   "id": "c9413b81-cfa1-46d3-92cb-3cfb0d1df8ea",
   "metadata": {},
   "outputs": [],
   "source": [
    "import numpy as np\n",
    "import matplotlib.pyplot as plt\n",
    "from sensors import *\n",
    "from functools import partial"
   ]
  },
  {
   "cell_type": "code",
   "execution_count": 2,
   "id": "1759ce5b-8986-420c-8f87-54925b3f1a87",
   "metadata": {},
   "outputs": [],
   "source": [
    "# Отношение расстояния между датчиками к длине волны\n",
    "dist_ratio = 0.5"
   ]
  },
  {
   "cell_type": "code",
   "execution_count": 3,
   "id": "01600988-c703-45e9-a505-a3e7b372cdc5",
   "metadata": {},
   "outputs": [],
   "source": [
    "Num_sensors1 = 5\n",
    "Num_emitters1 = 1\n",
    "sample_size1 = 100\n",
    "theta1 = [0.5] # Направление прибытия (DOA) в радианах\n",
    "GS_1 = np.array([[0.7]]) # Ковариация сигнала\n",
    "GN_1 = 4.1*np.eye(5, dtype=np.float64) # Ковариация шума\n",
    "A1 = np.exp(-2j * np.pi * dist_ratio * np.arange(Num_sensors1).reshape(-1,1) * np.sin(theta1).reshape(1,-1)) # Матрица управляющих векторов\n",
    "# Генерация векторов сигнала, шума и принятого сигнала\n",
    "s1 = CN(Num_emitters1, sample_size1, GS_1)\n",
    "n1 = CN(Num_sensors1, sample_size1, GN_1)\n",
    "X1 = (A1 @ s1.T + n1.T).T"
   ]
  },
  {
   "cell_type": "code",
   "execution_count": 4,
   "id": "8d540c1b-76ae-4e24-9f02-b04619d7c550",
   "metadata": {},
   "outputs": [
    {
     "name": "stdout",
     "output_type": "stream",
     "text": [
      "0-th start\n",
      "Iteration=1, theta_new=[-0.57826662], -likelihood = -78.29595\n",
      "Iteration=2, theta_new=[-0.57053005], -likelihood = -78.71504\n",
      "Iteration=3, theta_new=[-0.56339842], -likelihood = -79.07827\n",
      "Iteration=4, theta_new=[-0.55685112], -likelihood = -79.39000\n",
      "Iteration=5, theta_new=[-0.55086932], -likelihood = -79.65495\n",
      "Iteration=6, theta_new=[-0.54543594], -likelihood = -79.87798\n",
      "Iteration=7, theta_new=[-0.54048227], -likelihood = -80.06392\n",
      "Iteration=8, theta_new=[-0.53599585], -likelihood = -80.21896\n",
      "Iteration=9, theta_new=[-0.53191307], -likelihood = -80.34701\n",
      "Iteration=10, theta_new=[-0.528225], -likelihood = -80.45299\n",
      "Iteration=11, theta_new=[-0.52492359], -likelihood = -80.53985\n",
      "Iteration=12, theta_new=[-0.52195039], -likelihood = -80.61030\n",
      "Iteration=13, theta_new=[-0.51924889], -likelihood = -80.66774\n",
      "Iteration=14, theta_new=[-0.51681491], -likelihood = -80.71491\n",
      "Iteration=15, theta_new=[-0.51464469], -likelihood = -80.75327\n",
      "Iteration=16, theta_new=[-0.51268462], -likelihood = -80.78412\n",
      "Iteration=17, theta_new=[-0.51093228], -likelihood = -80.80924\n",
      "Iteration=18, theta_new=[-0.50933561], -likelihood = -80.82949\n",
      "Iteration=19, theta_new=[-0.5079429], -likelihood = -80.84609\n",
      "Iteration=20, theta_new=[-0.5066532], -likelihood = -80.85914\n",
      "1-th start\n",
      "Iteration=1, theta_new=[-2.97127567], -likelihood = -65.45868\n",
      "Iteration=2, theta_new=[-2.97301666], -likelihood = -65.48065\n",
      "Iteration=3, theta_new=[-2.97490382], -likelihood = -65.50661\n",
      "Iteration=4, theta_new=[-2.97693745], -likelihood = -65.53706\n",
      "Iteration=5, theta_new=[-2.97911782], -likelihood = -65.57251\n",
      "Iteration=6, theta_new=[-2.98151799], -likelihood = -65.61350\n",
      "Iteration=7, theta_new=[-2.98406568], -likelihood = -65.66212\n",
      "Iteration=8, theta_new=[-2.9868341], -likelihood = -65.71764\n",
      "Iteration=9, theta_new=[-2.98975093], -likelihood = -65.78242\n",
      "Iteration=10, theta_new=[-2.99288958], -likelihood = -65.85551\n",
      "Iteration=11, theta_new=[-2.99625074], -likelihood = -65.93954\n",
      "Iteration=12, theta_new=[-2.99976197], -likelihood = -66.03544\n",
      "Iteration=13, theta_new=[-3.00349702], -likelihood = -66.14188\n",
      "Iteration=14, theta_new=[-3.00745671], -likelihood = -66.26176\n",
      "Iteration=15, theta_new=[-3.01164189], -likelihood = -66.39591\n",
      "Iteration=16, theta_new=[-3.01597995], -likelihood = -66.54510\n",
      "Iteration=17, theta_new=[-3.02054515], -likelihood = -66.70717\n",
      "Iteration=18, theta_new=[-3.02526476], -likelihood = -66.88521\n",
      "Iteration=19, theta_new=[-3.03013945], -likelihood = -67.07657\n",
      "Iteration=20, theta_new=[-3.03516996], -likelihood = -67.28117\n",
      "2-th start\n",
      "Iteration=1, theta_new=[-0.57579185], -likelihood = -78.43323\n",
      "Iteration=2, theta_new=[-0.56825708], -likelihood = -78.83392\n",
      "Iteration=3, theta_new=[-0.56132034], -likelihood = -79.18013\n",
      "Iteration=4, theta_new=[-0.55496164], -likelihood = -79.47637\n",
      "Iteration=5, theta_new=[-0.54916272], -likelihood = -79.72742\n",
      "Iteration=6, theta_new=[-0.54385343], -likelihood = -79.93813\n",
      "Iteration=7, theta_new=[-0.53902036], -likelihood = -80.11497\n",
      "Iteration=8, theta_new=[-0.53465135], -likelihood = -80.26200\n",
      "Iteration=9, theta_new=[-0.53068323], -likelihood = -80.38303\n",
      "Iteration=10, theta_new=[-0.52710734], -likelihood = -80.48290\n",
      "Iteration=11, theta_new=[-0.52391587], -likelihood = -80.56448\n",
      "Iteration=12, theta_new=[-0.52099954], -likelihood = -80.63041\n",
      "Iteration=13, theta_new=[-0.51840472], -likelihood = -80.68489\n",
      "Iteration=14, theta_new=[-0.51607595], -likelihood = -80.72866\n",
      "Iteration=15, theta_new=[-0.51395923], -likelihood = -80.76413\n",
      "Iteration=16, theta_new=[-0.51205196], -likelihood = -80.79320\n",
      "Iteration=17, theta_new=[-0.51035179], -likelihood = -80.81679\n",
      "Iteration=18, theta_new=[-0.50885662], -likelihood = -80.83572\n",
      "Iteration=19, theta_new=[-0.50746521], -likelihood = -80.85073\n",
      "Iteration=20, theta_new=[-0.50627584], -likelihood = -80.86330\n",
      "3-th start\n",
      "Iteration=1, theta_new=[-1.82902056], -likelihood = -77.99007\n",
      "Iteration=2, theta_new=[-1.83321802], -likelihood = -78.00249\n",
      "Iteration=3, theta_new=[-1.83706706], -likelihood = -78.01278\n",
      "Iteration=4, theta_new=[-1.84047568], -likelihood = -78.02155\n",
      "Iteration=5, theta_new=[-1.84362103], -likelihood = -78.02874\n",
      "Iteration=6, theta_new=[-1.84641166], -likelihood = -78.03489\n",
      "Iteration=7, theta_new=[-1.84893606], -likelihood = -78.03993\n",
      "Iteration=8, theta_new=[-1.85128334], -likelihood = -78.04414\n",
      "Iteration=9, theta_new=[-1.85336242], -likelihood = -78.04775\n",
      "Iteration=10, theta_new=[-1.85526284], -likelihood = -78.05070\n",
      "Iteration=11, theta_new=[-1.85698403], -likelihood = -78.05318\n",
      "Iteration=12, theta_new=[-1.85852547], -likelihood = -78.05524\n",
      "Iteration=13, theta_new=[-1.85997744], -likelihood = -78.05694\n",
      "Iteration=14, theta_new=[-1.86124891], -likelihood = -78.05842\n",
      "Iteration=15, theta_new=[-1.86243037], -likelihood = -78.05960\n",
      "Iteration=16, theta_new=[-1.86352164], -likelihood = -78.06061\n",
      "Iteration=17, theta_new=[-1.86452255], -likelihood = -78.06147\n",
      "Iteration=18, theta_new=[-1.86543296], -likelihood = -78.06218\n",
      "Iteration=19, theta_new=[-1.86625273], -likelihood = -78.06278\n",
      "Iteration=20, theta_new=[-1.86698174], -likelihood = -78.06327\n",
      "4-th start\n",
      "Iteration=1, theta_new=[2.55881137], -likelihood = -140.15350\n",
      "Iteration=2, theta_new=[2.57074332], -likelihood = -142.08923\n",
      "Iteration=3, theta_new=[2.58065976], -likelihood = -143.46279\n",
      "Iteration=4, theta_new=[2.58891334], -likelihood = -144.43018\n",
      "Iteration=5, theta_new=[2.59580278], -likelihood = -145.10902\n",
      "Iteration=6, theta_new=[2.60150645], -likelihood = -145.58480\n",
      "Iteration=7, theta_new=[2.60620644], -likelihood = -145.91459\n",
      "Iteration=8, theta_new=[2.61015138], -likelihood = -146.14193\n",
      "Iteration=9, theta_new=[2.61340132], -likelihood = -146.30135\n",
      "Iteration=10, theta_new=[2.61608108], -likelihood = -146.41095\n",
      "Iteration=11, theta_new=[2.6183165], -likelihood = -146.48645\n",
      "Iteration=12, theta_new=[2.62017029], -likelihood = -146.53909\n",
      "Iteration=13, theta_new=[2.62176951], -likelihood = -146.57557\n",
      "Iteration=14, theta_new=[2.62304968], -likelihood = -146.60180\n",
      "Iteration=15, theta_new=[2.62413834], -likelihood = -146.61930\n",
      "Iteration=16, theta_new=[2.62503527], -likelihood = -146.63172\n",
      "Iteration=17, theta_new=[2.62580432], -likelihood = -146.64025\n",
      "Iteration=18, theta_new=[2.62644538], -likelihood = -146.64634\n",
      "Iteration=19, theta_new=[2.62695836], -likelihood = -146.65055\n",
      "Iteration=20, theta_new=[2.62740731], -likelihood = -146.65335\n",
      "5-th start\n",
      "Iteration=1, theta_new=[-1.44204357], -likelihood = -77.43191\n",
      "Iteration=2, theta_new=[-1.42021577], -likelihood = -77.52627\n",
      "Iteration=3, theta_new=[-1.40246307], -likelihood = -77.60787\n",
      "Iteration=4, theta_new=[-1.38753451], -likelihood = -77.67802\n",
      "Iteration=5, theta_new=[-1.37472962], -likelihood = -77.73810\n",
      "Iteration=6, theta_new=[-1.36365392], -likelihood = -77.78939\n",
      "Iteration=7, theta_new=[-1.35393256], -likelihood = -77.83283\n",
      "Iteration=8, theta_new=[-1.34533826], -likelihood = -77.86973\n",
      "Iteration=9, theta_new=[-1.33771818], -likelihood = -77.90101\n",
      "Iteration=10, theta_new=[-1.33092508], -likelihood = -77.92741\n",
      "Iteration=11, theta_new=[-1.32481634], -likelihood = -77.94969\n",
      "Iteration=12, theta_new=[-1.31938253], -likelihood = -77.96856\n",
      "Iteration=13, theta_new=[-1.31448638], -likelihood = -77.98430\n",
      "Iteration=14, theta_new=[-1.31005769], -likelihood = -77.99756\n",
      "Iteration=15, theta_new=[-1.30609169], -likelihood = -78.00875\n",
      "Iteration=16, theta_new=[-1.30252035], -likelihood = -78.01806\n",
      "Iteration=17, theta_new=[-1.29927677], -likelihood = -78.02585\n",
      "Iteration=18, theta_new=[-1.29635847], -likelihood = -78.03240\n",
      "Iteration=19, theta_new=[-1.29369992], -likelihood = -78.03785\n",
      "Iteration=20, theta_new=[-1.2912995], -likelihood = -78.04244\n",
      "6-th start\n",
      "Iteration=1, theta_new=[-1.79842624], -likelihood = -77.87884\n",
      "Iteration=2, theta_new=[-1.8058026], -likelihood = -77.90867\n",
      "Iteration=3, theta_new=[-1.81241565], -likelihood = -77.93386\n",
      "Iteration=4, theta_new=[-1.81834494], -likelihood = -77.95521\n",
      "Iteration=5, theta_new=[-1.82367212], -likelihood = -77.97320\n",
      "Iteration=6, theta_new=[-1.82839158], -likelihood = -77.98835\n",
      "Iteration=7, theta_new=[-1.83267688], -likelihood = -78.00089\n",
      "Iteration=8, theta_new=[-1.83652478], -likelihood = -78.01150\n",
      "Iteration=9, theta_new=[-1.84002207], -likelihood = -78.02035\n",
      "Iteration=10, theta_new=[-1.84316664], -likelihood = -78.02782\n",
      "Iteration=11, theta_new=[-1.84604659], -likelihood = -78.03403\n",
      "Iteration=12, theta_new=[-1.84866062], -likelihood = -78.03929\n",
      "Iteration=13, theta_new=[-1.85100755], -likelihood = -78.04370\n",
      "Iteration=14, theta_new=[-1.85308632], -likelihood = -78.04734\n",
      "Iteration=15, theta_new=[-1.85498646], -likelihood = -78.05032\n",
      "Iteration=16, theta_new=[-1.85670739], -likelihood = -78.05283\n",
      "Iteration=17, theta_new=[-1.85833926], -likelihood = -78.05492\n",
      "Iteration=18, theta_new=[-1.85979109], -likelihood = -78.05674\n",
      "Iteration=19, theta_new=[-1.86115324], -likelihood = -78.05823\n",
      "Iteration=20, theta_new=[-1.86233464], -likelihood = -78.05951\n",
      "7-th start\n",
      "Iteration=1, theta_new=[-3.05751974], -likelihood = -68.26656\n",
      "Iteration=2, theta_new=[-3.06296893], -likelihood = -68.52152\n",
      "Iteration=3, theta_new=[-3.06850262], -likelihood = -68.77904\n",
      "Iteration=4, theta_new=[-3.07397138], -likelihood = -69.04173\n",
      "Iteration=5, theta_new=[-3.0794499], -likelihood = -69.30159\n",
      "Iteration=6, theta_new=[-3.08486299], -likelihood = -69.56131\n",
      "Iteration=7, theta_new=[-3.0902856], -likelihood = -69.81659\n",
      "Iteration=8, theta_new=[-3.0956423], -likelihood = -70.07034\n",
      "Iteration=9, theta_new=[-3.1009327], -likelihood = -70.31849\n",
      "Iteration=10, theta_new=[-3.10608074], -likelihood = -70.56067\n",
      "Iteration=11, theta_new=[-3.11116148], -likelihood = -70.79319\n",
      "Iteration=12, theta_new=[-3.11617459], -likelihood = -71.01940\n",
      "Iteration=13, theta_new=[-3.12111969], -likelihood = -71.23921\n",
      "Iteration=14, theta_new=[-3.12592024], -likelihood = -71.45268\n",
      "Iteration=15, theta_new=[-3.13065186], -likelihood = -71.65668\n",
      "Iteration=16, theta_new=[-3.1353142], -likelihood = -71.85468\n",
      "Iteration=17, theta_new=[-3.13990695], -likelihood = -72.04691\n",
      "Iteration=18, theta_new=[-3.14442976], -likelihood = -72.23363\n",
      "Iteration=19, theta_new=[-3.14888233], -likelihood = -72.41514\n",
      "Iteration=20, theta_new=[-3.15326431], -likelihood = -72.59179\n",
      "8-th start\n",
      "Iteration=1, theta_new=[1.8366528], -likelihood = -75.55915\n",
      "Iteration=2, theta_new=[1.81602633], -likelihood = -75.81628\n",
      "Iteration=3, theta_new=[1.79421273], -likelihood = -76.06202\n",
      "Iteration=4, theta_new=[1.77090899], -likelihood = -76.29341\n",
      "Iteration=5, theta_new=[1.74574618], -likelihood = -76.50880\n",
      "Iteration=6, theta_new=[1.71778696], -likelihood = -76.70608\n",
      "Iteration=7, theta_new=[1.68524295], -likelihood = -76.88527\n",
      "Iteration=8, theta_new=[1.49952062], -likelihood = -77.04571\n",
      "Iteration=9, theta_new=[1.57076249], -likelihood = -77.18363\n",
      "norm=0.0\n",
      "Iteration=10, theta_new=[1.57076249], -likelihood = -77.23370\n",
      "9-th start\n",
      "Iteration=1, theta_new=[2.51035403], -likelihood = -129.87323\n",
      "Iteration=2, theta_new=[2.53015003], -likelihood = -134.46850\n",
      "Iteration=3, theta_new=[2.54682827], -likelihood = -137.94017\n",
      "Iteration=4, theta_new=[2.56075624], -likelihood = -140.49308\n",
      "Iteration=5, theta_new=[2.57238467], -likelihood = -142.32820\n",
      "Iteration=6, theta_new=[2.58205623], -likelihood = -143.63408\n",
      "Iteration=7, theta_new=[2.59006212], -likelihood = -144.55323\n",
      "Iteration=8, theta_new=[2.59670168], -likelihood = -145.19417\n",
      "Iteration=9, theta_new=[2.60221714], -likelihood = -145.64066\n",
      "Iteration=10, theta_new=[2.60679135], -likelihood = -145.95156\n",
      "Iteration=11, theta_new=[2.61060989], -likelihood = -146.16738\n",
      "Iteration=12, theta_new=[2.61379667], -likelihood = -146.31801\n",
      "Iteration=13, theta_new=[2.61641302], -likelihood = -146.42294\n",
      "Iteration=14, theta_new=[2.61858485], -likelihood = -146.49486\n",
      "Iteration=15, theta_new=[2.62043883], -likelihood = -146.54477\n",
      "Iteration=16, theta_new=[2.62197424], -likelihood = -146.58031\n",
      "Iteration=17, theta_new=[2.6232545], -likelihood = -146.60481\n",
      "Iteration=18, theta_new=[2.62427921], -likelihood = -146.62180\n",
      "Iteration=19, theta_new=[2.62517618], -likelihood = -146.63316\n",
      "Iteration=20, theta_new=[2.62588118], -likelihood = -146.64145\n"
     ]
    }
   ],
   "source": [
    "est_theta1, neglhd_1, K1, mu1 = multi_start(10, X1, GS_1, GN_1, max_iter=20, eps=1e-6)"
   ]
  },
  {
   "cell_type": "code",
   "execution_count": 5,
   "id": "cc6f749f-595a-4ca6-8955-5fff82f699e8",
   "metadata": {},
   "outputs": [
    {
     "name": "stdout",
     "output_type": "stream",
     "text": [
      "Погрешность в смысле разности углов: [2.12740731].\n",
      "Погрешность в смысле разности синусов углов [0.01240016].\n"
     ]
    }
   ],
   "source": [
    "print(f\"Погрешность в смысле разности углов: {np.abs(est_theta1-theta1)}.\\nПогрешность в смысле разности синусов углов {np.abs(np.sin(est_theta1)-np.sin(theta1))}.\")"
   ]
  },
  {
   "cell_type": "code",
   "execution_count": 6,
   "id": "6c9c1e0b-6f7d-43a2-b972-cd0fed4d6c30",
   "metadata": {},
   "outputs": [],
   "source": [
    "Num_sensors2 = 5\n",
    "Num_emitters2 = 2\n",
    "sample_size2 = 100\n",
    "theta2 = np.array([0.34906585, 1.22173048]) # Направление прибытия (DOA) в радианах\n",
    "GS_2 = np.array([[2,0],[0,3]]) # Ковариация сигнала\n",
    "GN_2 = 0.1*np.eye(5, dtype=np.float64) # Ковариация шума\n",
    "A2 = np.exp(-2j * np.pi * dist_ratio * np.arange(Num_sensors2).reshape(-1,1) * np.sin(theta2).reshape(1,-1)) # Матрица управляющих векторов\n",
    "# Генерация векторов сигнала, шума и принятого сигнала\n",
    "s2 = CN(Num_emitters2, sample_size2, GS_2)\n",
    "n2 = CN(Num_sensors2, sample_size2, GN_2)\n",
    "X2 = (A2 @ s2.T + n2.T).T"
   ]
  },
  {
   "cell_type": "code",
   "execution_count": 7,
   "id": "256aecfb-ec73-4db6-978d-0aaeff7163d7",
   "metadata": {},
   "outputs": [
    {
     "name": "stdout",
     "output_type": "stream",
     "text": [
      "0-th start\n",
      "Iteration=1, theta_new=[ 2.64779604 -1.57078044], -likelihood = -21138.83954\n",
      "Iteration=2, theta_new=[ 2.69137468 -1.57075951], -likelihood = -22704.90594\n",
      "Iteration=3, theta_new=[ 2.72184592 -1.57076668], -likelihood = -23654.56702\n",
      "Iteration=4, theta_new=[ 2.74294768 -1.57077861], -likelihood = -24158.54119\n",
      "Iteration=5, theta_new=[ 2.75758927 -1.5707665 ], -likelihood = -24411.78728\n",
      "Iteration=6, theta_new=[ 2.76778493 -1.57076773], -likelihood = -24536.86203\n",
      "Iteration=7, theta_new=[ 2.77490299 -1.57078956], -likelihood = -24598.32052\n",
      "Iteration=8, theta_new=[ 2.77990691 -1.57077749], -likelihood = -24628.46933\n",
      "Iteration=9, theta_new=[ 2.78341079 -1.57076452], -likelihood = -24643.31308\n",
      "Iteration=10, theta_new=[ 2.7858831  -1.57083614], -likelihood = -24650.56807\n",
      "Iteration=11, theta_new=[ 2.787627   -1.57076184], -likelihood = -24654.12657\n",
      "Iteration=12, theta_new=[ 2.7888629  -1.57078936], -likelihood = -24655.85881\n",
      "Iteration=13, theta_new=[ 2.7897347  -1.57078317], -likelihood = -24656.69649\n",
      "Iteration=14, theta_new=[ 2.79035118 -1.57083695], -likelihood = -24657.09269\n",
      "Iteration=15, theta_new=[ 2.79077391 -1.57081644], -likelihood = -24657.27565\n",
      "Iteration=16, theta_new=[ 2.79107182 -1.57077918], -likelihood = -24657.35455\n",
      "Iteration=17, theta_new=[ 2.79129029 -1.57075209], -likelihood = -24657.38741\n",
      "Iteration=18, theta_new=[ 2.79145188 -1.57078714], -likelihood = -24657.39955\n",
      "Iteration=19, theta_new=[ 2.79156189 -1.57077365], -likelihood = -24657.40202\n",
      "Iteration=20, theta_new=[ 2.79162835 -1.57078806], -likelihood = -24657.40050\n",
      "1-th start\n",
      "Iteration=1, theta_new=[0.39904891 2.19746246], -likelihood = -19657.98504\n",
      "Iteration=2, theta_new=[0.38610251 2.12652465], -likelihood = -21972.86690\n",
      "Iteration=3, theta_new=[0.37315544 2.0679106 ], -likelihood = -23764.82106\n",
      "Iteration=4, theta_new=[0.36340437 2.02328261], -likelihood = -24824.15816\n",
      "Iteration=5, theta_new=[0.35690422 1.99090189], -likelihood = -25344.27071\n",
      "Iteration=6, theta_new=[0.35276948 1.96802091], -likelihood = -25579.09978\n",
      "Iteration=7, theta_new=[0.35018834 1.95212807], -likelihood = -25682.25372\n",
      "Iteration=8, theta_new=[0.34858446 1.9412006 ], -likelihood = -25727.25293\n",
      "Iteration=9, theta_new=[0.34757184 1.9337545 ], -likelihood = -25746.91747\n",
      "Iteration=10, theta_new=[0.34695387 1.92869092], -likelihood = -25755.52723\n",
      "Iteration=11, theta_new=[0.34656452 1.92526712], -likelihood = -25759.30201\n",
      "Iteration=12, theta_new=[0.34632524 1.92298091], -likelihood = -25760.95502\n",
      "Iteration=13, theta_new=[0.34617988 1.92147087], -likelihood = -25761.66923\n",
      "Iteration=14, theta_new=[0.34609181 1.92045935], -likelihood = -25761.97498\n",
      "Iteration=15, theta_new=[0.34604242 1.91977321], -likelihood = -25762.10763\n",
      "Iteration=16, theta_new=[0.34602205 1.91929347], -likelihood = -25762.16521\n",
      "Iteration=17, theta_new=[0.34600197 1.91896569], -likelihood = -25762.19041\n",
      "Iteration=18, theta_new=[0.34597847 1.91878871], -likelihood = -25762.20045\n",
      "Iteration=19, theta_new=[0.34597654 1.91863529], -likelihood = -25762.20349\n",
      "Iteration=20, theta_new=[0.34597242 1.91856242], -likelihood = -25762.20488\n",
      "2-th start\n",
      "Iteration=1, theta_new=[ 1.94432672 -2.20441727], -likelihood = -17113.24455\n",
      "Iteration=2, theta_new=[ 1.93995082 -2.21964357], -likelihood = -17128.97144\n",
      "Iteration=3, theta_new=[ 1.93590403 -2.23195538], -likelihood = -17140.74866\n",
      "Iteration=4, theta_new=[ 1.93219233 -2.24176527], -likelihood = -17149.29075\n",
      "Iteration=5, theta_new=[ 1.92885271 -2.24944107], -likelihood = -17155.42825\n",
      "Iteration=6, theta_new=[ 1.92588752 -2.25533195], -likelihood = -17159.78833\n",
      "Iteration=7, theta_new=[ 1.92328052 -2.25983447], -likelihood = -17162.87820\n",
      "Iteration=8, theta_new=[ 1.9209733  -2.26321672], -likelihood = -17165.08653\n",
      "Iteration=9, theta_new=[ 1.91892987 -2.2657084 ], -likelihood = -17166.69824\n",
      "Iteration=10, theta_new=[ 1.91717219 -2.26751115], -likelihood = -17167.89849\n",
      "Iteration=11, theta_new=[ 1.9156293  -2.26882097], -likelihood = -17168.78741\n",
      "Iteration=12, theta_new=[ 1.91426044 -2.2697078 ], -likelihood = -17169.47302\n",
      "Iteration=13, theta_new=[ 1.91308781 -2.27029877], -likelihood = -17170.01733\n",
      "Iteration=14, theta_new=[ 1.91206239 -2.27065759], -likelihood = -17170.44187\n",
      "Iteration=15, theta_new=[ 1.9111353  -2.27089782], -likelihood = -17170.78572\n",
      "Iteration=16, theta_new=[ 1.91034171 -2.27101895], -likelihood = -17171.07559\n",
      "Iteration=17, theta_new=[ 1.90962063 -2.27101558], -likelihood = -17171.30963\n",
      "Iteration=18, theta_new=[ 1.90898643 -2.27098026], -likelihood = -17171.51351\n",
      "Iteration=19, theta_new=[ 1.90843657 -2.27088519], -likelihood = -17171.68438\n",
      "Iteration=20, theta_new=[ 1.90795577 -2.27082872], -likelihood = -17171.82794\n",
      "3-th start\n",
      "Iteration=1, theta_new=[ 2.24515492 -1.69479424], -likelihood = -16456.20975\n",
      "Iteration=2, theta_new=[ 2.23137764 -1.60830532], -likelihood = -16502.63853\n",
      "Iteration=3, theta_new=[ 2.23013128 -1.570775  ], -likelihood = -16522.74786\n",
      "Iteration=4, theta_new=[ 2.23031004 -1.57078206], -likelihood = -16522.84413\n",
      "Iteration=5, theta_new=[ 2.23050474 -1.5708213 ], -likelihood = -16522.86734\n",
      "Iteration=6, theta_new=[ 2.23076406 -1.57077172], -likelihood = -16522.89341\n",
      "Iteration=7, theta_new=[ 2.23107421 -1.57081242], -likelihood = -16522.92939\n",
      "Iteration=8, theta_new=[ 2.23145108 -1.57072664], -likelihood = -16522.97430\n",
      "Iteration=9, theta_new=[ 2.23189776 -1.57082155], -likelihood = -16523.03171\n",
      "Iteration=10, theta_new=[ 2.23243447 -1.57075897], -likelihood = -16523.10373\n",
      "Iteration=11, theta_new=[ 2.23309916 -1.57078241], -likelihood = -16523.19606\n",
      "Iteration=12, theta_new=[ 2.23391765 -1.57078137], -likelihood = -16523.31922\n",
      "Iteration=13, theta_new=[ 2.23490006 -1.57075351], -likelihood = -16523.48445\n",
      "Iteration=14, theta_new=[ 2.23611733 -1.57074785], -likelihood = -16523.70279\n",
      "Iteration=15, theta_new=[ 2.23761064 -1.57078239], -likelihood = -16524.00415\n",
      "Iteration=16, theta_new=[ 2.23945372 -1.57076941], -likelihood = -16524.42132\n",
      "Iteration=17, theta_new=[ 2.24173969 -1.5707989 ], -likelihood = -16525.01011\n",
      "Iteration=18, theta_new=[ 2.24457064 -1.5707804 ], -likelihood = -16525.85727\n",
      "Iteration=19, theta_new=[ 2.24814351 -1.57077948], -likelihood = -16527.09242\n",
      "Iteration=20, theta_new=[ 2.25263666 -1.57080532], -likelihood = -16528.95893\n",
      "4-th start\n",
      "Iteration=1, theta_new=[ 2.81779009 -0.47682013], -likelihood = -11018.64515\n",
      "Iteration=2, theta_new=[ 2.81137733 -0.47139449], -likelihood = -11081.28523\n",
      "Iteration=3, theta_new=[ 2.8069426  -0.46874917], -likelihood = -11109.29655\n",
      "Iteration=4, theta_new=[ 2.80387004 -0.46745246], -likelihood = -11122.19932\n",
      "Iteration=5, theta_new=[ 2.80177618 -0.4668181 ], -likelihood = -11128.23547\n",
      "Iteration=6, theta_new=[ 2.80032019 -0.46653982], -likelihood = -11131.03400\n",
      "Iteration=7, theta_new=[ 2.79932369 -0.46640691], -likelihood = -11132.36186\n",
      "Iteration=8, theta_new=[ 2.79862242 -0.46634839], -likelihood = -11132.98218\n",
      "Iteration=9, theta_new=[ 2.79815596 -0.4663222 ], -likelihood = -11133.27867\n",
      "Iteration=10, theta_new=[ 2.79783162 -0.46631939], -likelihood = -11133.41208\n",
      "Iteration=11, theta_new=[ 2.79759401 -0.46632978], -likelihood = -11133.47464\n",
      "Iteration=12, theta_new=[ 2.79744069 -0.4663044 ], -likelihood = -11133.50469\n",
      "Iteration=13, theta_new=[ 2.79734019 -0.46630253], -likelihood = -11133.51765\n",
      "Iteration=14, theta_new=[ 2.79726709 -0.46629859], -likelihood = -11133.52295\n",
      "Iteration=15, theta_new=[ 2.79720731 -0.46632526], -likelihood = -11133.52535\n",
      "Iteration=16, theta_new=[ 2.7971805  -0.46632282], -likelihood = -11133.52583\n",
      "Iteration=17, theta_new=[ 2.79716112 -0.46632095], -likelihood = -11133.52605\n",
      "Iteration=18, theta_new=[ 2.79714174 -0.46631907], -likelihood = -11133.52615\n",
      "Iteration=19, theta_new=[ 2.79712786 -0.46631867], -likelihood = -11133.52612\n",
      "Iteration=20, theta_new=[ 2.79710848 -0.46633945], -likelihood = -11133.52598\n",
      "5-th start\n",
      "Iteration=1, theta_new=[-3.04986234 -3.00958274], -likelihood = -2810.91826\n",
      "Iteration=2, theta_new=[-3.07894468 -3.03120908], -likelihood = -3272.56598\n",
      "Iteration=3, theta_new=[-3.11477208 -3.0607315 ], -likelihood = -3921.15864\n",
      "Iteration=4, theta_new=[-3.15457135 -3.09550314], -likelihood = -4912.33245\n",
      "Iteration=5, theta_new=[-3.19395939 -3.13140059], -likelihood = -6183.63733\n",
      "Iteration=6, theta_new=[-3.22968516 -3.16499329], -likelihood = -7491.08439\n",
      "Iteration=7, theta_new=[-3.26032599 -3.19435014], -likelihood = -8607.00862\n",
      "Iteration=8, theta_new=[-3.28574812 -3.21883353], -likelihood = -9438.63906\n",
      "Iteration=9, theta_new=[-3.30644554 -3.2385852 ], -likelihood = -10005.68732\n",
      "Iteration=10, theta_new=[-3.32312816 -3.25410289], -likelihood = -10372.53059\n",
      "Iteration=11, theta_new=[-3.33653801 -3.26603957], -likelihood = -10603.69077\n",
      "Iteration=12, theta_new=[-3.34735168 -3.27506351], -likelihood = -10748.44163\n",
      "Iteration=13, theta_new=[-3.35611738 -3.2817359 ], -likelihood = -10839.82316\n",
      "Iteration=14, theta_new=[-3.36327178 -3.28654002], -likelihood = -10898.43284\n",
      "Iteration=15, theta_new=[-3.36915461 -3.28985795], -likelihood = -10936.83732\n",
      "Iteration=16, theta_new=[-3.37405114 -3.29204116], -likelihood = -10962.64495\n",
      "Iteration=17, theta_new=[-3.37816547 -3.29330708], -likelihood = -10980.52362\n",
      "Iteration=18, theta_new=[-3.38169927 -3.29391601], -likelihood = -10993.29529\n",
      "Iteration=19, theta_new=[-3.38474835 -3.29399239], -likelihood = -11002.76350\n",
      "Iteration=20, theta_new=[-3.38741627 -3.29364836], -likelihood = -11009.94302\n",
      "6-th start\n",
      "Iteration=1, theta_new=[ 2.65378129 -1.26890164], -likelihood = -18313.99876\n",
      "Iteration=2, theta_new=[ 2.69635663 -1.41457271], -likelihood = -21773.63550\n",
      "Iteration=3, theta_new=[ 2.7258693  -1.57079539], -likelihood = -23666.01496\n",
      "Iteration=4, theta_new=[ 2.7457389  -1.57077449], -likelihood = -24213.22045\n",
      "Iteration=5, theta_new=[ 2.75952237 -1.57078502], -likelihood = -24438.91713\n",
      "Iteration=6, theta_new=[ 2.76913905 -1.57081512], -likelihood = -24550.15261\n",
      "Iteration=7, theta_new=[ 2.77584811 -1.5707909 ], -likelihood = -24604.86915\n",
      "Iteration=8, theta_new=[ 2.78055886 -1.57077159], -likelihood = -24631.67590\n",
      "Iteration=9, theta_new=[ 2.783871   -1.57077727], -likelihood = -24644.85913\n",
      "Iteration=10, theta_new=[ 2.78620457 -1.57075965], -likelihood = -24651.32836\n",
      "Iteration=11, theta_new=[ 2.78785964 -1.57078707], -likelihood = -24654.49430\n",
      "Iteration=12, theta_new=[ 2.78902082 -1.57076767], -likelihood = -24656.04120\n",
      "Iteration=13, theta_new=[ 2.78984072 -1.57076345], -likelihood = -24656.78020\n",
      "Iteration=14, theta_new=[ 2.79041743 -1.57076215], -likelihood = -24657.12990\n",
      "Iteration=15, theta_new=[ 2.79083124 -1.57084462], -likelihood = -24657.29052\n",
      "Iteration=16, theta_new=[ 2.79113211 -1.57080941], -likelihood = -24657.36231\n",
      "Iteration=17, theta_new=[ 2.7913289  -1.57083442], -likelihood = -24657.39176\n",
      "Iteration=18, theta_new=[ 2.79147671 -1.57077693], -likelihood = -24657.40065\n",
      "Iteration=19, theta_new=[ 2.7915858  -1.57079283], -likelihood = -24657.40189\n",
      "Iteration=20, theta_new=[ 2.79165227 -1.57080724], -likelihood = -24657.39988\n",
      "7-th start\n",
      "Iteration=1, theta_new=[-1.09230887  1.33887014], -likelihood = -17072.97761\n",
      "Iteration=2, theta_new=[-1.07363231  1.34214423], -likelihood = -17086.67208\n",
      "Iteration=3, theta_new=[-1.05774324  1.34406841], -likelihood = -17096.99692\n",
      "Iteration=4, theta_new=[-1.04413543  1.34476232], -likelihood = -17104.85371\n",
      "Iteration=5, theta_new=[-1.03236454  1.3444442 ], -likelihood = -17110.98282\n",
      "Iteration=6, theta_new=[-1.02202049  1.34327893], -likelihood = -17115.93434\n",
      "Iteration=7, theta_new=[-1.01287898  1.34141474], -likelihood = -17120.11912\n",
      "Iteration=8, theta_new=[-1.00462121  1.33905114], -likelihood = -17123.78250\n",
      "Iteration=9, theta_new=[-0.99717703  1.33629496], -likelihood = -17127.11345\n",
      "Iteration=10, theta_new=[-0.99028203  1.33320128], -likelihood = -17130.19237\n",
      "Iteration=11, theta_new=[-0.98388877  1.32991163], -likelihood = -17133.14048\n",
      "Iteration=12, theta_new=[-0.97789207  1.32641092], -likelihood = -17135.96081\n",
      "Iteration=13, theta_new=[-0.97221618  1.32282378], -likelihood = -17138.71121\n",
      "Iteration=14, theta_new=[-0.96674887  1.31919421], -likelihood = -17141.37854\n",
      "Iteration=15, theta_new=[-0.96154018  1.3155227 ], -likelihood = -17143.97730\n",
      "Iteration=16, theta_new=[-0.95651263  1.31183128], -likelihood = -17146.49917\n",
      "Iteration=17, theta_new=[-0.95160619  1.30816529], -likelihood = -17148.95176\n",
      "Iteration=18, theta_new=[-0.94686591  1.30453567], -likelihood = -17151.32554\n",
      "Iteration=19, theta_new=[-0.94224988  1.30096297], -likelihood = -17153.60417\n",
      "Iteration=20, theta_new=[-0.93779086  1.29745708], -likelihood = -17155.78293\n",
      "8-th start\n",
      "Iteration=1, theta_new=[1.30950727 1.5708149 ], -likelihood = -16613.76657\n",
      "Iteration=2, theta_new=[1.28957062 1.57074139], -likelihood = -16711.98369\n",
      "Iteration=3, theta_new=[1.27436958 1.57078005], -likelihood = -16743.92844\n",
      "Iteration=4, theta_new=[1.26214482 1.57074453], -likelihood = -16757.72688\n",
      "Iteration=5, theta_new=[1.25199769 1.57082303], -likelihood = -16763.62322\n",
      "Iteration=6, theta_new=[1.24341291 1.57081175], -likelihood = -16765.66914\n",
      "Iteration=7, theta_new=[1.23602622 1.57080167], -likelihood = -16765.71925\n",
      "Iteration=8, theta_new=[1.22961815 1.57084244], -likelihood = -16764.70870\n",
      "Iteration=9, theta_new=[1.22400165 1.57076721], -likelihood = -16763.14278\n",
      "Iteration=10, theta_new=[1.21905413 1.57078317], -likelihood = -16761.30221\n",
      "Iteration=11, theta_new=[1.2146706  1.57075614], -likelihood = -16759.35395\n",
      "Iteration=12, theta_new=[1.21077115 1.57079479], -likelihood = -16757.39391\n",
      "Iteration=13, theta_new=[1.2072821  1.57080935], -likelihood = -16755.47967\n",
      "Iteration=14, theta_new=[1.20415921 1.57082786], -likelihood = -16753.63987\n",
      "Iteration=15, theta_new=[1.20136085 1.57079689], -likelihood = -16751.89750\n",
      "Iteration=16, theta_new=[1.19882873 1.57081456], -likelihood = -16750.26354\n",
      "Iteration=17, theta_new=[1.19655792 1.57076343], -likelihood = -16748.72870\n",
      "Iteration=18, theta_new=[1.19449938 1.57082342], -likelihood = -16747.30867\n",
      "Iteration=19, theta_new=[1.19263948 1.57078352], -likelihood = -16745.98714\n",
      "Iteration=20, theta_new=[1.19096028 1.57080589], -likelihood = -16744.76611\n",
      "9-th start\n",
      "Iteration=1, theta_new=[-1.09891621 -1.77121752], -likelihood = -16993.75399\n",
      "Iteration=2, theta_new=[-1.10333638 -1.75275618], -likelihood = -17008.60140\n",
      "Iteration=3, theta_new=[-1.10595184 -1.73529273], -likelihood = -17019.56323\n",
      "Iteration=4, theta_new=[-1.10711336 -1.71845738], -likelihood = -17028.00817\n",
      "Iteration=5, theta_new=[-1.10714162 -1.70182288], -likelihood = -17034.80307\n",
      "Iteration=6, theta_new=[-1.10620344 -1.68509018], -likelihood = -17040.49045\n",
      "Iteration=7, theta_new=[-1.10453274 -1.66756488], -likelihood = -17045.38531\n",
      "Iteration=8, theta_new=[-1.1022827  -1.64816415], -likelihood = -17049.73163\n",
      "Iteration=9, theta_new=[-1.09956676 -1.62447453], -likelihood = -17053.68508\n",
      "Iteration=10, theta_new=[-1.0964657  -1.57076351], -likelihood = -17057.33527\n",
      "Iteration=11, theta_new=[-1.08807802 -1.57077174], -likelihood = -17059.20797\n",
      "Iteration=12, theta_new=[-1.08024357 -1.57077665], -likelihood = -17060.87949\n",
      "Iteration=13, theta_new=[-1.07294564 -1.57075656], -likelihood = -17062.03801\n",
      "Iteration=14, theta_new=[-1.06615155 -1.57076584], -likelihood = -17062.76403\n",
      "Iteration=15, theta_new=[-1.05980991 -1.57078227], -likelihood = -17063.12988\n",
      "Iteration=16, theta_new=[-1.05393023 -1.57084452], -likelihood = -17063.19755\n",
      "Iteration=17, theta_new=[-1.04845452 -1.57076452], -likelihood = -17063.02033\n",
      "Iteration=18, theta_new=[-1.04337986 -1.57078053], -likelihood = -17062.64416\n",
      "Iteration=19, theta_new=[-1.03867328 -1.57075886], -likelihood = -17062.11074\n",
      "Iteration=20, theta_new=[-1.03432898 -1.57076857], -likelihood = -17061.45456\n"
     ]
    }
   ],
   "source": [
    "est_theta2, neglhd_2, K2, mu2 = multi_start(10, X2, GS_2, GN_2, max_iter=20, eps=1e-6)"
   ]
  },
  {
   "cell_type": "code",
   "execution_count": 8,
   "id": "61a3038f-0338-4543-b350-c3c7d3ff3fa4",
   "metadata": {},
   "outputs": [
    {
     "name": "stdout",
     "output_type": "stream",
     "text": [
      "Погрешность в смысле разности углов: [0.00309343 0.69683194].\n",
      "Погрешность в смысле разности синусов углов [0.00290851 0.00044375].\n"
     ]
    }
   ],
   "source": [
    "print(f\"Погрешность в смысле разности углов: {np.abs(est_theta2-theta2)}.\\nПогрешность в смысле разности синусов углов {np.abs(np.sin(est_theta2)-np.sin(theta2))}.\")"
   ]
  },
  {
   "cell_type": "markdown",
   "id": "a9b0aff0-70f1-4222-aa8c-0e9440273cac",
   "metadata": {},
   "source": [
    "## Теперь имеет смысл определить примерный вид функции, оптимизируемой на М-шаге:"
   ]
  },
  {
   "cell_type": "code",
   "execution_count": 9,
   "id": "569d6c62-4af5-465c-98cd-1ef1ed941d93",
   "metadata": {},
   "outputs": [],
   "source": [
    "W1, W2 = goal_function(X1, GS_1, GN_2, 50)"
   ]
  },
  {
   "cell_type": "code",
   "execution_count": 10,
   "id": "6bbeb039-2000-4761-91f0-0626a1e76545",
   "metadata": {},
   "outputs": [
    {
     "data": {
      "text/plain": [
       "[<matplotlib.lines.Line2D at 0x20cb70e2cb0>]"
      ]
     },
     "execution_count": 10,
     "metadata": {},
     "output_type": "execute_result"
    },
    {
     "data": {
      "image/png": "[encoded data removed]",
      "text/plain": [
       "<Figure size 640x480 with 1 Axes>"
      ]
     },
     "metadata": {},
     "output_type": "display_data"
    }
   ],
   "source": [
    "plt.title(\"График функции, подлежащей максимизации, на первом шаге ЕМ-алгоритма\")\n",
    "plt.plot(W1, W2.real, color='green')"
   ]
  },
  {
   "cell_type": "code",
   "execution_count": 11,
   "id": "80bb5e8c-72b3-47b0-bfb5-2eaff580b0e2",
   "metadata": {},
   "outputs": [],
   "source": [
    "# Переведем оценку угла прибытия в градусы\n",
    "est_theta1_degree = est_theta1[0]*180/np.pi"
   ]
  },
  {
   "cell_type": "code",
   "execution_count": 12,
   "id": "e3bea335-9996-4c65-9118-ef5dd9f4fd0c",
   "metadata": {},
   "outputs": [
    {
     "data": {
      "text/plain": [
       "150.53934967216261"
      ]
     },
     "execution_count": 12,
     "metadata": {},
     "output_type": "execute_result"
    }
   ],
   "source": [
    "est_theta1_degree"
   ]
  },
  {
   "cell_type": "markdown",
   "id": "058b2116-7c25-4c58-951c-05eaf5af366a",
   "metadata": {},
   "source": [
    "Ввиду того, что синус симметричен относительно $\\pi/2$, а синус используется в управляющих векторах, происходит такое искажение оценки, т.е. она симметрична относительно точки в окрестности истинного DOA."
   ]
  },
  {
   "cell_type": "code",
   "execution_count": 13,
   "id": "5389f048-c2a3-4744-a6d2-9830d5f4bc31",
   "metadata": {},
   "outputs": [],
   "source": [
    "if est_theta1_degree > 90:\n",
    "    est_theta1_degree = 90-(est_theta1_degree-90)"
   ]
  },
  {
   "cell_type": "code",
   "execution_count": 14,
   "id": "c73894b0-a1ac-45b0-ab0f-755e05a9c767",
   "metadata": {},
   "outputs": [
    {
     "data": {
      "text/plain": [
       "29.460650327837385"
      ]
     },
     "execution_count": 14,
     "metadata": {},
     "output_type": "execute_result"
    }
   ],
   "source": [
    "est_theta1_degree"
   ]
  },
  {
   "cell_type": "code",
   "execution_count": 15,
   "id": "fa978f63-5174-437f-ac3b-013d7efd1380",
   "metadata": {},
   "outputs": [],
   "source": [
    "# Истинное DOA в градусах\n",
    "theta1_degree = theta1[0]*180/np.pi"
   ]
  },
  {
   "cell_type": "code",
   "execution_count": 16,
   "id": "192b25f3-86dd-4aa2-bac4-dbfdc1439239",
   "metadata": {},
   "outputs": [
    {
     "data": {
      "text/plain": [
       "28.64788975654116"
      ]
     },
     "execution_count": 16,
     "metadata": {},
     "output_type": "execute_result"
    }
   ],
   "source": [
    "theta1_degree"
   ]
  },
  {
   "cell_type": "markdown",
   "id": "f5bf903c-2305-453b-88e0-3ef3873c4e3d",
   "metadata": {},
   "source": [
    "Теперь проведем сравнение с **CAPON**:"
   ]
  },
  {
   "cell_type": "code",
   "execution_count": 17,
   "id": "239a86cc-297f-4977-b5df-807f5e85c2f5",
   "metadata": {},
   "outputs": [],
   "source": [
    "R = space_covariance_matrix(X1)\n",
    "angles = np.linspace(-1*np.pi, np.pi, 1000)\n",
    "Powers = []\n",
    "for angle in angles:\n",
    "    a = steering_vector(dist_ratio, angle, 5)\n",
    "    Powers.append(capon_func(a,R).real)"
   ]
  },
  {
   "cell_type": "code",
   "execution_count": 18,
   "id": "936a4bf3-3d76-41cc-9602-ec56fe0ab98a",
   "metadata": {},
   "outputs": [
    {
     "data": {
      "text/plain": [
       "29.369369369369345"
      ]
     },
     "execution_count": 18,
     "metadata": {},
     "output_type": "execute_result"
    }
   ],
   "source": [
    "angles[np.argmax(Powers)]*180/np.pi"
   ]
  },
  {
   "cell_type": "code",
   "execution_count": 19,
   "id": "e770ca17-1eec-4d86-a66a-90bea148bfa8",
   "metadata": {},
   "outputs": [
    {
     "data": {
      "image/png": "[encoded data removed]",
      "text/plain": [
       "<Figure size 640x480 with 1 Axes>"
      ]
     },
     "metadata": {},
     "output_type": "display_data"
    }
   ],
   "source": [
    "plt.title(\"График мощности для CAPON\")\n",
    "plt.plot(angles*180/np.pi, Powers) \n",
    "plt.xlabel(\"Angle\")\n",
    "plt.ylabel(\"Power\")\n",
    "plt.grid()\n",
    "plt.show()"
   ]
  },
  {
   "cell_type": "code",
   "execution_count": 20,
   "id": "e8d8db39-2781-4331-88be-f49b76683ad5",
   "metadata": {},
   "outputs": [],
   "source": [
    "angles_near = np.linspace(0.5-0.1, 0.5+0.1, 100)\n",
    "Powers_near = []\n",
    "for angle in angles_near:\n",
    "    a = steering_vector(dist_ratio, angle, 5)\n",
    "    Powers_near.append(capon_func(a,R).real)"
   ]
  },
  {
   "cell_type": "code",
   "execution_count": 21,
   "id": "7b12f14b-8fa5-49b0-b85c-ed62670ded2c",
   "metadata": {},
   "outputs": [
    {
     "data": {
      "image/png": "[encoded data removed]",
      "text/plain": [
       "<Figure size 640x480 with 1 Axes>"
      ]
     },
     "metadata": {},
     "output_type": "display_data"
    }
   ],
   "source": [
    "plt.title(\"График мощности для CAPON на отрезке\")\n",
    "plt.plot(angles_near*180/np.pi, Powers_near) \n",
    "plt.xlabel(\"Angle\")\n",
    "plt.ylabel(\"Power\")\n",
    "plt.grid()\n",
    "plt.show()"
   ]
  },
  {
   "cell_type": "markdown",
   "id": "0a636a91-b54b-471c-a31f-eb50753fa7b6",
   "metadata": {},
   "source": [
    "# Оценка **CAPON** в градусах"
   ]
  },
  {
   "cell_type": "code",
   "execution_count": 22,
   "id": "74a126de-59cd-4d5f-9e07-aad711d8378e",
   "metadata": {},
   "outputs": [],
   "source": [
    "capon_theta1_degree = angles_near[np.argmax(Powers_near)]*180/np.pi"
   ]
  },
  {
   "cell_type": "code",
   "execution_count": 23,
   "id": "503aa5f2-2202-4daa-9fee-12f7a1338110",
   "metadata": {},
   "outputs": [
    {
     "data": {
      "text/plain": [
       "29.40025857843012"
      ]
     },
     "execution_count": 23,
     "metadata": {},
     "output_type": "execute_result"
    }
   ],
   "source": [
    "capon_theta1_degree"
   ]
  },
  {
   "cell_type": "code",
   "execution_count": 24,
   "id": "14332101-6409-470a-8cbf-50646436c490",
   "metadata": {},
   "outputs": [
    {
     "data": {
      "text/plain": [
       "29.460650327837385"
      ]
     },
     "execution_count": 24,
     "metadata": {},
     "output_type": "execute_result"
    }
   ],
   "source": [
    "# ЕМ-оценка\n",
    "est_theta1_degree"
   ]
  },
  {
   "cell_type": "code",
   "execution_count": 25,
   "id": "fe8269c3-8ced-48c3-873d-9aa41fc5a1a1",
   "metadata": {},
   "outputs": [
    {
     "data": {
      "text/plain": [
       "28.64788975654116"
      ]
     },
     "execution_count": 25,
     "metadata": {},
     "output_type": "execute_result"
    }
   ],
   "source": [
    "# Истинное значение\n",
    "theta1_degree"
   ]
  },
  {
   "cell_type": "code",
   "execution_count": null,
   "id": "475fc681-aece-4502-b290-dd711b23681a",
   "metadata": {},
   "outputs": [],
   "source": []
  }
 ],
 "metadata": {
  "kernelspec": {
   "display_name": "Python 3 (ipykernel)",
   "language": "python",
   "name": "python3"
  },
  "language_info": {
   "codemirror_mode": {
    "name": "ipython",
    "version": 3
   },
   "file_extension": ".py",
   "mimetype": "text/x-python",
   "name": "python",
   "nbconvert_exporter": "python",
   "pygments_lexer": "ipython3",
   "version": "3.10.9"
  }
 },
 "nbformat": 4,
 "nbformat_minor": 5
}
