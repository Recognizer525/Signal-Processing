{
 "cells": [
  {
   "cell_type": "code",
   "execution_count": 1,
   "id": "c9413b81-cfa1-46d3-92cb-3cfb0d1df8ea",
   "metadata": {},
   "outputs": [],
   "source": [
    "import numpy as np\n",
    "import matplotlib.pyplot as plt\n",
    "from sensors import *\n",
    "from functools import partial"
   ]
  },
  {
   "cell_type": "code",
   "execution_count": 2,
   "id": "1759ce5b-8986-420c-8f87-54925b3f1a87",
   "metadata": {},
   "outputs": [],
   "source": [
    "# Отношение расстояния между датчиками к длине волны\n",
    "dist_ratio = 0.5"
   ]
  },
  {
   "cell_type": "code",
   "execution_count": 3,
   "id": "01600988-c703-45e9-a505-a3e7b372cdc5",
   "metadata": {},
   "outputs": [],
   "source": [
    "Num_sensors1 = 5\n",
    "Num_emitters1 = 1\n",
    "sample_size1 = 100\n",
    "theta1 = [0.5] # Направление прибытия (DOA) в радианах\n",
    "GS_1 = np.array([[0.7]]) # Ковариация сигнала\n",
    "GN_1 = 0.3*np.eye(5, dtype=np.float64) # Ковариация шума"
   ]
  },
  {
   "cell_type": "code",
   "execution_count": 4,
   "id": "33564dd6-9b2c-49d1-b056-21c6554bf883",
   "metadata": {},
   "outputs": [],
   "source": [
    "A1 = np.exp(-2j * np.pi * dist_ratio * np.arange(Num_sensors1).reshape(-1,1) * np.sin(theta1).reshape(1,-1))"
   ]
  },
  {
   "cell_type": "code",
   "execution_count": 5,
   "id": "23ddbe3c-d569-49ac-9d1b-319cb8cb94c5",
   "metadata": {},
   "outputs": [
    {
     "data": {
      "text/plain": [
       "array([[ 1.        +0.j        ],\n",
       "       [ 0.06459158-0.99791178j],\n",
       "       [-0.99165586-0.1289134j ],\n",
       "       [-0.19269681+0.98125834j],\n",
       "       [ 0.96676267+0.25567545j]])"
      ]
     },
     "execution_count": 5,
     "metadata": {},
     "output_type": "execute_result"
    }
   ],
   "source": [
    "A1"
   ]
  },
  {
   "cell_type": "code",
   "execution_count": 6,
   "id": "3f05461d-6601-42e5-b997-1a433d7c9a0c",
   "metadata": {},
   "outputs": [],
   "source": [
    "s1 = CN(Num_emitters1, sample_size1, GS_1)\n",
    "n1 = CN(Num_sensors1, sample_size1, GN_1)\n",
    "X1 = (A1 @ s1.T + n1.T).T\n",
    "#X1 = np.zeros((sample_size1, Num_sensors1), dtype=np.complex128)\n",
    "#for i in range(sample_size1):\n",
    "    #X1[i] = A1 @ s1[i] + n1[i]"
   ]
  },
  {
   "cell_type": "code",
   "execution_count": 7,
   "id": "7a683c4f-1aa8-4df9-b43a-6be739860290",
   "metadata": {},
   "outputs": [
    {
     "name": "stdout",
     "output_type": "stream",
     "text": [
      "(100, 5)\n"
     ]
    }
   ],
   "source": [
    "print(X1.shape)"
   ]
  },
  {
   "cell_type": "code",
   "execution_count": 8,
   "id": "8d540c1b-76ae-4e24-9f02-b04619d7c550",
   "metadata": {},
   "outputs": [
    {
     "name": "stdout",
     "output_type": "stream",
     "text": [
      "Initial theta = [[0.90568055]]\n",
      "Iteration=1, theta_new=[0.78592552], -likelihood = -281.99778108126384\n",
      "Iteration=2, theta_new=[0.69390163], -likelihood = -611.1053232068894\n",
      "Iteration=3, theta_new=[0.63094903], -likelihood = -915.4659057538462\n",
      "Iteration=4, theta_new=[0.58837229], -likelihood = -1108.314508784384\n",
      "Iteration=5, theta_new=[0.5594708], -likelihood = -1212.734388805431\n",
      "Iteration=6, theta_new=[0.53974727], -likelihood = -1265.478476182221\n",
      "Iteration=7, theta_new=[0.52625359], -likelihood = -1291.2927780671453\n",
      "Iteration=8, theta_new=[0.51705443], -likelihood = -1303.7166851935804\n",
      "Iteration=9, theta_new=[0.51074273], -likelihood = -1309.6190131869387\n",
      "Iteration=10, theta_new=[0.50640341], -likelihood = -1312.4294492708739\n",
      "Iteration=11, theta_new=[0.50338675], -likelihood = -1313.76665839018\n",
      "Iteration=12, theta_new=[0.50132208], -likelihood = -1314.407737086374\n",
      "Iteration=13, theta_new=[0.49990232], -likelihood = -1314.7091892140038\n",
      "Iteration=14, theta_new=[0.49892595], -likelihood = -1314.851471742025\n",
      "Iteration=15, theta_new=[0.49829254], -likelihood = -1314.9184725025632\n",
      "Iteration=16, theta_new=[0.49785459], -likelihood = -1314.948499346169\n",
      "Iteration=17, theta_new=[0.49751426], -likelihood = -1314.9630679099935\n",
      "Iteration=18, theta_new=[0.49731992], -likelihood = -1314.9708645852481\n",
      "Iteration=19, theta_new=[0.49717422], -likelihood = -1314.9739718520113\n",
      "Iteration=20, theta_new=[0.49707712], -likelihood = -1314.9756244575433\n"
     ]
    }
   ],
   "source": [
    "est_theta1 = EM(X1, GS_1, GN_1)"
   ]
  },
  {
   "cell_type": "code",
   "execution_count": 9,
   "id": "cc6f749f-595a-4ca6-8955-5fff82f699e8",
   "metadata": {},
   "outputs": [
    {
     "data": {
      "text/plain": [
       "array([0.00292288])"
      ]
     },
     "execution_count": 9,
     "metadata": {},
     "output_type": "execute_result"
    }
   ],
   "source": [
    "np.abs(est_theta1-theta1)"
   ]
  },
  {
   "cell_type": "code",
   "execution_count": 10,
   "id": "39f05013-62e1-4947-b934-62028fc23d96",
   "metadata": {},
   "outputs": [
    {
     "data": {
      "text/plain": [
       "array([0.00256712])"
      ]
     },
     "execution_count": 10,
     "metadata": {},
     "output_type": "execute_result"
    }
   ],
   "source": [
    "np.abs(np.sin(est_theta1)-np.sin(theta1))"
   ]
  },
  {
   "cell_type": "code",
   "execution_count": 11,
   "id": "6c9c1e0b-6f7d-43a2-b972-cd0fed4d6c30",
   "metadata": {},
   "outputs": [],
   "source": [
    "Num_sensors2 = 5\n",
    "Num_emitters2 = 2\n",
    "sample_size2 = 100\n",
    "theta2 = np.array([0.34906585, 1.22173048])\n",
    "GS_2 = np.array([[2,0],[0,3]]) # Ковариация сигнала\n",
    "GN_2 = 0.1*np.eye(5, dtype=np.float64) # Ковариация шума"
   ]
  },
  {
   "cell_type": "code",
   "execution_count": 12,
   "id": "c03cb4f6-00ff-4341-86b5-b3d73965348a",
   "metadata": {},
   "outputs": [],
   "source": [
    "# Матрица управляющих векторов\n",
    "A2 = np.exp(-2j * np.pi * dist_ratio * np.arange(Num_sensors2).reshape(-1,1) * np.sin(theta2).reshape(1,-1))"
   ]
  },
  {
   "cell_type": "code",
   "execution_count": 13,
   "id": "1773c31a-944c-422d-bb6b-d14e3c217d75",
   "metadata": {},
   "outputs": [
    {
     "data": {
      "text/plain": [
       "array([[ 1.        +0.j        ,  1.        +0.j        ],\n",
       "       [ 0.47618256-0.87934645j, -0.98210585-0.18832978j],\n",
       "       [-0.54650034-0.83745888j,  0.92906379+0.36991955j],\n",
       "       [-0.99665042+0.08177982j, -0.84277211-0.53827054j],\n",
       "       [-0.40267475+0.91534313j,  0.72631905+0.68735773j]])"
      ]
     },
     "execution_count": 13,
     "metadata": {},
     "output_type": "execute_result"
    }
   ],
   "source": [
    "A2"
   ]
  },
  {
   "cell_type": "code",
   "execution_count": 14,
   "id": "4c1fc5e5-0a72-4741-ab11-7bdda17f0f6e",
   "metadata": {},
   "outputs": [],
   "source": [
    "s2 = CN(Num_emitters2, sample_size2, GS_2)\n",
    "n2 = CN(Num_sensors2, sample_size2, GN_2)\n",
    "X2 = (A2 @ s2.T + n2.T).T\n",
    "#X2 = np.zeros((sample_size2, Num_sensors2), dtype=np.complex128)\n",
    "#for i in range(sample_size2):\n",
    "    #X2[i] = A2 @ s2[i] + n2[i]"
   ]
  },
  {
   "cell_type": "code",
   "execution_count": 15,
   "id": "256aecfb-ec73-4db6-978d-0aaeff7163d7",
   "metadata": {},
   "outputs": [
    {
     "name": "stdout",
     "output_type": "stream",
     "text": [
      "Initial theta = [[ 0.90568055]\n",
      " [-0.74927934]]\n",
      "Iteration=1, theta_new=[ 0.97937014 -0.83609339], -likelihood = -12491.17780119458\n",
      "Iteration=2, theta_new=[ 1.02647908 -0.90041921], -likelihood = -14448.041902768357\n",
      "Iteration=3, theta_new=[ 1.05942923 -0.94458005], -likelihood = -15097.457838211076\n",
      "Iteration=4, theta_new=[ 1.08391407 -0.97328   ], -likelihood = -15359.553483212672\n",
      "Iteration=5, theta_new=[ 1.10287029 -0.9894679 ], -likelihood = -15488.116840021616\n",
      "Iteration=6, theta_new=[ 1.11810563 -0.99534373], -likelihood = -15564.684702372351\n",
      "Iteration=7, theta_new=[ 1.13091062 -0.99313216], -likelihood = -15619.75909900163\n",
      "Iteration=8, theta_new=[ 1.14208216 -0.9847539 ], -likelihood = -15665.912837007005\n",
      "Iteration=9, theta_new=[ 1.1522465  -0.97207953], -likelihood = -15707.974439935591\n",
      "Iteration=10, theta_new=[ 1.16170274 -0.95692037], -likelihood = -15747.61737654352\n",
      "Iteration=11, theta_new=[ 1.17063827 -0.94083681], -likelihood = -15784.389962091851\n",
      "Iteration=12, theta_new=[ 1.17909131 -0.92514953], -likelihood = -15817.395476909904\n",
      "Iteration=13, theta_new=[ 1.18704698 -0.91082604], -likelihood = -15845.70093654986\n",
      "Iteration=14, theta_new=[ 1.19443214 -0.89839761], -likelihood = -15868.910835981413\n",
      "Iteration=15, theta_new=[ 1.20121516 -0.88801487], -likelihood = -15887.173596774024\n",
      "Iteration=16, theta_new=[ 1.20735829 -0.87968649], -likelihood = -15901.139399949168\n",
      "Iteration=17, theta_new=[ 1.21283446 -0.87328655], -likelihood = -15911.563363092304\n",
      "Iteration=18, theta_new=[ 1.21768591 -0.86842544], -likelihood = -15919.208205128616\n",
      "Iteration=19, theta_new=[ 1.22199522 -0.86484981], -likelihood = -15924.823715609822\n",
      "Iteration=20, theta_new=[ 1.22575723 -0.86232647], -likelihood = -15928.992349205033\n"
     ]
    }
   ],
   "source": [
    "est_theta2 = EM(X2, GS_2, GN_2)"
   ]
  },
  {
   "cell_type": "code",
   "execution_count": 16,
   "id": "27df82cf-68d7-448f-9047-9818b8236ea1",
   "metadata": {},
   "outputs": [
    {
     "data": {
      "text/plain": [
       "array([0.87669138, 2.08405695])"
      ]
     },
     "execution_count": 16,
     "metadata": {},
     "output_type": "execute_result"
    }
   ],
   "source": [
    "np.abs(est_theta2-theta2)"
   ]
  },
  {
   "cell_type": "code",
   "execution_count": 17,
   "id": "61a3038f-0338-4543-b350-c3c7d3ff3fa4",
   "metadata": {},
   "outputs": [
    {
     "data": {
      "text/plain": [
       "array([0.59904208, 1.69905101])"
      ]
     },
     "execution_count": 17,
     "metadata": {},
     "output_type": "execute_result"
    }
   ],
   "source": [
    "np.abs(np.sin(est_theta2)-np.sin(theta2))"
   ]
  },
  {
   "cell_type": "code",
   "execution_count": 18,
   "id": "569d6c62-4af5-465c-98cd-1ef1ed941d93",
   "metadata": {},
   "outputs": [],
   "source": [
    "W1, W2 = goal_function(X1, GS_1, GN_2, 50)"
   ]
  },
  {
   "cell_type": "code",
   "execution_count": 19,
   "id": "6bbeb039-2000-4761-91f0-0626a1e76545",
   "metadata": {},
   "outputs": [
    {
     "data": {
      "text/plain": [
       "[<matplotlib.lines.Line2D at 0x1e9d55e71f0>]"
      ]
     },
     "execution_count": 19,
     "metadata": {},
     "output_type": "execute_result"
    },
    {
     "data": {
      "image/png": "[encoded data removed]",
      "text/plain": [
       "<Figure size 640x480 with 1 Axes>"
      ]
     },
     "metadata": {},
     "output_type": "display_data"
    }
   ],
   "source": [
    "plt.title(\"График функции, подлежащей максимизации, на первом шаге ЕМ-алгоритма\")\n",
    "plt.plot(W1, W2.real, color='green')"
   ]
  },
  {
   "cell_type": "code",
   "execution_count": null,
   "id": "e3ea303b-6f2e-4c29-a100-69a9ed311d8b",
   "metadata": {},
   "outputs": [],
   "source": []
  }
 ],
 "metadata": {
  "kernelspec": {
   "display_name": "Python 3 (ipykernel)",
   "language": "python",
   "name": "python3"
  },
  "language_info": {
   "codemirror_mode": {
    "name": "ipython",
    "version": 3
   },
   "file_extension": ".py",
   "mimetype": "text/x-python",
   "name": "python",
   "nbconvert_exporter": "python",
   "pygments_lexer": "ipython3",
   "version": "3.10.9"
  }
 },
 "nbformat": 4,
 "nbformat_minor": 5
}
