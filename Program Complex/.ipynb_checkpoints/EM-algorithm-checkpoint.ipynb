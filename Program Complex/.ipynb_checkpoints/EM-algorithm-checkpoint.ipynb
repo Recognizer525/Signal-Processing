{
 "cells": [
  {
   "cell_type": "code",
   "execution_count": 1,
   "id": "c9413b81-cfa1-46d3-92cb-3cfb0d1df8ea",
   "metadata": {},
   "outputs": [],
   "source": [
    "import numpy as np\n",
    "import matplotlib.pyplot as plt\n",
    "from sensors import *\n",
    "from functools import partial"
   ]
  },
  {
   "cell_type": "code",
   "execution_count": 2,
   "id": "1759ce5b-8986-420c-8f87-54925b3f1a87",
   "metadata": {},
   "outputs": [],
   "source": [
    "# Отношение расстояния между датчиками к длине волны\n",
    "dist_ratio = 0.5"
   ]
  },
  {
   "cell_type": "code",
   "execution_count": 3,
   "id": "01600988-c703-45e9-a505-a3e7b372cdc5",
   "metadata": {},
   "outputs": [],
   "source": [
    "Num_sensors1 = 5\n",
    "Num_emitters1 = 1\n",
    "sample_size1 = 100\n",
    "theta1 = [0.5] # Направление прибытия (DOA) в радианах\n",
    "# Истинное DOA в градусах\n",
    "theta1_degree = rad_to_deg(theta1[0])\n",
    "GS_1 = np.array([[0.7]]) # Ковариация сигнала\n",
    "GN_1 = 4.1*np.eye(5, dtype=np.float64) # Ковариация шума\n",
    "A1 = np.exp(-2j * np.pi * dist_ratio * np.arange(Num_sensors1).reshape(-1,1) * np.sin(theta1).reshape(1,-1)) # Матрица управляющих векторов\n",
    "# Генерация векторов сигнала, шума и принятого сигнала\n",
    "s1 = CN(Num_emitters1, sample_size1, GS_1)\n",
    "n1 = CN(Num_sensors1, sample_size1, GN_1)\n",
    "X1 = (A1 @ s1.T + n1.T).T"
   ]
  },
  {
   "cell_type": "code",
   "execution_count": 4,
   "id": "8d540c1b-76ae-4e24-9f02-b04619d7c550",
   "metadata": {},
   "outputs": [
    {
     "name": "stdout",
     "output_type": "stream",
     "text": [
      "0-th start\n",
      "Iteration=1, theta_new=[-1.74655682], -likelihood = -77.64264\n",
      "Iteration=2, theta_new=[-1.76037235], -likelihood = -77.70787\n",
      "Iteration=3, theta_new=[-1.77232019], -likelihood = -77.76348\n",
      "Iteration=4, theta_new=[-1.78270488], -likelihood = -77.81095\n",
      "Iteration=5, theta_new=[-1.79184473], -likelihood = -77.85110\n",
      "Iteration=6, theta_new=[-1.79998152], -likelihood = -77.88514\n",
      "Iteration=7, theta_new=[-1.80718848], -likelihood = -77.91410\n",
      "Iteration=8, theta_new=[-1.81363012], -likelihood = -77.93844\n",
      "Iteration=9, theta_new=[-1.81938627], -likelihood = -77.95898\n",
      "Iteration=10, theta_new=[-1.82453883], -likelihood = -77.97625\n",
      "Iteration=11, theta_new=[-1.82917144], -likelihood = -77.99072\n",
      "Iteration=12, theta_new=[-1.83336925], -likelihood = -78.00288\n",
      "Iteration=13, theta_new=[-1.83712909], -likelihood = -78.01314\n",
      "Iteration=14, theta_new=[-1.84053782], -likelihood = -78.02168\n",
      "Iteration=15, theta_new=[-1.84368327], -likelihood = -78.02887\n",
      "Iteration=16, theta_new=[-1.84647401], -likelihood = -78.03501\n",
      "Iteration=17, theta_new=[-1.84899848], -likelihood = -78.04004\n",
      "Iteration=18, theta_new=[-1.85134584], -likelihood = -78.04424\n",
      "Iteration=19, theta_new=[-1.85342499], -likelihood = -78.04784\n",
      "Iteration=20, theta_new=[-1.85532548], -likelihood = -78.05078\n",
      "Iteration=21, theta_new=[-1.85704673], -likelihood = -78.05325\n",
      "Iteration=22, theta_new=[-1.85858822], -likelihood = -78.05531\n",
      "Iteration=23, theta_new=[-1.86004024], -likelihood = -78.05701\n",
      "Iteration=24, theta_new=[-1.86131175], -likelihood = -78.05848\n",
      "Iteration=25, theta_new=[-1.86249325], -likelihood = -78.05966\n",
      "Iteration=26, theta_new=[-1.86358455], -likelihood = -78.06066\n",
      "Iteration=27, theta_new=[-1.8645855], -likelihood = -78.06151\n",
      "Iteration=28, theta_new=[-1.86549595], -likelihood = -78.06223\n",
      "Iteration=29, theta_new=[-1.86631574], -likelihood = -78.06282\n",
      "Iteration=30, theta_new=[-1.86704477], -likelihood = -78.06331\n",
      "Iteration=31, theta_new=[-1.86768292], -likelihood = -78.06371\n",
      "Iteration=32, theta_new=[-1.86832129], -likelihood = -78.06403\n",
      "Iteration=33, theta_new=[-1.86886865], -likelihood = -78.06432\n",
      "Iteration=34, theta_new=[-1.86941617], -likelihood = -78.06455\n",
      "Iteration=35, theta_new=[-1.86987257], -likelihood = -78.06476\n",
      "Iteration=36, theta_new=[-1.87032908], -likelihood = -78.06492\n",
      "Iteration=37, theta_new=[-1.87069438], -likelihood = -78.06506\n",
      "Iteration=38, theta_new=[-1.87105975], -likelihood = -78.06517\n",
      "Iteration=39, theta_new=[-1.87133383], -likelihood = -78.06527\n",
      "Iteration=40, theta_new=[-1.87160795], -likelihood = -78.06533\n",
      "Iteration=41, theta_new=[-1.87188212], -likelihood = -78.06539\n",
      "Iteration=42, theta_new=[-1.87215632], -likelihood = -78.06545\n",
      "Iteration=43, theta_new=[-1.87233914], -likelihood = -78.06550\n",
      "Iteration=44, theta_new=[-1.87252199], -likelihood = -78.06553\n",
      "Iteration=45, theta_new=[-1.87270485], -likelihood = -78.06556\n",
      "Iteration=46, theta_new=[-1.87288773], -likelihood = -78.06559\n",
      "Iteration=47, theta_new=[-1.87307063], -likelihood = -78.06561\n",
      "Iteration=48, theta_new=[-1.87325355], -likelihood = -78.06563\n",
      "Iteration=49, theta_new=[-1.87334502], -likelihood = -78.06565\n",
      "Iteration=50, theta_new=[-1.87343649], -likelihood = -78.06566\n",
      "1-th start\n",
      "Iteration=1, theta_new=[-1.69336949], -likelihood = -77.40680\n",
      "Iteration=2, theta_new=[-1.71652103], -likelihood = -77.50450\n",
      "Iteration=3, theta_new=[-1.73512785], -likelihood = -77.58918\n",
      "Iteration=4, theta_new=[-1.75063216], -likelihood = -77.66202\n",
      "Iteration=5, theta_new=[-1.76388158], -likelihood = -77.72430\n",
      "Iteration=6, theta_new=[-1.77533647], -likelihood = -77.77752\n",
      "Iteration=7, theta_new=[-1.78539209], -likelihood = -77.82274\n",
      "Iteration=8, theta_new=[-1.79428418], -likelihood = -77.86125\n",
      "Iteration=9, theta_new=[-1.80216922], -likelihood = -77.89397\n",
      "Iteration=10, theta_new=[-1.80912094], -likelihood = -77.92163\n",
      "Iteration=11, theta_new=[-1.8153928], -likelihood = -77.94473\n",
      "Iteration=12, theta_new=[-1.82097726], -likelihood = -77.96439\n",
      "Iteration=13, theta_new=[-1.82595649], -likelihood = -77.98082\n",
      "Iteration=14, theta_new=[-1.83050355], -likelihood = -77.99453\n",
      "Iteration=15, theta_new=[-1.83461504], -likelihood = -78.00621\n",
      "Iteration=16, theta_new=[-1.83828785], -likelihood = -78.01604\n",
      "Iteration=17, theta_new=[-1.84160897], -likelihood = -78.02419\n",
      "Iteration=18, theta_new=[-1.84457641], -likelihood = -78.03101\n",
      "Iteration=19, theta_new=[-1.84727843], -likelihood = -78.03666\n",
      "Iteration=20, theta_new=[-1.8497138], -likelihood = -78.04141\n",
      "Iteration=21, theta_new=[-1.85197176], -likelihood = -78.04537\n",
      "Iteration=22, theta_new=[-1.85396118], -likelihood = -78.04875\n",
      "Iteration=23, theta_new=[-1.85577169], -likelihood = -78.05150\n",
      "Iteration=24, theta_new=[-1.85749335], -likelihood = -78.05380\n",
      "Iteration=25, theta_new=[-1.85903522], -likelihood = -78.05582\n",
      "Iteration=26, theta_new=[-1.86039681], -likelihood = -78.05747\n",
      "Iteration=27, theta_new=[-1.86166857], -likelihood = -78.05882\n",
      "Iteration=28, theta_new=[-1.86285029], -likelihood = -78.05997\n",
      "Iteration=29, theta_new=[-1.86385085], -likelihood = -78.06095\n",
      "Iteration=30, theta_new=[-1.86476093], -likelihood = -78.06171\n",
      "Iteration=31, theta_new=[-1.86567146], -likelihood = -78.06235\n",
      "Iteration=32, theta_new=[-1.86649133], -likelihood = -78.06293\n",
      "Iteration=33, theta_new=[-1.86722043], -likelihood = -78.06341\n",
      "Iteration=34, theta_new=[-1.86785864], -likelihood = -78.06380\n",
      "Iteration=35, theta_new=[-1.86849707], -likelihood = -78.06411\n",
      "Iteration=36, theta_new=[-1.86904448], -likelihood = -78.06440\n",
      "Iteration=37, theta_new=[-1.86950079], -likelihood = -78.06462\n",
      "Iteration=38, theta_new=[-1.86995721], -likelihood = -78.06479\n",
      "Iteration=39, theta_new=[-1.87041374], -likelihood = -78.06495\n",
      "Iteration=40, theta_new=[-1.87077906], -likelihood = -78.06509\n",
      "Iteration=41, theta_new=[-1.87114445], -likelihood = -78.06519\n",
      "Iteration=42, theta_new=[-1.87141854], -likelihood = -78.06529\n",
      "Iteration=43, theta_new=[-1.87169267], -likelihood = -78.06535\n",
      "Iteration=44, theta_new=[-1.87196685], -likelihood = -78.06541\n",
      "Iteration=45, theta_new=[-1.87224106], -likelihood = -78.06547\n",
      "Iteration=46, theta_new=[-1.8724239], -likelihood = -78.06552\n",
      "Iteration=47, theta_new=[-1.87260675], -likelihood = -78.06555\n",
      "Iteration=48, theta_new=[-1.87278962], -likelihood = -78.06557\n",
      "Iteration=49, theta_new=[-1.87297251], -likelihood = -78.06560\n",
      "Iteration=50, theta_new=[-1.87315542], -likelihood = -78.06562\n",
      "2-th start\n",
      "Iteration=1, theta_new=[2.86515006], -likelihood = -99.16677\n",
      "Iteration=2, theta_new=[2.84234637], -likelihood = -104.54160\n",
      "Iteration=3, theta_new=[2.81930782], -likelihood = -110.41741\n",
      "Iteration=4, theta_new=[2.79673133], -likelihood = -116.45718\n",
      "Iteration=5, theta_new=[2.77529155], -likelihood = -122.27961\n",
      "Iteration=6, theta_new=[2.755439], -likelihood = -127.54564\n",
      "Iteration=7, theta_new=[2.73747752], -likelihood = -132.05643\n",
      "Iteration=8, theta_new=[2.72157128], -likelihood = -135.73940\n",
      "Iteration=9, theta_new=[2.70761791], -likelihood = -138.62488\n",
      "Iteration=10, theta_new=[2.69552088], -likelihood = -140.82978\n",
      "Iteration=11, theta_new=[2.68512312], -likelihood = -142.47488\n",
      "Iteration=12, theta_new=[2.67627323], -likelihood = -143.68079\n",
      "Iteration=13, theta_new=[2.66875928], -likelihood = -144.55045\n",
      "Iteration=14, theta_new=[2.66243922], -likelihood = -145.17321\n",
      "Iteration=15, theta_new=[2.65710914], -likelihood = -145.61367\n",
      "Iteration=16, theta_new=[2.65263305], -likelihood = -145.92542\n",
      "Iteration=17, theta_new=[2.64887688], -likelihood = -146.14481\n",
      "Iteration=18, theta_new=[2.64570806], -likelihood = -146.29897\n",
      "Iteration=19, theta_new=[2.64305977], -likelihood = -146.40773\n",
      "Iteration=20, theta_new=[2.6408013], -likelihood = -146.48368\n",
      "Iteration=21, theta_new=[2.63893159], -likelihood = -146.53771\n",
      "Iteration=22, theta_new=[2.63738534], -likelihood = -146.57496\n",
      "Iteration=23, theta_new=[2.63609755], -likelihood = -146.60065\n",
      "Iteration=24, theta_new=[2.63500347], -likelihood = -146.61851\n",
      "Iteration=25, theta_new=[2.63410283], -likelihood = -146.63117\n",
      "Iteration=26, theta_new=[2.63333112], -likelihood = -146.63985\n",
      "Iteration=27, theta_new=[2.63268822], -likelihood = -146.64604\n",
      "Iteration=28, theta_new=[2.63217402], -likelihood = -146.65033\n",
      "Iteration=29, theta_new=[2.63172419], -likelihood = -146.65318\n",
      "Iteration=30, theta_new=[2.63133868], -likelihood = -146.65525\n",
      "Iteration=31, theta_new=[2.63101747], -likelihood = -146.65672\n",
      "Iteration=32, theta_new=[2.63076054], -likelihood = -146.65773\n",
      "Iteration=33, theta_new=[2.63056786], -likelihood = -146.65840\n",
      "Iteration=34, theta_new=[2.63037519], -likelihood = -146.65881\n",
      "Iteration=35, theta_new=[2.63024675], -likelihood = -146.65915\n",
      "Iteration=36, theta_new=[2.63011832], -likelihood = -146.65934\n",
      "Iteration=37, theta_new=[2.63005411], -likelihood = -146.65949\n",
      "Iteration=38, theta_new=[2.6299899], -likelihood = -146.65956\n",
      "Iteration=39, theta_new=[2.62992569], -likelihood = -146.65962\n",
      "Iteration=40, theta_new=[2.62986148], -likelihood = -146.65967\n",
      "Iteration=41, theta_new=[2.62979728], -likelihood = -146.65971\n",
      "Iteration=42, theta_new=[2.62973307], -likelihood = -146.65974\n",
      "norm=0.0\n",
      "Iteration=43, theta_new=[2.62973307], -likelihood = -146.65977\n",
      "3-th start\n",
      "Iteration=1, theta_new=[2.50529797], -likelihood = -128.63747\n",
      "Iteration=2, theta_new=[2.5259104], -likelihood = -133.51426\n",
      "Iteration=3, theta_new=[2.54330071], -likelihood = -137.23457\n",
      "Iteration=4, theta_new=[2.5578303], -likelihood = -139.98412\n",
      "Iteration=5, theta_new=[2.56994503], -likelihood = -141.96651\n",
      "Iteration=6, theta_new=[2.58004662], -likelihood = -143.37791\n",
      "Iteration=7, theta_new=[2.58842421], -likelihood = -144.37511\n",
      "Iteration=8, theta_new=[2.59537555], -likelihood = -145.07207\n",
      "Iteration=9, theta_new=[2.60114164], -likelihood = -145.55775\n",
      "Iteration=10, theta_new=[2.60590447], -likelihood = -145.89526\n",
      "Iteration=11, theta_new=[2.60984896], -likelihood = -146.12854\n",
      "Iteration=12, theta_new=[2.61316224], -likelihood = -146.29015\n",
      "Iteration=13, theta_new=[2.61590555], -likelihood = -146.40357\n",
      "Iteration=14, theta_new=[2.61820469], -likelihood = -146.48192\n",
      "Iteration=15, theta_new=[2.62012232], -likelihood = -146.53668\n",
      "Iteration=16, theta_new=[2.62172151], -likelihood = -146.57471\n",
      "Iteration=17, theta_new=[2.62300165], -likelihood = -146.60108\n",
      "Iteration=18, theta_new=[2.6240903], -likelihood = -146.61870\n",
      "Iteration=19, theta_new=[2.6249872], -likelihood = -146.63122\n",
      "Iteration=20, theta_new=[2.62575624], -likelihood = -146.63983\n",
      "Iteration=21, theta_new=[2.6263973], -likelihood = -146.64599\n",
      "Iteration=22, theta_new=[2.62691026], -likelihood = -146.65026\n",
      "Iteration=23, theta_new=[2.6273592], -likelihood = -146.65311\n",
      "Iteration=24, theta_new=[2.62774407], -likelihood = -146.65519\n",
      "Iteration=25, theta_new=[2.62806484], -likelihood = -146.65667\n",
      "Iteration=26, theta_new=[2.62832148], -likelihood = -146.65769\n",
      "Iteration=27, theta_new=[2.62851399], -likelihood = -146.65835\n",
      "Iteration=28, theta_new=[2.62870651], -likelihood = -146.65877\n",
      "Iteration=29, theta_new=[2.62883486], -likelihood = -146.65912\n",
      "Iteration=30, theta_new=[2.62896322], -likelihood = -146.65931\n",
      "Iteration=31, theta_new=[2.62909159], -likelihood = -146.65947\n",
      "Iteration=32, theta_new=[2.62915578], -likelihood = -146.65960\n",
      "Iteration=33, theta_new=[2.62921996], -likelihood = -146.65966\n",
      "Iteration=34, theta_new=[2.62928415], -likelihood = -146.65970\n",
      "Iteration=35, theta_new=[2.62934835], -likelihood = -146.65974\n",
      "Iteration=36, theta_new=[2.62941254], -likelihood = -146.65976\n",
      "norm=0.0\n",
      "Iteration=37, theta_new=[2.62941254], -likelihood = -146.65978\n",
      "4-th start\n",
      "Iteration=1, theta_new=[-2.59097648], -likelihood = -79.66424\n",
      "Iteration=2, theta_new=[-2.59641652], -likelihood = -79.88701\n",
      "Iteration=3, theta_new=[-2.60136086], -likelihood = -80.07239\n",
      "Iteration=4, theta_new=[-2.60580655], -likelihood = -80.22642\n",
      "Iteration=5, theta_new=[-2.60987812], -likelihood = -80.35270\n",
      "Iteration=6, theta_new=[-2.61351003], -likelihood = -80.45788\n",
      "Iteration=7, theta_new=[-2.61682797], -likelihood = -80.54303\n",
      "Iteration=8, theta_new=[-2.61983067], -likelihood = -80.61352\n",
      "Iteration=9, theta_new=[-2.62251702], -likelihood = -80.67119\n",
      "Iteration=10, theta_new=[-2.62495002], -likelihood = -80.71777\n",
      "Iteration=11, theta_new=[-2.62712894], -likelihood = -80.75584\n",
      "Iteration=12, theta_new=[-2.6290531], -likelihood = -80.78655\n",
      "Iteration=13, theta_new=[-2.63078612], -likelihood = -80.81100\n",
      "Iteration=14, theta_new=[-2.63239183], -likelihood = -80.83085\n",
      "Iteration=15, theta_new=[-2.63380571], -likelihood = -80.84741\n",
      "Iteration=16, theta_new=[-2.63509175], -likelihood = -80.86052\n",
      "Iteration=17, theta_new=[-2.63624974], -likelihood = -80.87123\n",
      "Iteration=18, theta_new=[-2.63727953], -likelihood = -80.87989\n",
      "Iteration=19, theta_new=[-2.63818094], -likelihood = -80.88680\n",
      "Iteration=20, theta_new=[-2.63901826], -likelihood = -80.89224\n",
      "Iteration=21, theta_new=[-2.63972698], -likelihood = -80.89677\n",
      "Iteration=22, theta_new=[-2.64037144], -likelihood = -80.90023\n",
      "Iteration=23, theta_new=[-2.6409516], -likelihood = -80.90306\n",
      "Iteration=24, theta_new=[-2.64146741], -likelihood = -80.90536\n",
      "Iteration=25, theta_new=[-2.64198332], -likelihood = -80.90720\n",
      "Iteration=26, theta_new=[-2.64243484], -likelihood = -80.90885\n",
      "Iteration=27, theta_new=[-2.64282191], -likelihood = -80.91015\n",
      "Iteration=28, theta_new=[-2.64314452], -likelihood = -80.91114\n",
      "Iteration=29, theta_new=[-2.64346717], -likelihood = -80.91188\n",
      "Iteration=30, theta_new=[-2.64372532], -likelihood = -80.91255\n",
      "Iteration=31, theta_new=[-2.6439835], -likelihood = -80.91304\n",
      "Iteration=32, theta_new=[-2.6442417], -likelihood = -80.91347\n",
      "Iteration=33, theta_new=[-2.64443537], -likelihood = -80.91386\n",
      "Iteration=34, theta_new=[-2.64462905], -likelihood = -80.91412\n",
      "Iteration=35, theta_new=[-2.64482275], -likelihood = -80.91435\n",
      "Iteration=36, theta_new=[-2.64495189], -likelihood = -80.91456\n",
      "Iteration=37, theta_new=[-2.64508104], -likelihood = -80.91468\n",
      "Iteration=38, theta_new=[-2.6452102], -likelihood = -80.91479\n",
      "Iteration=39, theta_new=[-2.64533936], -likelihood = -80.91489\n",
      "Iteration=40, theta_new=[-2.64540394], -likelihood = -80.91498\n",
      "Iteration=41, theta_new=[-2.64546853], -likelihood = -80.91501\n",
      "Iteration=42, theta_new=[-2.64553311], -likelihood = -80.91505\n",
      "Iteration=43, theta_new=[-2.6455977], -likelihood = -80.91508\n",
      "Iteration=44, theta_new=[-2.64566229], -likelihood = -80.91511\n",
      "Iteration=45, theta_new=[-2.64572688], -likelihood = -80.91514\n",
      "Iteration=46, theta_new=[-2.64579147], -likelihood = -80.91516\n",
      "Iteration=47, theta_new=[-2.64585607], -likelihood = -80.91518\n",
      "Iteration=48, theta_new=[-2.64592066], -likelihood = -80.91520\n",
      "norm=0.0\n",
      "Iteration=49, theta_new=[-2.64592066], -likelihood = -80.91522\n",
      "5-th start\n",
      "Iteration=1, theta_new=[1.47521237], -likelihood = -76.96539\n",
      "Iteration=2, theta_new=[1.53399037], -likelihood = -77.11724\n",
      "Iteration=3, theta_new=[1.57076719], -likelihood = -77.22415\n",
      "norm=0.0\n",
      "Iteration=4, theta_new=[1.57076719], -likelihood = -77.23370\n",
      "6-th start\n",
      "Iteration=1, theta_new=[1.57079514], -likelihood = -77.14821\n",
      "norm=0.0\n",
      "Iteration=2, theta_new=[1.57079514], -likelihood = -77.23370\n",
      "7-th start\n",
      "Iteration=1, theta_new=[3.07233475], -likelihood = -74.86885\n",
      "Iteration=2, theta_new=[3.06745922], -likelihood = -75.07986\n",
      "Iteration=3, theta_new=[3.06236675], -likelihood = -75.30539\n",
      "Iteration=4, theta_new=[3.05705845], -likelihood = -75.55108\n",
      "Iteration=5, theta_new=[3.05146081], -likelihood = -75.81967\n",
      "Iteration=6, theta_new=[3.04557543], -likelihood = -76.11848\n",
      "Iteration=7, theta_new=[3.03932962], -likelihood = -76.45199\n",
      "Iteration=8, theta_new=[3.0326514], -likelihood = -76.83012\n",
      "Iteration=9, theta_new=[3.02546959], -likelihood = -77.26506\n",
      "Iteration=10, theta_new=[3.01771387], -likelihood = -77.77190\n",
      "Iteration=11, theta_new=[3.00924128], -likelihood = -78.36940\n",
      "Iteration=12, theta_new=[2.99998434], -likelihood = -79.08743\n",
      "Iteration=13, theta_new=[2.98973048], -likelihood = -79.95700\n",
      "Iteration=14, theta_new=[2.97834382], -likelihood = -81.03256\n",
      "Iteration=15, theta_new=[2.96561896], -likelihood = -82.37545\n",
      "Iteration=16, theta_new=[2.9513556], -likelihood = -84.07199\n",
      "Iteration=17, theta_new=[2.93543154], -likelihood = -86.22889\n",
      "Iteration=18, theta_new=[2.91765842], -likelihood = -88.95901\n",
      "Iteration=19, theta_new=[2.89806965], -likelihood = -92.39575\n",
      "Iteration=20, theta_new=[2.87691431], -likelihood = -96.61981\n",
      "Iteration=21, theta_new=[2.85450865], -likelihood = -101.61339\n",
      "Iteration=22, theta_new=[2.8315109], -likelihood = -107.25836\n",
      "Iteration=23, theta_new=[2.80862931], -likelihood = -113.25744\n",
      "Iteration=24, theta_new=[2.78654975], -likelihood = -119.23503\n",
      "Iteration=25, theta_new=[2.7658003], -likelihood = -124.82247\n",
      "Iteration=26, theta_new=[2.74682593], -likelihood = -129.75354\n",
      "Iteration=27, theta_new=[2.72979239], -likelihood = -133.87474\n",
      "Iteration=28, theta_new=[2.7147972], -likelihood = -137.18069\n",
      "Iteration=29, theta_new=[2.70174019], -likelihood = -139.73515\n",
      "Iteration=30, theta_new=[2.69046095], -likelihood = -141.66095\n",
      "Iteration=31, theta_new=[2.68080524], -likelihood = -143.08623\n",
      "Iteration=32, theta_new=[2.67262408], -likelihood = -144.12334\n",
      "Iteration=33, theta_new=[2.66570762], -likelihood = -144.86627\n",
      "Iteration=34, theta_new=[2.65985035], -likelihood = -145.39545\n",
      "Iteration=35, theta_new=[2.65491508], -likelihood = -145.77193\n",
      "Iteration=36, theta_new=[2.65076677], -likelihood = -146.03781\n",
      "Iteration=37, theta_new=[2.64727211], -likelihood = -146.22482\n",
      "Iteration=38, theta_new=[2.64436373], -likelihood = -146.35648\n",
      "Iteration=39, theta_new=[2.64191046], -likelihood = -146.44799\n",
      "Iteration=40, theta_new=[2.63984647], -likelihood = -146.51241\n",
      "Iteration=41, theta_new=[2.63817079], -likelihood = -146.55757\n",
      "Iteration=42, theta_new=[2.6367538], -likelihood = -146.58817\n",
      "Iteration=43, theta_new=[2.6355307], -likelihood = -146.60980\n",
      "Iteration=44, theta_new=[2.63456554], -likelihood = -146.62535\n",
      "Iteration=45, theta_new=[2.63372937], -likelihood = -146.63558\n",
      "Iteration=46, theta_new=[2.63302207], -likelihood = -146.64299\n",
      "Iteration=47, theta_new=[2.63244353], -likelihood = -146.64820\n",
      "Iteration=48, theta_new=[2.63199365], -likelihood = -146.65174\n",
      "Iteration=49, theta_new=[2.6316081], -likelihood = -146.65406\n",
      "Iteration=50, theta_new=[2.63128686], -likelihood = -146.65573\n",
      "8-th start\n",
      "Iteration=1, theta_new=[-0.02697032], -likelihood = -70.94884\n",
      "Iteration=2, theta_new=[-0.02199767], -likelihood = -71.17151\n",
      "Iteration=3, theta_new=[-0.01711694], -likelihood = -71.38722\n",
      "Iteration=4, theta_new=[-0.01235629], -likelihood = -71.59563\n",
      "Iteration=5, theta_new=[-0.00764545], -likelihood = -71.79576\n",
      "Iteration=6, theta_new=[-0.00305818], -likelihood = -71.99084\n",
      "Iteration=7, theta_new=[0.00145264], -likelihood = -72.17809\n",
      "Iteration=8, theta_new=[0.00588318], -likelihood = -72.35981\n",
      "Iteration=9, theta_new=[0.01029556], -likelihood = -72.53619\n",
      "Iteration=10, theta_new=[0.01467117], -likelihood = -72.71003\n",
      "Iteration=11, theta_new=[0.01898083], -likelihood = -72.88095\n",
      "Iteration=12, theta_new=[0.02325151], -likelihood = -73.04818\n",
      "Iteration=13, theta_new=[0.02753851], -likelihood = -73.21319\n",
      "Iteration=14, theta_new=[0.03175535], -likelihood = -73.37853\n",
      "Iteration=15, theta_new=[0.03602247], -likelihood = -73.54129\n",
      "Iteration=16, theta_new=[0.04030014], -likelihood = -73.70661\n",
      "Iteration=17, theta_new=[0.04458203], -likelihood = -73.87347\n",
      "Iteration=18, theta_new=[0.04890092], -likelihood = -74.04220\n",
      "Iteration=19, theta_new=[0.05325615], -likelihood = -74.21471\n",
      "Iteration=20, theta_new=[0.05774964], -likelihood = -74.39171\n",
      "Iteration=21, theta_new=[0.06235157], -likelihood = -74.57825\n",
      "Iteration=22, theta_new=[0.06702793], -likelihood = -74.77426\n",
      "Iteration=23, theta_new=[0.07184557], -likelihood = -74.97953\n",
      "Iteration=24, theta_new=[0.07684108], -likelihood = -75.19846\n",
      "Iteration=25, theta_new=[0.08206387], -likelihood = -75.43465\n",
      "Iteration=26, theta_new=[0.08751342], -likelihood = -75.69299\n",
      "Iteration=27, theta_new=[0.09325649], -likelihood = -75.97660\n",
      "Iteration=28, theta_new=[0.09930359], -likelihood = -76.29293\n",
      "Iteration=29, theta_new=[0.10574281], -likelihood = -76.64767\n",
      "Iteration=30, theta_new=[0.11268218], -likelihood = -77.05259\n",
      "Iteration=31, theta_new=[0.12016498], -likelihood = -77.52376\n",
      "Iteration=32, theta_new=[0.12823857], -likelihood = -78.07648\n",
      "Iteration=33, theta_new=[0.13710506], -likelihood = -78.72999\n",
      "Iteration=34, theta_new=[0.14685238], -likelihood = -79.52243\n",
      "Iteration=35, theta_new=[0.15763685], -likelihood = -80.49176\n",
      "Iteration=36, theta_new=[0.16970592], -likelihood = -81.69345\n",
      "Iteration=37, theta_new=[0.18316307], -likelihood = -83.20992\n",
      "Iteration=38, theta_new=[0.19825971], -likelihood = -85.12507\n",
      "Iteration=39, theta_new=[0.21514276], -likelihood = -87.56211\n",
      "Iteration=40, theta_new=[0.23379968], -likelihood = -90.64592\n",
      "Iteration=41, theta_new=[0.25425715], -likelihood = -94.46963\n",
      "Iteration=42, theta_new=[0.27610737], -likelihood = -99.10419\n",
      "Iteration=43, theta_new=[0.29891859], -likelihood = -104.45695\n",
      "Iteration=44, theta_new=[0.32197969], -likelihood = -110.33177\n",
      "Iteration=45, theta_new=[0.344556], -likelihood = -116.37739\n",
      "Iteration=46, theta_new=[0.36602345], -likelihood = -122.20236\n",
      "Iteration=47, theta_new=[0.38589738], -likelihood = -127.47977\n",
      "Iteration=48, theta_new=[0.40383558], -likelihood = -132.00094\n",
      "Iteration=49, theta_new=[0.41976816], -likelihood = -135.68538\n",
      "Iteration=50, theta_new=[0.43378776], -likelihood = -138.58196\n",
      "9-th start\n",
      "Iteration=1, theta_new=[-3.0777914], -likelihood = -69.22295\n",
      "Iteration=2, theta_new=[-3.08327672], -likelihood = -69.48279\n",
      "Iteration=3, theta_new=[-3.08869654], -likelihood = -69.74196\n",
      "Iteration=4, theta_new=[-3.09405048], -likelihood = -69.99623\n",
      "Iteration=5, theta_new=[-3.09933817], -likelihood = -70.24505\n",
      "Iteration=6, theta_new=[-3.10455922], -likelihood = -70.48801\n",
      "Iteration=7, theta_new=[-3.10963748], -likelihood = -70.72481\n",
      "Iteration=8, theta_new=[-3.11464813], -likelihood = -70.95190\n",
      "Iteration=9, theta_new=[-3.1195908], -likelihood = -71.17264\n",
      "Iteration=10, theta_new=[-3.12446516], -likelihood = -71.38704\n",
      "Iteration=11, theta_new=[-3.12919458], -likelihood = -71.59518\n",
      "Iteration=12, theta_new=[-3.13385476], -likelihood = -71.79402\n",
      "Iteration=13, theta_new=[-3.13844536], -likelihood = -71.98704\n",
      "Iteration=14, theta_new=[-3.14296607], -likelihood = -72.17448\n",
      "Iteration=15, theta_new=[-3.14741656], -likelihood = -72.35664\n",
      "Iteration=16, theta_new=[-3.15179651], -likelihood = -72.53384\n",
      "Iteration=17, theta_new=[-3.15618256], -likelihood = -72.70643\n",
      "Iteration=18, theta_new=[-3.16049765], -likelihood = -72.87779\n",
      "Iteration=19, theta_new=[-3.16474148], -likelihood = -73.04524\n",
      "Iteration=20, theta_new=[-3.16899101], -likelihood = -73.20923\n",
      "Iteration=21, theta_new=[-3.17324625], -likelihood = -73.37312\n",
      "Iteration=22, theta_new=[-3.1775072], -likelihood = -73.53736\n",
      "Iteration=23, theta_new=[-3.18177387], -likelihood = -73.70242\n",
      "Iteration=24, theta_new=[-3.18604628], -likelihood = -73.86881\n",
      "Iteration=25, theta_new=[-3.1904022], -likelihood = -74.03711\n",
      "Iteration=26, theta_new=[-3.19476408], -likelihood = -74.21104\n",
      "Iteration=27, theta_new=[-3.19920992], -likelihood = -74.38823\n",
      "Iteration=28, theta_new=[-3.20374005], -likelihood = -74.57269\n",
      "Iteration=29, theta_new=[-3.20843303], -likelihood = -74.76545\n",
      "Iteration=30, theta_new=[-3.21328954], -likelihood = -74.97116\n",
      "Iteration=31, theta_new=[-3.21831031], -likelihood = -75.19157\n",
      "Iteration=32, theta_new=[-3.22349606], -likelihood = -75.42869\n",
      "Iteration=33, theta_new=[-3.22892626], -likelihood = -75.68487\n",
      "Iteration=34, theta_new=[-3.23460211], -likelihood = -75.96699\n",
      "Iteration=35, theta_new=[-3.24060382], -likelihood = -76.27893\n",
      "Iteration=36, theta_new=[-3.24701224], -likelihood = -76.62997\n",
      "Iteration=37, theta_new=[-3.25390897], -likelihood = -77.03156\n",
      "Iteration=38, theta_new=[-3.26129699], -likelihood = -77.49796\n",
      "Iteration=39, theta_new=[-3.26933876], -likelihood = -78.04104\n",
      "Iteration=40, theta_new=[-3.27811873], -likelihood = -78.68832\n",
      "Iteration=41, theta_new=[-3.28780262], -likelihood = -79.46816\n",
      "Iteration=42, theta_new=[-3.29855862], -likelihood = -80.42456\n",
      "Iteration=43, theta_new=[-3.31055777], -likelihood = -81.61457\n",
      "Iteration=44, theta_new=[-3.32397458], -likelihood = -83.11143\n",
      "Iteration=45, theta_new=[-3.33898765], -likelihood = -85.00730\n",
      "Iteration=46, theta_new=[-3.35578041], -likelihood = -87.41426\n",
      "Iteration=47, theta_new=[-3.37437812], -likelihood = -90.46164\n",
      "Iteration=48, theta_new=[-3.39472654], -likelihood = -94.25127\n",
      "Iteration=49, theta_new=[-3.41652373], -likelihood = -98.83918\n",
      "Iteration=50, theta_new=[-3.439295], -likelihood = -104.16047\n"
     ]
    }
   ],
   "source": [
    "est_theta1, neglhd_1, K1, mu1 = multi_start(10, X1, GS_1, GN_1, max_iter=50, eps=1e-6)"
   ]
  },
  {
   "cell_type": "code",
   "execution_count": 5,
   "id": "cc6f749f-595a-4ca6-8955-5fff82f699e8",
   "metadata": {},
   "outputs": [
    {
     "name": "stdout",
     "output_type": "stream",
     "text": [
      "Погрешность в смысле разности углов: [2.12941254].\n",
      "Погрешность в смысле разности синусов углов [0.01065323].\n"
     ]
    }
   ],
   "source": [
    "print(f\"Погрешность в смысле разности углов: {np.abs(est_theta1-theta1)}.\\nПогрешность в смысле разности синусов углов {np.abs(np.sin(est_theta1)-np.sin(theta1))}.\")"
   ]
  },
  {
   "cell_type": "code",
   "execution_count": 6,
   "id": "6c9c1e0b-6f7d-43a2-b972-cd0fed4d6c30",
   "metadata": {},
   "outputs": [],
   "source": [
    "Num_sensors2 = 5\n",
    "Num_emitters2 = 2\n",
    "sample_size2 = 100\n",
    "theta2 = np.array([0.34906585, 1.22173048]) # Направление прибытия (DOA) в радианах\n",
    "GS_2 = np.array([[2,0],[0,3]]) # Ковариация сигнала\n",
    "GN_2 = 7.1*np.eye(5, dtype=np.float64) # Ковариация шума\n",
    "A2 = np.exp(-2j * np.pi * dist_ratio * np.arange(Num_sensors2).reshape(-1,1) * np.sin(theta2).reshape(1,-1)) # Матрица управляющих векторов\n",
    "# Генерация векторов сигнала, шума и принятого сигнала\n",
    "s2 = CN(Num_emitters2, sample_size2, GS_2)\n",
    "n2 = CN(Num_sensors2, sample_size2, GN_2)\n",
    "X2 = (A2 @ s2.T + n2.T).T"
   ]
  },
  {
   "cell_type": "code",
   "execution_count": 7,
   "id": "256aecfb-ec73-4db6-978d-0aaeff7163d7",
   "metadata": {},
   "outputs": [
    {
     "name": "stdout",
     "output_type": "stream",
     "text": [
      "0-th start\n",
      "Iteration=1, theta_new=[-2.67381116  1.40900214], -likelihood = -375.86766\n",
      "Iteration=2, theta_new=[-2.67598291  1.35725286], -likelihood = -379.57549\n",
      "Iteration=3, theta_new=[-2.6788426   1.32350148], -likelihood = -382.02373\n",
      "Iteration=4, theta_new=[-2.68220341  1.29944743], -likelihood = -383.64729\n",
      "Iteration=5, theta_new=[-2.68600066  1.28163567], -likelihood = -384.74891\n",
      "Iteration=6, theta_new=[-2.69003504  1.2681275 ], -likelihood = -385.52215\n",
      "Iteration=7, theta_new=[-2.69423529  1.25768212], -likelihood = -386.08672\n",
      "Iteration=8, theta_new=[-2.69859007  1.24948404], -likelihood = -386.52078\n",
      "Iteration=9, theta_new=[-2.70293288  1.24301335], -likelihood = -386.87390\n",
      "Iteration=10, theta_new=[-2.7072985   1.23786656], -likelihood = -387.16913\n",
      "Iteration=11, theta_new=[-2.71162726  1.23374591], -likelihood = -387.42732\n",
      "Iteration=12, theta_new=[-2.71585818  1.23035032], -likelihood = -387.65790\n",
      "Iteration=13, theta_new=[-2.71996456  1.22758858], -likelihood = -387.86634\n",
      "Iteration=14, theta_new=[-2.72389062  1.22538633], -likelihood = -388.05537\n",
      "Iteration=15, theta_new=[-2.72769734  1.22350204], -likelihood = -388.22558\n",
      "Iteration=16, theta_new=[-2.73129578  1.2220002 ], -likelihood = -388.38233\n",
      "Iteration=17, theta_new=[-2.7347622   1.22068971], -likelihood = -388.52297\n",
      "Iteration=18, theta_new=[-2.7380246   1.21970979], -likelihood = -388.65208\n",
      "Iteration=19, theta_new=[-2.74108889  1.21889907], -likelihood = -388.76745\n",
      "Iteration=20, theta_new=[-2.74401785  1.2181777 ], -likelihood = -388.87069\n",
      "1-th start\n",
      "Iteration=1, theta_new=[0.01086439 1.31282714], -likelihood = -381.42252\n",
      "Iteration=2, theta_new=[0.03745066 1.29099755], -likelihood = -390.26177\n",
      "Iteration=3, theta_new=[0.06683941 1.27534873], -likelihood = -401.58154\n",
      "Iteration=4, theta_new=[0.09724046 1.26438981], -likelihood = -415.06885\n",
      "Iteration=5, theta_new=[0.12680122 1.25702916], -likelihood = -429.56933\n",
      "Iteration=6, theta_new=[0.15432719 1.252379  ], -likelihood = -443.61675\n",
      "Iteration=7, theta_new=[0.17913397 1.249687  ], -likelihood = -456.15868\n",
      "Iteration=8, theta_new=[0.20097729 1.24823532], -likelihood = -466.65573\n",
      "Iteration=9, theta_new=[0.21995301 1.24765   ], -likelihood = -475.02152\n",
      "Iteration=10, theta_new=[0.23619979 1.24752653], -likelihood = -481.46518\n",
      "Iteration=11, theta_new=[0.25004495 1.24768892], -likelihood = -486.27990\n",
      "Iteration=12, theta_new=[0.26173464 1.24796599], -likelihood = -489.81806\n",
      "Iteration=13, theta_new=[0.27157635 1.24826199], -likelihood = -492.37188\n",
      "Iteration=14, theta_new=[0.27982593 1.24844768], -likelihood = -494.19924\n",
      "Iteration=15, theta_new=[0.28674755 1.24864463], -likelihood = -495.49650\n",
      "Iteration=16, theta_new=[0.29253167 1.24869776], -likelihood = -496.41589\n",
      "Iteration=17, theta_new=[0.29735349 1.24871927], -likelihood = -497.06462\n",
      "Iteration=18, theta_new=[0.30138669 1.24877235], -likelihood = -497.52115\n",
      "Iteration=19, theta_new=[0.30473116 1.24871527], -likelihood = -497.84360\n",
      "Iteration=20, theta_new=[0.30752178 1.2486544 ], -likelihood = -498.07020\n",
      "2-th start\n",
      "Iteration=1, theta_new=[-0.31435897 -1.65184585], -likelihood = -368.47700\n",
      "Iteration=2, theta_new=[-0.31663449 -1.57076011], -likelihood = -374.81838\n",
      "Iteration=3, theta_new=[-0.31879406 -1.57077981], -likelihood = -375.31221\n",
      "Iteration=4, theta_new=[-0.32081671 -1.57077501], -likelihood = -375.34749\n",
      "Iteration=5, theta_new=[-0.32274105 -1.57076893], -likelihood = -375.37753\n",
      "Iteration=6, theta_new=[-0.32454073 -1.57076928], -likelihood = -375.40345\n",
      "Iteration=7, theta_new=[-0.32622646 -1.5708112 ], -likelihood = -375.42538\n",
      "Iteration=8, theta_new=[-0.32782397 -1.5707995 ], -likelihood = -375.44392\n",
      "Iteration=9, theta_new=[-0.32933764 -1.57082029], -likelihood = -375.45974\n",
      "Iteration=10, theta_new=[-0.33076007 -1.57081029], -likelihood = -375.47316\n",
      "Iteration=11, theta_new=[-0.33207962 -1.57077766], -likelihood = -375.48440\n",
      "Iteration=12, theta_new=[-0.33333656 -1.57077135], -likelihood = -375.49367\n",
      "Iteration=13, theta_new=[-0.33454122 -1.57078486], -likelihood = -375.50145\n",
      "Iteration=14, theta_new=[-0.33567519 -1.57075153], -likelihood = -375.50799\n",
      "Iteration=15, theta_new=[-0.33674582 -1.57080872], -likelihood = -375.51331\n",
      "Iteration=16, theta_new=[-0.33774153 -1.57081201], -likelihood = -375.51760\n",
      "Iteration=17, theta_new=[-0.33868701 -1.57081621], -likelihood = -375.52097\n",
      "Iteration=18, theta_new=[-0.33958337 -1.57076709], -likelihood = -375.52362\n",
      "Iteration=19, theta_new=[-0.34044976 -1.57076303], -likelihood = -375.52563\n",
      "Iteration=20, theta_new=[-0.34127129 -1.57082879], -likelihood = -375.52713\n",
      "3-th start\n",
      "Iteration=1, theta_new=[ 1.73592924 -3.00304955], -likelihood = -349.00736\n",
      "Iteration=2, theta_new=[ 1.78195161 -2.99679545], -likelihood = -352.30903\n",
      "Iteration=3, theta_new=[ 1.81209596 -2.98975061], -likelihood = -354.66854\n",
      "Iteration=4, theta_new=[ 1.83342601 -2.98190054], -likelihood = -356.47523\n",
      "Iteration=5, theta_new=[ 1.84905741 -2.97330217], -likelihood = -357.99385\n",
      "Iteration=6, theta_new=[ 1.86089958 -2.96402126], -likelihood = -359.38185\n",
      "Iteration=7, theta_new=[ 1.86999177 -2.95424366], -likelihood = -360.73336\n",
      "Iteration=8, theta_new=[ 1.87715489 -2.94403232], -likelihood = -362.07632\n",
      "Iteration=9, theta_new=[ 1.88290108 -2.9335945 ], -likelihood = -363.42604\n",
      "Iteration=10, theta_new=[ 1.88777191 -2.92315936], -likelihood = -364.76036\n",
      "Iteration=11, theta_new=[ 1.8919239  -2.91286469], -likelihood = -366.04824\n",
      "Iteration=12, theta_new=[ 1.89558052 -2.90280154], -likelihood = -367.26336\n",
      "Iteration=13, theta_new=[ 1.89883838 -2.89310893], -likelihood = -368.38915\n",
      "Iteration=14, theta_new=[ 1.90188361 -2.88391395], -likelihood = -369.40717\n",
      "Iteration=15, theta_new=[ 1.90463886 -2.87518407], -likelihood = -370.30748\n",
      "Iteration=16, theta_new=[ 1.90718166 -2.86700056], -likelihood = -371.09677\n",
      "Iteration=17, theta_new=[ 1.90955073 -2.8593579 ], -likelihood = -371.77580\n",
      "Iteration=18, theta_new=[ 1.91178424 -2.8522511 ], -likelihood = -372.35445\n",
      "Iteration=19, theta_new=[ 1.91383337 -2.84562987], -likelihood = -372.84301\n",
      "Iteration=20, theta_new=[ 1.91575341 -2.83956557], -likelihood = -373.25373\n",
      "4-th start\n",
      "Iteration=1, theta_new=[-0.29671383 -1.90569537], -likelihood = -327.57398\n",
      "Iteration=2, theta_new=[-0.29938903 -1.82139926], -likelihood = -348.37454\n",
      "Iteration=3, theta_new=[-0.30213765 -1.72328257], -likelihood = -362.91976\n",
      "Iteration=4, theta_new=[-0.30502788 -1.57077041], -likelihood = -372.34723\n",
      "Iteration=5, theta_new=[-0.30796349 -1.57082231], -likelihood = -375.06420\n",
      "Iteration=6, theta_new=[-0.31070466 -1.57080527], -likelihood = -375.13642\n",
      "Iteration=7, theta_new=[-0.31326366 -1.57080358], -likelihood = -375.19800\n",
      "Iteration=8, theta_new=[-0.31565788 -1.57081629], -likelihood = -375.25044\n",
      "Iteration=9, theta_new=[-0.31790402 -1.5708267 ], -likelihood = -375.29517\n",
      "Iteration=10, theta_new=[-0.32000349 -1.57082804], -likelihood = -375.33335\n",
      "Iteration=11, theta_new=[-0.32196502 -1.5707659 ], -likelihood = -375.36580\n",
      "Iteration=12, theta_new=[-0.32381481 -1.57072848], -likelihood = -375.39330\n",
      "Iteration=13, theta_new=[-0.32554651 -1.57079917], -likelihood = -375.41680\n",
      "Iteration=14, theta_new=[-0.32717042 -1.57077033], -likelihood = -375.43668\n",
      "Iteration=15, theta_new=[-0.32870211 -1.57077159], -likelihood = -375.45347\n",
      "Iteration=16, theta_new=[-0.33015881 -1.5708084 ], -likelihood = -375.46771\n",
      "Iteration=17, theta_new=[-0.33151614 -1.57077687], -likelihood = -375.47981\n",
      "Iteration=18, theta_new=[-0.3328178  -1.57080479], -likelihood = -375.48985\n",
      "Iteration=19, theta_new=[-0.33404377 -1.57080589], -likelihood = -375.49836\n",
      "Iteration=20, theta_new=[-0.33518778 -1.57077238], -likelihood = -375.50540\n",
      "5-th start\n",
      "Iteration=1, theta_new=[-2.95635275 -2.76355343], -likelihood = -154.62014\n",
      "Iteration=2, theta_new=[-2.98290238 -2.74058889], -likelihood = -182.96258\n",
      "Iteration=3, theta_new=[-3.00086606 -2.72585942], -likelihood = -191.98202\n",
      "Iteration=4, theta_new=[-3.01410561 -2.71605796], -likelihood = -195.49842\n",
      "Iteration=5, theta_new=[-3.0246984  -2.70952365], -likelihood = -197.10707\n",
      "Iteration=6, theta_new=[-3.03361201 -2.70518847], -likelihood = -197.96673\n",
      "Iteration=7, theta_new=[-3.04156811 -2.70239857], -likelihood = -198.50520\n",
      "Iteration=8, theta_new=[-3.04897357 -2.70074502], -likelihood = -198.91184\n",
      "Iteration=9, theta_new=[-3.05608062 -2.69993132], -likelihood = -199.27317\n",
      "Iteration=10, theta_new=[-3.06303659 -2.69982162], -likelihood = -199.63310\n",
      "Iteration=11, theta_new=[-3.07008459 -2.70021538], -likelihood = -200.01829\n",
      "Iteration=12, theta_new=[-3.07738299 -2.70104826], -likelihood = -200.45195\n",
      "Iteration=13, theta_new=[-3.08504066 -2.70217483], -likelihood = -200.95639\n",
      "Iteration=14, theta_new=[-3.0931458  -2.70358148], -likelihood = -201.54981\n",
      "Iteration=15, theta_new=[-3.10191534 -2.70518607], -likelihood = -202.25880\n",
      "Iteration=16, theta_new=[-3.11155933 -2.70694867], -likelihood = -203.12613\n",
      "Iteration=17, theta_new=[-3.12219335 -2.70872406], -likelihood = -204.21296\n",
      "Iteration=18, theta_new=[-3.1341689  -2.71050674], -likelihood = -205.58851\n",
      "Iteration=19, theta_new=[-3.14777218 -2.71219167], -likelihood = -207.39249\n",
      "Iteration=20, theta_new=[-3.16333368 -2.713638  ], -likelihood = -209.81372\n",
      "6-th start\n",
      "Iteration=1, theta_new=[2.41236629 1.76060445], -likelihood = -391.06450\n",
      "Iteration=2, theta_new=[2.42946371 1.76885193], -likelihood = -393.35125\n",
      "Iteration=3, theta_new=[2.44837777 1.77979715], -likelihood = -396.13173\n",
      "Iteration=4, theta_new=[2.46950976 1.79263931], -likelihood = -399.61642\n",
      "Iteration=5, theta_new=[2.49313751 1.80683615], -likelihood = -404.05065\n",
      "Iteration=6, theta_new=[2.51919928 1.82173233], -likelihood = -409.70279\n",
      "Iteration=7, theta_new=[2.54726305 1.83673648], -likelihood = -416.76942\n",
      "Iteration=8, theta_new=[2.57651448 1.85100718], -likelihood = -425.28027\n",
      "Iteration=9, theta_new=[2.60585991 1.86384356], -likelihood = -434.98080\n",
      "Iteration=10, theta_new=[2.63417001 1.87471169], -likelihood = -445.31309\n",
      "Iteration=11, theta_new=[2.66048405 1.88335342], -likelihood = -455.53756\n",
      "Iteration=12, theta_new=[2.68427023 1.88983157], -likelihood = -464.93931\n",
      "Iteration=13, theta_new=[2.70528273 1.89438451], -likelihood = -473.05875\n",
      "Iteration=14, theta_new=[2.72351706 1.89728515], -likelihood = -479.70000\n",
      "Iteration=15, theta_new=[2.73913129 1.89904496], -likelihood = -484.89645\n",
      "Iteration=16, theta_new=[2.7523626  1.89995395], -likelihood = -488.82300\n",
      "Iteration=17, theta_new=[2.76350574 1.90023301], -likelihood = -491.71012\n",
      "Iteration=18, theta_new=[2.77293352 1.9000706 ], -likelihood = -493.79335\n",
      "Iteration=19, theta_new=[2.78075707 1.89974345], -likelihood = -495.28790\n",
      "Iteration=20, theta_new=[2.78733415 1.89932345], -likelihood = -496.33090\n",
      "7-th start\n",
      "Iteration=1, theta_new=[ 1.25937011 -0.87673237], -likelihood = -361.49035\n",
      "Iteration=2, theta_new=[ 1.2293464  -0.87200501], -likelihood = -365.13904\n",
      "Iteration=3, theta_new=[ 1.2085755  -0.87075212], -likelihood = -366.95907\n",
      "Iteration=4, theta_new=[ 1.1934992  -0.87197299], -likelihood = -367.91105\n",
      "Iteration=5, theta_new=[ 1.18204604 -0.87501025], -likelihood = -368.43045\n",
      "Iteration=6, theta_new=[ 1.17293774 -0.87934191], -likelihood = -368.73123\n",
      "Iteration=7, theta_new=[ 1.1653646  -0.88473367], -likelihood = -368.92097\n",
      "Iteration=8, theta_new=[ 1.15878804 -0.89103281], -likelihood = -369.05260\n",
      "Iteration=9, theta_new=[ 1.15278772 -0.89802187], -likelihood = -369.15419\n",
      "Iteration=10, theta_new=[ 1.14717549 -0.90562725], -likelihood = -369.24315\n",
      "Iteration=11, theta_new=[ 1.14175565 -0.91380231], -likelihood = -369.32675\n",
      "Iteration=12, theta_new=[ 1.13639779 -0.9224599 ], -likelihood = -369.41090\n",
      "Iteration=13, theta_new=[ 1.13105309 -0.93158677], -likelihood = -369.49979\n",
      "Iteration=14, theta_new=[ 1.12565107 -0.94117978], -likelihood = -369.59509\n",
      "Iteration=15, theta_new=[ 1.1201631  -0.95117406], -likelihood = -369.69901\n",
      "Iteration=16, theta_new=[ 1.11456833 -0.96149936], -likelihood = -369.81303\n",
      "Iteration=17, theta_new=[ 1.10884808 -0.97216309], -likelihood = -369.93841\n",
      "Iteration=18, theta_new=[ 1.10294301 -0.98314693], -likelihood = -370.07597\n",
      "Iteration=19, theta_new=[ 1.09693023 -0.99432567], -likelihood = -370.22811\n",
      "Iteration=20, theta_new=[ 1.09080045 -1.00577295], -likelihood = -370.39288\n",
      "8-th start\n",
      "Iteration=1, theta_new=[1.27665004 2.56070441], -likelihood = -409.02801\n",
      "Iteration=2, theta_new=[1.26817622 2.59036036], -likelihood = -418.74901\n",
      "Iteration=3, theta_new=[1.2596429  2.61969056], -likelihood = -429.63966\n",
      "Iteration=4, theta_new=[1.25225402 2.64754976], -likelihood = -440.95127\n",
      "Iteration=5, theta_new=[1.24652673 2.67307809], -likelihood = -451.80132\n",
      "Iteration=6, theta_new=[1.2425503  2.69576943], -likelihood = -461.46479\n",
      "Iteration=7, theta_new=[1.24016447 2.71552912], -likelihood = -469.52730\n",
      "Iteration=8, theta_new=[1.23901781 2.7324568 ], -likelihood = -475.92376\n",
      "Iteration=9, theta_new=[1.23877286 2.74679584], -likelihood = -480.79632\n",
      "Iteration=10, theta_new=[1.23912991 2.7588929 ], -likelihood = -484.39759\n",
      "Iteration=11, theta_new=[1.23988019 2.76899969], -likelihood = -487.00994\n",
      "Iteration=12, theta_new=[1.24080399 2.77741947], -likelihood = -488.86613\n",
      "Iteration=13, theta_new=[1.24179314 2.78443807], -likelihood = -490.17071\n",
      "Iteration=14, theta_new=[1.24282834 2.79030439], -likelihood = -491.08253\n",
      "Iteration=15, theta_new=[1.24381246 2.79517079], -likelihood = -491.71822\n",
      "Iteration=16, theta_new=[1.24470801 2.79922765], -likelihood = -492.15595\n",
      "Iteration=17, theta_new=[1.24550608 2.80255866], -likelihood = -492.45762\n",
      "Iteration=18, theta_new=[1.24622977 2.80534974], -likelihood = -492.66178\n",
      "Iteration=19, theta_new=[1.24689357 2.80764865], -likelihood = -492.80231\n",
      "Iteration=20, theta_new=[1.24741277 2.80955098], -likelihood = -492.89697\n",
      "9-th start\n",
      "Iteration=1, theta_new=[ 1.8037526  -1.45356855], -likelihood = -302.07181\n",
      "Iteration=2, theta_new=[ 1.92438597 -1.39968413], -likelihood = -312.46765\n",
      "Iteration=3, theta_new=[ 2.01228378 -1.33017874], -likelihood = -331.29698\n",
      "Iteration=4, theta_new=[ 2.06775674 -1.28545201], -likelihood = -350.65679\n",
      "Iteration=5, theta_new=[ 2.10314378 -1.26031566], -likelihood = -361.99274\n",
      "Iteration=6, theta_new=[ 2.12699504 -1.2469429 ], -likelihood = -367.75237\n",
      "Iteration=7, theta_new=[ 2.14387759 -1.2407435 ], -likelihood = -370.78248\n",
      "Iteration=8, theta_new=[ 2.15643264 -1.23896903], -likelihood = -372.48673\n",
      "Iteration=9, theta_new=[ 2.16622076 -1.24001718], -likelihood = -373.52457\n",
      "Iteration=10, theta_new=[ 2.17412606 -1.24283701], -likelihood = -374.20843\n",
      "Iteration=11, theta_new=[ 2.18078841 -1.246697  ], -likelihood = -374.69055\n",
      "Iteration=12, theta_new=[ 2.18661431 -1.25128935], -likelihood = -375.05703\n",
      "Iteration=13, theta_new=[ 2.19180485 -1.25628727], -likelihood = -375.35234\n",
      "Iteration=14, theta_new=[ 2.19659478 -1.26153046], -likelihood = -375.60019\n",
      "Iteration=15, theta_new=[ 2.2010035  -1.26688075], -likelihood = -375.82003\n",
      "Iteration=16, theta_new=[ 2.20521588 -1.27226904], -likelihood = -376.01631\n",
      "Iteration=17, theta_new=[ 2.20923298 -1.27766043], -likelihood = -376.20157\n",
      "Iteration=18, theta_new=[ 2.21310233 -1.28297093], -likelihood = -376.37669\n",
      "Iteration=19, theta_new=[ 2.21682595 -1.28824784], -likelihood = -376.54562\n",
      "Iteration=20, theta_new=[ 2.22042676 -1.29343912], -likelihood = -376.70813\n"
     ]
    }
   ],
   "source": [
    "est_theta2, neglhd_2, K2, mu2 = multi_start(10, X2, GS_2, GN_2, max_iter=20, eps=1e-6)"
   ]
  },
  {
   "cell_type": "code",
   "execution_count": 8,
   "id": "61a3038f-0338-4543-b350-c3c7d3ff3fa4",
   "metadata": {},
   "outputs": [
    {
     "name": "stdout",
     "output_type": "stream",
     "text": [
      "Погрешность в смысле разности углов: [0.04154407 0.02692392].\n",
      "Погрешность в смысле разности синусов углов [0.03932254 0.00886684].\n"
     ]
    }
   ],
   "source": [
    "print(f\"Погрешность в смысле разности углов: {np.abs(est_theta2-theta2)}.\\nПогрешность в смысле разности синусов углов {np.abs(np.sin(est_theta2)-np.sin(theta2))}.\")"
   ]
  },
  {
   "cell_type": "markdown",
   "id": "a9b0aff0-70f1-4222-aa8c-0e9440273cac",
   "metadata": {},
   "source": [
    "## Теперь имеет смысл определить примерный вид функции, оптимизируемой на М-шаге:"
   ]
  },
  {
   "cell_type": "code",
   "execution_count": 9,
   "id": "569d6c62-4af5-465c-98cd-1ef1ed941d93",
   "metadata": {},
   "outputs": [],
   "source": [
    "W1, W2 = goal_function(X1, GS_1, GN_2, 50)"
   ]
  },
  {
   "cell_type": "code",
   "execution_count": 10,
   "id": "6bbeb039-2000-4761-91f0-0626a1e76545",
   "metadata": {},
   "outputs": [
    {
     "data": {
      "text/plain": [
       "[<matplotlib.lines.Line2D at 0x1bf5047dd80>]"
      ]
     },
     "execution_count": 10,
     "metadata": {},
     "output_type": "execute_result"
    },
    {
     "data": {
      "image/png": "[encoded data removed]",
      "text/plain": [
       "<Figure size 640x480 with 1 Axes>"
      ]
     },
     "metadata": {},
     "output_type": "display_data"
    }
   ],
   "source": [
    "plt.title(\"График функции, подлежащей максимизации, на первом шаге ЕМ-алгоритма\")\n",
    "plt.plot(rad_to_deg(W1), W2.real, color='green')"
   ]
  },
  {
   "cell_type": "code",
   "execution_count": 11,
   "id": "80bb5e8c-72b3-47b0-bfb5-2eaff580b0e2",
   "metadata": {},
   "outputs": [],
   "source": [
    "# Переведем оценку угла прибытия в градусы\n",
    "est_theta1_degree = rad_to_deg(est_theta1[0])"
   ]
  },
  {
   "cell_type": "code",
   "execution_count": 12,
   "id": "e3bea335-9996-4c65-9118-ef5dd9f4fd0c",
   "metadata": {},
   "outputs": [
    {
     "data": {
      "text/plain": [
       "150.65424103942578"
      ]
     },
     "execution_count": 12,
     "metadata": {},
     "output_type": "execute_result"
    }
   ],
   "source": [
    "est_theta1_degree"
   ]
  },
  {
   "cell_type": "markdown",
   "id": "058b2116-7c25-4c58-951c-05eaf5af366a",
   "metadata": {},
   "source": [
    "Ввиду того, что синус симметричен относительно $\\pi/2$, а синус используется в управляющих векторах, происходит такое искажение оценки, т.е. она симметрична относительно точки в окрестности истинного DOA."
   ]
  },
  {
   "cell_type": "code",
   "execution_count": 13,
   "id": "5389f048-c2a3-4744-a6d2-9830d5f4bc31",
   "metadata": {},
   "outputs": [],
   "source": [
    "if est_theta1_degree > 90:\n",
    "    est_theta1_degree = 90-(est_theta1_degree-90)"
   ]
  },
  {
   "cell_type": "code",
   "execution_count": 14,
   "id": "c73894b0-a1ac-45b0-ab0f-755e05a9c767",
   "metadata": {},
   "outputs": [
    {
     "data": {
      "text/plain": [
       "29.345758960574216"
      ]
     },
     "execution_count": 14,
     "metadata": {},
     "output_type": "execute_result"
    }
   ],
   "source": [
    "est_theta1_degree"
   ]
  },
  {
   "cell_type": "markdown",
   "id": "f5bf903c-2305-453b-88e0-3ef3873c4e3d",
   "metadata": {},
   "source": [
    "Теперь проведем сравнение с **CAPON**:"
   ]
  },
  {
   "cell_type": "code",
   "execution_count": 15,
   "id": "239a86cc-297f-4977-b5df-807f5e85c2f5",
   "metadata": {},
   "outputs": [],
   "source": [
    "R = space_covariance_matrix(X1)\n",
    "angles = np.linspace(-1*np.pi, np.pi, 1000)\n",
    "Powers = []\n",
    "for angle in angles:\n",
    "    a = steering_vector(dist_ratio, angle, 5)\n",
    "    Powers.append(capon_func(a,R).real)"
   ]
  },
  {
   "cell_type": "code",
   "execution_count": 16,
   "id": "936a4bf3-3d76-41cc-9602-ec56fe0ab98a",
   "metadata": {},
   "outputs": [
    {
     "data": {
      "text/plain": [
       "29.369369369369345"
      ]
     },
     "execution_count": 16,
     "metadata": {},
     "output_type": "execute_result"
    }
   ],
   "source": [
    "angles[np.argmax(Powers)]*180/np.pi"
   ]
  },
  {
   "cell_type": "code",
   "execution_count": 17,
   "id": "e770ca17-1eec-4d86-a66a-90bea148bfa8",
   "metadata": {},
   "outputs": [
    {
     "data": {
      "image/png": "[encoded data removed]",
      "text/plain": [
       "<Figure size 640x480 with 1 Axes>"
      ]
     },
     "metadata": {},
     "output_type": "display_data"
    }
   ],
   "source": [
    "plt.title(\"График мощности для CAPON\")\n",
    "plt.plot(angles*180/np.pi, Powers) \n",
    "plt.xlabel(\"Angle\")\n",
    "plt.ylabel(\"Power\")\n",
    "plt.grid()\n",
    "plt.show()"
   ]
  },
  {
   "cell_type": "code",
   "execution_count": 18,
   "id": "e8d8db39-2781-4331-88be-f49b76683ad5",
   "metadata": {},
   "outputs": [],
   "source": [
    "angles_near = np.linspace(0.5-0.1, 0.5+0.1, 100)\n",
    "Powers_near = []\n",
    "for angle in angles_near:\n",
    "    a = steering_vector(dist_ratio, angle, 5)\n",
    "    Powers_near.append(capon_func(a,R).real)"
   ]
  },
  {
   "cell_type": "code",
   "execution_count": 19,
   "id": "7b12f14b-8fa5-49b0-b85c-ed62670ded2c",
   "metadata": {},
   "outputs": [
    {
     "data": {
      "image/png": "[encoded data removed]",
      "text/plain": [
       "<Figure size 640x480 with 1 Axes>"
      ]
     },
     "metadata": {},
     "output_type": "display_data"
    }
   ],
   "source": [
    "plt.title(\"График мощности для CAPON на отрезке\")\n",
    "plt.plot(rad_to_deg(angles_near), Powers_near) \n",
    "plt.xlabel(\"Angle\")\n",
    "plt.ylabel(\"Power\")\n",
    "plt.grid()\n",
    "plt.show()"
   ]
  },
  {
   "cell_type": "markdown",
   "id": "0a636a91-b54b-471c-a31f-eb50753fa7b6",
   "metadata": {},
   "source": [
    "# Оценка **CAPON** в градусах"
   ]
  },
  {
   "cell_type": "code",
   "execution_count": 20,
   "id": "74a126de-59cd-4d5f-9e07-aad711d8378e",
   "metadata": {},
   "outputs": [],
   "source": [
    "capon_theta1_degree = rad_to_deg(angles_near[np.argmax(Powers_near)])"
   ]
  },
  {
   "cell_type": "code",
   "execution_count": 21,
   "id": "503aa5f2-2202-4daa-9fee-12f7a1338110",
   "metadata": {},
   "outputs": [
    {
     "data": {
      "text/plain": [
       "29.40025857843012"
      ]
     },
     "execution_count": 21,
     "metadata": {},
     "output_type": "execute_result"
    }
   ],
   "source": [
    "capon_theta1_degree"
   ]
  },
  {
   "cell_type": "code",
   "execution_count": 22,
   "id": "14332101-6409-470a-8cbf-50646436c490",
   "metadata": {},
   "outputs": [
    {
     "data": {
      "text/plain": [
       "29.345758960574216"
      ]
     },
     "execution_count": 22,
     "metadata": {},
     "output_type": "execute_result"
    }
   ],
   "source": [
    "# ЕМ-оценка\n",
    "est_theta1_degree"
   ]
  },
  {
   "cell_type": "code",
   "execution_count": 23,
   "id": "fe8269c3-8ced-48c3-873d-9aa41fc5a1a1",
   "metadata": {},
   "outputs": [
    {
     "data": {
      "text/plain": [
       "28.64788975654116"
      ]
     },
     "execution_count": 23,
     "metadata": {},
     "output_type": "execute_result"
    }
   ],
   "source": [
    "# Истинное значение\n",
    "theta1_degree"
   ]
  }
 ],
 "metadata": {
  "kernelspec": {
   "display_name": "Python 3 (ipykernel)",
   "language": "python",
   "name": "python3"
  },
  "language_info": {
   "codemirror_mode": {
    "name": "ipython",
    "version": 3
   },
   "file_extension": ".py",
   "mimetype": "text/x-python",
   "name": "python",
   "nbconvert_exporter": "python",
   "pygments_lexer": "ipython3",
   "version": "3.10.9"
  }
 },
 "nbformat": 4,
 "nbformat_minor": 5
}
