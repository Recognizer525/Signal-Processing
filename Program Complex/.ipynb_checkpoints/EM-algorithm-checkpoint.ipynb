{
 "cells": [
  {
   "cell_type": "code",
   "execution_count": 1,
   "id": "c9413b81-cfa1-46d3-92cb-3cfb0d1df8ea",
   "metadata": {},
   "outputs": [],
   "source": [
    "import numpy as np\n",
    "import matplotlib.pyplot as plt\n",
    "from sensors import *\n",
    "from functools import partial"
   ]
  },
  {
   "cell_type": "code",
   "execution_count": 2,
   "id": "1759ce5b-8986-420c-8f87-54925b3f1a87",
   "metadata": {},
   "outputs": [],
   "source": [
    "# Отношение расстояния между датчиками к длине волны\n",
    "dist_ratio = 0.5"
   ]
  },
  {
   "cell_type": "code",
   "execution_count": 3,
   "id": "01600988-c703-45e9-a505-a3e7b372cdc5",
   "metadata": {},
   "outputs": [],
   "source": [
    "Num_sensors1 = 5\n",
    "Num_emitters1 = 1\n",
    "sample_size1 = 100\n",
    "theta1 = [0.5] # Направление прибытия (DOA) в радианах\n",
    "GS_1 = np.array([[0.7]]) # Ковариация сигнала\n",
    "GN_1 = 0.3*np.eye(5, dtype=np.float64) # Ковариация шума"
   ]
  },
  {
   "cell_type": "code",
   "execution_count": 4,
   "id": "33564dd6-9b2c-49d1-b056-21c6554bf883",
   "metadata": {},
   "outputs": [],
   "source": [
    "A1 = np.exp(-2j * np.pi * dist_ratio * np.arange(Num_sensors1).reshape(-1,1) * np.sin(theta1).reshape(1,-1))"
   ]
  },
  {
   "cell_type": "code",
   "execution_count": 5,
   "id": "23ddbe3c-d569-49ac-9d1b-319cb8cb94c5",
   "metadata": {},
   "outputs": [
    {
     "data": {
      "text/plain": [
       "array([[ 1.        +0.j        ],\n",
       "       [ 0.06459158-0.99791178j],\n",
       "       [-0.99165586-0.1289134j ],\n",
       "       [-0.19269681+0.98125834j],\n",
       "       [ 0.96676267+0.25567545j]])"
      ]
     },
     "execution_count": 5,
     "metadata": {},
     "output_type": "execute_result"
    }
   ],
   "source": [
    "A1"
   ]
  },
  {
   "cell_type": "code",
   "execution_count": 6,
   "id": "3f05461d-6601-42e5-b997-1a433d7c9a0c",
   "metadata": {},
   "outputs": [],
   "source": [
    "s1 = CN(Num_emitters1, sample_size1, GS_1)\n",
    "n1 = CN(Num_sensors1, sample_size1, GN_1)\n",
    "X1 = (A1 @ s1.T + n1.T).T"
   ]
  },
  {
   "cell_type": "code",
   "execution_count": 7,
   "id": "7a683c4f-1aa8-4df9-b43a-6be739860290",
   "metadata": {},
   "outputs": [
    {
     "name": "stdout",
     "output_type": "stream",
     "text": [
      "(100, 5)\n"
     ]
    }
   ],
   "source": [
    "print(X1.shape)"
   ]
  },
  {
   "cell_type": "code",
   "execution_count": 8,
   "id": "8d540c1b-76ae-4e24-9f02-b04619d7c550",
   "metadata": {},
   "outputs": [
    {
     "name": "stdout",
     "output_type": "stream",
     "text": [
      "Iteration=1, theta_new=[1.47680864], -likelihood = -140.12669383774434\n",
      "Iteration=2, theta_new=[1.5707677], -likelihood = -158.2773028061996\n",
      "norm=0.0\n",
      "Iteration=3, theta_new=[1.5707677], -likelihood = -158.64801452397955\n",
      "Iteration=1, theta_new=[-1.24914514], -likelihood = -180.28599333129824\n",
      "Iteration=2, theta_new=[-1.22297897], -likelihood = -182.90437996138647\n",
      "Iteration=3, theta_new=[-1.20691542], -likelihood = -184.01590712377643\n",
      "Iteration=4, theta_new=[-1.19666136], -likelihood = -184.49434686180984\n",
      "Iteration=5, theta_new=[-1.19000025], -likelihood = -184.70477606653407\n",
      "Iteration=6, theta_new=[-1.18558424], -likelihood = -184.79814861526603\n",
      "Iteration=7, theta_new=[-1.18268974], -likelihood = -184.84021248141516\n",
      "Iteration=8, theta_new=[-1.18072629], -likelihood = -184.85891118996707\n",
      "Iteration=9, theta_new=[-1.17940028], -likelihood = -184.86750811725494\n",
      "Iteration=10, theta_new=[-1.17853646], -likelihood = -184.8714199454403\n",
      "Iteration=11, theta_new=[-1.17796101], -likelihood = -184.87313811320186\n",
      "Iteration=12, theta_new=[-1.17755838], -likelihood = -184.87391777540708\n",
      "Iteration=13, theta_new=[-1.17727089], -likelihood = -184.87428805689296\n",
      "Iteration=14, theta_new=[-1.17709844], -likelihood = -184.87446517541156\n",
      "Iteration=15, theta_new=[-1.17698349], -likelihood = -184.87453579619043\n",
      "Iteration=16, theta_new=[-1.17692602], -likelihood = -184.87456697761579\n",
      "Iteration=17, theta_new=[-1.17686855], -likelihood = -184.87457989271567\n",
      "Iteration=18, theta_new=[-1.17681109], -likelihood = -184.87458859118496\n",
      "norm=0.0\n",
      "Iteration=19, theta_new=[-1.17681109], -likelihood = -184.874593275499\n",
      "Iteration=1, theta_new=[1.57081652], -likelihood = -156.67827368602119\n",
      "norm=0.0\n",
      "Iteration=2, theta_new=[1.57081652], -likelihood = -158.6480146583617\n",
      "Iteration=1, theta_new=[2.6293393], -likelihood = -1488.3790779108408\n",
      "Iteration=2, theta_new=[2.63299829], -likelihood = -1490.6432018256266\n",
      "Iteration=3, theta_new=[2.6355053], -likelihood = -1491.7156683770754\n",
      "Iteration=4, theta_new=[2.63717823], -likelihood = -1492.219838263012\n",
      "Iteration=5, theta_new=[2.63836933], -likelihood = -1492.4514242388993\n",
      "Iteration=6, theta_new=[2.63914229], -likelihood = -1492.5648712730658\n",
      "Iteration=7, theta_new=[2.63972218], -likelihood = -1492.6156253884983\n",
      "Iteration=8, theta_new=[2.64010886], -likelihood = -1492.6418428973964\n",
      "Iteration=9, theta_new=[2.64036668], -likelihood = -1492.6536591513845\n",
      "Iteration=10, theta_new=[2.64052784], -likelihood = -1492.6590058185977\n",
      "Iteration=11, theta_new=[2.64065677], -likelihood = -1492.6613413559824\n",
      "Iteration=12, theta_new=[2.64075348], -likelihood = -1492.6626255464903\n",
      "Iteration=13, theta_new=[2.64081795], -likelihood = -1492.663267801677\n",
      "Iteration=14, theta_new=[2.64088242], -likelihood = -1492.6634817979789\n",
      "norm=0.0\n",
      "Iteration=15, theta_new=[2.64088242], -likelihood = -1492.6636767316754\n",
      "Iteration=1, theta_new=[0.35651366], -likelihood = -903.4573740384652\n",
      "Iteration=2, theta_new=[0.39996376], -likelihood = -1180.094507642053\n",
      "Iteration=3, theta_new=[0.43074222], -likelihood = -1336.50925928028\n",
      "Iteration=4, theta_new=[0.45227933], -likelihood = -1416.9590020482801\n",
      "Iteration=5, theta_new=[0.46729642], -likelihood = -1456.4644381411044\n",
      "Iteration=6, theta_new=[0.47770107], -likelihood = -1475.5072036529275\n",
      "Iteration=7, theta_new=[0.48488524], -likelihood = -1484.567058478156\n",
      "Iteration=8, theta_new=[0.48980986], -likelihood = -1488.8517800888735\n",
      "Iteration=9, theta_new=[0.49325384], -likelihood = -1490.8634984024814\n",
      "Iteration=10, theta_new=[0.49556596], -likelihood = -1491.825821060403\n",
      "Iteration=11, theta_new=[0.4972114], -likelihood = -1492.2672245288145\n",
      "Iteration=12, theta_new=[0.49827962], -likelihood = -1492.4818848853067\n",
      "Iteration=13, theta_new=[0.49900953], -likelihood = -1492.5769039177476\n",
      "Iteration=14, theta_new=[0.49954557], -likelihood = -1492.6218446306193\n",
      "Iteration=15, theta_new=[0.49988706], -likelihood = -1492.644522650873\n",
      "Iteration=16, theta_new=[0.50017996], -likelihood = -1492.654274850735\n",
      "Iteration=17, theta_new=[0.50037534], -likelihood = -1492.6599633585422\n",
      "Iteration=18, theta_new=[0.50047307], -likelihood = -1492.6623962878587\n",
      "Iteration=19, theta_new=[0.50052195], -likelihood = -1492.6631156578171\n",
      "norm=0.0\n",
      "Iteration=20, theta_new=[0.50052195], -likelihood = -1492.6632455934598\n",
      "Iteration=1, theta_new=[2.84611877], -likelihood = -506.5851651464331\n",
      "Iteration=2, theta_new=[2.78573602], -likelihood = -898.9965110407322\n",
      "Iteration=3, theta_new=[2.74207288], -likelihood = -1177.3955445765182\n",
      "Iteration=4, theta_new=[2.7111777], -likelihood = -1335.1522865798127\n",
      "Iteration=5, theta_new=[2.68953328], -likelihood = -1416.2495822935548\n",
      "Iteration=6, theta_new=[2.67449659], -likelihood = -1456.13322572831\n",
      "Iteration=7, theta_new=[2.66404933], -likelihood = -1475.2995586963357\n",
      "Iteration=8, theta_new=[2.65682986], -likelihood = -1484.4549663493156\n",
      "Iteration=9, theta_new=[2.65183534], -likelihood = -1488.7921546293528\n",
      "Iteration=10, theta_new=[2.64843638], -likelihood = -1490.846107588707\n",
      "Iteration=11, theta_new=[2.64610865], -likelihood = -1491.8035515299605\n",
      "Iteration=12, theta_new=[2.64449359], -likelihood = -1492.2545019651884\n",
      "Iteration=13, theta_new=[2.64339602], -likelihood = -1492.4698547748485\n",
      "Iteration=14, theta_new=[2.64262159], -likelihood = -1492.5707916525907\n",
      "Iteration=15, theta_new=[2.6420732], -likelihood = -1492.6198811275015\n",
      "Iteration=16, theta_new=[2.64168617], -likelihood = -1492.6435850437765\n",
      "Iteration=17, theta_new=[2.64146044], -likelihood = -1492.6548608097764\n",
      "Iteration=18, theta_new=[2.64126698], -likelihood = -1492.6592901170295\n",
      "Iteration=19, theta_new=[2.64113801], -likelihood = -1492.6618890730028\n",
      "Iteration=20, theta_new=[2.64107353], -likelihood = -1492.6630103726955\n",
      "Iteration=1, theta_new=[2.34312349], -likelihood = -245.7149489331647\n",
      "Iteration=2, theta_new=[2.44454825], -likelihood = -672.5463450519229\n",
      "Iteration=3, theta_new=[2.50960092], -likelihood = -1044.4774430857778\n",
      "Iteration=4, theta_new=[2.5523058], -likelihood = -1267.0839907089355\n",
      "Iteration=5, theta_new=[2.58078245], -likelihood = -1383.3057912419526\n",
      "Iteration=6, theta_new=[2.5999367], -likelihood = -1440.53553900264\n",
      "Iteration=7, theta_new=[2.61294908], -likelihood = -1467.974033944498\n",
      "Iteration=8, theta_new=[2.62181626], -likelihood = -1481.0281371813758\n",
      "Iteration=9, theta_new=[2.62783313], -likelihood = -1487.196810402592\n",
      "Iteration=10, theta_new=[2.63193912], -likelihood = -1490.0863571180616\n",
      "Iteration=11, theta_new=[2.63476639], -likelihood = -1491.4462018959214\n",
      "Iteration=12, theta_new=[2.63669616], -likelihood = -1492.0908508986263\n",
      "Iteration=13, theta_new=[2.63804798], -likelihood = -1492.3933153002424\n",
      "Iteration=14, theta_new=[2.63894965], -likelihood = -1492.5385219628279\n",
      "Iteration=15, theta_new=[2.63959393], -likelihood = -1492.6046608981917\n",
      "Iteration=16, theta_new=[2.63998059], -likelihood = -1492.6368726336564\n",
      "Iteration=17, theta_new=[2.64030285], -likelihood = -1492.650199330754\n",
      "Iteration=18, theta_new=[2.64049623], -likelihood = -1492.657878287437\n",
      "Iteration=19, theta_new=[2.64062516], -likelihood = -1492.6609472359598\n",
      "Iteration=20, theta_new=[2.64068963], -likelihood = -1492.6623127879031\n",
      "Iteration=1, theta_new=[2.55684006], -likelihood = -1287.8572897440176\n",
      "Iteration=2, theta_new=[2.58380673], -likelihood = -1393.6297828727577\n",
      "Iteration=3, theta_new=[2.60197412], -likelihood = -1445.491781834547\n",
      "Iteration=4, theta_new=[2.61429793], -likelihood = -1470.3250379052206\n",
      "Iteration=5, theta_new=[2.62272291], -likelihood = -1482.1113476601051\n",
      "Iteration=6, theta_new=[2.62848573], -likelihood = -1487.6998696835071\n",
      "Iteration=7, theta_new=[2.63240022], -likelihood = -1490.3358737834558\n",
      "Iteration=8, theta_new=[2.63506733], -likelihood = -1491.5676203606306\n",
      "Iteration=9, theta_new=[2.63693297], -likelihood = -1492.145343204241\n",
      "Iteration=10, theta_new=[2.63815616], -likelihood = -1492.4227040537723\n",
      "Iteration=11, theta_new=[2.63899347], -likelihood = -1492.5476955590736\n",
      "Iteration=12, theta_new=[2.63957332], -likelihood = -1492.6072467553947\n",
      "Iteration=13, theta_new=[2.64002442], -likelihood = -1492.6360476993866\n",
      "Iteration=14, theta_new=[2.64028224], -likelihood = -1492.6514298256639\n",
      "Iteration=15, theta_new=[2.64047562], -likelihood = -1492.6574804556399\n",
      "Iteration=16, theta_new=[2.64060455], -likelihood = -1492.6606671568777\n",
      "Iteration=17, theta_new=[2.64073348], -likelihood = -1492.6621201607068\n",
      "Iteration=18, theta_new=[2.64079795], -likelihood = -1492.6631653184088\n",
      "Iteration=19, theta_new=[2.64086243], -likelihood = -1492.6634344591282\n",
      "Iteration=20, theta_new=[2.64089466], -likelihood = -1492.6636452590396\n",
      "Iteration=1, theta_new=[2.5054526], -likelihood = -1020.8766225906462\n",
      "Iteration=2, theta_new=[2.54955493], -likelihood = -1254.222014568913\n",
      "Iteration=3, theta_new=[2.57893456], -likelihood = -1376.8335765094816\n",
      "Iteration=4, theta_new=[2.59870472], -likelihood = -1437.3958859583272\n",
      "Iteration=5, theta_new=[2.6120916], -likelihood = -1466.4981159272136\n",
      "Iteration=6, theta_new=[2.62121096], -likelihood = -1480.312841389817\n",
      "Iteration=7, theta_new=[2.62741842], -likelihood = -1486.8476415811224\n",
      "Iteration=8, theta_new=[2.63168413], -likelihood = -1489.9212804385397\n",
      "Iteration=9, theta_new=[2.63457538], -likelihood = -1491.3763174877004\n",
      "Iteration=10, theta_new=[2.63656932], -likelihood = -1492.0548305099699\n",
      "Iteration=11, theta_new=[2.63792108], -likelihood = -1492.3768901879564\n",
      "Iteration=12, theta_new=[2.63888711], -likelihood = -1492.5272035775772\n",
      "Iteration=13, theta_new=[2.63953137], -likelihood = -1492.6009005663896\n",
      "Iteration=14, theta_new=[2.63998246], -likelihood = -1492.6343397080852\n",
      "Iteration=15, theta_new=[2.64030473], -likelihood = -1492.6502509122995\n",
      "Iteration=16, theta_new=[2.64049811], -likelihood = -1492.6579136102257\n",
      "Iteration=17, theta_new=[2.64062704], -likelihood = -1492.6609718362417\n",
      "Iteration=18, theta_new=[2.64069151], -likelihood = -1492.6623318363118\n",
      "Iteration=19, theta_new=[2.64075598], -likelihood = -1492.6628945235486\n",
      "Iteration=20, theta_new=[2.64082045], -likelihood = -1492.6632794292723\n",
      "Iteration=1, theta_new=[-2.29809319], -likelihood = -130.87342841156422\n",
      "Iteration=2, theta_new=[-2.28535718], -likelihood = -131.81330868709063\n",
      "Iteration=3, theta_new=[-2.26800498], -likelihood = -133.52968697226208\n",
      "Iteration=4, theta_new=[-2.24491518], -likelihood = -136.56322752563912\n",
      "Iteration=5, theta_new=[-2.21548355], -likelihood = -141.54929390343096\n",
      "Iteration=6, theta_new=[-2.180488], -likelihood = -148.81354031789516\n",
      "Iteration=7, theta_new=[-2.14242528], -likelihood = -157.71431861767923\n",
      "Iteration=8, theta_new=[-2.10497468], -likelihood = -166.60457134921106\n",
      "Iteration=9, theta_new=[-2.07131359], -likelihood = -173.8226347448611\n",
      "Iteration=10, theta_new=[-2.04329826], -likelihood = -178.74526985180938\n",
      "Iteration=11, theta_new=[-2.021249], -likelihood = -181.68287698517898\n",
      "Iteration=12, theta_new=[-2.00466844], -likelihood = -183.28587372254006\n",
      "Iteration=13, theta_new=[-1.99262869], -likelihood = -184.10678733704543\n",
      "Iteration=14, theta_new=[-1.98406661], -likelihood = -184.50972255589636\n",
      "Iteration=15, theta_new=[-1.97806016], -likelihood = -184.70307771853328\n",
      "Iteration=16, theta_new=[-1.973907], -likelihood = -184.7946089138523\n",
      "Iteration=17, theta_new=[-1.97101554], -likelihood = -184.83737106113497\n",
      "Iteration=18, theta_new=[-1.96899448], -likelihood = -184.8574786215105\n",
      "Iteration=19, theta_new=[-1.96764849], -likelihood = -184.86691822491795\n",
      "Iteration=20, theta_new=[-1.9667838], -likelihood = -184.87111871245864\n"
     ]
    }
   ],
   "source": [
    "est_theta1, neglhd_1 = multi_start(10, X1, GS_1, GN_1, max_iter=20, eps=1e-6)"
   ]
  },
  {
   "cell_type": "code",
   "execution_count": 9,
   "id": "cc6f749f-595a-4ca6-8955-5fff82f699e8",
   "metadata": {},
   "outputs": [
    {
     "data": {
      "text/plain": [
       "array([2.14088242])"
      ]
     },
     "execution_count": 9,
     "metadata": {},
     "output_type": "execute_result"
    }
   ],
   "source": [
    "np.abs(est_theta1-theta1)"
   ]
  },
  {
   "cell_type": "code",
   "execution_count": 10,
   "id": "39f05013-62e1-4947-b934-62028fc23d96",
   "metadata": {},
   "outputs": [
    {
     "data": {
      "text/plain": [
       "array([0.00062317])"
      ]
     },
     "execution_count": 10,
     "metadata": {},
     "output_type": "execute_result"
    }
   ],
   "source": [
    "np.abs(np.sin(est_theta1)-np.sin(theta1))"
   ]
  },
  {
   "cell_type": "code",
   "execution_count": 11,
   "id": "6c9c1e0b-6f7d-43a2-b972-cd0fed4d6c30",
   "metadata": {},
   "outputs": [],
   "source": [
    "Num_sensors2 = 5\n",
    "Num_emitters2 = 2\n",
    "sample_size2 = 100\n",
    "theta2 = np.array([0.34906585, 1.22173048])\n",
    "GS_2 = np.array([[2,0],[0,3]]) # Ковариация сигнала\n",
    "GN_2 = 0.1*np.eye(5, dtype=np.float64) # Ковариация шума"
   ]
  },
  {
   "cell_type": "code",
   "execution_count": 12,
   "id": "c03cb4f6-00ff-4341-86b5-b3d73965348a",
   "metadata": {},
   "outputs": [],
   "source": [
    "# Матрица управляющих векторов\n",
    "A2 = np.exp(-2j * np.pi * dist_ratio * np.arange(Num_sensors2).reshape(-1,1) * np.sin(theta2).reshape(1,-1))"
   ]
  },
  {
   "cell_type": "code",
   "execution_count": 13,
   "id": "1773c31a-944c-422d-bb6b-d14e3c217d75",
   "metadata": {},
   "outputs": [
    {
     "data": {
      "text/plain": [
       "array([[ 1.        +0.j        ,  1.        +0.j        ],\n",
       "       [ 0.47618256-0.87934645j, -0.98210585-0.18832978j],\n",
       "       [-0.54650034-0.83745888j,  0.92906379+0.36991955j],\n",
       "       [-0.99665042+0.08177982j, -0.84277211-0.53827054j],\n",
       "       [-0.40267475+0.91534313j,  0.72631905+0.68735773j]])"
      ]
     },
     "execution_count": 13,
     "metadata": {},
     "output_type": "execute_result"
    }
   ],
   "source": [
    "A2"
   ]
  },
  {
   "cell_type": "code",
   "execution_count": 14,
   "id": "4c1fc5e5-0a72-4741-ab11-7bdda17f0f6e",
   "metadata": {},
   "outputs": [],
   "source": [
    "s2 = CN(Num_emitters2, sample_size2, GS_2)\n",
    "n2 = CN(Num_sensors2, sample_size2, GN_2)\n",
    "X2 = (A2 @ s2.T + n2.T).T"
   ]
  },
  {
   "cell_type": "code",
   "execution_count": 15,
   "id": "256aecfb-ec73-4db6-978d-0aaeff7163d7",
   "metadata": {},
   "outputs": [
    {
     "name": "stdout",
     "output_type": "stream",
     "text": [
      "Iteration=1, theta_new=[1.78862952 2.25616678], -likelihood = -14114.770262833312\n",
      "Iteration=2, theta_new=[1.80831548 2.2774393 ], -likelihood = -14173.779181503412\n",
      "Iteration=3, theta_new=[1.82394871 2.33198865], -likelihood = -14295.79388202741\n",
      "Iteration=4, theta_new=[1.84615242 2.42830471], -likelihood = -14724.448181227512\n",
      "Iteration=5, theta_new=[1.87489775 2.52913379], -likelihood = -16011.196278086409\n",
      "Iteration=6, theta_new=[1.89747035 2.60970844], -likelihood = -18138.15795156441\n",
      "Iteration=7, theta_new=[1.90987389 2.66899333], -likelihood = -20270.310142192804\n",
      "Iteration=8, theta_new=[1.91564889 2.71053797], -likelihood = -21788.353750740025\n",
      "Iteration=9, theta_new=[1.91843746 2.73877888], -likelihood = -22646.856087599415\n",
      "Iteration=10, theta_new=[1.92001768 2.75773855], -likelihood = -23073.143081608327\n",
      "Iteration=11, theta_new=[1.92100181 2.77041635], -likelihood = -23272.64779305904\n",
      "Iteration=12, theta_new=[1.92162385 2.77889533], -likelihood = -23363.7322834501\n",
      "Iteration=13, theta_new=[1.92204736 2.78456539], -likelihood = -23404.94482626404\n",
      "Iteration=14, theta_new=[1.92230993 2.78836595], -likelihood = -23423.516028535705\n",
      "Iteration=15, theta_new=[1.92245635 2.79092691], -likelihood = -23431.888924592928\n",
      "Iteration=16, theta_new=[1.92254691 2.79263257], -likelihood = -23435.67625555784\n",
      "Iteration=17, theta_new=[1.92260314 2.79377952], -likelihood = -23437.368025181422\n",
      "Iteration=18, theta_new=[1.92261804 2.79454727], -likelihood = -23438.131529991704\n",
      "Iteration=19, theta_new=[1.92264206 2.79506891], -likelihood = -23438.474244461442\n",
      "Iteration=20, theta_new=[1.9226386  2.79542925], -likelihood = -23438.6301886504\n",
      "Iteration=1, theta_new=[-0.97295592 -2.29456532], -likelihood = -10354.07832022338\n",
      "Iteration=2, theta_new=[-1.03112458 -2.24302594], -likelihood = -11897.148105060902\n",
      "Iteration=3, theta_new=[-1.08233211 -2.198392  ], -likelihood = -12937.813036974036\n",
      "Iteration=4, theta_new=[-1.12705542 -2.160804  ], -likelihood = -13595.656184242453\n",
      "Iteration=5, theta_new=[-1.16599546 -2.1298848 ], -likelihood = -13998.266022809152\n",
      "Iteration=6, theta_new=[-1.19989204 -2.10503031], -likelihood = -14242.906374701997\n",
      "Iteration=7, theta_new=[-1.22946325 -2.08553544], -likelihood = -14393.034388472288\n",
      "Iteration=8, theta_new=[-1.25535979 -2.07060171], -likelihood = -14487.218590218212\n",
      "Iteration=9, theta_new=[-1.27815659 -2.05952913], -likelihood = -14548.047806277626\n",
      "Iteration=10, theta_new=[-1.29837963 -2.05163664], -likelihood = -14588.661856475386\n",
      "Iteration=11, theta_new=[-1.31650226 -2.04631038], -likelihood = -14616.758191797113\n",
      "Iteration=12, theta_new=[-1.33285195 -2.0430694 ], -likelihood = -14636.897600744192\n",
      "Iteration=13, theta_new=[-1.34782932 -2.04144671], -likelihood = -14651.772980894119\n",
      "Iteration=14, theta_new=[-1.36162345 -2.04115094], -likelihood = -14663.138729281083\n",
      "Iteration=15, theta_new=[-1.37448833 -2.04189868], -likelihood = -14672.031710022404\n",
      "Iteration=16, theta_new=[-1.38665665 -2.04345341], -likelihood = -14679.179530786447\n",
      "Iteration=17, theta_new=[-1.39836571 -2.04559752], -likelihood = -14685.0658982926\n",
      "Iteration=18, theta_new=[-1.40970259 -2.04821677], -likelihood = -14690.019587169205\n",
      "Iteration=19, theta_new=[-1.42089038 -2.05117527], -likelihood = -14694.245645424953\n",
      "Iteration=20, theta_new=[-1.43202444 -2.05442277], -likelihood = -14697.920376518969\n",
      "Iteration=1, theta_new=[ 1.00613296 -2.87898352], -likelihood = -11489.411349828728\n",
      "Iteration=2, theta_new=[ 1.063508   -2.87272633], -likelihood = -13177.249252648824\n",
      "Iteration=3, theta_new=[ 1.10664579 -2.87150815], -likelihood = -14001.8976754888\n",
      "Iteration=4, theta_new=[ 1.13878305 -2.87123462], -likelihood = -14403.936126023924\n",
      "Iteration=5, theta_new=[ 1.16250179 -2.8708432 ], -likelihood = -14599.397159137292\n",
      "Iteration=6, theta_new=[ 1.17977271 -2.8703224 ], -likelihood = -14694.537451073038\n",
      "Iteration=7, theta_new=[ 1.19224894 -2.86974283], -likelihood = -14740.777092791144\n",
      "Iteration=8, theta_new=[ 1.20121095 -2.86929285], -likelihood = -14763.336251044113\n",
      "Iteration=9, theta_new=[ 1.20757204 -2.86890441], -likelihood = -14774.377649134447\n",
      "Iteration=10, theta_new=[ 1.21209272 -2.86862015], -likelihood = -14779.762038739174\n",
      "Iteration=11, theta_new=[ 1.21524542 -2.86845674], -likelihood = -14782.407610787677\n",
      "Iteration=12, theta_new=[ 1.21749197 -2.86829044], -likelihood = -14783.690925002413\n",
      "Iteration=13, theta_new=[ 1.21907462 -2.86820128], -likelihood = -14784.333058861024\n",
      "Iteration=14, theta_new=[ 1.22016009 -2.86811774], -likelihood = -14784.650210190504\n",
      "Iteration=15, theta_new=[ 1.22093534 -2.86808125], -likelihood = -14784.804939892241\n",
      "Iteration=16, theta_new=[ 1.22148693 -2.86801809], -likelihood = -14784.883572548732\n",
      "Iteration=17, theta_new=[ 1.22185149 -2.86801077], -likelihood = -14784.924650880124\n",
      "Iteration=18, theta_new=[ 1.22211798 -2.86799826], -likelihood = -14784.943855251186\n",
      "Iteration=19, theta_new=[ 1.22231064 -2.86796241], -likelihood = -14784.954437840614\n",
      "Iteration=20, theta_new=[ 1.22244244 -2.86797707], -likelihood = -14784.960784795618\n",
      "Iteration=1, theta_new=[ 2.45186967 -1.57080013], -likelihood = -14351.185961637706\n",
      "Iteration=2, theta_new=[ 2.53206391 -1.5708219 ], -likelihood = -15307.589482098536\n",
      "Iteration=3, theta_new=[ 2.60711795 -1.57077384], -likelihood = -17043.199605984613\n",
      "Iteration=4, theta_new=[ 2.66541566 -1.570789  ], -likelihood = -19120.353274568497\n",
      "Iteration=5, theta_new=[ 2.70683972 -1.57082971], -likelihood = -20696.741163894327\n",
      "Iteration=6, theta_new=[ 2.73541717 -1.57081117], -likelihood = -21604.62644088681\n",
      "Iteration=7, theta_new=[ 2.75505373 -1.5708126 ], -likelihood = -22069.49010716984\n",
      "Iteration=8, theta_new=[ 2.7686074  -1.57081881], -likelihood = -22298.177315987807\n",
      "Iteration=9, theta_new=[ 2.77799215 -1.57084085], -likelihood = -22409.52298830534\n",
      "Iteration=10, theta_new=[ 2.78453025 -1.57077479], -likelihood = -22463.566985930865\n",
      "Iteration=11, theta_new=[ 2.78907695 -1.57078539], -likelihood = -22489.878900137857\n",
      "Iteration=12, theta_new=[ 2.79225474 -1.57078895], -likelihood = -22502.641977774238\n",
      "Iteration=13, theta_new=[ 2.79448954 -1.5707584 ], -likelihood = -22508.85600088507\n",
      "Iteration=14, theta_new=[ 2.79605922 -1.57076485], -likelihood = -22511.88982217203\n",
      "Iteration=15, theta_new=[ 2.79715872 -1.57083165], -likelihood = -22513.360422412825\n",
      "Iteration=16, theta_new=[ 2.79792018 -1.57081992], -likelihood = -22514.065858219852\n",
      "Iteration=17, theta_new=[ 2.79846012 -1.57077059], -likelihood = -22514.397648327173\n",
      "Iteration=18, theta_new=[ 2.79883545 -1.57076491], -likelihood = -22514.55512531263\n",
      "Iteration=19, theta_new=[ 2.79911033 -1.57082513], -likelihood = -22514.62659400698\n",
      "Iteration=20, theta_new=[ 2.79929522 -1.57083224], -likelihood = -22514.659158208466\n",
      "Iteration=1, theta_new=[ 0.24232444 -0.48214885], -likelihood = -9077.868755612455\n",
      "Iteration=2, theta_new=[ 0.27400755 -0.47809295], -likelihood = -10429.788739055799\n",
      "Iteration=3, theta_new=[ 0.29567651 -0.47322655], -likelihood = -11093.866628848036\n",
      "Iteration=4, theta_new=[ 0.31052497 -0.46993593], -likelihood = -11414.07508665644\n",
      "Iteration=5, theta_new=[ 0.3206942  -0.46811858], -likelihood = -11565.903182764756\n",
      "Iteration=6, theta_new=[ 0.32767098 -0.46724601], -likelihood = -11637.2897712441\n",
      "Iteration=7, theta_new=[ 0.33243962 -0.46695979], -likelihood = -11670.814938013187\n",
      "Iteration=8, theta_new=[ 0.33571572 -0.46693619], -likelihood = -11686.487671561357\n",
      "Iteration=9, theta_new=[ 0.33796885 -0.46699998], -likelihood = -11693.85016464871\n",
      "Iteration=10, theta_new=[ 0.33951121 -0.46712573], -likelihood = -11697.30569237901\n",
      "Iteration=11, theta_new=[ 0.34057759 -0.46726359], -likelihood = -11698.915560750727\n",
      "Iteration=12, theta_new=[ 0.34129881 -0.46733855], -likelihood = -11699.66919803824\n",
      "Iteration=13, theta_new=[ 0.34179641 -0.46740167], -likelihood = -11700.012929325463\n",
      "Iteration=14, theta_new=[ 0.34215087 -0.46743902], -likelihood = -11700.171649045042\n",
      "Iteration=15, theta_new=[ 0.34239985 -0.46750813], -likelihood = -11700.24596657729\n",
      "Iteration=16, theta_new=[ 0.34256107 -0.46755345], -likelihood = -11700.277971844225\n",
      "Iteration=17, theta_new=[ 0.34267583 -0.4675749 ], -likelihood = -11700.290002121717\n",
      "Iteration=18, theta_new=[ 0.34275045 -0.46761134], -likelihood = -11700.294744149012\n",
      "Iteration=19, theta_new=[ 0.34278757 -0.46761424], -likelihood = -11700.295399089358\n",
      "Iteration=20, theta_new=[ 0.34283243 -0.46760487], -likelihood = -11700.29560341533\n",
      "Iteration=1, theta_new=[2.99976945 0.99340748], -likelihood = -13024.40914181181\n",
      "Iteration=2, theta_new=[2.93466486 1.05621319], -likelihood = -17690.161365732176\n",
      "Iteration=3, theta_new=[2.88992675 1.10369286], -likelihood = -20571.360043012868\n",
      "Iteration=4, theta_new=[2.85943851 1.13855655], -likelihood = -22083.681904675483\n",
      "Iteration=5, theta_new=[2.83877167 1.16353376], -likelihood = -22815.345152916572\n",
      "Iteration=6, theta_new=[2.82481368 1.18110224], -likelihood = -23155.637905443553\n",
      "Iteration=7, theta_new=[2.81540664 1.19329526], -likelihood = -23311.017491686387\n",
      "Iteration=8, theta_new=[2.80907998 1.20165831], -likelihood = -23381.37668672957\n",
      "Iteration=9, theta_new=[2.80483651 1.20731668], -likelihood = -23413.08035242119\n",
      "Iteration=10, theta_new=[2.80197248 1.21115083], -likelihood = -23427.306324287303\n",
      "Iteration=11, theta_new=[2.8000617  1.21372012], -likelihood = -23433.72948742996\n",
      "Iteration=12, theta_new=[2.79878486 1.21542908], -likelihood = -23436.59937668738\n",
      "Iteration=13, theta_new=[2.79792773 1.21660294], -likelihood = -23437.885939825082\n",
      "Iteration=14, theta_new=[2.79735387 1.21737286], -likelihood = -23438.470686082077\n",
      "Iteration=15, theta_new=[2.79696253 1.21789016], -likelihood = -23438.733778413774\n",
      "Iteration=16, theta_new=[2.79669234 1.21824884], -likelihood = -23438.85493927225\n",
      "Iteration=17, theta_new=[2.79652359 1.21848158], -likelihood = -23438.911492885756\n",
      "Iteration=18, theta_new=[2.79641139 1.21863347], -likelihood = -23438.93565873721\n",
      "Iteration=19, theta_new=[2.79632772 1.21872318], -likelihood = -23438.94681237416\n",
      "Iteration=20, theta_new=[2.79628912 1.21880898], -likelihood = -23438.95241524446\n",
      "Iteration=1, theta_new=[ 2.71965997 -0.27230887], -likelihood = -9357.98900425998\n",
      "Iteration=2, theta_new=[ 2.7449137  -0.35511067], -likelihood = -10388.815717088033\n",
      "Iteration=3, theta_new=[ 2.76210665 -0.41202825], -likelihood = -11144.22464245929\n",
      "Iteration=4, theta_new=[ 2.77384322 -0.44164403], -likelihood = -11482.64201955708\n",
      "Iteration=5, theta_new=[ 2.78179837 -0.45597673], -likelihood = -11611.02967440805\n",
      "Iteration=6, theta_new=[ 2.78718422 -0.4626973 ], -likelihood = -11661.5614954971\n",
      "Iteration=7, theta_new=[ 2.79083043 -0.4657033 ], -likelihood = -11682.795446583397\n",
      "Iteration=8, theta_new=[ 2.79332171 -0.46701047], -likelihood = -11692.16384340635\n",
      "Iteration=9, theta_new=[ 2.79501473 -0.46757345], -likelihood = -11696.465946228\n",
      "Iteration=10, theta_new=[ 2.79618134 -0.46774369], -likelihood = -11698.463755251883\n",
      "Iteration=11, theta_new=[ 2.79697403 -0.46778848], -likelihood = -11699.415376418397\n",
      "Iteration=12, theta_new=[ 2.797517   -0.46773122], -likelihood = -11699.864814429953\n",
      "Iteration=13, theta_new=[ 2.79787922 -0.46772239], -likelihood = -11700.082653092668\n",
      "Iteration=14, theta_new=[ 2.7981342  -0.46768295], -likelihood = -11700.18492112067\n",
      "Iteration=15, theta_new=[ 2.79830444 -0.4676866 ], -likelihood = -11700.237687661192\n",
      "Iteration=16, theta_new=[ 2.7984263 -0.467684 ], -likelihood = -11700.262739757804\n",
      "Iteration=17, theta_new=[ 2.79852433 -0.46768498], -likelihood = -11700.276107064692\n",
      "Iteration=18, theta_new=[ 2.79857396 -0.46767578], -likelihood = -11700.28425064541\n",
      "Iteration=19, theta_new=[ 2.79860691 -0.46765621], -likelihood = -11700.287669306914\n",
      "Iteration=20, theta_new=[ 2.79862959 -0.46763496], -likelihood = -11700.289967412047\n",
      "Iteration=1, theta_new=[-1.57077466  0.25885024], -likelihood = -20945.369534220248\n",
      "Iteration=2, theta_new=[-1.5708202   0.28274198], -likelihood = -21776.414530897448\n",
      "Iteration=3, theta_new=[-1.5707654   0.29987996], -likelihood = -22132.7885120928\n",
      "Iteration=4, theta_new=[-1.57077835  0.31213497], -likelihood = -22319.735129729866\n",
      "Iteration=5, theta_new=[-1.57075984  0.32085592], -likelihood = -22416.015160748957\n",
      "Iteration=6, theta_new=[-1.57075413  0.32704339], -likelihood = -22464.943048841626\n",
      "Iteration=7, theta_new=[-1.57077096  0.33142317], -likelihood = -22489.62636634788\n",
      "Iteration=8, theta_new=[-1.57078648  0.33451751], -likelihood = -22502.026606332278\n",
      "Iteration=9, theta_new=[-1.57078807  0.33670701], -likelihood = -22508.243232210356\n",
      "Iteration=10, theta_new=[-1.57077869  0.33823737], -likelihood = -22511.366937608895\n",
      "Iteration=11, theta_new=[-1.57085297  0.33931316], -likelihood = -22512.92214687195\n",
      "Iteration=12, theta_new=[-1.57078924  0.34008462], -likelihood = -22513.705978773196\n",
      "Iteration=13, theta_new=[-1.57079493  0.34062308], -likelihood = -22514.11077320801\n",
      "Iteration=14, theta_new=[-1.5707531   0.34100036], -likelihood = -22514.31538699881\n",
      "Iteration=15, theta_new=[-1.57080442  0.3412534 ], -likelihood = -22514.420621624784\n",
      "Iteration=16, theta_new=[-1.57078271  0.34143321], -likelihood = -22514.47359716257\n",
      "Iteration=17, theta_new=[-1.57077774  0.34155898], -likelihood = -22514.502631170155\n",
      "Iteration=18, theta_new=[-1.57079663  0.3416587 ], -likelihood = -22514.518708512525\n",
      "Iteration=19, theta_new=[-1.57077537  0.34171699], -likelihood = -22514.528953227364\n",
      "Iteration=20, theta_new=[-1.57076662  0.3417685 ], -likelihood = -22514.533938270393\n",
      "Iteration=1, theta_new=[-1.1491884 -0.7222809], -likelihood = -10812.000838320973\n",
      "Iteration=2, theta_new=[-1.22231594 -0.7906888 ], -likelihood = -12684.294855204602\n",
      "Iteration=3, theta_new=[-1.28419485 -0.84538403], -likelihood = -13686.876855656732\n",
      "Iteration=4, theta_new=[-1.33783291 -0.88792394], -likelihood = -14195.244691587342\n",
      "Iteration=5, theta_new=[-1.38593258 -0.92025067], -likelihood = -14451.000541346748\n",
      "Iteration=6, theta_new=[-1.43157683 -0.94440384], -likelihood = -14581.212994530859\n",
      "Iteration=7, theta_new=[-1.47985127 -0.96209433], -likelihood = -14649.165576537944\n",
      "Iteration=8, theta_new=[-1.57083087 -0.97441004], -likelihood = -14685.59404473536\n",
      "Iteration=9, theta_new=[-1.57077424 -0.97444192], -likelihood = -14695.526046576804\n",
      "Iteration=10, theta_new=[-1.57082802 -0.97447004], -likelihood = -14695.546105443831\n",
      "Iteration=11, theta_new=[-1.57074122 -0.97448668], -likelihood = -14695.563799641415\n",
      "Iteration=12, theta_new=[-1.57078976 -0.97450944], -likelihood = -14695.574264358404\n",
      "norm=0.0\n",
      "Iteration=13, theta_new=[-1.57078976 -0.97450944], -likelihood = -14695.588569852149\n",
      "Iteration=1, theta_new=[2.17921919 2.46380374], -likelihood = -16682.50486802678\n",
      "Iteration=2, theta_new=[2.18626332 2.4839066 ], -likelihood = -16897.296924843075\n",
      "Iteration=3, theta_new=[2.19106621 2.50242085], -likelihood = -17092.1935613985\n",
      "Iteration=4, theta_new=[2.19358291 2.51984463], -likelihood = -17276.737547030745\n",
      "Iteration=5, theta_new=[2.1936926  2.53672836], -likelihood = -17461.391201772607\n",
      "Iteration=6, theta_new=[2.19110341 2.55369836], -likelihood = -17659.503760514363\n",
      "Iteration=7, theta_new=[2.18530421 2.5715476 ], -likelihood = -17889.400544309734\n",
      "Iteration=8, theta_new=[2.1752602  2.59133575], -likelihood = -18178.874453156634\n",
      "Iteration=9, theta_new=[2.15909671 2.61462991], -likelihood = -18574.918072625915\n",
      "Iteration=10, theta_new=[2.13390458 2.64327162], -likelihood = -19158.964976244188\n",
      "Iteration=11, theta_new=[2.09811697 2.67706495], -likelihood = -20031.018734032205\n",
      "Iteration=12, theta_new=[2.05728197 2.71027992], -likelihood = -21144.385757327324\n",
      "Iteration=13, theta_new=[2.02019104 2.73705662], -likelihood = -22154.801761513583\n",
      "Iteration=14, theta_new=[1.99107092 2.75627962], -likelihood = -22806.065184082694\n",
      "Iteration=15, theta_new=[1.96982324 2.76940404], -likelihood = -23145.27046236316\n",
      "Iteration=16, theta_new=[1.95492472 2.77819792], -likelihood = -23305.652832321786\n",
      "Iteration=17, theta_new=[1.94459358 2.78409856], -likelihood = -23378.63909074472\n",
      "Iteration=18, theta_new=[1.9375487  2.78805528], -likelihood = -23411.68973319156\n",
      "Iteration=19, theta_new=[1.93271047 2.790692  ], -likelihood = -23426.56276002982\n",
      "Iteration=20, theta_new=[1.9294327  2.79247438], -likelihood = -23433.261488892473\n"
     ]
    }
   ],
   "source": [
    "est_theta2, neglhd_2 = multi_start(10, X2, GS_2, GN_2, max_iter=20, eps=1e-6)"
   ]
  },
  {
   "cell_type": "code",
   "execution_count": 16,
   "id": "27df82cf-68d7-448f-9047-9818b8236ea1",
   "metadata": {},
   "outputs": [
    {
     "data": {
      "text/plain": [
       "array([2.44722327, 0.0029215 ])"
      ]
     },
     "execution_count": 16,
     "metadata": {},
     "output_type": "execute_result"
    }
   ],
   "source": [
    "np.abs(est_theta2-theta2)"
   ]
  },
  {
   "cell_type": "code",
   "execution_count": 17,
   "id": "61a3038f-0338-4543-b350-c3c7d3ff3fa4",
   "metadata": {},
   "outputs": [
    {
     "data": {
      "text/plain": [
       "array([0.00353783, 0.00100322])"
      ]
     },
     "execution_count": 17,
     "metadata": {},
     "output_type": "execute_result"
    }
   ],
   "source": [
    "np.abs(np.sin(est_theta2)-np.sin(theta2))"
   ]
  },
  {
   "cell_type": "code",
   "execution_count": 18,
   "id": "569d6c62-4af5-465c-98cd-1ef1ed941d93",
   "metadata": {},
   "outputs": [],
   "source": [
    "W1, W2 = goal_function(X1, GS_1, GN_2, 50)"
   ]
  },
  {
   "cell_type": "code",
   "execution_count": 19,
   "id": "6bbeb039-2000-4761-91f0-0626a1e76545",
   "metadata": {},
   "outputs": [
    {
     "data": {
      "text/plain": [
       "[<matplotlib.lines.Line2D at 0x17ba81933a0>]"
      ]
     },
     "execution_count": 19,
     "metadata": {},
     "output_type": "execute_result"
    },
    {
     "data": {
      "image/png": "[encoded data removed]",
      "text/plain": [
       "<Figure size 640x480 with 1 Axes>"
      ]
     },
     "metadata": {},
     "output_type": "display_data"
    }
   ],
   "source": [
    "plt.title(\"График функции, подлежащей максимизации, на первом шаге ЕМ-алгоритма\")\n",
    "plt.plot(W1, W2.real, color='green')"
   ]
  },
  {
   "cell_type": "code",
   "execution_count": null,
   "id": "80bb5e8c-72b3-47b0-bfb5-2eaff580b0e2",
   "metadata": {},
   "outputs": [],
   "source": []
  },
  {
   "cell_type": "code",
   "execution_count": null,
   "id": "239a86cc-297f-4977-b5df-807f5e85c2f5",
   "metadata": {},
   "outputs": [],
   "source": []
  }
 ],
 "metadata": {
  "kernelspec": {
   "display_name": "Python 3 (ipykernel)",
   "language": "python",
   "name": "python3"
  },
  "language_info": {
   "codemirror_mode": {
    "name": "ipython",
    "version": 3
   },
   "file_extension": ".py",
   "mimetype": "text/x-python",
   "name": "python",
   "nbconvert_exporter": "python",
   "pygments_lexer": "ipython3",
   "version": "3.10.9"
  }
 },
 "nbformat": 4,
 "nbformat_minor": 5
}
