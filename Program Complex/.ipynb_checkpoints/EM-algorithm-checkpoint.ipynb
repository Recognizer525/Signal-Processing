{
 "cells": [
  {
   "cell_type": "code",
   "execution_count": 1,
   "id": "c9413b81-cfa1-46d3-92cb-3cfb0d1df8ea",
   "metadata": {},
   "outputs": [],
   "source": [
    "import numpy as np\n",
    "import matplotlib.pyplot as plt\n",
    "from sensors import *\n",
    "from functools import partial"
   ]
  },
  {
   "cell_type": "code",
   "execution_count": 2,
   "id": "6c9c1e0b-6f7d-43a2-b972-cd0fed4d6c30",
   "metadata": {},
   "outputs": [],
   "source": [
    "dist_ratio = 0.5\n",
    "Num_sensors = 5\n",
    "Num_emitters = 2\n",
    "sample_size = 100\n",
    "# DOA in radian\n",
    "theta1 = np.array([0.34906585, 1.22173048])\n",
    "GS_1 = np.array([[2,0],[0,3]])\n",
    "GN_1 = 0.1*np.eye(5, dtype=np.float64)"
   ]
  },
  {
   "cell_type": "code",
   "execution_count": 3,
   "id": "dee941ca-5c28-45a7-9fd7-be47fcff8a59",
   "metadata": {},
   "outputs": [
    {
     "data": {
      "text/plain": [
       "array([0.34906585, 1.22173048])"
      ]
     },
     "execution_count": 3,
     "metadata": {},
     "output_type": "execute_result"
    }
   ],
   "source": [
    "theta1"
   ]
  },
  {
   "cell_type": "code",
   "execution_count": 4,
   "id": "c03cb4f6-00ff-4341-86b5-b3d73965348a",
   "metadata": {},
   "outputs": [],
   "source": [
    "A1 = np.zeros((Num_sensors, Num_emitters),dtype=np.complex128)\n",
    "for i in range(Num_emitters):\n",
    "    A1[:,i] = np.exp(-2j * np.pi * dist_ratio * np.arange(Num_sensors) * np.sin(theta1[i]))"
   ]
  },
  {
   "cell_type": "code",
   "execution_count": 5,
   "id": "1773c31a-944c-422d-bb6b-d14e3c217d75",
   "metadata": {},
   "outputs": [
    {
     "data": {
      "text/plain": [
       "array([[ 1.        +0.j        ,  1.        +0.j        ],\n",
       "       [ 0.47618256-0.87934645j, -0.98210585-0.18832978j],\n",
       "       [-0.54650034-0.83745888j,  0.92906379+0.36991955j],\n",
       "       [-0.99665042+0.08177982j, -0.84277211-0.53827054j],\n",
       "       [-0.40267475+0.91534313j,  0.72631905+0.68735773j]])"
      ]
     },
     "execution_count": 5,
     "metadata": {},
     "output_type": "execute_result"
    }
   ],
   "source": [
    "A1"
   ]
  },
  {
   "cell_type": "code",
   "execution_count": 6,
   "id": "4c1fc5e5-0a72-4741-ab11-7bdda17f0f6e",
   "metadata": {},
   "outputs": [],
   "source": [
    "s1 = CN(Num_emitters,sample_size,GS_1)\n",
    "n1 = CN(Num_sensors,sample_size,GN_1)\n",
    "X1 = np.zeros((sample_size, 5), dtype=np.complex128)\n",
    "for i in range(sample_size):\n",
    "    X1[i] = A1 @ s1[i] + n1[i]"
   ]
  },
  {
   "cell_type": "code",
   "execution_count": 7,
   "id": "3af55516-fcba-4378-a722-04d8499b9640",
   "metadata": {},
   "outputs": [
    {
     "name": "stdout",
     "output_type": "stream",
     "text": [
      "Initial theta = [[ 0.90568055]\n",
      " [-0.74927934]]\n",
      "K=[[ 0.02091006+3.69286540e-15j -0.00472409+9.64185679e-04j]\n",
      " [-0.00472409-9.64185679e-04j  0.0209793 -9.80015839e-15j]]\n",
      "theta_new=[ 0.977056  -0.8396414]\n",
      "Iteration=1\n",
      "K=[[ 0.01989012-2.13479825e-15j -0.00118819-5.89116315e-04j]\n",
      " [-0.00118819+5.89116315e-04j  0.01995598-8.23555349e-16j]]\n",
      "theta_new=[ 1.0233543  -0.90333747]\n",
      "Iteration=2\n",
      "K=[[0.02005409-5.75434949e-15j 0.00144374+1.72865655e-03j]\n",
      " [0.00144374-1.72865655e-03j 0.0201205 +1.69853097e-14j]]\n",
      "theta_new=[ 1.05644704 -0.94531087]\n",
      "Iteration=3\n",
      "K=[[0.0210806 +6.22591205e-16j 0.00217592+4.72320473e-03j]\n",
      " [0.00217592-4.72320473e-03j 0.0211504 -3.90973295e-15j]]\n",
      "theta_new=[ 1.08160935 -0.97080484]\n",
      "Iteration=4\n",
      "K=[[0.02232585-1.70277334e-15j 0.00195871+7.25930897e-03j]\n",
      " [0.00195871-7.25930897e-03j 0.02239978-1.01007654e-14j]]\n",
      "theta_new=[ 1.10166791 -0.98299748]\n",
      "Iteration=5\n",
      "K=[[0.02337445-5.64282149e-15j 0.0014815 +9.03251230e-03j]\n",
      " [0.0014815 -9.03251230e-03j 0.02345185+7.44967360e-15j]]\n",
      "theta_new=[ 1.11833739 -0.98422402]\n",
      "Iteration=6\n",
      "K=[[0.02400709-5.96911716e-16j 0.00112212+1.00013793e-02j]\n",
      " [0.00112212-1.00013793e-02j 0.02408658+2.46026081e-15j]]\n",
      "theta_new=[ 1.13286953 -0.97703737]\n",
      "Iteration=7\n",
      "K=[[0.02419767-7.52986030e-15j 0.00100602+1.02813229e-02j]\n",
      " [0.00100602-1.02813229e-02j 0.0242778 +1.16140544e-14j]]\n",
      "theta_new=[ 1.14605015 -0.96398585]\n",
      "Iteration=8\n",
      "K=[[0.02404011-2.83566870e-15j 0.00110225+1.00502459e-02j]\n",
      " [0.00110225-1.00502459e-02j 0.02411971-8.96867386e-15j]]\n",
      "theta_new=[ 1.15832524 -0.94768055]\n",
      "Iteration=9\n",
      "K=[[0.02368322-1.15571219e-16j 0.00131147+9.51340004e-03j]\n",
      " [0.00131147-9.51340004e-03j 0.02376164-3.44559741e-15j]]\n",
      "theta_new=[ 1.16986908 -0.93052981]\n",
      "Iteration=10\n",
      "K=[[0.02326608+4.06902807e-15j 0.00153848+8.85979937e-03j]\n",
      " [0.00153848-8.85979937e-03j 0.02334312-3.35797226e-15j]]\n",
      "theta_new=[ 1.1806913 -0.9143798]\n",
      "Iteration=11\n",
      "K=[[0.02288104+3.00296270e-15j 0.00172802+8.22795970e-03j]\n",
      " [0.00172802-8.22795970e-03j 0.02295681+3.39263011e-15j]]\n",
      "theta_new=[ 1.19064626 -0.90047789]\n",
      "Iteration=12\n",
      "K=[[0.02257399-1.94274920e-15j 0.00186264+7.70149144e-03j]\n",
      " [0.00186264-7.70149144e-03j 0.02264873+5.52099784e-15j]]\n",
      "theta_new=[ 1.19964791 -0.88927241]\n",
      "Iteration=13\n",
      "K=[[0.02235293-6.45698245e-15j 0.00194884+7.30835659e-03j]\n",
      " [0.00194884-7.30835659e-03j 0.02242695+1.20204538e-14j]]\n",
      "theta_new=[ 1.207659   -0.88074204]\n",
      "Iteration=14\n",
      "K=[[0.02220951+5.59006730e-15j 0.00199928+7.04626807e-03j]\n",
      " [0.00199928-7.04626807e-03j 0.02228305-8.96691805e-15j]]\n",
      "theta_new=[ 1.21470813 -0.87454303]\n",
      "Iteration=15\n",
      "K=[[0.02212811+9.37004972e-15j 0.0020258 +6.89487630e-03j]\n",
      " [0.0020258 -6.89487630e-03j 0.02220138-1.57042510e-14j]]\n",
      "theta_new=[ 1.22087326 -0.87022535]\n",
      "Iteration=16\n",
      "K=[[0.02209324-1.60527722e-15j 0.00203667+6.82942092e-03j]\n",
      " [0.00203667-6.82942092e-03j 0.0221664 -1.40695335e-15j]]\n",
      "theta_new=[ 1.22622982 -0.86746072]\n",
      "Iteration=17\n",
      "K=[[0.02209527-2.18581725e-15j 0.00203604+6.83324171e-03j]\n",
      " [0.00203604-6.83324171e-03j 0.02216843+4.06703089e-15j]]\n",
      "theta_new=[ 1.23087532 -0.86581555]\n",
      "Iteration=18\n",
      "K=[[0.02212196+1.31383326e-15j 0.00202774+6.88336648e-03j]\n",
      " [0.00202774-6.88336648e-03j 0.02219521-5.72909424e-16j]]\n",
      "theta_new=[ 1.23491371 -0.865026  ]\n",
      "Iteration=19\n",
      "K=[[0.02216711-2.70592940e-15j 0.00201329+6.96766912e-03j]\n",
      " [0.00201329-6.96766912e-03j 0.02224051+8.99602193e-15j]]\n",
      "theta_new=[ 1.23845661 -0.86479628]\n",
      "Iteration=20\n"
     ]
    }
   ],
   "source": [
    "theta_estimate1 = EM(X1, GS_1, GN_1)"
   ]
  },
  {
   "cell_type": "code",
   "execution_count": 8,
   "id": "6c8b7a47-827e-4c92-9559-c62f088d7014",
   "metadata": {},
   "outputs": [
    {
     "data": {
      "text/plain": [
       "array([ 1.23845661, -0.86479628])"
      ]
     },
     "execution_count": 8,
     "metadata": {},
     "output_type": "execute_result"
    }
   ],
   "source": [
    "theta_estimate1"
   ]
  },
  {
   "cell_type": "code",
   "execution_count": 9,
   "id": "8f9e4166-9aa2-46ef-88dc-16530bed8b97",
   "metadata": {},
   "outputs": [
    {
     "data": {
      "text/plain": [
       "array([0.34906585, 1.22173048])"
      ]
     },
     "execution_count": 9,
     "metadata": {},
     "output_type": "execute_result"
    }
   ],
   "source": [
    "theta1"
   ]
  },
  {
   "cell_type": "code",
   "execution_count": 10,
   "id": "eb68b10d-3211-4723-8443-a0d805c26dc2",
   "metadata": {},
   "outputs": [
    {
     "data": {
      "text/plain": [
       "array([-0.88939076,  2.08652676])"
      ]
     },
     "execution_count": 10,
     "metadata": {},
     "output_type": "execute_result"
    }
   ],
   "source": [
    "theta1-theta_estimate1"
   ]
  },
  {
   "cell_type": "code",
   "execution_count": 11,
   "id": "61a3038f-0338-4543-b350-c3c7d3ff3fa4",
   "metadata": {},
   "outputs": [
    {
     "data": {
      "text/plain": [
       "array([ 0.60326144, -1.70065573])"
      ]
     },
     "execution_count": 11,
     "metadata": {},
     "output_type": "execute_result"
    }
   ],
   "source": [
    "np.sin(theta_estimate1)-np.sin(theta1)"
   ]
  },
  {
   "cell_type": "code",
   "execution_count": 12,
   "id": "07f23bde-530c-400f-8a10-8a0a59176889",
   "metadata": {},
   "outputs": [],
   "source": [
    "theta2 = [0.5]\n",
    "GS_2 = np.array([[0.7]])\n",
    "GN_2 = 0.1*np.eye(5, dtype=np.float64)"
   ]
  },
  {
   "cell_type": "code",
   "execution_count": 13,
   "id": "b74ede85-4b72-4628-b7f1-46a2bfe768bf",
   "metadata": {},
   "outputs": [],
   "source": [
    "A2 = np.zeros((5, 1),dtype=np.complex128)\n",
    "for i in range(1):\n",
    "    A2[:,i] = np.exp(-2j * np.pi * dist_ratio * np.arange(5) * np.sin(theta2[i]))"
   ]
  },
  {
   "cell_type": "code",
   "execution_count": 14,
   "id": "c3f4848b-d644-4fac-81be-280419b853b8",
   "metadata": {},
   "outputs": [
    {
     "data": {
      "text/plain": [
       "array([[ 1.        +0.j        ],\n",
       "       [ 0.06459158-0.99791178j],\n",
       "       [-0.99165586-0.1289134j ],\n",
       "       [-0.19269681+0.98125834j],\n",
       "       [ 0.96676267+0.25567545j]])"
      ]
     },
     "execution_count": 14,
     "metadata": {},
     "output_type": "execute_result"
    }
   ],
   "source": [
    "A2"
   ]
  },
  {
   "cell_type": "code",
   "execution_count": 15,
   "id": "4956d1eb-601e-47e3-8e66-725c9eb1d3fa",
   "metadata": {},
   "outputs": [],
   "source": [
    "s2 = CN(1,sample_size,GS_2)\n",
    "n2 = CN(5,sample_size,GN_2)\n",
    "X2 = np.zeros((sample_size, 5), dtype=np.complex128)\n",
    "for i in range(sample_size):\n",
    "    X2[i] = A2 @ s2[i] + n2[i]"
   ]
  },
  {
   "cell_type": "code",
   "execution_count": 16,
   "id": "569d6c62-4af5-465c-98cd-1ef1ed941d93",
   "metadata": {},
   "outputs": [],
   "source": [
    "W1, W2 = goal_function(X2, GS_2, GN_2, 50)"
   ]
  },
  {
   "cell_type": "code",
   "execution_count": 17,
   "id": "6bbeb039-2000-4761-91f0-0626a1e76545",
   "metadata": {},
   "outputs": [
    {
     "data": {
      "text/plain": [
       "[<matplotlib.lines.Line2D at 0x21ceb7193f0>]"
      ]
     },
     "execution_count": 17,
     "metadata": {},
     "output_type": "execute_result"
    },
    {
     "data": {
      "image/png": "[encoded data removed]",
      "text/plain": [
       "<Figure size 640x480 with 1 Axes>"
      ]
     },
     "metadata": {},
     "output_type": "display_data"
    }
   ],
   "source": [
    "plt.title(\"График функции, подлежащей максимизации, на первом шаге ЕМ-алгоритма\")\n",
    "plt.plot(W1, W2.real, color='green')"
   ]
  },
  {
   "cell_type": "code",
   "execution_count": 18,
   "id": "f0ad2519-28a4-41f5-8698-606a0b58805b",
   "metadata": {},
   "outputs": [
    {
     "name": "stdout",
     "output_type": "stream",
     "text": [
      "Initial theta = [[0.90568055]]\n",
      "K=[[0.01944444-5.82867088e-17j]]\n",
      "theta_new=[0.75647322]\n",
      "Iteration=1\n",
      "K=[[0.01944444-3.78863607e-16j]]\n",
      "theta_new=[0.66509066]\n",
      "Iteration=2\n",
      "K=[[0.01944444-3.59434704e-16j]]\n",
      "theta_new=[0.60715503]\n",
      "Iteration=3\n",
      "K=[[0.01944444-3.78863607e-16j]]\n",
      "theta_new=[0.5695043]\n",
      "Iteration=4\n",
      "K=[[0.01944444+1.50573998e-16j]]\n",
      "theta_new=[0.54469972]\n",
      "Iteration=5\n",
      "K=[[0.01944444+1.1900203e-16j]]\n",
      "theta_new=[0.52820979]\n",
      "Iteration=6\n",
      "K=[[0.01944444+2.48932819e-17j]]\n",
      "theta_new=[0.51719682]\n",
      "Iteration=7\n",
      "K=[[0.01944444+3.0964814e-17j]]\n",
      "theta_new=[0.50982272]\n",
      "Iteration=8\n",
      "K=[[0.01944444-8.50014503e-18j]]\n",
      "theta_new=[0.50489377]\n",
      "Iteration=9\n",
      "K=[[0.01944444+8.25728375e-17j]]\n",
      "theta_new=[0.50159027]\n",
      "Iteration=10\n",
      "K=[[0.01944444+1.70002901e-16j]]\n",
      "theta_new=[0.49933703]\n",
      "Iteration=11\n",
      "K=[[0.01944444+4.37150316e-17j]]\n",
      "theta_new=[0.49782537]\n",
      "Iteration=12\n",
      "K=[[0.01944444+1.48145385e-16j]]\n",
      "theta_new=[0.49685305]\n",
      "Iteration=13\n",
      "K=[[0.01944444-2.30718222e-16j]]\n",
      "theta_new=[0.49617376]\n",
      "Iteration=14\n",
      "K=[[0.01944444-2.74433254e-16j]]\n",
      "theta_new=[0.49573767]\n",
      "Iteration=15\n",
      "K=[[0.01944444+2.04003481e-16j]]\n",
      "theta_new=[0.4954472]\n",
      "Iteration=16\n",
      "K=[[0.01944444-2.86576318e-16j]]\n",
      "theta_new=[0.49520528]\n",
      "Iteration=17\n",
      "K=[[0.01944444+2.06432094e-16j]]\n",
      "theta_new=[0.4950602]\n",
      "Iteration=18\n",
      "K=[[0.01944444-2.7929048e-16j]]\n",
      "theta_new=[0.49496351]\n",
      "Iteration=19\n",
      "K=[[0.01944444+1.14144805e-16j]]\n",
      "theta_new=[0.49491517]\n",
      "Iteration=20\n"
     ]
    }
   ],
   "source": [
    "theta_estimate2=EM(X2, GS_2, GN_2)"
   ]
  },
  {
   "cell_type": "code",
   "execution_count": 19,
   "id": "b07f261b-e5cc-45b7-9e28-cdbe40aca681",
   "metadata": {},
   "outputs": [
    {
     "data": {
      "text/plain": [
       "array([0.49491517])"
      ]
     },
     "execution_count": 19,
     "metadata": {},
     "output_type": "execute_result"
    }
   ],
   "source": [
    "theta_estimate2"
   ]
  },
  {
   "cell_type": "code",
   "execution_count": 22,
   "id": "cc13f26f-4cdb-482c-88e5-967ce565ff31",
   "metadata": {},
   "outputs": [
    {
     "data": {
      "text/plain": [
       "array([0.00508483])"
      ]
     },
     "execution_count": 22,
     "metadata": {},
     "output_type": "execute_result"
    }
   ],
   "source": [
    "np.abs(theta_estimate2-theta2)"
   ]
  },
  {
   "cell_type": "code",
   "execution_count": null,
   "id": "db250388-a8c0-4c78-8116-6b61fea37ff2",
   "metadata": {},
   "outputs": [],
   "source": []
  }
 ],
 "metadata": {
  "kernelspec": {
   "display_name": "Python 3 (ipykernel)",
   "language": "python",
   "name": "python3"
  },
  "language_info": {
   "codemirror_mode": {
    "name": "ipython",
    "version": 3
   },
   "file_extension": ".py",
   "mimetype": "text/x-python",
   "name": "python",
   "nbconvert_exporter": "python",
   "pygments_lexer": "ipython3",
   "version": "3.10.9"
  }
 },
 "nbformat": 4,
 "nbformat_minor": 5
}
