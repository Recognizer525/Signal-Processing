{
 "cells": [
  {
   "cell_type": "code",
   "execution_count": 1,
   "id": "61f6543a-5bed-4ef0-883e-86578d03be3a",
   "metadata": {},
   "outputs": [],
   "source": [
    "import numpy as np\n",
    "from sensors import *"
   ]
  },
  {
   "cell_type": "code",
   "execution_count": null,
   "id": "70a07ee3-ab98-44c8-930d-1fefd2deec01",
   "metadata": {},
   "outputs": [],
   "source": []
  }
 ],
 "metadata": {
  "kernelspec": {
   "display_name": "Python 3 (ipykernel)",
   "language": "python",
   "name": "python3"
  },
  "language_info": {
   "codemirror_mode": {
    "name": "ipython",
    "version": 3
   },
   "file_extension": ".py",
   "mimetype": "text/x-python",
   "name": "python",
   "nbconvert_exporter": "python",
   "pygments_lexer": "ipython3",
   "version": "3.10.9"
  }
 },
 "nbformat": 4,
 "nbformat_minor": 5
}
