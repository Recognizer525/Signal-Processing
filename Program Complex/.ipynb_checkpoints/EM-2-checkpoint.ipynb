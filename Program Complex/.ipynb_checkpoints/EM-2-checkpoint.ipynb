{
 "cells": [
  {
   "cell_type": "code",
   "execution_count": 1,
   "id": "f6d83933-0806-43ac-9522-f58d2b123fe0",
   "metadata": {},
   "outputs": [],
   "source": [
    "import numpy as np\n",
    "import matplotlib.pyplot as plt\n",
    "from sensors import *\n",
    "from functools import partial"
   ]
  },
  {
   "cell_type": "markdown",
   "id": "673f4280-b135-4caa-afad-e2be2609c30f",
   "metadata": {},
   "source": [
    "# Case 1"
   ]
  },
  {
   "cell_type": "markdown",
   "id": "8847faa8-3c1d-4541-96dc-bcec5343fafa",
   "metadata": {},
   "source": [
    "Имеется 5 датчиков, 1 источник (дисперсия сигнала 0.7), и шум на каждом датчике имеет дисперсию 4.1."
   ]
  },
  {
   "cell_type": "code",
   "execution_count": 3,
   "id": "309fdf65-4f6a-4414-9414-8546ae9f2432",
   "metadata": {},
   "outputs": [],
   "source": [
    "Num_sensors1 = 5\n",
    "Num_emitters1 = 1\n",
    "sample_size1 = 100\n",
    "theta1_rad = [0.5] # Направление прибытия (DOA) в радианах\n",
    "theta1_deg = np.rad2deg(theta1_rad[0]) # Направление прибытия (DOA) в градусах\n",
    "GS_1 = np.array([[0.7]]) # Ковариация сигнала\n",
    "GN_1 = 4.1*np.eye(5, dtype=np.float64) # Ковариация шума\n",
    "A1 = np.exp(-2j * np.pi * dist_ratio * np.arange(Num_sensors1).reshape(-1,1) * np.sin(theta1_rad).reshape(1,-1)) # Матрица управляющих векторов\n",
    "# Генерация векторов сигнала, шума и принятого сигнала\n",
    "s1 = CN(Num_emitters1, sample_size1, GS_1)\n",
    "n1 = CN(Num_sensors1, sample_size1, GN_1)\n",
    "X1 = (A1 @ s1.T + n1.T).T"
   ]
  },
  {
   "cell_type": "code",
   "execution_count": null,
   "id": "2c282650-6098-4d2a-83b3-9eb69a90eb5a",
   "metadata": {},
   "outputs": [],
   "source": []
  }
 ],
 "metadata": {
  "kernelspec": {
   "display_name": "Python 3 (ipykernel)",
   "language": "python",
   "name": "python3"
  },
  "language_info": {
   "codemirror_mode": {
    "name": "ipython",
    "version": 3
   },
   "file_extension": ".py",
   "mimetype": "text/x-python",
   "name": "python",
   "nbconvert_exporter": "python",
   "pygments_lexer": "ipython3",
   "version": "3.10.9"
  }
 },
 "nbformat": 4,
 "nbformat_minor": 5
}
