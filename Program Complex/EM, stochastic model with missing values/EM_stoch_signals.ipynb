{
 "cells": [
  {
   "cell_type": "markdown",
   "id": "80484267-c725-4a89-ade4-3cd938b766fe",
   "metadata": {},
   "source": [
    "# ECM-алгоритм для случая, когда шум известен, а сигналы предполагаются стохастическими"
   ]
  },
  {
   "cell_type": "code",
   "execution_count": 1,
   "id": "96c331ee-dc84-4a15-bc09-1346d67a415e",
   "metadata": {},
   "outputs": [],
   "source": [
    "import numpy as np\n",
    "import matplotlib.pyplot as plt\n",
    "import em_stools\n",
    "from functools import partial"
   ]
  },
  {
   "cell_type": "code",
   "execution_count": 2,
   "id": "9d55aed5-2bc2-47cb-9fe7-e78bdb757034",
   "metadata": {},
   "outputs": [],
   "source": [
    "dist_ratio = 0.5"
   ]
  },
  {
   "cell_type": "code",
   "execution_count": 3,
   "id": "f1404a9c-e87c-41f6-9080-a83555320b04",
   "metadata": {},
   "outputs": [],
   "source": [
    "Num_sensors1 = 5\n",
    "Num_emitters1 = 1\n",
    "sample_size1 = 100\n",
    "theta1_rad = [0.5] # Направление прибытия (DOA) в радианах\n",
    "theta1_deg = np.rad2deg(theta1_rad[0]) # Направление прибытия (DOA) в градусах\n",
    "P_1 = 1 * np.eye(Num_emitters1, dtype=np.float64) # Ковариация шума\n",
    "Q_1 = 1.1 * np.eye(Num_sensors1, dtype=np.float64) # Ковариация шума\n",
    "A1 = np.exp(-2j * np.pi * dist_ratio * np.arange(Num_sensors1).reshape(-1,1) * np.sin(theta1_rad)) # Матрица управляющих векторов\n",
    "# Генерация векторов сигнала, шума и принятого сигнала\n",
    "S1 = em_stools.gss(Num_emitters1, sample_size1, P_1)\n",
    "n1 = em_stools.gss(Num_sensors1, sample_size1, Q_1)\n",
    "X1 = (A1 @ S1.T + n1.T).T"
   ]
  },
  {
   "cell_type": "code",
   "execution_count": 4,
   "id": "04c95acd-48a4-4db2-8bee-1b0c49ffb7db",
   "metadata": {},
   "outputs": [
    {
     "data": {
      "text/plain": [
       "(100, 1)"
      ]
     },
     "execution_count": 4,
     "metadata": {},
     "output_type": "execute_result"
    }
   ],
   "source": [
    "S1.shape"
   ]
  },
  {
   "cell_type": "code",
   "execution_count": 5,
   "id": "0a53c210-3da7-44e8-af03-ef4e700989c3",
   "metadata": {},
   "outputs": [],
   "source": [
    "X1_with_mv = em_stools.MCAR(X1, [2,4], [40, 40])"
   ]
  },
  {
   "cell_type": "code",
   "execution_count": 6,
   "id": "1c19eb4a-8543-44e5-bd0c-95748e48815e",
   "metadata": {},
   "outputs": [],
   "source": [
    "#EM_theta1_rad, lhd_1 = em_stools.multi_start_EM(X1, 1, Q_1, 10, max_iter=10, eps=1e-6)"
   ]
  },
  {
   "cell_type": "code",
   "execution_count": 7,
   "id": "385f862c-c3bd-4ce9-a0d2-2f81fe053da6",
   "metadata": {},
   "outputs": [],
   "source": [
    "#EM_theta1_deg = np.rad2deg(EM_theta1_rad)"
   ]
  },
  {
   "cell_type": "code",
   "execution_count": 8,
   "id": "803140b2-c1de-471f-9dd3-a25b0dae7c64",
   "metadata": {},
   "outputs": [],
   "source": [
    "#print(f\"Погрешность в смысле разности углов в градусах: {np.abs(EM_theta1_deg-theta1_deg)}.\\nПогрешность в смысле разности синусов углов {np.abs(np.sin(EM_theta1_rad)-np.sin(theta1_rad))}.\")"
   ]
  },
  {
   "cell_type": "code",
   "execution_count": 30,
   "id": "c4decc69-487a-4065-a61c-b36ff84fb347",
   "metadata": {},
   "outputs": [
    {
     "name": "stdout",
     "output_type": "stream",
     "text": [
      "1.704757879308132\n"
     ]
    }
   ],
   "source": [
    "import numpy as np\n",
    "nu = np.random.RandomState(10).uniform(-np.pi, np.pi)\n",
    "print(nu)"
   ]
  },
  {
   "cell_type": "code",
   "execution_count": 42,
   "id": "729ce108-fb19-4c5c-83c2-520ac78d46c0",
   "metadata": {},
   "outputs": [],
   "source": [
    "theta = np.array([(nu + i * 2 * np.pi/10)%(2 * np.pi) for i in range(0,10)]) - np.pi"
   ]
  },
  {
   "cell_type": "code",
   "execution_count": 43,
   "id": "4738f6c3-a06f-4a98-9342-151d02f613e6",
   "metadata": {},
   "outputs": [
    {
     "name": "stdout",
     "output_type": "stream",
     "text": [
      "1.704757879308132\n",
      "[-1.43683477 -0.80851624 -0.18019771  0.44812082  1.07643935  1.70475788\n",
      "  2.33307641  2.96139494 -2.69347184 -2.0651533 ]\n"
     ]
    }
   ],
   "source": [
    "print(nu)\n",
    "print(theta)"
   ]
  },
  {
   "cell_type": "code",
   "execution_count": 44,
   "id": "f875d7a7-c75e-4340-8e45-7e27b65e3822",
   "metadata": {},
   "outputs": [
    {
     "data": {
      "text/plain": [
       "1.0"
      ]
     },
     "execution_count": 44,
     "metadata": {},
     "output_type": "execute_result"
    }
   ],
   "source": [
    "(theta[2]-theta[1])*10/2/np.pi"
   ]
  },
  {
   "cell_type": "code",
   "execution_count": 35,
   "id": "6079a50f-7a84-4fff-b330-b7ec4eb13f07",
   "metadata": {},
   "outputs": [
    {
     "data": {
      "text/plain": [
       "-1.4368347742816612"
      ]
     },
     "execution_count": 35,
     "metadata": {},
     "output_type": "execute_result"
    }
   ],
   "source": [
    "nu - np.pi"
   ]
  },
  {
   "cell_type": "code",
   "execution_count": 36,
   "id": "dab9ec61-fd49-4361-bfbf-354bdd7874a9",
   "metadata": {},
   "outputs": [],
   "source": [
    "A = np.arange(25).reshape(5,5)"
   ]
  },
  {
   "cell_type": "code",
   "execution_count": 37,
   "id": "ebae368e-7677-4f83-9b5c-089b31c52429",
   "metadata": {},
   "outputs": [
    {
     "data": {
      "text/plain": [
       "array([[ 0,  1,  2,  3,  4],\n",
       "       [ 5,  6,  7,  8,  9],\n",
       "       [10, 11, 12, 13, 14],\n",
       "       [15, 16, 17, 18, 19],\n",
       "       [20, 21, 22, 23, 24]])"
      ]
     },
     "execution_count": 37,
     "metadata": {},
     "output_type": "execute_result"
    }
   ],
   "source": [
    "A"
   ]
  },
  {
   "cell_type": "code",
   "execution_count": 38,
   "id": "15b4220f-8d91-4ba3-a3bd-c224e6762898",
   "metadata": {},
   "outputs": [
    {
     "data": {
      "text/plain": [
       "array([ 0,  5, 10, 15, 20])"
      ]
     },
     "execution_count": 38,
     "metadata": {},
     "output_type": "execute_result"
    }
   ],
   "source": [
    "A[:,0]"
   ]
  },
  {
   "cell_type": "code",
   "execution_count": 39,
   "id": "75f7d9ca-1e50-45cd-a001-3d6b0a61fe54",
   "metadata": {},
   "outputs": [
    {
     "data": {
      "text/plain": [
       "array([0, 1, 2, 3, 4])"
      ]
     },
     "execution_count": 39,
     "metadata": {},
     "output_type": "execute_result"
    }
   ],
   "source": [
    "A[0,:]"
   ]
  },
  {
   "cell_type": "code",
   "execution_count": 41,
   "id": "0b27e570-9fd9-4965-a53f-de73680c6c58",
   "metadata": {},
   "outputs": [
    {
     "data": {
      "text/plain": [
       "750"
      ]
     },
     "execution_count": 41,
     "metadata": {},
     "output_type": "execute_result"
    }
   ],
   "source": [
    "A[:,0] @ A[:,0]"
   ]
  },
  {
   "cell_type": "code",
   "execution_count": null,
   "id": "55a442f8-e11f-42bd-99ca-53d4ed0dd345",
   "metadata": {},
   "outputs": [],
   "source": []
  }
 ],
 "metadata": {
  "kernelspec": {
   "display_name": "Python 3 (ipykernel)",
   "language": "python",
   "name": "python3"
  },
  "language_info": {
   "codemirror_mode": {
    "name": "ipython",
    "version": 3
   },
   "file_extension": ".py",
   "mimetype": "text/x-python",
   "name": "python",
   "nbconvert_exporter": "python",
   "pygments_lexer": "ipython3",
   "version": "3.10.9"
  }
 },
 "nbformat": 4,
 "nbformat_minor": 5
}
