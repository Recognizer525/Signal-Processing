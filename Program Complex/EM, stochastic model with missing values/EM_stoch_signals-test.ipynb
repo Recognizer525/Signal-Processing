{
 "cells": [
  {
   "cell_type": "markdown",
   "id": "80484267-c725-4a89-ade4-3cd938b766fe",
   "metadata": {},
   "source": [
    "# ECM-алгоритм для случая, когда шум известен, а сигналы предполагаются стохастическими"
   ]
  },
  {
   "cell_type": "code",
   "execution_count": 1,
   "id": "96c331ee-dc84-4a15-bc09-1346d67a415e",
   "metadata": {},
   "outputs": [],
   "source": [
    "import numpy as np\n",
    "import matplotlib.pyplot as plt\n",
    "import em_stools_test\n",
    "from functools import partial"
   ]
  },
  {
   "cell_type": "code",
   "execution_count": 2,
   "id": "9d55aed5-2bc2-47cb-9fe7-e78bdb757034",
   "metadata": {},
   "outputs": [],
   "source": [
    "dist_ratio = 0.5"
   ]
  },
  {
   "cell_type": "code",
   "execution_count": 3,
   "id": "f1404a9c-e87c-41f6-9080-a83555320b04",
   "metadata": {},
   "outputs": [],
   "source": [
    "Num_sensors1 = 5\n",
    "Num_emitters1 = 1\n",
    "sample_size1 = 100\n",
    "theta1_rad = [0.5] # Направление прибытия (DOA) в радианах\n",
    "theta1_deg = np.rad2deg(theta1_rad[0]) # Направление прибытия (DOA) в градусах\n",
    "P_1 = 1 * np.eye(Num_emitters1, dtype=np.float64) # Ковариация шума\n",
    "Q_1 = 1.1 * np.eye(Num_sensors1, dtype=np.float64) # Ковариация шума\n",
    "A1 = np.exp(-2j * np.pi * dist_ratio * np.arange(Num_sensors1).reshape(-1,1) * np.sin(theta1_rad)) # Матрица управляющих векторов\n",
    "# Генерация векторов сигнала, шума и принятого сигнала\n",
    "S1 = em_stools_test.gss(Num_emitters1, sample_size1, P_1)\n",
    "n1 = em_stools_test.gss(Num_sensors1, sample_size1, Q_1)\n",
    "X1 = (A1 @ S1.T + n1.T).T"
   ]
  },
  {
   "cell_type": "code",
   "execution_count": 4,
   "id": "04c95acd-48a4-4db2-8bee-1b0c49ffb7db",
   "metadata": {},
   "outputs": [
    {
     "data": {
      "text/plain": [
       "(100, 1)"
      ]
     },
     "execution_count": 4,
     "metadata": {},
     "output_type": "execute_result"
    }
   ],
   "source": [
    "S1.shape"
   ]
  },
  {
   "cell_type": "code",
   "execution_count": 5,
   "id": "0a53c210-3da7-44e8-af03-ef4e700989c3",
   "metadata": {},
   "outputs": [],
   "source": [
    "X1_with_mv = em_stools_test.MCAR(X1, [2,4], [10, 10])"
   ]
  },
  {
   "cell_type": "code",
   "execution_count": 6,
   "id": "1c19eb4a-8543-44e5-bd0c-95748e48815e",
   "metadata": {},
   "outputs": [
    {
     "name": "stdout",
     "output_type": "stream",
     "text": [
      "0-th start\n",
      "Initial theta = [-2.83488836]\n",
      "True theta = [0.5]\n",
      "true_value = (5.716843583192675+2.3654990247542664e-18j), false_value = (-2.620905593403501+2.3654990247542664e-18j)\n",
      "diff of theta is [1.26409204]\n",
      "diff of P is (261.5104659510098-4.5782019656908764e-14j)\n",
      "incomplete likelihood is -14968.812288549627\n",
      "1-th start\n",
      "Initial theta = [-2.86887136]\n",
      "True theta = [0.5]\n",
      "true_value = (5.716843583192675+2.3654990247542664e-18j), false_value = (-2.5029006013374806+2.3654990247542664e-18j)\n",
      "diff of theta is [1.29807503]\n",
      "diff of P is (254.3749624487242-3.541419764222937e-15j)\n",
      "incomplete likelihood is -14787.202844040768\n",
      "2-th start\n",
      "Initial theta = [-0.32903623]\n",
      "True theta = [0.5]\n",
      "true_value = (5.716843583192675+2.3654990247542664e-18j), false_value = (-11.322405657207401-4.8099183912752846e-17j)\n",
      "diff of theta is [0.]\n",
      "diff of P is (251.85174088735914-7.047623576388885e-14j)\n",
      "incomplete likelihood is -16175.809695030171\n"
     ]
    },
    {
     "name": "stderr",
     "output_type": "stream",
     "text": [
      "C:\\Users\\asus\\anaconda3\\envs\\diploma\\lib\\site-packages\\scipy\\optimize\\_numdiff.py:612: ComplexWarning: Casting complex values to real discards the imaginary part\n",
      "  J_transposed[i] = df / dx\n",
      "C:\\Users\\asus\\anaconda3\\envs\\diploma\\lib\\site-packages\\scipy\\optimize\\_lbfgsb_py.py:398: ComplexWarning: Casting complex values to real discards the imaginary part\n",
      "  _lbfgsb.setulb(m, x, low_bnd, upper_bnd, nbd, f, g, factr,\n"
     ]
    }
   ],
   "source": [
    "em_stools_test.test_EM(X1, 1, Q_1, true_theta = theta1_rad, true_P = P_1)"
   ]
  },
  {
   "cell_type": "code",
   "execution_count": 7,
   "id": "803140b2-c1de-471f-9dd3-a25b0dae7c64",
   "metadata": {},
   "outputs": [],
   "source": [
    "#print(f\"Погрешность в смысле разности углов в градусах: {np.abs(EM_theta1_deg-theta1_deg)}.\\nПогрешность в смысле разности синусов углов {np.abs(np.sin(EM_theta1_rad)-np.sin(theta1_rad))}.\")"
   ]
  },
  {
   "cell_type": "code",
   "execution_count": 8,
   "id": "25a9847c-0cd4-44da-b729-2829cc7552e7",
   "metadata": {},
   "outputs": [],
   "source": [
    "R = np.cov(X1.T)"
   ]
  },
  {
   "cell_type": "code",
   "execution_count": 9,
   "id": "f6b3838b-4655-4fa9-889e-b5e43c60f761",
   "metadata": {},
   "outputs": [
    {
     "data": {
      "text/plain": [
       "(5, 5)"
      ]
     },
     "execution_count": 9,
     "metadata": {},
     "output_type": "execute_result"
    }
   ],
   "source": [
    "R.shape"
   ]
  },
  {
   "cell_type": "code",
   "execution_count": 10,
   "id": "e290a033-4986-4ed9-8cf1-ab1458f33d8e",
   "metadata": {},
   "outputs": [],
   "source": [
    "inv_Q = np.linalg.inv(Q_1)"
   ]
  },
  {
   "cell_type": "code",
   "execution_count": 11,
   "id": "9c6bffc7-508a-4717-a292-916db65e710a",
   "metadata": {},
   "outputs": [],
   "source": [
    "A = em_stools_test.A_ULA(X1.shape[1], theta1_rad)"
   ]
  },
  {
   "cell_type": "code",
   "execution_count": 12,
   "id": "d7f5685b-02cb-4061-bfb9-e9f94bb6a997",
   "metadata": {},
   "outputs": [
    {
     "data": {
      "text/plain": [
       "(5.716843583192675+2.3654990247542664e-18j)"
      ]
     },
     "execution_count": 12,
     "metadata": {},
     "output_type": "execute_result"
    }
   ],
   "source": [
    "np.trace(inv_Q@(R-A@P_1@A.conj().T))"
   ]
  },
  {
   "cell_type": "code",
   "execution_count": 13,
   "id": "93f3cc2e-51bf-4dc3-bba6-ce1dc4aebf59",
   "metadata": {},
   "outputs": [
    {
     "data": {
      "text/plain": [
       "5.716843583192675"
      ]
     },
     "execution_count": 13,
     "metadata": {},
     "output_type": "execute_result"
    }
   ],
   "source": [
    "np.abs(np.trace(inv_Q@(R-A@P_1@A.conj().T)))"
   ]
  },
  {
   "cell_type": "code",
   "execution_count": null,
   "id": "90289c16-d3bc-44be-b081-0bf562e7e9d3",
   "metadata": {},
   "outputs": [],
   "source": []
  }
 ],
 "metadata": {
  "kernelspec": {
   "display_name": "Python 3 (ipykernel)",
   "language": "python",
   "name": "python3"
  },
  "language_info": {
   "codemirror_mode": {
    "name": "ipython",
    "version": 3
   },
   "file_extension": ".py",
   "mimetype": "text/x-python",
   "name": "python",
   "nbconvert_exporter": "python",
   "pygments_lexer": "ipython3",
   "version": "3.10.9"
  }
 },
 "nbformat": 4,
 "nbformat_minor": 5
}
