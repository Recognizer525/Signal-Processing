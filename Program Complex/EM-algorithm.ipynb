{
 "cells": [
  {
   "cell_type": "code",
   "execution_count": 1,
   "id": "c9413b81-cfa1-46d3-92cb-3cfb0d1df8ea",
   "metadata": {},
   "outputs": [],
   "source": [
    "import numpy as np\n",
    "import matplotlib.pyplot as plt\n",
    "from sensors import *\n",
    "from functools import partial"
   ]
  },
  {
   "cell_type": "code",
   "execution_count": 2,
   "id": "1759ce5b-8986-420c-8f87-54925b3f1a87",
   "metadata": {},
   "outputs": [],
   "source": [
    "# Отношение расстояния между датчиками к длине волны\n",
    "dist_ratio = 0.5"
   ]
  },
  {
   "cell_type": "code",
   "execution_count": 3,
   "id": "01600988-c703-45e9-a505-a3e7b372cdc5",
   "metadata": {},
   "outputs": [],
   "source": [
    "Num_sensors1 = 5\n",
    "Num_emitters1 = 1\n",
    "sample_size1 = 100\n",
    "theta1 = [0.5] # Направление прибытия (DOA) в радианах\n",
    "GS_1 = np.array([[0.7]]) # Ковариация сигнала\n",
    "GN_1 = 0.8*np.eye(5, dtype=np.float64) # Ковариация шума"
   ]
  },
  {
   "cell_type": "code",
   "execution_count": 4,
   "id": "33564dd6-9b2c-49d1-b056-21c6554bf883",
   "metadata": {},
   "outputs": [],
   "source": [
    "A1 = np.exp(-2j * np.pi * dist_ratio * np.arange(Num_sensors1).reshape(-1,1) * np.sin(theta1).reshape(1,-1))"
   ]
  },
  {
   "cell_type": "code",
   "execution_count": 5,
   "id": "23ddbe3c-d569-49ac-9d1b-319cb8cb94c5",
   "metadata": {},
   "outputs": [
    {
     "data": {
      "text/plain": [
       "array([[ 1.        +0.j        ],\n",
       "       [ 0.06459158-0.99791178j],\n",
       "       [-0.99165586-0.1289134j ],\n",
       "       [-0.19269681+0.98125834j],\n",
       "       [ 0.96676267+0.25567545j]])"
      ]
     },
     "execution_count": 5,
     "metadata": {},
     "output_type": "execute_result"
    }
   ],
   "source": [
    "A1"
   ]
  },
  {
   "cell_type": "code",
   "execution_count": 6,
   "id": "3f05461d-6601-42e5-b997-1a433d7c9a0c",
   "metadata": {},
   "outputs": [],
   "source": [
    "s1 = CN(Num_emitters1, sample_size1, GS_1)\n",
    "n1 = CN(Num_sensors1, sample_size1, GN_1)\n",
    "X1 = (A1 @ s1.T + n1.T).T"
   ]
  },
  {
   "cell_type": "code",
   "execution_count": 7,
   "id": "7a683c4f-1aa8-4df9-b43a-6be739860290",
   "metadata": {},
   "outputs": [
    {
     "name": "stdout",
     "output_type": "stream",
     "text": [
      "(100, 5)\n"
     ]
    }
   ],
   "source": [
    "print(X1.shape)"
   ]
  },
  {
   "cell_type": "code",
   "execution_count": 8,
   "id": "8d540c1b-76ae-4e24-9f02-b04619d7c550",
   "metadata": {},
   "outputs": [
    {
     "name": "stdout",
     "output_type": "stream",
     "text": [
      "0-th start\n",
      "Iteration=1, theta_new=[-2.43273311], -likelihood = -89.11899\n",
      "Iteration=2, theta_new=[-2.44579955], -likelihood = -90.01418\n",
      "Iteration=3, theta_new=[-2.46030954], -likelihood = -91.19930\n",
      "Iteration=4, theta_new=[-2.47592674], -likelihood = -92.66496\n",
      "Iteration=5, theta_new=[-2.49200576], -likelihood = -94.35921\n",
      "Iteration=6, theta_new=[-2.50794583], -likelihood = -96.16209\n",
      "Iteration=7, theta_new=[-2.52319189], -likelihood = -97.94067\n",
      "Iteration=8, theta_new=[-2.5372986], -likelihood = -99.57540\n",
      "Iteration=9, theta_new=[-2.55005943], -likelihood = -100.98551\n",
      "Iteration=10, theta_new=[-2.561328], -likelihood = -102.14514\n",
      "Iteration=11, theta_new=[-2.57114559], -likelihood = -103.05767\n",
      "Iteration=12, theta_new=[-2.57961983], -likelihood = -103.75543\n",
      "Iteration=13, theta_new=[-2.58686241], -likelihood = -104.27795\n",
      "Iteration=14, theta_new=[-2.59298853], -likelihood = -104.66206\n",
      "Iteration=15, theta_new=[-2.59817957], -likelihood = -104.93991\n",
      "Iteration=16, theta_new=[-2.60255639], -likelihood = -105.14047\n",
      "Iteration=17, theta_new=[-2.60624165], -likelihood = -105.28412\n",
      "Iteration=18, theta_new=[-2.60935947], -likelihood = -105.38670\n",
      "Iteration=19, theta_new=[-2.61203508], -likelihood = -105.46019\n",
      "Iteration=20, theta_new=[-2.61426704], -likelihood = -105.51346\n",
      "1-th start\n",
      "Iteration=1, theta_new=[1.41772627], -likelihood = -110.85449\n",
      "Iteration=2, theta_new=[1.57078256], -likelihood = -115.27795\n",
      "norm=0.0\n",
      "Iteration=3, theta_new=[1.57078256], -likelihood = -116.53738\n",
      "2-th start\n",
      "Iteration=1, theta_new=[-2.98787788], -likelihood = -105.51513\n",
      "Iteration=2, theta_new=[-2.99881981], -likelihood = -107.18097\n",
      "Iteration=3, theta_new=[-3.00848398], -likelihood = -108.54720\n",
      "Iteration=4, theta_new=[-3.0168572], -likelihood = -109.61491\n",
      "Iteration=5, theta_new=[-3.02400161], -likelihood = -110.42020\n",
      "Iteration=6, theta_new=[-3.03012935], -likelihood = -111.01131\n",
      "Iteration=7, theta_new=[-3.03523382], -likelihood = -111.44342\n",
      "Iteration=8, theta_new=[-3.03953176], -likelihood = -111.74823\n",
      "Iteration=9, theta_new=[-3.04316791], -likelihood = -111.96478\n",
      "Iteration=10, theta_new=[-3.04621405], -likelihood = -112.11871\n",
      "Iteration=11, theta_new=[-3.04874265], -likelihood = -112.22667\n",
      "Iteration=12, theta_new=[-3.05082675], -likelihood = -112.30157\n",
      "Iteration=13, theta_new=[-3.05261434], -likelihood = -112.35317\n",
      "Iteration=14, theta_new=[-3.05410488], -likelihood = -112.39010\n",
      "Iteration=15, theta_new=[-3.05529789], -likelihood = -112.41569\n",
      "Iteration=16, theta_new=[-3.05634218], -likelihood = -112.43274\n",
      "Iteration=17, theta_new=[-3.05716298], -likelihood = -112.44517\n",
      "Iteration=18, theta_new=[-3.05783472], -likelihood = -112.45329\n",
      "Iteration=19, theta_new=[-3.05843195], -likelihood = -112.45886\n",
      "Iteration=20, theta_new=[-3.05887996], -likelihood = -112.46298\n",
      "3-th start\n",
      "Iteration=1, theta_new=[2.32332866], -likelihood = -137.78654\n",
      "Iteration=2, theta_new=[2.39786123], -likelihood = -201.41887\n",
      "Iteration=3, theta_new=[2.46003233], -likelihood = -281.15125\n",
      "Iteration=4, theta_new=[2.50759937], -likelihood = -350.49005\n",
      "Iteration=5, theta_new=[2.54280126], -likelihood = -398.63058\n",
      "Iteration=6, theta_new=[2.56862659], -likelihood = -428.20302\n",
      "Iteration=7, theta_new=[2.58743977], -likelihood = -445.28936\n",
      "Iteration=8, theta_new=[2.60114764], -likelihood = -454.80230\n",
      "Iteration=9, theta_new=[2.61118137], -likelihood = -460.01349\n",
      "Iteration=10, theta_new=[2.61851256], -likelihood = -462.85388\n",
      "Iteration=11, theta_new=[2.62388256], -likelihood = -464.39020\n",
      "Iteration=12, theta_new=[2.6277902], -likelihood = -465.22041\n",
      "Iteration=13, theta_new=[2.63067717], -likelihood = -465.66547\n",
      "Iteration=14, theta_new=[2.63279662], -likelihood = -465.90744\n",
      "Iteration=15, theta_new=[2.63433927], -likelihood = -466.03783\n",
      "Iteration=16, theta_new=[2.63549694], -likelihood = -466.10744\n",
      "Iteration=17, theta_new=[2.6363334], -likelihood = -466.14569\n",
      "Iteration=18, theta_new=[2.63691267], -likelihood = -466.16581\n",
      "Iteration=19, theta_new=[2.63736332], -likelihood = -466.17606\n",
      "Iteration=20, theta_new=[2.63768526], -likelihood = -466.18194\n",
      "4-th start\n",
      "Iteration=1, theta_new=[-0.16989788], -likelihood = -102.90979\n",
      "Iteration=2, theta_new=[-0.15748737], -likelihood = -104.91455\n",
      "Iteration=3, theta_new=[-0.14616796], -likelihood = -106.67608\n",
      "Iteration=4, theta_new=[-0.13611891], -likelihood = -108.13999\n",
      "Iteration=5, theta_new=[-0.12734562], -likelihood = -109.29751\n",
      "Iteration=6, theta_new=[-0.11978448], -likelihood = -110.18179\n",
      "Iteration=7, theta_new=[-0.11332735], -likelihood = -110.83962\n",
      "Iteration=8, theta_new=[-0.10792659], -likelihood = -111.31950\n",
      "Iteration=9, theta_new=[-0.10337344], -likelihood = -111.66005\n",
      "Iteration=10, theta_new=[-0.09949693], -likelihood = -111.90258\n",
      "Iteration=11, theta_new=[-0.09630992], -likelihood = -112.07614\n",
      "Iteration=12, theta_new=[-0.09360121], -likelihood = -112.19570\n",
      "Iteration=13, theta_new=[-0.09140743], -likelihood = -112.28071\n",
      "Iteration=14, theta_new=[-0.08955071], -likelihood = -112.33827\n",
      "Iteration=15, theta_new=[-0.08801156], -likelihood = -112.37902\n",
      "Iteration=16, theta_new=[-0.08670514], -likelihood = -112.40724\n",
      "Iteration=17, theta_new=[-0.08562133], -likelihood = -112.42723\n",
      "Iteration=18, theta_new=[-0.08475173], -likelihood = -112.44102\n",
      "Iteration=19, theta_new=[-0.0840234], -likelihood = -112.45027\n",
      "Iteration=20, theta_new=[-0.08336697], -likelihood = -112.45677\n",
      "5-th start\n",
      "Iteration=1, theta_new=[-1.73924992], -likelihood = -117.96515\n",
      "Iteration=2, theta_new=[-1.79597936], -likelihood = -120.39446\n",
      "Iteration=3, theta_new=[-1.83254788], -likelihood = -121.95790\n",
      "Iteration=4, theta_new=[-1.85804965], -likelihood = -122.93446\n",
      "Iteration=5, theta_new=[-1.87655756], -likelihood = -123.53206\n",
      "Iteration=6, theta_new=[-1.89021025], -likelihood = -123.89552\n",
      "Iteration=7, theta_new=[-1.90045505], -likelihood = -124.11454\n",
      "Iteration=8, theta_new=[-1.90824988], -likelihood = -124.24673\n",
      "Iteration=9, theta_new=[-1.91411999], -likelihood = -124.32677\n",
      "Iteration=10, theta_new=[-1.9186062], -likelihood = -124.37441\n",
      "Iteration=11, theta_new=[-1.92207244], -likelihood = -124.40310\n",
      "Iteration=12, theta_new=[-1.92479412], -likelihood = -124.42052\n",
      "Iteration=13, theta_new=[-1.92686177], -likelihood = -124.43120\n",
      "Iteration=14, theta_new=[-1.92846122], -likelihood = -124.43752\n",
      "Iteration=15, theta_new=[-1.92968534], -likelihood = -124.44132\n",
      "Iteration=16, theta_new=[-1.93062757], -likelihood = -124.44359\n",
      "Iteration=17, theta_new=[-1.93138172], -likelihood = -124.44494\n",
      "Iteration=18, theta_new=[-1.93194755], -likelihood = -124.44579\n",
      "Iteration=19, theta_new=[-1.93241922], -likelihood = -124.44628\n",
      "Iteration=20, theta_new=[-1.93279665], -likelihood = -124.44659\n",
      "6-th start\n",
      "Iteration=1, theta_new=[1.34905426], -likelihood = -106.94076\n",
      "Iteration=2, theta_new=[1.45372454], -likelihood = -112.29632\n",
      "Iteration=3, theta_new=[1.57077492], -likelihood = -116.00337\n",
      "norm=0.0\n",
      "Iteration=4, theta_new=[1.57077492], -likelihood = -116.53738\n",
      "7-th start\n",
      "Iteration=1, theta_new=[1.57080127], -likelihood = -115.09170\n",
      "norm=0.0\n",
      "Iteration=2, theta_new=[1.57080127], -likelihood = -116.53738\n",
      "8-th start\n",
      "Iteration=1, theta_new=[-1.9254983], -likelihood = -124.42469\n",
      "Iteration=2, theta_new=[-1.92737867], -likelihood = -124.43353\n",
      "Iteration=3, theta_new=[-1.92888443], -likelihood = -124.43885\n",
      "Iteration=4, theta_new=[-1.93001464], -likelihood = -124.44217\n",
      "Iteration=5, theta_new=[-1.93086279], -likelihood = -124.44410\n",
      "Iteration=6, theta_new=[-1.93152275], -likelihood = -124.44523\n",
      "Iteration=7, theta_new=[-1.93208863], -likelihood = -124.44592\n",
      "Iteration=8, theta_new=[-1.93246599], -likelihood = -124.44638\n",
      "Iteration=9, theta_new=[-1.93274907], -likelihood = -124.44662\n",
      "Iteration=10, theta_new=[-1.93303218], -likelihood = -124.44676\n",
      "Iteration=11, theta_new=[-1.93322096], -likelihood = -124.44687\n",
      "Iteration=12, theta_new=[-1.93340975], -likelihood = -124.44693\n",
      "Iteration=13, theta_new=[-1.93350415], -likelihood = -124.44697\n",
      "Iteration=14, theta_new=[-1.93359856], -likelihood = -124.44699\n",
      "Iteration=15, theta_new=[-1.93369298], -likelihood = -124.44700\n",
      "Iteration=16, theta_new=[-1.93378739], -likelihood = -124.44701\n",
      "norm=0.0\n",
      "Iteration=17, theta_new=[-1.93378739], -likelihood = -124.44702\n",
      "9-th start\n",
      "Iteration=1, theta_new=[-2.58373495], -likelihood = -104.06411\n",
      "Iteration=2, theta_new=[-2.5903583], -likelihood = -104.50345\n",
      "Iteration=3, theta_new=[-2.59598676], -likelihood = -104.82600\n",
      "Iteration=4, theta_new=[-2.60074015], -likelihood = -105.05971\n",
      "Iteration=5, theta_new=[-2.60474032], -likelihood = -105.22737\n",
      "Iteration=6, theta_new=[-2.60811071], -likelihood = -105.34696\n",
      "Iteration=7, theta_new=[-2.61097606], -likelihood = -105.43223\n",
      "Iteration=8, theta_new=[-2.61333461], -likelihood = -105.49347\n",
      "Iteration=9, theta_new=[-2.61537628], -likelihood = -105.53605\n",
      "Iteration=10, theta_new=[-2.61710028], -likelihood = -105.56716\n",
      "Iteration=11, theta_new=[-2.61850595], -likelihood = -105.58928\n",
      "Iteration=12, theta_new=[-2.61972059], -likelihood = -105.60447\n",
      "Iteration=13, theta_new=[-2.62074392], -likelihood = -105.61555\n",
      "Iteration=14, theta_new=[-2.6215757], -likelihood = -105.62339\n",
      "Iteration=15, theta_new=[-2.62227973], -likelihood = -105.62877\n",
      "Iteration=16, theta_new=[-2.62285592], -likelihood = -105.63262\n",
      "Iteration=17, theta_new=[-2.62336819], -likelihood = -105.63530\n",
      "Iteration=18, theta_new=[-2.62381652], -likelihood = -105.63731\n",
      "Iteration=19, theta_new=[-2.62420087], -likelihood = -105.63879\n",
      "Iteration=20, theta_new=[-2.62452121], -likelihood = -105.63985\n"
     ]
    }
   ],
   "source": [
    "est_theta1, neglhd_1 = multi_start(10, X1, GS_1, GN_1, max_iter=20, eps=1e-6)"
   ]
  },
  {
   "cell_type": "code",
   "execution_count": 9,
   "id": "cc6f749f-595a-4ca6-8955-5fff82f699e8",
   "metadata": {},
   "outputs": [
    {
     "data": {
      "text/plain": [
       "array([2.13768526])"
      ]
     },
     "execution_count": 9,
     "metadata": {},
     "output_type": "execute_result"
    }
   ],
   "source": [
    "np.abs(est_theta1-theta1)"
   ]
  },
  {
   "cell_type": "code",
   "execution_count": 10,
   "id": "39f05013-62e1-4947-b934-62028fc23d96",
   "metadata": {},
   "outputs": [
    {
     "data": {
      "text/plain": [
       "array([0.00342539])"
      ]
     },
     "execution_count": 10,
     "metadata": {},
     "output_type": "execute_result"
    }
   ],
   "source": [
    "np.abs(np.sin(est_theta1)-np.sin(theta1))"
   ]
  },
  {
   "cell_type": "code",
   "execution_count": 11,
   "id": "6c9c1e0b-6f7d-43a2-b972-cd0fed4d6c30",
   "metadata": {},
   "outputs": [],
   "source": [
    "Num_sensors2 = 5\n",
    "Num_emitters2 = 2\n",
    "sample_size2 = 100\n",
    "theta2 = np.array([0.34906585, 1.22173048])\n",
    "GS_2 = np.array([[2,0],[0,3]]) # Ковариация сигнала\n",
    "GN_2 = 0.1*np.eye(5, dtype=np.float64) # Ковариация шума"
   ]
  },
  {
   "cell_type": "code",
   "execution_count": 12,
   "id": "c03cb4f6-00ff-4341-86b5-b3d73965348a",
   "metadata": {},
   "outputs": [],
   "source": [
    "# Матрица управляющих векторов\n",
    "A2 = np.exp(-2j * np.pi * dist_ratio * np.arange(Num_sensors2).reshape(-1,1) * np.sin(theta2).reshape(1,-1))"
   ]
  },
  {
   "cell_type": "code",
   "execution_count": 13,
   "id": "1773c31a-944c-422d-bb6b-d14e3c217d75",
   "metadata": {},
   "outputs": [
    {
     "data": {
      "text/plain": [
       "array([[ 1.        +0.j        ,  1.        +0.j        ],\n",
       "       [ 0.47618256-0.87934645j, -0.98210585-0.18832978j],\n",
       "       [-0.54650034-0.83745888j,  0.92906379+0.36991955j],\n",
       "       [-0.99665042+0.08177982j, -0.84277211-0.53827054j],\n",
       "       [-0.40267475+0.91534313j,  0.72631905+0.68735773j]])"
      ]
     },
     "execution_count": 13,
     "metadata": {},
     "output_type": "execute_result"
    }
   ],
   "source": [
    "A2"
   ]
  },
  {
   "cell_type": "code",
   "execution_count": 14,
   "id": "4c1fc5e5-0a72-4741-ab11-7bdda17f0f6e",
   "metadata": {},
   "outputs": [],
   "source": [
    "s2 = CN(Num_emitters2, sample_size2, GS_2)\n",
    "n2 = CN(Num_sensors2, sample_size2, GN_2)\n",
    "X2 = (A2 @ s2.T + n2.T).T"
   ]
  },
  {
   "cell_type": "code",
   "execution_count": null,
   "id": "256aecfb-ec73-4db6-978d-0aaeff7163d7",
   "metadata": {},
   "outputs": [
    {
     "name": "stdout",
     "output_type": "stream",
     "text": [
      "0-th start\n",
      "Iteration=1, theta_new=[-1.85575408 -1.57082003], -likelihood = -12739.93076\n",
      "Iteration=2, theta_new=[-1.90052173 -1.4986572 ], -likelihood = -13517.25381\n",
      "Iteration=3, theta_new=[-1.93494213 -1.46892526], -likelihood = -13623.53529\n",
      "Iteration=4, theta_new=[-1.96201943 -1.44967579], -likelihood = -13681.95767\n",
      "Iteration=5, theta_new=[-1.98355059 -1.43711446], -likelihood = -13717.73916\n",
      "Iteration=6, theta_new=[-2.00091464 -1.42921426], -likelihood = -13740.62377\n",
      "Iteration=7, theta_new=[-2.01506458 -1.42480672], -likelihood = -13755.71628\n",
      "Iteration=8, theta_new=[-2.02676254 -1.42301646], -likelihood = -13765.92760\n",
      "Iteration=9, theta_new=[-2.03660276 -1.42318493], -likelihood = -13773.06177\n",
      "Iteration=10, theta_new=[-2.04497511 -1.42491101], -likelihood = -13778.23893\n",
      "Iteration=11, theta_new=[-2.05219249 -1.42795195], -likelihood = -13782.13543\n",
      "Iteration=12, theta_new=[-2.05849264 -1.43202066], -likelihood = -13785.19339\n",
      "Iteration=13, theta_new=[-2.06412638 -1.43691895], -likelihood = -13787.68212\n",
      "Iteration=14, theta_new=[-2.06923935 -1.44255471], -likelihood = -13789.79300\n",
      "Iteration=15, theta_new=[-2.07388922 -1.4489166 ], -likelihood = -13791.63730\n",
      "Iteration=16, theta_new=[-2.07824763 -1.45584608], -likelihood = -13793.27932\n",
      "Iteration=17, theta_new=[-2.08231782 -1.46351515], -likelihood = -13794.77498\n",
      "Iteration=18, theta_new=[-2.08615599 -1.47189551], -likelihood = -13796.15624\n",
      "Iteration=19, theta_new=[-2.08983772 -1.48117207], -likelihood = -13797.43980\n",
      "Iteration=20, theta_new=[-2.09337381 -1.49154031], -likelihood = -13798.65187\n",
      "1-th start\n",
      "Iteration=1, theta_new=[ 1.94844562 -2.51741713], -likelihood = -13220.31253\n",
      "Iteration=2, theta_new=[ 1.93980912 -2.44424254], -likelihood = -13443.35993\n",
      "Iteration=3, theta_new=[ 1.933211   -2.39411244], -likelihood = -13611.04694\n",
      "Iteration=4, theta_new=[ 1.92736392 -2.36085601], -likelihood = -13690.74579\n",
      "Iteration=5, theta_new=[ 1.92196687 -2.33818012], -likelihood = -13730.59182\n",
      "Iteration=6, theta_new=[ 1.91697692 -2.32213662], -likelihood = -13752.81501\n",
      "Iteration=7, theta_new=[ 1.91232414 -2.31054755], -likelihood = -13766.61096\n",
      "Iteration=8, theta_new=[ 1.90800489 -2.30182493], -likelihood = -13775.93813\n",
      "Iteration=9, theta_new=[ 1.9040019  -2.29514987], -likelihood = -13782.72837\n",
      "Iteration=10, theta_new=[ 1.90032853 -2.28989599], -likelihood = -13787.89584\n",
      "Iteration=11, theta_new=[ 1.89693858 -2.28567083], -likelihood = -13791.95481\n",
      "Iteration=12, theta_new=[ 1.89386449 -2.28215451], -likelihood = -13795.23673\n",
      "Iteration=13, theta_new=[ 1.89106797 -2.27920425], -likelihood = -13797.91965\n",
      "Iteration=14, theta_new=[ 1.88852315 -2.27672337], -likelihood = -13800.14215\n",
      "Iteration=15, theta_new=[ 1.88616346 -2.27451717], -likelihood = -13801.99850\n",
      "Iteration=16, theta_new=[ 1.88397474 -2.27258169], -likelihood = -13803.60243\n",
      "Iteration=17, theta_new=[ 1.88196678 -2.27085917], -likelihood = -13804.98891\n",
      "Iteration=18, theta_new=[ 1.88015168 -2.26930966], -likelihood = -13806.18663\n",
      "Iteration=19, theta_new=[ 1.87849132 -2.26789135], -likelihood = -13807.21675\n",
      "Iteration=20, theta_new=[ 1.87696003 -2.26659666], -likelihood = -13808.11794\n",
      "2-th start\n",
      "Iteration=1, theta_new=[-0.16777629  2.28031018], -likelihood = -4929.74302\n",
      "Iteration=2, theta_new=[-0.20753795  2.18279509], -likelihood = -8480.86612\n",
      "Iteration=3, theta_new=[-0.23957865  2.10962091], -likelihood = -11334.47640\n",
      "Iteration=4, theta_new=[-0.25514693  2.05610252], -likelihood = -12699.46211\n",
      "Iteration=5, theta_new=[-0.26239231  2.01651262], -likelihood = -13317.93227\n",
      "Iteration=6, theta_new=[-0.26612772  1.98729495], -likelihood = -13608.73910\n",
      "Iteration=7, theta_new=[-0.26825845  1.96594249], -likelihood = -13747.65439\n",
      "Iteration=8, theta_new=[-0.26960902  1.95048239], -likelihood = -13814.34544\n",
      "Iteration=9, theta_new=[-0.27052919  1.93939424], -likelihood = -13846.49053\n",
      "Iteration=10, theta_new=[-0.27115182  1.93151175], -likelihood = -13862.01134\n",
      "Iteration=11, theta_new=[-0.27151593  1.92593744], -likelihood = -13869.50843\n",
      "Iteration=12, theta_new=[-0.27179916  1.92203674], -likelihood = -13873.13673\n",
      "Iteration=13, theta_new=[-0.2719683   1.91926468], -likelihood = -13874.89003\n",
      "Iteration=14, theta_new=[-0.27205862  1.91735125], -likelihood = -13875.75362\n",
      "Iteration=15, theta_new=[-0.27215264  1.91600376], -likelihood = -13876.16863\n",
      "Iteration=16, theta_new=[-0.27222134  1.91505675], -likelihood = -13876.37452\n",
      "Iteration=17, theta_new=[-0.27228608  1.91440378], -likelihood = -13876.47668\n",
      "Iteration=18, theta_new=[-0.272305    1.91397725], -likelihood = -13876.52711\n",
      "Iteration=19, theta_new=[-0.27229866  1.91364545], -likelihood = -13876.55068\n",
      "Iteration=20, theta_new=[-0.27232639  1.91342047], -likelihood = -13876.56398\n",
      "3-th start\n",
      "Iteration=1, theta_new=[-2.22061237 -1.52802414], -likelihood = -13718.00565\n",
      "Iteration=2, theta_new=[-2.21262292 -1.57076794], -likelihood = -13754.66861\n",
      "Iteration=3, theta_new=[-2.20765603 -1.57080899], -likelihood = -13760.47414\n",
      "Iteration=4, theta_new=[-2.20332376 -1.570754  ], -likelihood = -13765.03755\n",
      "Iteration=5, theta_new=[-2.19952932 -1.57078303], -likelihood = -13768.78805\n",
      "Iteration=6, theta_new=[-2.1961884  -1.57079832], -likelihood = -13771.89940\n",
      "Iteration=7, theta_new=[-2.19324189 -1.57081616], -likelihood = -13774.50635\n",
      "Iteration=8, theta_new=[-2.19064971 -1.57083886], -likelihood = -13776.70368\n",
      "Iteration=9, theta_new=[-2.18837864 -1.57076849], -likelihood = -13778.55859\n",
      "Iteration=10, theta_new=[-2.18635204 -1.57085354], -likelihood = -13780.12414\n",
      "Iteration=11, theta_new=[-2.18455082 -1.5707748 ], -likelihood = -13781.47453\n",
      "Iteration=12, theta_new=[-2.18295096 -1.57083449], -likelihood = -13782.63807\n",
      "Iteration=13, theta_new=[-2.18153874 -1.57080305], -likelihood = -13783.64280\n",
      "Iteration=14, theta_new=[-2.18027198 -1.57079011], -likelihood = -13784.50732\n",
      "Iteration=15, theta_new=[-2.17915802 -1.57072567], -likelihood = -13785.26505\n",
      "Iteration=16, theta_new=[-2.17815017 -1.57079803], -likelihood = -13785.91761\n",
      "Iteration=17, theta_new=[-2.17725807 -1.57076485], -likelihood = -13786.49690\n",
      "Iteration=18, theta_new=[-2.17647564 -1.57076718], -likelihood = -13787.00091\n",
      "Iteration=19, theta_new=[-2.17577665 -1.57079707], -likelihood = -13787.43622\n",
      "Iteration=20, theta_new=[-2.1751448  -1.57077253], -likelihood = -13787.81980\n",
      "4-th start\n",
      "Iteration=1, theta_new=[-0.18211257  1.0889958 ], -likelihood = -12247.55854\n",
      "Iteration=2, theta_new=[-0.22566188  1.1287582 ], -likelihood = -13223.23529\n",
      "Iteration=3, theta_new=[-0.24766455  1.15701979], -likelihood = -13596.47006\n",
      "Iteration=4, theta_new=[-0.25893896  1.17752571], -likelihood = -13748.44427\n",
      "Iteration=5, theta_new=[-0.26492037  1.19238664], -likelihood = -13816.19657\n",
      "Iteration=6, theta_new=[-0.26811106  1.20307021], -likelihood = -13847.74547\n",
      "Iteration=7, theta_new=[-0.26988333  1.21065755], -likelihood = -13862.70498\n",
      "Iteration=8, theta_new=[-0.27089659  1.216021  ], -likelihood = -13869.85100\n",
      "Iteration=9, theta_new=[-0.27147333  1.21984282], -likelihood = -13873.29536\n",
      "Iteration=10, theta_new=[-0.27182307  1.22250432], -likelihood = -13874.98131\n",
      "Iteration=11, theta_new=[-0.27199871  1.22435084], -likelihood = -13875.79364\n",
      "Iteration=12, theta_new=[-0.27212386  1.22563973], -likelihood = -13876.18642\n",
      "Iteration=13, theta_new=[-0.27221119  1.22656699], -likelihood = -13876.38025\n",
      "Iteration=14, theta_new=[-0.27228017  1.22718209], -likelihood = -13876.47924\n",
      "Iteration=15, theta_new=[-0.27230922  1.22761094], -likelihood = -13876.52659\n",
      "Iteration=16, theta_new=[-0.27231799  1.22791097], -likelihood = -13876.55061\n",
      "Iteration=17, theta_new=[-0.27232232  1.22809847], -likelihood = -13876.56296\n",
      "Iteration=18, theta_new=[-0.27234431  1.22824082], -likelihood = -13876.56901\n",
      "Iteration=19, theta_new=[-0.27235663  1.22834609], -likelihood = -13876.57294\n",
      "Iteration=20, theta_new=[-0.27234481  1.22844635], -likelihood = -13876.57526\n",
      "5-th start\n",
      "Iteration=1, theta_new=[2.14790083 1.82107573], -likelihood = -13090.90582\n",
      "Iteration=2, theta_new=[2.12145508 1.8425567 ], -likelihood = -13117.89087\n",
      "Iteration=3, theta_new=[2.09955137 1.85676257], -likelihood = -13135.67494\n",
      "Iteration=4, theta_new=[2.081783   1.86601751], -likelihood = -13147.66477\n",
      "Iteration=5, theta_new=[2.06738779 1.87186058], -likelihood = -13156.06062\n"
     ]
    }
   ],
   "source": [
    "est_theta2, neglhd_2 = multi_start(10, X2, GS_2, GN_2, max_iter=20, eps=1e-6)"
   ]
  },
  {
   "cell_type": "code",
   "execution_count": null,
   "id": "27df82cf-68d7-448f-9047-9818b8236ea1",
   "metadata": {},
   "outputs": [],
   "source": [
    "np.abs(est_theta2-theta2)"
   ]
  },
  {
   "cell_type": "code",
   "execution_count": null,
   "id": "61a3038f-0338-4543-b350-c3c7d3ff3fa4",
   "metadata": {},
   "outputs": [],
   "source": [
    "np.abs(np.sin(est_theta2)-np.sin(theta2))"
   ]
  },
  {
   "cell_type": "code",
   "execution_count": null,
   "id": "569d6c62-4af5-465c-98cd-1ef1ed941d93",
   "metadata": {},
   "outputs": [],
   "source": [
    "W1, W2 = goal_function(X1, GS_1, GN_2, 50)"
   ]
  },
  {
   "cell_type": "code",
   "execution_count": null,
   "id": "6bbeb039-2000-4761-91f0-0626a1e76545",
   "metadata": {},
   "outputs": [],
   "source": [
    "plt.title(\"График функции, подлежащей максимизации, на первом шаге ЕМ-алгоритма\")\n",
    "plt.plot(W1, W2.real, color='green')"
   ]
  },
  {
   "cell_type": "code",
   "execution_count": null,
   "id": "80bb5e8c-72b3-47b0-bfb5-2eaff580b0e2",
   "metadata": {},
   "outputs": [],
   "source": []
  },
  {
   "cell_type": "code",
   "execution_count": null,
   "id": "239a86cc-297f-4977-b5df-807f5e85c2f5",
   "metadata": {},
   "outputs": [],
   "source": []
  }
 ],
 "metadata": {
  "kernelspec": {
   "display_name": "Python 3 (ipykernel)",
   "language": "python",
   "name": "python3"
  },
  "language_info": {
   "codemirror_mode": {
    "name": "ipython",
    "version": 3
   },
   "file_extension": ".py",
   "mimetype": "text/x-python",
   "name": "python",
   "nbconvert_exporter": "python",
   "pygments_lexer": "ipython3",
   "version": "3.10.9"
  }
 },
 "nbformat": 4,
 "nbformat_minor": 5
}
