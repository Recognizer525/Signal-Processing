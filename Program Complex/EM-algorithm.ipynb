{
 "cells": [
  {
   "cell_type": "code",
   "execution_count": 1,
   "id": "c9413b81-cfa1-46d3-92cb-3cfb0d1df8ea",
   "metadata": {},
   "outputs": [],
   "source": [
    "import numpy as np\n",
    "import matplotlib.pyplot as plt\n",
    "from sensors import *\n",
    "from functools import partial"
   ]
  },
  {
   "cell_type": "code",
   "execution_count": 2,
   "id": "1759ce5b-8986-420c-8f87-54925b3f1a87",
   "metadata": {},
   "outputs": [],
   "source": [
    "# Отношение расстояния между датчиками к длине волны\n",
    "dist_ratio = 0.5"
   ]
  },
  {
   "cell_type": "code",
   "execution_count": 3,
   "id": "01600988-c703-45e9-a505-a3e7b372cdc5",
   "metadata": {},
   "outputs": [],
   "source": [
    "Num_sensors1 = 5\n",
    "Num_emitters1 = 1\n",
    "sample_size1 = 100\n",
    "theta1 = [0.5] # Направление прибытия (DOA) в радианах\n",
    "GS_1 = np.array([[0.7]]) # Ковариация сигнала\n",
    "GN_1 = 0.3*np.eye(5, dtype=np.float64) # Ковариация шума"
   ]
  },
  {
   "cell_type": "code",
   "execution_count": 4,
   "id": "33564dd6-9b2c-49d1-b056-21c6554bf883",
   "metadata": {},
   "outputs": [],
   "source": [
    "A1 = np.exp(-2j * np.pi * dist_ratio * np.arange(Num_sensors1).reshape(-1,1) * np.sin(theta1).reshape(1,-1))"
   ]
  },
  {
   "cell_type": "code",
   "execution_count": 5,
   "id": "23ddbe3c-d569-49ac-9d1b-319cb8cb94c5",
   "metadata": {},
   "outputs": [
    {
     "data": {
      "text/plain": [
       "array([[ 1.        +0.j        ],\n",
       "       [ 0.06459158-0.99791178j],\n",
       "       [-0.99165586-0.1289134j ],\n",
       "       [-0.19269681+0.98125834j],\n",
       "       [ 0.96676267+0.25567545j]])"
      ]
     },
     "execution_count": 5,
     "metadata": {},
     "output_type": "execute_result"
    }
   ],
   "source": [
    "A1"
   ]
  },
  {
   "cell_type": "code",
   "execution_count": 6,
   "id": "3f05461d-6601-42e5-b997-1a433d7c9a0c",
   "metadata": {},
   "outputs": [],
   "source": [
    "s1 = CN(Num_emitters1, sample_size1, GS_1)\n",
    "n1 = CN(Num_sensors1, sample_size1, GN_1)\n",
    "X1 = (A1 @ s1.T + n1.T).T"
   ]
  },
  {
   "cell_type": "code",
   "execution_count": 7,
   "id": "7a683c4f-1aa8-4df9-b43a-6be739860290",
   "metadata": {},
   "outputs": [
    {
     "name": "stdout",
     "output_type": "stream",
     "text": [
      "(100, 5)\n"
     ]
    }
   ],
   "source": [
    "print(X1.shape)"
   ]
  },
  {
   "cell_type": "code",
   "execution_count": null,
   "id": "8d540c1b-76ae-4e24-9f02-b04619d7c550",
   "metadata": {},
   "outputs": [
    {
     "name": "stdout",
     "output_type": "stream",
     "text": [
      "0-th start\n",
      "Iteration=1, theta_new=[2.4956378], -likelihood = -845.43437\n",
      "Iteration=2, theta_new=[2.54401516], -likelihood = -1084.10857\n",
      "Iteration=3, theta_new=[2.57656066], -likelihood = -1216.76972\n",
      "Iteration=4, theta_new=[2.59864008], -likelihood = -1284.07106\n",
      "Iteration=5, theta_new=[2.61361271], -likelihood = -1316.96648\n",
      "Iteration=6, theta_new=[2.62382214], -likelihood = -1332.67543\n",
      "Iteration=7, theta_new=[2.63080448], -likelihood = -1340.13581\n",
      "Iteration=8, theta_new=[2.63562162], -likelihood = -1343.66787\n",
      "Iteration=9, theta_new=[2.63890328], -likelihood = -1345.34662\n",
      "Iteration=10, theta_new=[2.6411582], -likelihood = -1346.13158\n",
      "Iteration=11, theta_new=[2.64270576], -likelihood = -1346.50126\n",
      "Iteration=12, theta_new=[2.64373806], -likelihood = -1346.67465\n",
      "Iteration=13, theta_new=[2.64444805], -likelihood = -1346.75383\n",
      "Iteration=14, theta_new=[2.64496455], -likelihood = -1346.79127\n",
      "Iteration=15, theta_new=[2.64528742], -likelihood = -1346.80987\n",
      "Iteration=16, theta_new=[2.64554575], -likelihood = -1346.81770\n",
      "Iteration=17, theta_new=[2.64570722], -likelihood = -1346.82198\n",
      "Iteration=18, theta_new=[2.64577181], -likelihood = -1346.82365\n",
      "Iteration=19, theta_new=[2.6458364], -likelihood = -1346.82418\n",
      "Iteration=20, theta_new=[2.645901], -likelihood = -1346.82456\n",
      "1-th start\n",
      "Iteration=1, theta_new=[2.39628065], -likelihood = -389.80157\n",
      "Iteration=2, theta_new=[2.47724873], -likelihood = -750.82975\n",
      "Iteration=3, theta_new=[2.53161998], -likelihood = -1026.31057\n",
      "Iteration=4, theta_new=[2.5682098], -likelihood = -1186.03400\n",
      "Iteration=5, theta_new=[2.59297647], -likelihood = -1268.81547\n",
      "Iteration=6, theta_new=[2.60975232], -likelihood = -1309.60129\n",
      "Iteration=7, theta_new=[2.62122096], -likelihood = -1329.15893\n",
      "Iteration=8, theta_new=[2.62902831], -likelihood = -1338.49155\n",
      "Iteration=9, theta_new=[2.63435568], -likelihood = -1342.89207\n",
      "Iteration=10, theta_new=[2.63802166], -likelihood = -1344.96593\n",
      "Iteration=11, theta_new=[2.64053345], -likelihood = -1345.94942\n",
      "Iteration=12, theta_new=[2.6422418], -likelihood = -1346.41274\n",
      "Iteration=13, theta_new=[2.64340294], -likelihood = -1346.62953\n",
      "Iteration=14, theta_new=[2.64424191], -likelihood = -1346.73131\n",
      "Iteration=15, theta_new=[2.64482292], -likelihood = -1346.78182\n",
      "Iteration=16, theta_new=[2.64521035], -likelihood = -1346.80550\n",
      "Iteration=17, theta_new=[2.64546867], -likelihood = -1346.81613\n",
      "Iteration=18, theta_new=[2.64566243], -likelihood = -1346.82089\n",
      "Iteration=19, theta_new=[2.64579161], -likelihood = -1346.82328\n",
      "Iteration=20, theta_new=[2.64585621], -likelihood = -1346.82431\n",
      "2-th start\n",
      "Iteration=1, theta_new=[0.00531269], -likelihood = -99.26438\n",
      "Iteration=2, theta_new=[-0.03200896], -likelihood = -125.87702\n",
      "Iteration=3, theta_new=[-0.05996678], -likelihood = -147.65397\n",
      "Iteration=4, theta_new=[-0.078519], -likelihood = -158.69723\n",
      "Iteration=5, theta_new=[-0.0903582], -likelihood = -163.40212\n",
      "Iteration=6, theta_new=[-0.09791158], -likelihood = -165.30548\n",
      "Iteration=7, theta_new=[-0.10265417], -likelihood = -166.07507\n",
      "Iteration=8, theta_new=[-0.10570172], -likelihood = -166.38260\n",
      "Iteration=9, theta_new=[-0.10768362], -likelihood = -166.50915\n",
      "Iteration=10, theta_new=[-0.10894554], -likelihood = -166.56176\n",
      "Iteration=11, theta_new=[-0.10971156], -likelihood = -166.58310\n",
      "Iteration=12, theta_new=[-0.11022584], -likelihood = -166.59148\n",
      "Iteration=13, theta_new=[-0.11057029], -likelihood = -166.59514\n",
      "Iteration=14, theta_new=[-0.11082944], -likelihood = -166.59671\n",
      "Iteration=15, theta_new=[-0.11091603], -likelihood = -166.59744\n",
      "Iteration=16, theta_new=[-0.11100268], -likelihood = -166.59761\n",
      "Iteration=17, theta_new=[-0.1110894], -likelihood = -166.59772\n",
      "norm=0.0\n",
      "Iteration=18, theta_new=[-0.1110894], -likelihood = -166.59778\n",
      "3-th start\n",
      "Iteration=1, theta_new=[-2.70789963], -likelihood = -121.09433\n",
      "Iteration=2, theta_new=[-2.68495917], -likelihood = -128.89852\n",
      "Iteration=3, theta_new=[-2.66542504], -likelihood = -135.26539\n",
      "Iteration=4, theta_new=[-2.64980732], -likelihood = -139.65037\n",
      "Iteration=5, theta_new=[-2.6377745], -likelihood = -142.35785\n",
      "Iteration=6, theta_new=[-2.62875867], -likelihood = -143.92575\n",
      "Iteration=7, theta_new=[-2.62201991], -likelihood = -144.79587\n",
      "Iteration=8, theta_new=[-2.61709082], -likelihood = -145.27357\n",
      "Iteration=9, theta_new=[-2.61344887], -likelihood = -145.52904\n",
      "Iteration=10, theta_new=[-2.61076906], -likelihood = -145.66675\n",
      "Iteration=11, theta_new=[-2.60885688], -likelihood = -145.74042\n",
      "Iteration=12, theta_new=[-2.60745564], -likelihood = -145.77865\n",
      "Iteration=13, theta_new=[-2.6064371], -likelihood = -145.79910\n",
      "Iteration=14, theta_new=[-2.6056735], -likelihood = -145.80996\n",
      "Iteration=15, theta_new=[-2.60510096], -likelihood = -145.81587\n",
      "Iteration=16, theta_new=[-2.60471935], -likelihood = -145.81908\n",
      "Iteration=17, theta_new=[-2.6044014], -likelihood = -145.82061\n",
      "Iteration=18, theta_new=[-2.60421064], -likelihood = -145.82154\n",
      "Iteration=19, theta_new=[-2.60408348], -likelihood = -145.82193\n",
      "Iteration=20, theta_new=[-2.60395633], -likelihood = -145.82213\n",
      "4-th start\n",
      "Iteration=1, theta_new=[0.65718288], -likelihood = -787.59793\n",
      "Iteration=2, theta_new=[0.60513451], -likelihood = -1049.18694\n",
      "Iteration=3, theta_new=[0.57009107], -likelihood = -1198.33287\n",
      "Iteration=4, theta_new=[0.54643007], -likelihood = -1275.00456\n",
      "Iteration=5, theta_new=[0.53031465], -likelihood = -1312.53447\n",
      "Iteration=6, theta_new=[0.51933548], -likelihood = -1330.59371\n",
      "Iteration=7, theta_new=[0.51182946], -likelihood = -1339.16775\n",
      "Iteration=8, theta_new=[0.50673116], -likelihood = -1343.22328\n",
      "Iteration=9, theta_new=[0.50326717], -likelihood = -1345.12312\n",
      "Iteration=10, theta_new=[0.50080981], -likelihood = -1346.01449\n",
      "Iteration=11, theta_new=[0.49914697], -likelihood = -1346.44935\n",
      "Iteration=12, theta_new=[0.49807458], -likelihood = -1346.64997\n",
      "Iteration=13, theta_new=[0.49729634], -likelihood = -1346.73941\n",
      "Iteration=14, theta_new=[0.49671357], -likelihood = -1346.78435\n",
      "Iteration=15, theta_new=[0.49637402], -likelihood = -1346.80729\n",
      "Iteration=16, theta_new=[0.49608318], -likelihood = -1346.81621\n",
      "Iteration=17, theta_new=[0.49593784], -likelihood = -1346.82150\n",
      "Iteration=18, theta_new=[0.49584098], -likelihood = -1346.82321\n",
      "Iteration=19, theta_new=[0.49574413], -likelihood = -1346.82404\n",
      "Iteration=20, theta_new=[0.49564731], -likelihood = -1346.82450\n",
      "5-th start\n",
      "Iteration=1, theta_new=[-1.80284752], -likelihood = -188.82402\n",
      "Iteration=2, theta_new=[-1.84307708], -likelihood = -192.82481\n",
      "Iteration=3, theta_new=[-1.86593555], -likelihood = -194.47456\n",
      "Iteration=4, theta_new=[-1.87969318], -likelihood = -195.14554\n",
      "Iteration=5, theta_new=[-1.88813712], -likelihood = -195.41932\n",
      "Iteration=6, theta_new=[-1.89339218], -likelihood = -195.53042\n",
      "Iteration=7, theta_new=[-1.89672041], -likelihood = -195.57565\n",
      "Iteration=8, theta_new=[-1.89885052], -likelihood = -195.59430\n",
      "Iteration=9, theta_new=[-1.90024128], -likelihood = -195.60204\n",
      "Iteration=10, theta_new=[-1.90107635], -likelihood = -195.60528\n",
      "Iteration=11, theta_new=[-1.9016333], -likelihood = -195.60653\n",
      "Iteration=12, theta_new=[-1.90200471], -likelihood = -195.60708\n",
      "Iteration=13, theta_new=[-1.90219046], -likelihood = -195.60731\n",
      "Iteration=14, theta_new=[-1.90237622], -likelihood = -195.60739\n",
      "Iteration=15, theta_new=[-1.90246911], -likelihood = -195.60744\n",
      "Iteration=16, theta_new=[-1.902562], -likelihood = -195.60745\n",
      "norm=0.0\n",
      "Iteration=17, theta_new=[-1.902562], -likelihood = -195.60746\n",
      "6-th start\n",
      "Iteration=1, theta_new=[-2.10343586], -likelihood = -151.85862\n",
      "Iteration=2, theta_new=[-2.0482823], -likelihood = -171.80550\n",
      "Iteration=3, theta_new=[-2.00437625], -likelihood = -184.19240\n"
     ]
    }
   ],
   "source": [
    "est_theta1, neglhd_1 = multi_start(10, X1, GS_1, GN_1, max_iter=20, eps=1e-6)"
   ]
  },
  {
   "cell_type": "code",
   "execution_count": null,
   "id": "cc6f749f-595a-4ca6-8955-5fff82f699e8",
   "metadata": {},
   "outputs": [],
   "source": [
    "np.abs(est_theta1-theta1)"
   ]
  },
  {
   "cell_type": "code",
   "execution_count": null,
   "id": "39f05013-62e1-4947-b934-62028fc23d96",
   "metadata": {},
   "outputs": [],
   "source": [
    "np.abs(np.sin(est_theta1)-np.sin(theta1))"
   ]
  },
  {
   "cell_type": "code",
   "execution_count": null,
   "id": "6c9c1e0b-6f7d-43a2-b972-cd0fed4d6c30",
   "metadata": {},
   "outputs": [],
   "source": [
    "Num_sensors2 = 5\n",
    "Num_emitters2 = 2\n",
    "sample_size2 = 100\n",
    "theta2 = np.array([0.34906585, 1.22173048])\n",
    "GS_2 = np.array([[2,0],[0,3]]) # Ковариация сигнала\n",
    "GN_2 = 0.1*np.eye(5, dtype=np.float64) # Ковариация шума"
   ]
  },
  {
   "cell_type": "code",
   "execution_count": null,
   "id": "c03cb4f6-00ff-4341-86b5-b3d73965348a",
   "metadata": {},
   "outputs": [],
   "source": [
    "# Матрица управляющих векторов\n",
    "A2 = np.exp(-2j * np.pi * dist_ratio * np.arange(Num_sensors2).reshape(-1,1) * np.sin(theta2).reshape(1,-1))"
   ]
  },
  {
   "cell_type": "code",
   "execution_count": null,
   "id": "1773c31a-944c-422d-bb6b-d14e3c217d75",
   "metadata": {},
   "outputs": [],
   "source": [
    "A2"
   ]
  },
  {
   "cell_type": "code",
   "execution_count": null,
   "id": "4c1fc5e5-0a72-4741-ab11-7bdda17f0f6e",
   "metadata": {},
   "outputs": [],
   "source": [
    "s2 = CN(Num_emitters2, sample_size2, GS_2)\n",
    "n2 = CN(Num_sensors2, sample_size2, GN_2)\n",
    "X2 = (A2 @ s2.T + n2.T).T"
   ]
  },
  {
   "cell_type": "code",
   "execution_count": null,
   "id": "256aecfb-ec73-4db6-978d-0aaeff7163d7",
   "metadata": {},
   "outputs": [],
   "source": [
    "est_theta2, neglhd_2 = multi_start(10, X2, GS_2, GN_2, max_iter=20, eps=1e-6)"
   ]
  },
  {
   "cell_type": "code",
   "execution_count": null,
   "id": "27df82cf-68d7-448f-9047-9818b8236ea1",
   "metadata": {},
   "outputs": [],
   "source": [
    "np.abs(est_theta2-theta2)"
   ]
  },
  {
   "cell_type": "code",
   "execution_count": null,
   "id": "61a3038f-0338-4543-b350-c3c7d3ff3fa4",
   "metadata": {},
   "outputs": [],
   "source": [
    "np.abs(np.sin(est_theta2)-np.sin(theta2))"
   ]
  },
  {
   "cell_type": "code",
   "execution_count": null,
   "id": "569d6c62-4af5-465c-98cd-1ef1ed941d93",
   "metadata": {},
   "outputs": [],
   "source": [
    "W1, W2 = goal_function(X1, GS_1, GN_2, 50)"
   ]
  },
  {
   "cell_type": "code",
   "execution_count": null,
   "id": "6bbeb039-2000-4761-91f0-0626a1e76545",
   "metadata": {},
   "outputs": [],
   "source": [
    "plt.title(\"График функции, подлежащей максимизации, на первом шаге ЕМ-алгоритма\")\n",
    "plt.plot(W1, W2.real, color='green')"
   ]
  },
  {
   "cell_type": "code",
   "execution_count": null,
   "id": "80bb5e8c-72b3-47b0-bfb5-2eaff580b0e2",
   "metadata": {},
   "outputs": [],
   "source": []
  },
  {
   "cell_type": "code",
   "execution_count": null,
   "id": "239a86cc-297f-4977-b5df-807f5e85c2f5",
   "metadata": {},
   "outputs": [],
   "source": []
  }
 ],
 "metadata": {
  "kernelspec": {
   "display_name": "Python 3 (ipykernel)",
   "language": "python",
   "name": "python3"
  },
  "language_info": {
   "codemirror_mode": {
    "name": "ipython",
    "version": 3
   },
   "file_extension": ".py",
   "mimetype": "text/x-python",
   "name": "python",
   "nbconvert_exporter": "python",
   "pygments_lexer": "ipython3",
   "version": "3.10.9"
  }
 },
 "nbformat": 4,
 "nbformat_minor": 5
}
