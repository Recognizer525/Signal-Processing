{
 "cells": [
  {
   "cell_type": "code",
   "execution_count": 1,
   "id": "c9413b81-cfa1-46d3-92cb-3cfb0d1df8ea",
   "metadata": {},
   "outputs": [],
   "source": [
    "import numpy as np\n",
    "import matplotlib.pyplot as plt\n",
    "from sensors import *\n",
    "from functools import partial"
   ]
  },
  {
   "cell_type": "code",
   "execution_count": 2,
   "id": "1759ce5b-8986-420c-8f87-54925b3f1a87",
   "metadata": {},
   "outputs": [],
   "source": [
    "# Отношение расстояния между датчиками к длине волны\n",
    "dist_ratio = 0.5"
   ]
  },
  {
   "cell_type": "code",
   "execution_count": 3,
   "id": "01600988-c703-45e9-a505-a3e7b372cdc5",
   "metadata": {},
   "outputs": [],
   "source": [
    "Num_sensors1 = 5\n",
    "Num_emitters1 = 1\n",
    "sample_size1 = 100\n",
    "theta1 = [0.5] # Направление прибытия (DOA) в радианах\n",
    "GS_1 = np.array([[0.7]]) # Ковариация сигнала\n",
    "GN_1 = 4.1*np.eye(5, dtype=np.float64) # Ковариация шума\n",
    "A1 = np.exp(-2j * np.pi * dist_ratio * np.arange(Num_sensors1).reshape(-1,1) * np.sin(theta1).reshape(1,-1)) # Матрица управляющих векторов\n",
    "# Генерация векторов сигнала, шума и принятого сигнала\n",
    "s1 = CN(Num_emitters1, sample_size1, GS_1)\n",
    "n1 = CN(Num_sensors1, sample_size1, GN_1)\n",
    "X1 = (A1 @ s1.T + n1.T).T"
   ]
  },
  {
   "cell_type": "code",
   "execution_count": 4,
   "id": "8d540c1b-76ae-4e24-9f02-b04619d7c550",
   "metadata": {},
   "outputs": [
    {
     "name": "stdout",
     "output_type": "stream",
     "text": [
      "0-th start\n",
      "Iteration=1, theta_new=[1.37722981], -likelihood = -76.35315\n",
      "Iteration=2, theta_new=[1.40305287], -likelihood = -76.56356\n",
      "Iteration=3, theta_new=[1.43196343], -likelihood = -76.75616\n",
      "Iteration=4, theta_new=[1.46643404], -likelihood = -76.93013\n",
      "Iteration=5, theta_new=[1.62560801], -likelihood = -77.08581\n",
      "Iteration=6, theta_new=[1.57075961], -likelihood = -77.20878\n",
      "norm=0.0\n",
      "Iteration=7, theta_new=[1.57075961], -likelihood = -77.23370\n",
      "1-th start\n",
      "Iteration=1, theta_new=[-2.47406496], -likelihood = -72.90939\n",
      "Iteration=2, theta_new=[-2.48505812], -likelihood = -73.54188\n",
      "Iteration=3, theta_new=[-2.49610012], -likelihood = -74.19954\n",
      "Iteration=4, theta_new=[-2.50700837], -likelihood = -74.87133\n",
      "Iteration=5, theta_new=[-2.51771947], -likelihood = -75.53796\n",
      "Iteration=6, theta_new=[-2.52804605], -likelihood = -76.18752\n",
      "Iteration=7, theta_new=[-2.53798295], -likelihood = -76.80168\n",
      "Iteration=8, theta_new=[-2.54740125], -likelihood = -77.37485\n",
      "Iteration=9, theta_new=[-2.55623257], -likelihood = -77.89629\n",
      "Iteration=10, theta_new=[-2.56447043], -likelihood = -78.36125\n",
      "Iteration=11, theta_new=[-2.57210874], -likelihood = -78.77032\n",
      "Iteration=12, theta_new=[-2.57914185], -likelihood = -79.12544\n",
      "Iteration=13, theta_new=[-2.58562749], -likelihood = -79.42964\n",
      "Iteration=14, theta_new=[-2.5915613], -likelihood = -79.68916\n",
      "Iteration=15, theta_new=[-2.5969393], -likelihood = -79.90772\n",
      "Iteration=16, theta_new=[-2.60182124], -likelihood = -80.08934\n",
      "Iteration=17, theta_new=[-2.60626771], -likelihood = -80.24004\n",
      "Iteration=18, theta_new=[-2.61027637], -likelihood = -80.36512\n",
      "Iteration=19, theta_new=[-2.61390884], -likelihood = -80.46762\n",
      "Iteration=20, theta_new=[-2.61716346], -likelihood = -80.55187\n",
      "Iteration=21, theta_new=[-2.62010266], -likelihood = -80.62025\n",
      "Iteration=22, theta_new=[-2.62272532], -likelihood = -80.67612\n",
      "Iteration=23, theta_new=[-2.62509448], -likelihood = -80.72119\n",
      "Iteration=24, theta_new=[-2.62727352], -likelihood = -80.75797\n",
      "Iteration=25, theta_new=[-2.62919779], -likelihood = -80.78847\n",
      "Iteration=26, theta_new=[-2.6309309], -likelihood = -80.81274\n",
      "Iteration=27, theta_new=[-2.63247246], -likelihood = -80.83242\n",
      "Iteration=28, theta_new=[-2.63388639], -likelihood = -80.84820\n",
      "Iteration=29, theta_new=[-2.63517247], -likelihood = -80.86122\n",
      "Iteration=30, theta_new=[-2.6363305], -likelihood = -80.87186\n",
      "Iteration=31, theta_new=[-2.63736032], -likelihood = -80.88045\n",
      "Iteration=32, theta_new=[-2.63826176], -likelihood = -80.88731\n",
      "Iteration=33, theta_new=[-2.6390991], -likelihood = -80.89269\n",
      "Iteration=34, theta_new=[-2.63980784], -likelihood = -80.89719\n",
      "Iteration=35, theta_new=[-2.64045232], -likelihood = -80.90060\n",
      "Iteration=36, theta_new=[-2.6410325], -likelihood = -80.90340\n",
      "Iteration=37, theta_new=[-2.64154833], -likelihood = -80.90566\n",
      "Iteration=38, theta_new=[-2.64199976], -likelihood = -80.90747\n",
      "Iteration=39, theta_new=[-2.64245128], -likelihood = -80.90890\n",
      "Iteration=40, theta_new=[-2.64283836], -likelihood = -80.91019\n",
      "Iteration=41, theta_new=[-2.64316097], -likelihood = -80.91118\n",
      "Iteration=42, theta_new=[-2.64348362], -likelihood = -80.91192\n",
      "Iteration=43, theta_new=[-2.64374177], -likelihood = -80.91259\n",
      "Iteration=44, theta_new=[-2.64399995], -likelihood = -80.91307\n",
      "Iteration=45, theta_new=[-2.64425815], -likelihood = -80.91350\n",
      "Iteration=46, theta_new=[-2.64445182], -likelihood = -80.91388\n",
      "Iteration=47, theta_new=[-2.64464551], -likelihood = -80.91414\n",
      "Iteration=48, theta_new=[-2.64477464], -likelihood = -80.91437\n",
      "Iteration=49, theta_new=[-2.64490378], -likelihood = -80.91451\n",
      "Iteration=50, theta_new=[-2.64503293], -likelihood = -80.91464\n",
      "2-th start\n",
      "Iteration=1, theta_new=[1.94066288], -likelihood = -74.01036\n",
      "Iteration=2, theta_new=[1.92625952], -likelihood = -74.23586\n",
      "Iteration=3, theta_new=[1.91083439], -likelihood = -74.47818\n",
      "Iteration=4, theta_new=[1.89441316], -likelihood = -74.73320\n",
      "Iteration=5, theta_new=[1.87702304], -likelihood = -74.99616\n",
      "Iteration=6, theta_new=[1.85860109], -likelihood = -75.26192\n",
      "Iteration=7, theta_new=[1.83918016], -likelihood = -75.52648\n",
      "Iteration=8, theta_new=[1.81870491], -likelihood = -75.78438\n",
      "Iteration=9, theta_new=[1.79703674], -likelihood = -76.03159\n",
      "Iteration=10, theta_new=[1.77395956], -likelihood = -76.26510\n",
      "Iteration=11, theta_new=[1.74901326], -likelihood = -76.48243\n",
      "Iteration=12, theta_new=[1.72151412], -likelihood = -76.68246\n",
      "Iteration=13, theta_new=[1.68974008], -likelihood = -76.86368\n",
      "Iteration=14, theta_new=[1.49296127], -likelihood = -77.02641\n",
      "Iteration=15, theta_new=[1.57081687], -likelihood = -77.16954\n",
      "norm=0.0\n",
      "Iteration=16, theta_new=[1.57081687], -likelihood = -77.23370\n",
      "3-th start\n",
      "Iteration=1, theta_new=[-0.13344689], -likelihood = -66.28417\n",
      "Iteration=2, theta_new=[-0.12922455], -likelihood = -66.41997\n",
      "Iteration=3, theta_new=[-0.12483293], -likelihood = -66.57172\n",
      "Iteration=4, theta_new=[-0.12024922], -likelihood = -66.73705\n",
      "Iteration=5, theta_new=[-0.11545804], -likelihood = -66.91707\n",
      "Iteration=6, theta_new=[-0.11049695], -likelihood = -67.11258\n",
      "Iteration=7, theta_new=[-0.10540373], -likelihood = -67.32206\n",
      "Iteration=8, theta_new=[-0.10021589], -likelihood = -67.54360\n",
      "Iteration=9, theta_new=[-0.09489193], -likelihood = -67.77501\n",
      "Iteration=10, theta_new=[-0.08948012], -likelihood = -68.01748\n",
      "Iteration=11, theta_new=[-0.08402743], -likelihood = -68.26806\n",
      "Iteration=12, theta_new=[-0.07851313], -likelihood = -68.52366\n",
      "Iteration=13, theta_new=[-0.07299267], -likelihood = -68.78429\n",
      "Iteration=14, theta_new=[-0.06751822], -likelihood = -69.04636\n",
      "Iteration=15, theta_new=[-0.06203237], -likelihood = -69.30648\n",
      "Iteration=16, theta_new=[-0.05660453], -likelihood = -69.56653\n",
      "Iteration=17, theta_new=[-0.05120941], -likelihood = -69.82248\n",
      "Iteration=18, theta_new=[-0.04584843], -likelihood = -70.07489\n",
      "Iteration=19, theta_new=[-0.04061884], -likelihood = -70.32319\n",
      "Iteration=20, theta_new=[-0.03541455], -likelihood = -70.56254\n",
      "Iteration=21, theta_new=[-0.03032371], -likelihood = -70.79756\n",
      "Iteration=22, theta_new=[-0.02530135], -likelihood = -71.02414\n",
      "Iteration=23, theta_new=[-0.02039921], -likelihood = -71.24429\n",
      "Iteration=24, theta_new=[-0.0155544], -likelihood = -71.45584\n",
      "Iteration=25, theta_new=[-0.01079086], -likelihood = -71.66165\n",
      "Iteration=26, theta_new=[-0.0061373], -likelihood = -71.86091\n",
      "Iteration=27, theta_new=[-0.00153433], -likelihood = -72.05268\n",
      "Iteration=28, theta_new=[0.00299194], -likelihood = -72.23974\n",
      "Iteration=29, theta_new=[0.00740504], -likelihood = -72.42131\n",
      "Iteration=30, theta_new=[0.0117555], -likelihood = -72.59634\n",
      "Iteration=31, theta_new=[0.01609034], -likelihood = -72.76721\n",
      "Iteration=32, theta_new=[0.02041462], -likelihood = -72.93612\n",
      "Iteration=33, theta_new=[0.02468893], -likelihood = -73.10364\n",
      "Iteration=34, theta_new=[0.02893234], -likelihood = -73.26864\n",
      "Iteration=35, theta_new=[0.03318178], -likelihood = -73.43229\n",
      "Iteration=36, theta_new=[0.0374332], -likelihood = -73.59646\n",
      "Iteration=37, theta_new=[0.04170292], -likelihood = -73.76149\n",
      "Iteration=38, theta_new=[0.04600354], -likelihood = -73.92854\n",
      "Iteration=39, theta_new=[0.05038825], -likelihood = -74.09869\n",
      "Iteration=40, theta_new=[0.05479722], -likelihood = -74.27478\n",
      "Iteration=41, theta_new=[0.05933512], -likelihood = -74.45519\n",
      "Iteration=42, theta_new=[0.06397067], -likelihood = -74.64517\n",
      "Iteration=43, theta_new=[0.06866852], -likelihood = -74.84459\n",
      "Iteration=44, theta_new=[0.07355042], -likelihood = -75.05318\n",
      "Iteration=45, theta_new=[0.07860701], -likelihood = -75.27795\n",
      "Iteration=46, theta_new=[0.08388842], -likelihood = -75.52063\n",
      "Iteration=47, theta_new=[0.0893936], -likelihood = -75.78626\n",
      "Iteration=48, theta_new=[0.09519021], -likelihood = -76.07809\n",
      "Iteration=49, theta_new=[0.1013627], -likelihood = -76.40384\n",
      "Iteration=50, theta_new=[0.10793544], -likelihood = -76.77397\n",
      "4-th start\n",
      "Iteration=1, theta_new=[-1.69875589], -likelihood = -77.42869\n",
      "Iteration=2, theta_new=[-1.72073687], -likelihood = -77.52344\n",
      "Iteration=3, theta_new=[-1.7386332], -likelihood = -77.60539\n",
      "Iteration=4, theta_new=[-1.75365948], -likelihood = -77.67603\n",
      "Iteration=5, theta_new=[-1.76650366], -likelihood = -77.73650\n",
      "Iteration=6, theta_new=[-1.77763056], -likelihood = -77.78797\n",
      "Iteration=7, theta_new=[-1.78743878], -likelihood = -77.83164\n",
      "Iteration=8, theta_new=[-1.79607923], -likelihood = -77.86891\n",
      "Iteration=9, theta_new=[-1.80370906], -likelihood = -77.90039\n",
      "Iteration=10, theta_new=[-1.81049058], -likelihood = -77.92685\n",
      "Iteration=11, theta_new=[-1.81659038], -likelihood = -77.94912\n",
      "Iteration=12, theta_new=[-1.82208982], -likelihood = -77.96800\n",
      "Iteration=13, theta_new=[-1.82698313], -likelihood = -77.98396\n",
      "Iteration=14, theta_new=[-1.83144354], -likelihood = -77.99724\n",
      "Iteration=15, theta_new=[-1.83537828], -likelihood = -78.00852\n",
      "Iteration=16, theta_new=[-1.838963], -likelihood = -78.01778\n",
      "Iteration=17, theta_new=[-1.84219556], -likelihood = -78.02562\n",
      "Iteration=18, theta_new=[-1.84516394], -likelihood = -78.03216\n",
      "Iteration=19, theta_new=[-1.84786682], -likelihood = -78.03773\n",
      "Iteration=20, theta_new=[-1.85030297], -likelihood = -78.04240\n",
      "Iteration=21, theta_new=[-1.85247129], -likelihood = -78.04628\n",
      "Iteration=22, theta_new=[-1.85446125], -likelihood = -78.04947\n",
      "Iteration=23, theta_new=[-1.85627225], -likelihood = -78.05216\n",
      "Iteration=24, theta_new=[-1.85790374], -likelihood = -78.05441\n",
      "Iteration=25, theta_new=[-1.85935523], -likelihood = -78.05627\n",
      "Iteration=26, theta_new=[-1.86071706], -likelihood = -78.05780\n",
      "Iteration=27, theta_new=[-1.86198903], -likelihood = -78.05912\n",
      "Iteration=28, theta_new=[-1.86308004], -likelihood = -78.06024\n",
      "Iteration=29, theta_new=[-1.86408072], -likelihood = -78.06113\n",
      "Iteration=30, theta_new=[-1.86499091], -likelihood = -78.06187\n",
      "Iteration=31, theta_new=[-1.86581049], -likelihood = -78.06250\n",
      "Iteration=32, theta_new=[-1.86663043], -likelihood = -78.06301\n",
      "Iteration=33, theta_new=[-1.86735958], -likelihood = -78.06349\n",
      "Iteration=34, theta_new=[-1.86799784], -likelihood = -78.06387\n",
      "Iteration=35, theta_new=[-1.8685451], -likelihood = -78.06418\n",
      "Iteration=36, theta_new=[-1.86909253], -likelihood = -78.06442\n",
      "Iteration=37, theta_new=[-1.86954885], -likelihood = -78.06464\n",
      "Iteration=38, theta_new=[-1.87000528], -likelihood = -78.06481\n",
      "Iteration=39, theta_new=[-1.87037052], -likelihood = -78.06496\n",
      "Iteration=40, theta_new=[-1.87073582], -likelihood = -78.06508\n",
      "Iteration=41, theta_new=[-1.8711012], -likelihood = -78.06518\n",
      "Iteration=42, theta_new=[-1.87137529], -likelihood = -78.06528\n",
      "Iteration=43, theta_new=[-1.87164942], -likelihood = -78.06534\n",
      "Iteration=44, theta_new=[-1.87192358], -likelihood = -78.06540\n",
      "Iteration=45, theta_new=[-1.87219779], -likelihood = -78.06546\n",
      "Iteration=46, theta_new=[-1.87238062], -likelihood = -78.06551\n",
      "Iteration=47, theta_new=[-1.87256347], -likelihood = -78.06554\n",
      "Iteration=48, theta_new=[-1.87274634], -likelihood = -78.06557\n",
      "Iteration=49, theta_new=[-1.87292923], -likelihood = -78.06559\n",
      "Iteration=50, theta_new=[-1.87311213], -likelihood = -78.06562\n",
      "5-th start\n",
      "Iteration=1, theta_new=[0.50830993], -likelihood = -146.64008\n",
      "Iteration=2, theta_new=[0.50890561], -likelihood = -146.64639\n",
      "Iteration=3, theta_new=[0.50940259], -likelihood = -146.65033\n",
      "Iteration=4, theta_new=[0.50980056], -likelihood = -146.65309\n",
      "Iteration=5, theta_new=[0.51019884], -likelihood = -146.65497\n",
      "Iteration=6, theta_new=[0.51049779], -likelihood = -146.65653\n",
      "Iteration=7, theta_new=[0.51079691], -likelihood = -146.65750\n",
      "Iteration=8, theta_new=[0.51099644], -likelihood = -146.65831\n",
      "Iteration=9, theta_new=[0.51119604], -likelihood = -146.65875\n",
      "Iteration=10, theta_new=[0.51129589], -likelihood = -146.65911\n",
      "Iteration=11, theta_new=[0.51139575], -likelihood = -146.65927\n",
      "Iteration=12, theta_new=[0.51149563], -likelihood = -146.65940\n",
      "Iteration=13, theta_new=[0.51159553], -likelihood = -146.65952\n",
      "Iteration=14, theta_new=[0.51169545], -likelihood = -146.65961\n",
      "Iteration=15, theta_new=[0.51179539], -likelihood = -146.65968\n",
      "norm=0.0\n",
      "Iteration=16, theta_new=[0.51179539], -likelihood = -146.65974\n",
      "6-th start\n",
      "Iteration=1, theta_new=[1.57075968], -likelihood = -77.23184\n",
      "norm=0.0\n",
      "Iteration=2, theta_new=[1.57075968], -likelihood = -77.23370\n",
      "7-th start\n",
      "Iteration=1, theta_new=[-2.04709833], -likelihood = -76.15196\n",
      "Iteration=2, theta_new=[-2.03550344], -likelihood = -76.42714\n",
      "Iteration=3, theta_new=[-2.02437178], -likelihood = -76.66857\n",
      "Iteration=4, theta_new=[-2.01379523], -likelihood = -76.88015\n",
      "Iteration=5, theta_new=[-2.00376559], -likelihood = -77.06300\n",
      "Iteration=6, theta_new=[-1.99427509], -likelihood = -77.22027\n",
      "Iteration=7, theta_new=[-1.98541381], -likelihood = -77.35494\n",
      "Iteration=8, theta_new=[-1.97707663], -likelihood = -77.46855\n",
      "Iteration=9, theta_new=[-1.96925713], -likelihood = -77.56506\n",
      "Iteration=10, theta_new=[-1.96194934], -likelihood = -77.64668\n",
      "Iteration=11, theta_new=[-1.95514766], -likelihood = -77.71542\n",
      "Iteration=12, theta_new=[-1.94884689], -likelihood = -77.77307\n",
      "Iteration=13, theta_new=[-1.94294707], -likelihood = -77.82121\n",
      "Iteration=14, theta_new=[-1.93744458], -likelihood = -77.86182\n",
      "Iteration=15, theta_new=[-1.93243068], -likelihood = -77.89595\n",
      "Iteration=16, theta_new=[-1.92771284], -likelihood = -77.92398\n",
      "Iteration=17, theta_new=[-1.92338301], -likelihood = -77.94778\n",
      "Iteration=18, theta_new=[-1.91943857], -likelihood = -77.96748\n",
      "Iteration=19, theta_new=[-1.91578339], -likelihood = -77.98369\n",
      "Iteration=20, theta_new=[-1.91241581], -likelihood = -77.99728\n",
      "Iteration=21, theta_new=[-1.9092409], -likelihood = -78.00861\n",
      "Iteration=22, theta_new=[-1.90635093], -likelihood = -78.01827\n",
      "Iteration=23, theta_new=[-1.90374459], -likelihood = -78.02621\n",
      "Iteration=24, theta_new=[-1.90132773], -likelihood = -78.03271\n",
      "Iteration=25, theta_new=[-1.89909961], -likelihood = -78.03818\n",
      "Iteration=26, theta_new=[-1.89705956], -likelihood = -78.04275\n",
      "Iteration=27, theta_new=[-1.89520697], -likelihood = -78.04654\n",
      "Iteration=28, theta_new=[-1.89344872], -likelihood = -78.04968\n",
      "Iteration=29, theta_new=[-1.89187701], -likelihood = -78.05238\n",
      "Iteration=30, theta_new=[-1.89039898], -likelihood = -78.05458\n",
      "Iteration=31, theta_new=[-1.88901441], -likelihood = -78.05645\n",
      "Iteration=32, theta_new=[-1.88781533], -likelihood = -78.05805\n",
      "Iteration=33, theta_new=[-1.88670918], -likelihood = -78.05930\n",
      "Iteration=34, theta_new=[-1.88569582], -likelihood = -78.06035\n",
      "Iteration=35, theta_new=[-1.88477507], -likelihood = -78.06123\n",
      "Iteration=36, theta_new=[-1.8839468], -likelihood = -78.06196\n",
      "Iteration=37, theta_new=[-1.88311889], -likelihood = -78.06256\n",
      "Iteration=38, theta_new=[-1.8823833], -likelihood = -78.06311\n",
      "Iteration=39, theta_new=[-1.8817399], -likelihood = -78.06355\n",
      "Iteration=40, theta_new=[-1.88109673], -likelihood = -78.06390\n",
      "Iteration=41, theta_new=[-1.88054563], -likelihood = -78.06422\n",
      "Iteration=42, theta_new=[-1.87999469], -likelihood = -78.06447\n",
      "Iteration=43, theta_new=[-1.8795357], -likelihood = -78.06469\n",
      "Iteration=44, theta_new=[-1.87907683], -likelihood = -78.06487\n",
      "Iteration=45, theta_new=[-1.87870983], -likelihood = -78.06502\n",
      "Iteration=46, theta_new=[-1.87834289], -likelihood = -78.06513\n",
      "Iteration=47, theta_new=[-1.87806774], -likelihood = -78.06524\n",
      "Iteration=48, theta_new=[-1.87779263], -likelihood = -78.06531\n",
      "Iteration=49, theta_new=[-1.87751757], -likelihood = -78.06537\n",
      "Iteration=50, theta_new=[-1.87724254], -likelihood = -78.06543\n",
      "8-th start\n",
      "Iteration=1, theta_new=[-0.64047057], -likelihood = -74.50633\n",
      "Iteration=2, theta_new=[-0.62965012], -likelihood = -75.17836\n",
      "Iteration=3, theta_new=[-0.61907397], -likelihood = -75.83828\n",
      "Iteration=4, theta_new=[-0.60891729], -likelihood = -76.47486\n",
      "Iteration=5, theta_new=[-0.59922456], -likelihood = -77.07127\n",
      "Iteration=6, theta_new=[-0.59009575], -likelihood = -77.62060\n",
      "Iteration=7, theta_new=[-0.5815094], -likelihood = -78.11507\n",
      "Iteration=8, theta_new=[-0.57355907], -likelihood = -78.55564\n",
      "Iteration=9, theta_new=[-0.56616554], -likelihood = -78.93903\n",
      "Iteration=10, theta_new=[-0.55936492], -likelihood = -79.27181\n",
      "Iteration=11, theta_new=[-0.55313761], -likelihood = -79.55573\n",
      "Iteration=12, theta_new=[-0.54746579], -likelihood = -79.79562\n",
      "Iteration=13, theta_new=[-0.5423333], -likelihood = -79.99636\n",
      "Iteration=14, theta_new=[-0.53767262], -likelihood = -80.16268\n",
      "Iteration=15, theta_new=[-0.53341955], -likelihood = -80.30055\n",
      "Iteration=16, theta_new=[-0.52961685], -likelihood = -80.41507\n",
      "Iteration=17, theta_new=[-0.52615158], -likelihood = -80.50807\n",
      "Iteration=18, theta_new=[-0.52301728], -likelihood = -80.58491\n",
      "Iteration=19, theta_new=[-0.52020811], -likelihood = -80.64779\n",
      "Iteration=20, theta_new=[-0.51766803], -likelihood = -80.69872\n",
      "Iteration=21, theta_new=[-0.51539312], -likelihood = -80.74028\n",
      "Iteration=22, theta_new=[-0.51332953], -likelihood = -80.77384\n",
      "Iteration=23, theta_new=[-0.51147473], -likelihood = -80.80126\n",
      "Iteration=24, theta_new=[-0.50987637], -likelihood = -80.82344\n",
      "Iteration=25, theta_new=[-0.50838259], -likelihood = -80.84066\n",
      "Iteration=26, theta_new=[-0.50709178], -likelihood = -80.85516\n",
      "Iteration=27, theta_new=[-0.50590328], -likelihood = -80.86645\n",
      "Iteration=28, theta_new=[-0.50481638], -likelihood = -80.87581\n",
      "Iteration=29, theta_new=[-0.50383041], -likelihood = -80.88351\n",
      "Iteration=30, theta_new=[-0.50294477], -likelihood = -80.88978\n",
      "Iteration=31, theta_new=[-0.50215892], -likelihood = -80.89483\n",
      "Iteration=32, theta_new=[-0.50147237], -likelihood = -80.89884\n",
      "Iteration=33, theta_new=[-0.50088471], -likelihood = -80.90199\n",
      "Iteration=34, theta_new=[-0.50029774], -likelihood = -80.90442\n",
      "Iteration=35, theta_new=[-0.49980916], -likelihood = -80.90661\n",
      "Iteration=36, theta_new=[-0.49932107], -likelihood = -80.90823\n",
      "Iteration=37, theta_new=[-0.49893097], -likelihood = -80.90970\n",
      "Iteration=38, theta_new=[-0.49854119], -likelihood = -80.91074\n",
      "Iteration=39, theta_new=[-0.49824907], -likelihood = -80.91167\n",
      "Iteration=40, theta_new=[-0.49795713], -likelihood = -80.91231\n",
      "Iteration=41, theta_new=[-0.49766536], -likelihood = -80.91287\n",
      "Iteration=42, theta_new=[-0.49747096], -likelihood = -80.91338\n",
      "Iteration=43, theta_new=[-0.49727663], -likelihood = -80.91369\n",
      "Iteration=44, theta_new=[-0.49708238], -likelihood = -80.91396\n",
      "Iteration=45, theta_new=[-0.49688821], -likelihood = -80.91421\n",
      "Iteration=46, theta_new=[-0.49669411], -likelihood = -80.91443\n",
      "Iteration=47, theta_new=[-0.4965971], -likelihood = -80.91463\n",
      "Iteration=48, theta_new=[-0.49650011], -likelihood = -80.91472\n",
      "Iteration=49, theta_new=[-0.49640314], -likelihood = -80.91480\n",
      "Iteration=50, theta_new=[-0.49630618], -likelihood = -80.91488\n",
      "9-th start\n",
      "Iteration=1, theta_new=[3.11611946], -likelihood = -73.13426\n",
      "Iteration=2, theta_new=[3.11185914], -likelihood = -73.29889\n",
      "Iteration=3, theta_new=[3.10760464], -likelihood = -73.46321\n",
      "Iteration=4, theta_new=[3.10335596], -likelihood = -73.62768\n",
      "Iteration=5, theta_new=[3.0991131], -likelihood = -73.79280\n",
      "Iteration=6, theta_new=[3.09480036], -likelihood = -73.95910\n",
      "Iteration=7, theta_new=[3.09041808], -likelihood = -74.13016\n",
      "Iteration=8, theta_new=[3.08596655], -likelihood = -74.30669\n",
      "Iteration=9, theta_new=[3.08144609], -likelihood = -74.48955\n",
      "Iteration=10, theta_new=[3.07685702], -likelihood = -74.67966\n",
      "Iteration=11, theta_new=[3.07212455], -likelihood = -74.87808\n",
      "Iteration=12, theta_new=[3.06724935], -likelihood = -75.08940\n",
      "Iteration=13, theta_new=[3.06215724], -likelihood = -75.31531\n",
      "Iteration=14, theta_new=[3.0568493], -likelihood = -75.56143\n",
      "Iteration=15, theta_new=[3.05125204], -likelihood = -75.83054\n",
      "Iteration=16, theta_new=[3.04536706], -likelihood = -76.12996\n",
      "Iteration=17, theta_new=[3.03912168], -likelihood = -76.46418\n",
      "Iteration=18, theta_new=[3.03244392], -likelihood = -76.84317\n",
      "Iteration=19, theta_new=[3.0252626], -likelihood = -77.27912\n",
      "Iteration=20, theta_new=[3.01750741], -likelihood = -77.78715\n",
      "Iteration=21, theta_new=[3.0090354], -likelihood = -78.38606\n",
      "Iteration=22, theta_new=[2.99977909], -likelihood = -79.10578\n",
      "Iteration=23, theta_new=[2.98952594], -likelihood = -79.97734\n",
      "Iteration=24, theta_new=[2.97814005], -likelihood = -81.05527\n",
      "Iteration=25, theta_new=[2.96541606], -likelihood = -82.40096\n",
      "Iteration=26, theta_new=[2.95115369], -likelihood = -84.10076\n",
      "Iteration=27, theta_new=[2.93523071], -likelihood = -86.26139\n",
      "Iteration=28, theta_new=[2.91745881], -likelihood = -88.99559\n",
      "Iteration=29, theta_new=[2.89787138], -likelihood = -92.43658\n",
      "Iteration=30, theta_new=[2.87664673], -likelihood = -96.66469\n",
      "Iteration=31, theta_new=[2.85424316], -likelihood = -101.67894\n",
      "Iteration=32, theta_new=[2.83124755], -likelihood = -107.32680\n",
      "Iteration=33, theta_new=[2.80836808], -likelihood = -113.32658\n",
      "Iteration=34, theta_new=[2.78629058], -likelihood = -119.30254\n",
      "Iteration=35, theta_new=[2.76561108], -likelihood = -124.88628\n",
      "Iteration=36, theta_new=[2.74663802], -likelihood = -129.79664\n",
      "Iteration=37, theta_new=[2.7296727], -likelihood = -133.91338\n",
      "Iteration=38, theta_new=[2.71467816], -likelihood = -137.20245\n",
      "Iteration=39, theta_new=[2.70162172], -likelihood = -139.75400\n",
      "Iteration=40, theta_new=[2.69040894], -likelihood = -141.67709\n",
      "Iteration=41, theta_new=[2.68075342], -likelihood = -143.09228\n",
      "Iteration=42, theta_new=[2.67257241], -likelihood = -144.12845\n",
      "Iteration=43, theta_new=[2.66565608], -likelihood = -144.87056\n",
      "Iteration=44, theta_new=[2.65979893], -likelihood = -145.39905\n",
      "Iteration=45, theta_new=[2.65486375], -likelihood = -145.77495\n",
      "Iteration=46, theta_new=[2.65071553], -likelihood = -146.04033\n",
      "Iteration=47, theta_new=[2.64722093], -likelihood = -146.22693\n",
      "Iteration=48, theta_new=[2.64431261], -likelihood = -146.35823\n",
      "Iteration=49, theta_new=[2.64185939], -likelihood = -146.44945\n",
      "Iteration=50, theta_new=[2.63979544], -likelihood = -146.51363\n"
     ]
    }
   ],
   "source": [
    "est_theta1, neglhd_1, K1, mu1 = multi_start(10, X1, GS_1, GN_1, max_iter=50, eps=1e-6)"
   ]
  },
  {
   "cell_type": "code",
   "execution_count": 5,
   "id": "cc6f749f-595a-4ca6-8955-5fff82f699e8",
   "metadata": {},
   "outputs": [
    {
     "name": "stdout",
     "output_type": "stream",
     "text": [
      "Погрешность в смысле разности углов: [0.01179539].\n",
      "Погрешность в смысле разности синусов углов [0.01031784].\n"
     ]
    }
   ],
   "source": [
    "print(f\"Погрешность в смысле разности углов: {np.abs(est_theta1-theta1)}.\\nПогрешность в смысле разности синусов углов {np.abs(np.sin(est_theta1)-np.sin(theta1))}.\")"
   ]
  },
  {
   "cell_type": "code",
   "execution_count": 6,
   "id": "6c9c1e0b-6f7d-43a2-b972-cd0fed4d6c30",
   "metadata": {},
   "outputs": [],
   "source": [
    "Num_sensors2 = 5\n",
    "Num_emitters2 = 2\n",
    "sample_size2 = 100\n",
    "theta2 = np.array([0.34906585, 1.22173048]) # Направление прибытия (DOA) в радианах\n",
    "GS_2 = np.array([[2,0],[0,3]]) # Ковариация сигнала\n",
    "GN_2 = 0.1*np.eye(5, dtype=np.float64) # Ковариация шума\n",
    "A2 = np.exp(-2j * np.pi * dist_ratio * np.arange(Num_sensors2).reshape(-1,1) * np.sin(theta2).reshape(1,-1)) # Матрица управляющих векторов\n",
    "# Генерация векторов сигнала, шума и принятого сигнала\n",
    "s2 = CN(Num_emitters2, sample_size2, GS_2)\n",
    "n2 = CN(Num_sensors2, sample_size2, GN_2)\n",
    "X2 = (A2 @ s2.T + n2.T).T"
   ]
  },
  {
   "cell_type": "code",
   "execution_count": 7,
   "id": "256aecfb-ec73-4db6-978d-0aaeff7163d7",
   "metadata": {},
   "outputs": [
    {
     "name": "stdout",
     "output_type": "stream",
     "text": [
      "0-th start\n",
      "Iteration=1, theta_new=[ 1.91587204 -2.84884113], -likelihood = -17233.64267\n",
      "Iteration=2, theta_new=[ 1.91664419 -2.85768459], -likelihood = -17247.16967\n",
      "Iteration=3, theta_new=[ 1.91722631 -2.8622722 ], -likelihood = -17250.90313\n",
      "Iteration=4, theta_new=[ 1.91769035 -2.86467271], -likelihood = -17251.93019\n",
      "Iteration=5, theta_new=[ 1.91800882 -2.86592984], -likelihood = -17252.21939\n",
      "Iteration=6, theta_new=[ 1.91824294 -2.86653404], -likelihood = -17252.30069\n",
      "Iteration=7, theta_new=[ 1.91841784 -2.86688272], -likelihood = -17252.32332\n",
      "Iteration=8, theta_new=[ 1.91854232 -2.86706364], -likelihood = -17252.33088\n",
      "Iteration=9, theta_new=[ 1.91863322 -2.86716719], -likelihood = -17252.33313\n",
      "Iteration=10, theta_new=[ 1.91868653 -2.8671874 ], -likelihood = -17252.33381\n",
      "Iteration=11, theta_new=[ 1.91872528 -2.86719922], -likelihood = -17252.33400\n",
      "Iteration=12, theta_new=[ 1.91876415 -2.86723222], -likelihood = -17252.33405\n",
      "Iteration=13, theta_new=[ 1.9188049  -2.86722076], -likelihood = -17252.33393\n",
      "norm=0.0\n",
      "Iteration=14, theta_new=[ 1.9188049  -2.86722076], -likelihood = -17252.33394\n",
      "1-th start\n",
      "Iteration=1, theta_new=[ 1.83889886 -1.10572787], -likelihood = -17048.04743\n",
      "Iteration=2, theta_new=[ 1.83483906 -1.07848399], -likelihood = -17073.03766\n",
      "Iteration=3, theta_new=[ 1.83192531 -1.05514285], -likelihood = -17092.53918\n",
      "Iteration=4, theta_new=[ 1.8302206  -1.03515366], -likelihood = -17107.39075\n",
      "Iteration=5, theta_new=[ 1.82959486 -1.01802606], -likelihood = -17118.61052\n",
      "Iteration=6, theta_new=[ 1.82997094 -1.00335499], -likelihood = -17127.11941\n",
      "Iteration=7, theta_new=[ 1.83112893 -0.99064408], -likelihood = -17133.67041\n",
      "Iteration=8, theta_new=[ 1.83293413 -0.97956593], -likelihood = -17138.87879\n",
      "Iteration=9, theta_new=[ 1.8352603  -0.96977604], -likelihood = -17143.15486\n",
      "Iteration=10, theta_new=[ 1.8379602  -0.96110024], -likelihood = -17146.80469\n",
      "Iteration=11, theta_new=[ 1.84096143 -0.95334019], -likelihood = -17149.98875\n",
      "Iteration=12, theta_new=[ 1.84411792 -0.94631214], -likelihood = -17152.84076\n",
      "Iteration=13, theta_new=[ 1.8473883  -0.93995894], -likelihood = -17155.42065\n",
      "Iteration=14, theta_new=[ 1.85068968 -0.93412698], -likelihood = -17157.76923\n",
      "Iteration=15, theta_new=[ 1.85400144 -0.92872749], -likelihood = -17159.91394\n",
      "Iteration=16, theta_new=[ 1.85724754 -0.92378726], -likelihood = -17161.87883\n",
      "Iteration=17, theta_new=[ 1.86042515 -0.91918138], -likelihood = -17163.64652\n",
      "Iteration=18, theta_new=[ 1.86351427 -0.91494556], -likelihood = -17165.24304\n",
      "Iteration=19, theta_new=[ 1.86647862 -0.91102742], -likelihood = -17166.66644\n",
      "Iteration=20, theta_new=[ 1.86932023 -0.90734607], -likelihood = -17167.92024\n",
      "Iteration=21, theta_new=[ 1.87204741 -0.90403449], -likelihood = -17169.02097\n",
      "Iteration=22, theta_new=[ 1.87462516 -0.90090425], -likelihood = -17169.97086\n",
      "Iteration=23, theta_new=[ 1.87704812 -0.89803442], -likelihood = -17170.78341\n",
      "Iteration=24, theta_new=[ 1.87930439 -0.89544565], -likelihood = -17171.46367\n",
      "Iteration=25, theta_new=[ 1.8814215  -0.89312374], -likelihood = -17172.02130\n",
      "Iteration=26, theta_new=[ 1.88340038 -0.89096476], -likelihood = -17172.47568\n",
      "Iteration=27, theta_new=[ 1.88522262 -0.88901998], -likelihood = -17172.84089\n",
      "Iteration=28, theta_new=[ 1.88689718 -0.8872861 ], -likelihood = -17173.12383\n",
      "Iteration=29, theta_new=[ 1.88845602 -0.88573183], -likelihood = -17173.33767\n",
      "Iteration=30, theta_new=[ 1.88988611 -0.88432713], -likelihood = -17173.49624\n",
      "Iteration=31, theta_new=[ 1.89119869 -0.88301745], -likelihood = -17173.60695\n",
      "Iteration=32, theta_new=[ 1.89240513 -0.88190258], -likelihood = -17173.67832\n",
      "Iteration=33, theta_new=[ 1.89350364 -0.88086417], -likelihood = -17173.71878\n",
      "Iteration=34, theta_new=[ 1.8944899  -0.87996839], -likelihood = -17173.73341\n",
      "Iteration=35, theta_new=[ 1.89539406 -0.87915243], -likelihood = -17173.72910\n",
      "Iteration=36, theta_new=[ 1.89625526 -0.87839735], -likelihood = -17173.70997\n",
      "Iteration=37, theta_new=[ 1.89699807 -0.87778091], -likelihood = -17173.67850\n",
      "Iteration=38, theta_new=[ 1.89767883 -0.87719849], -likelihood = -17173.64142\n",
      "Iteration=39, theta_new=[ 1.89830032 -0.87664072], -likelihood = -17173.59806\n",
      "Iteration=40, theta_new=[ 1.89885467 -0.87614354], -likelihood = -17173.55018\n",
      "Iteration=41, theta_new=[ 1.89934465 -0.87575068], -likelihood = -17173.50129\n",
      "Iteration=42, theta_new=[ 1.89982862 -0.87537945], -likelihood = -17173.45466\n",
      "Iteration=43, theta_new=[ 1.90023919 -0.87504455], -likelihood = -17173.40466\n",
      "Iteration=44, theta_new=[ 1.90061533 -0.87480458], -likelihood = -17173.35810\n",
      "Iteration=45, theta_new=[ 1.90095573 -0.87453863], -likelihood = -17173.31490\n",
      "Iteration=46, theta_new=[ 1.90126354 -0.87434269], -likelihood = -17173.27180\n",
      "Iteration=47, theta_new=[ 1.90155336 -0.87411   ], -likelihood = -17173.23246\n",
      "Iteration=48, theta_new=[ 1.90179471 -0.87392702], -likelihood = -17173.19210\n",
      "Iteration=49, theta_new=[ 1.90199819 -0.87377155], -likelihood = -17173.15756\n",
      "Iteration=50, theta_new=[ 1.90221382 -0.87362896], -likelihood = -17173.12758\n",
      "2-th start\n",
      "Iteration=1, theta_new=[-1.57077875 -2.79402043], -likelihood = -15839.54811\n",
      "Iteration=2, theta_new=[-1.57079143 -2.83498029], -likelihood = -16132.50748\n",
      "Iteration=3, theta_new=[-1.57077398 -2.8553824 ], -likelihood = -16220.57251\n",
      "Iteration=4, theta_new=[-1.57082528 -2.86545218], -likelihood = -16242.37743\n",
      "Iteration=5, theta_new=[-1.57083215 -2.87041695], -likelihood = -16247.49964\n",
      "Iteration=6, theta_new=[-1.57076383 -2.87287482], -likelihood = -16248.63056\n",
      "Iteration=7, theta_new=[-1.57082355 -2.87406193], -likelihood = -16248.84740\n",
      "Iteration=8, theta_new=[-1.57076162 -2.87463422], -likelihood = -16248.87050\n",
      "Iteration=9, theta_new=[-1.57080953 -2.8749498 ], -likelihood = -16248.86265\n",
      "Iteration=10, theta_new=[-1.57078469 -2.8751078 ], -likelihood = -16248.85301\n",
      "Iteration=11, theta_new=[-1.57079693 -2.87514687], -likelihood = -16248.84679\n",
      "Iteration=12, theta_new=[-1.57078437 -2.87520294], -likelihood = -16248.84509\n",
      "norm=0.0\n",
      "Iteration=13, theta_new=[-1.57078437 -2.87520294], -likelihood = -16248.84260\n",
      "3-th start\n",
      "Iteration=1, theta_new=[1.00246548 1.70730634], -likelihood = -16565.70390\n",
      "Iteration=2, theta_new=[1.02242933 1.74295751], -likelihood = -16586.33261\n",
      "Iteration=3, theta_new=[1.03981505 1.76668853], -likelihood = -16600.93504\n",
      "Iteration=4, theta_new=[1.0545245  1.78301264], -likelihood = -16611.54894\n",
      "Iteration=5, theta_new=[1.06687562 1.79439949], -likelihood = -16619.47425\n",
      "Iteration=6, theta_new=[1.07721291 1.80231744], -likelihood = -16625.63306\n",
      "Iteration=7, theta_new=[1.08585483 1.80764136], -likelihood = -16630.58457\n",
      "Iteration=8, theta_new=[1.09308198 1.81098364], -likelihood = -16634.68421\n",
      "Iteration=9, theta_new=[1.09918666 1.81283311], -likelihood = -16638.16897\n",
      "Iteration=10, theta_new=[1.10431611 1.81344473], -likelihood = -16641.22384\n",
      "Iteration=11, theta_new=[1.10867609 1.81308208], -likelihood = -16643.94433\n",
      "Iteration=12, theta_new=[1.11244461 1.81198051], -likelihood = -16646.43274\n",
      "Iteration=13, theta_new=[1.11567975 1.8101301 ], -likelihood = -16648.76368\n",
      "Iteration=14, theta_new=[1.11849981 1.80772108], -likelihood = -16650.98061\n",
      "Iteration=15, theta_new=[1.12091953 1.80477322], -likelihood = -16653.11802\n",
      "Iteration=16, theta_new=[1.12307384 1.80136541], -likelihood = -16655.17944\n",
      "Iteration=17, theta_new=[1.12497582 1.79752884], -likelihood = -16657.22560\n",
      "Iteration=18, theta_new=[1.12665771 1.79328447], -likelihood = -16659.25382\n",
      "Iteration=19, theta_new=[1.12819521 1.78860252], -likelihood = -16661.27396\n",
      "Iteration=20, theta_new=[1.12955678 1.78343946], -likelihood = -16663.33544\n",
      "Iteration=21, theta_new=[1.1307896  1.77785464], -likelihood = -16665.42181\n",
      "Iteration=22, theta_new=[1.13190931 1.77170763], -likelihood = -16667.54291\n",
      "Iteration=23, theta_new=[1.13293241 1.76499057], -likelihood = -16669.73344\n",
      "Iteration=24, theta_new=[1.13388842 1.75766501], -likelihood = -16671.99671\n",
      "Iteration=25, theta_new=[1.13478629 1.74960708], -likelihood = -16674.35087\n",
      "Iteration=26, theta_new=[1.13562482 1.74064129], -likelihood = -16676.81615\n",
      "Iteration=27, theta_new=[1.13639779 1.73063394], -likelihood = -16679.41079\n",
      "Iteration=28, theta_new=[1.13713578 1.71928987], -likelihood = -16682.13047\n",
      "Iteration=29, theta_new=[1.13784266 1.70621494], -likelihood = -16685.02096\n",
      "Iteration=30, theta_new=[1.13853295 1.69073819], -likelihood = -16688.10339\n",
      "Iteration=31, theta_new=[1.13919535 1.6716738 ], -likelihood = -16691.41644\n",
      "Iteration=32, theta_new=[1.13983822 1.64592198], -likelihood = -16694.97303\n",
      "Iteration=33, theta_new=[1.14046705 1.59862803], -likelihood = -16698.83913\n",
      "Iteration=34, theta_new=[1.14275494 1.57075978], -likelihood = -16702.37733\n",
      "Iteration=35, theta_new=[1.14518148 1.57078035], -likelihood = -16704.78174\n",
      "Iteration=36, theta_new=[1.1474328  1.57076566], -likelihood = -16706.97293\n",
      "Iteration=37, theta_new=[1.14951755 1.57083547], -likelihood = -16708.98865\n",
      "Iteration=38, theta_new=[1.15145106 1.5708256 ], -likelihood = -16710.83988\n",
      "Iteration=39, theta_new=[1.15323967 1.57080417], -likelihood = -16712.54311\n",
      "Iteration=40, theta_new=[1.15488355 1.57072984], -likelihood = -16714.10660\n",
      "Iteration=41, theta_new=[1.15640355 1.57083515], -likelihood = -16715.53301\n",
      "Iteration=42, theta_new=[1.15780998 1.57082891], -likelihood = -16716.84267\n",
      "Iteration=43, theta_new=[1.15910788 1.57079147], -likelihood = -16718.04636\n",
      "Iteration=44, theta_new=[1.16029614 1.57084174], -likelihood = -16719.15006\n",
      "Iteration=45, theta_new=[1.16139636 1.5707538 ], -likelihood = -16720.15445\n",
      "Iteration=46, theta_new=[1.16241298 1.57084795], -likelihood = -16721.07911\n",
      "Iteration=47, theta_new=[1.16334917 1.57079971], -likelihood = -16721.92892\n",
      "Iteration=48, theta_new=[1.16420577 1.57078768], -likelihood = -16722.70750\n",
      "Iteration=49, theta_new=[1.16498912 1.5708088 ], -likelihood = -16723.41650\n",
      "Iteration=50, theta_new=[1.16571817 1.57076313], -likelihood = -16724.06200\n",
      "4-th start\n",
      "Iteration=1, theta_new=[0.60497222 1.90383453], -likelihood = -18733.53303\n",
      "Iteration=2, theta_new=[0.5251903  1.91063693], -likelihood = -20802.68193\n",
      "Iteration=3, theta_new=[0.467397   1.91222726], -likelihood = -22831.98325\n",
      "Iteration=4, theta_new=[0.42742761 1.91192328], -likelihood = -24258.30706\n",
      "Iteration=5, theta_new=[0.40047547 1.91189517], -likelihood = -25048.58689\n",
      "Iteration=6, theta_new=[0.38247921 1.91246148], -likelihood = -25434.75114\n",
      "Iteration=7, theta_new=[0.3704634  1.91333934], -likelihood = -25613.60190\n",
      "Iteration=8, theta_new=[0.36244078 1.91426519], -likelihood = -25694.98206\n",
      "Iteration=9, theta_new=[0.35706278 1.91515612], -likelihood = -25731.75773\n",
      "Iteration=10, theta_new=[0.35345205 1.91588786], -likelihood = -25748.40800\n",
      "Iteration=11, theta_new=[0.35102623 1.9164907 ], -likelihood = -25755.94869\n",
      "Iteration=12, theta_new=[0.34939035 1.9169582 ], -likelihood = -25759.36641\n",
      "Iteration=13, theta_new=[0.34827753 1.91732303], -likelihood = -25760.91997\n",
      "Iteration=14, theta_new=[0.34754115 1.91760436], -likelihood = -25761.63021\n",
      "Iteration=15, theta_new=[0.34701999 1.91779337], -likelihood = -25761.94579\n",
      "Iteration=16, theta_new=[0.34668849 1.91794885], -likelihood = -25762.09367\n",
      "Iteration=17, theta_new=[0.34646383 1.91805846], -likelihood = -25762.15606\n",
      "Iteration=18, theta_new=[0.34631199 1.91814835], -likelihood = -25762.18390\n",
      "Iteration=19, theta_new=[0.3462071  1.91823493], -likelihood = -25762.19624\n",
      "Iteration=20, theta_new=[0.34613407 1.91828152], -likelihood = -25762.20204\n",
      "Iteration=21, theta_new=[0.3460796  1.91830102], -likelihood = -25762.20428\n",
      "Iteration=22, theta_new=[0.34603828 1.91832228], -likelihood = -25762.20491\n",
      "Iteration=23, theta_new=[0.34602579 1.91832454], -likelihood = -25762.20504\n",
      "norm=0.0\n",
      "Iteration=24, theta_new=[0.34602579 1.91832454], -likelihood = -25762.20485\n",
      "5-th start\n",
      "Iteration=1, theta_new=[1.85466074 2.43401305], -likelihood = -17280.35467\n",
      "Iteration=2, theta_new=[1.87311433 2.53761038], -likelihood = -18649.34177\n",
      "Iteration=3, theta_new=[1.88786647 2.61756285], -likelihood = -20788.51425\n",
      "Iteration=4, theta_new=[1.89614361 2.67508305], -likelihood = -22862.00235\n",
      "Iteration=5, theta_new=[1.90096498 2.71470708], -likelihood = -24282.38608\n",
      "Iteration=6, theta_new=[1.90454852 2.74138124], -likelihood = -25059.09121\n",
      "Iteration=7, theta_new=[1.90754821 2.75921998], -likelihood = -25437.63535\n",
      "Iteration=8, theta_new=[1.91004428 2.77114723], -likelihood = -25613.76076\n",
      "Iteration=9, theta_new=[1.91206816 2.7791526 ], -likelihood = -25694.35664\n",
      "Iteration=10, theta_new=[1.91367345 2.78452942], -likelihood = -25731.12530\n",
      "Iteration=11, theta_new=[1.9148929  2.78812557], -likelihood = -25747.85807\n",
      "Iteration=12, theta_new=[1.91582723 2.79056716], -likelihood = -25755.43523\n",
      "Iteration=13, theta_new=[1.91652961 2.79219644], -likelihood = -25758.91684\n",
      "Iteration=14, theta_new=[1.91703864 2.79329942], -likelihood = -25760.48803\n",
      "Iteration=15, theta_new=[1.91739113 2.7940414 ], -likelihood = -25761.20669\n",
      "Iteration=16, theta_new=[1.91767119 2.79455453], -likelihood = -25761.53223\n",
      "Iteration=17, theta_new=[1.91786044 2.79490518], -likelihood = -25761.68398\n",
      "Iteration=18, theta_new=[1.91798532 2.79513067], -likelihood = -25761.75213\n",
      "Iteration=19, theta_new=[1.91807983 2.79527607], -likelihood = -25761.78075\n",
      "Iteration=20, theta_new=[1.91814151 2.79537528], -likelihood = -25761.79318\n",
      "Iteration=21, theta_new=[1.91821093 2.79544781], -likelihood = -25761.79871\n",
      "Iteration=22, theta_new=[1.91825078 2.79550061], -likelihood = -25761.80169\n",
      "Iteration=23, theta_new=[1.91825669 2.79552786], -likelihood = -25761.80278\n",
      "Iteration=24, theta_new=[1.91825811 2.79554708], -likelihood = -25761.80290\n",
      "Iteration=25, theta_new=[1.91823583 2.79556426], -likelihood = -25761.80271\n",
      "Iteration=26, theta_new=[1.91826212 2.79557537], -likelihood = -25761.80246\n",
      "Iteration=27, theta_new=[1.91830092 2.79558132], -likelihood = -25761.80266\n",
      "norm=0.0\n",
      "Iteration=28, theta_new=[1.91830092 2.79558132], -likelihood = -25761.80309\n",
      "6-th start\n",
      "Iteration=1, theta_new=[ 0.55551474 -0.56239538], -likelihood = -4466.16513\n",
      "Iteration=2, theta_new=[ 0.49073443 -0.52176904], -likelihood = -6698.26268\n",
      "Iteration=3, theta_new=[ 0.44398732 -0.49528803], -likelihood = -8858.04263\n",
      "Iteration=4, theta_new=[ 0.41247497 -0.48171718], -likelihood = -10040.94563\n",
      "Iteration=5, theta_new=[ 0.39113048 -0.47496121], -likelihood = -10611.44040\n",
      "Iteration=6, theta_new=[ 0.376576  -0.4713354], -likelihood = -10884.20506\n",
      "Iteration=7, theta_new=[ 0.36658922 -0.4693381 ], -likelihood = -11014.43003\n",
      "Iteration=8, theta_new=[ 0.35973902 -0.46814919], -likelihood = -11076.64981\n",
      "Iteration=9, theta_new=[ 0.35501196 -0.46740701], -likelihood = -11106.29384\n",
      "Iteration=10, theta_new=[ 0.35175898 -0.46698551], -likelihood = -11120.48801\n",
      "Iteration=11, theta_new=[ 0.34950397 -0.46671626], -likelihood = -11127.26114\n",
      "Iteration=12, theta_new=[ 0.34794732 -0.46658027], -likelihood = -11130.51889\n",
      "Iteration=13, theta_new=[ 0.34688796 -0.46648979], -likelihood = -11132.07811\n",
      "Iteration=14, theta_new=[ 0.34615704 -0.46640902], -likelihood = -11132.81734\n",
      "Iteration=15, theta_new=[ 0.3456388  -0.46637837], -likelihood = -11133.17570\n",
      "Iteration=16, theta_new=[ 0.34528483 -0.46638011], -likelihood = -11133.35384\n",
      "Iteration=17, theta_new=[ 0.34505153 -0.46636455], -likelihood = -11133.43915\n",
      "Iteration=18, theta_new=[ 0.34487612 -0.46634164], -likelihood = -11133.47977\n",
      "Iteration=19, theta_new=[ 0.34476959 -0.4663375 ], -likelihood = -11133.50217\n",
      "Iteration=20, theta_new=[ 0.34467968 -0.46636837], -likelihood = -11133.51197\n",
      "Iteration=21, theta_new=[ 0.34461508 -0.46632712], -likelihood = -11133.51767\n",
      "Iteration=22, theta_new=[ 0.34458627 -0.46633217], -likelihood = -11133.52188\n",
      "Iteration=23, theta_new=[ 0.34456811 -0.46632469], -likelihood = -11133.52295\n",
      "Iteration=24, theta_new=[ 0.34455551 -0.46631752], -likelihood = -11133.52372\n",
      "Iteration=25, theta_new=[ 0.34454655 -0.46634283], -likelihood = -11133.52422\n",
      "Iteration=26, theta_new=[ 0.34452653 -0.46633525], -likelihood = -11133.52403\n",
      "norm=0.0\n",
      "Iteration=27, theta_new=[ 0.34452653 -0.46633525], -likelihood = -11133.52471\n",
      "7-th start\n",
      "Iteration=1, theta_new=[-2.22028391  1.318847  ], -likelihood = -17142.25248\n",
      "Iteration=2, theta_new=[-2.21818432  1.31202564], -likelihood = -17147.82250\n",
      "Iteration=3, theta_new=[-2.21752355  1.30615446], -likelihood = -17151.89014\n",
      "Iteration=4, theta_new=[-2.21792965  1.30101159], -likelihood = -17155.06032\n",
      "Iteration=5, theta_new=[-2.21911985  1.29639912], -likelihood = -17157.65977\n",
      "Iteration=6, theta_new=[-2.22089628  1.29223146], -likelihood = -17159.89087\n",
      "Iteration=7, theta_new=[-2.2230134   1.28837378], -likelihood = -17161.84442\n",
      "Iteration=8, theta_new=[-2.22543339  1.2848315 ], -likelihood = -17163.59592\n",
      "Iteration=9, theta_new=[-2.22803324  1.2815224 ], -likelihood = -17165.15804\n",
      "Iteration=10, theta_new=[-2.2306449  1.2784294], -likelihood = -17166.56541\n",
      "Iteration=11, theta_new=[-2.23323189  1.27551438], -likelihood = -17167.81917\n",
      "Iteration=12, theta_new=[-2.23586375  1.27277593], -likelihood = -17168.93625\n",
      "Iteration=13, theta_new=[-2.23834923  1.2701845 ], -likelihood = -17169.92703\n",
      "Iteration=14, theta_new=[-2.24078422  1.26778448], -likelihood = -17170.79485\n",
      "Iteration=15, theta_new=[-2.24305683  1.26552834], -likelihood = -17171.54026\n",
      "Iteration=16, theta_new=[-2.24518759  1.26341498], -likelihood = -17172.17871\n",
      "Iteration=17, theta_new=[-2.24726231  1.26145931], -likelihood = -17172.71982\n",
      "Iteration=18, theta_new=[-2.24911649  1.25965042], -likelihood = -17173.17175\n",
      "Iteration=19, theta_new=[-2.25082934  1.25794736], -likelihood = -17173.54091\n",
      "Iteration=20, theta_new=[-2.25245638  1.25636069], -likelihood = -17173.84511\n",
      "Iteration=21, theta_new=[-2.25394629  1.25487954], -likelihood = -17174.09042\n",
      "Iteration=22, theta_new=[-2.2552902   1.25353982], -likelihood = -17174.28431\n",
      "Iteration=23, theta_new=[-2.25652777  1.25228231], -likelihood = -17174.42986\n",
      "Iteration=24, theta_new=[-2.25763276  1.25115237], -likelihood = -17174.54007\n",
      "Iteration=25, theta_new=[-2.25863327  1.25008381], -likelihood = -17174.61687\n",
      "Iteration=26, theta_new=[-2.25954088  1.24913237], -likelihood = -17174.67007\n",
      "Iteration=27, theta_new=[-2.26042305  1.24824761], -likelihood = -17174.70093\n",
      "Iteration=28, theta_new=[-2.26114858  1.24742984], -likelihood = -17174.71504\n",
      "Iteration=29, theta_new=[-2.26181587  1.24671754], -likelihood = -17174.71695\n",
      "Iteration=30, theta_new=[-2.26244252  1.24601803], -likelihood = -17174.70841\n",
      "Iteration=31, theta_new=[-2.26295924  1.24538941], -likelihood = -17174.69172\n",
      "Iteration=32, theta_new=[-2.26348708  1.24485205], -likelihood = -17174.67013\n",
      "Iteration=33, theta_new=[-2.26393621  1.2443432 ], -likelihood = -17174.64408\n",
      "Iteration=34, theta_new=[-2.26430748  1.24388225], -likelihood = -17174.61559\n",
      "Iteration=35, theta_new=[-2.26467427  1.24347168], -likelihood = -17174.58655\n",
      "Iteration=36, theta_new=[-2.26500141  1.24310312], -likelihood = -17174.55640\n",
      "Iteration=37, theta_new=[-2.26524393  1.24275404], -likelihood = -17174.52667\n",
      "Iteration=38, theta_new=[-2.26549173  1.24243101], -likelihood = -17174.49814\n",
      "Iteration=39, theta_new=[-2.26570199  1.24212182], -likelihood = -17174.46896\n",
      "Iteration=40, theta_new=[-2.26590614  1.24190038], -likelihood = -17174.44011\n",
      "Iteration=41, theta_new=[-2.26608796  1.24168743], -likelihood = -17174.41674\n",
      "Iteration=42, theta_new=[-2.26624418  1.24148489], -likelihood = -17174.39379\n",
      "Iteration=43, theta_new=[-2.26638271  1.24130935], -likelihood = -17174.37165\n",
      "Iteration=44, theta_new=[-2.26654003  1.2411189 ], -likelihood = -17174.35173\n",
      "Iteration=45, theta_new=[-2.26668307  1.24096185], -likelihood = -17174.32926\n",
      "Iteration=46, theta_new=[-2.26679694  1.24083696], -likelihood = -17174.30970\n",
      "Iteration=47, theta_new=[-2.26691408  1.24071755], -likelihood = -17174.29381\n",
      "Iteration=48, theta_new=[-2.26700431  1.2406162 ], -likelihood = -17174.27803\n",
      "Iteration=49, theta_new=[-2.26707555  1.24054316], -likelihood = -17174.26463\n",
      "Iteration=50, theta_new=[-2.26711509  1.24042909], -likelihood = -17174.25480\n",
      "8-th start\n",
      "Iteration=1, theta_new=[-2.36846069  1.86434945], -likelihood = -17028.60445\n",
      "Iteration=2, theta_new=[-2.33839141  1.87323302], -likelihood = -17103.92835\n",
      "Iteration=3, theta_new=[-2.31756369  1.87941232], -likelihood = -17138.90273\n",
      "Iteration=4, theta_new=[-2.30285878  1.88385798], -likelihood = -17155.96178\n",
      "Iteration=5, theta_new=[-2.29238502  1.88714155], -likelihood = -17164.62834\n",
      "Iteration=6, theta_new=[-2.28492321  1.88963683], -likelihood = -17169.15717\n",
      "Iteration=7, theta_new=[-2.27953304  1.89159852], -likelihood = -17171.57234\n",
      "Iteration=8, theta_new=[-2.2756452   1.89312956], -likelihood = -17172.89759\n",
      "Iteration=9, theta_new=[-2.2728229   1.89439639], -likelihood = -17173.62708\n",
      "Iteration=10, theta_new=[-2.27084664  1.895417  ], -likelihood = -17174.03571\n",
      "Iteration=11, theta_new=[-2.26942333  1.89624738], -likelihood = -17174.25491\n",
      "Iteration=12, theta_new=[-2.26845092  1.89697457], -likelihood = -17174.37327\n",
      "Iteration=13, theta_new=[-2.2677445   1.89759457], -likelihood = -17174.43042\n",
      "Iteration=14, theta_new=[-2.26724767  1.89812193], -likelihood = -17174.45513\n",
      "Iteration=15, theta_new=[-2.26696434  1.89858066], -likelihood = -17174.46011\n",
      "Iteration=16, theta_new=[-2.26680628  1.89898194], -likelihood = -17174.45067\n",
      "Iteration=17, theta_new=[-2.26674865  1.89932542], -likelihood = -17174.43419\n",
      "Iteration=18, theta_new=[-2.26671655  1.89963633], -likelihood = -17174.41407\n",
      "Iteration=19, theta_new=[-2.26672232  1.8999152 ], -likelihood = -17174.39294\n",
      "Iteration=20, theta_new=[-2.26673935  1.90015103], -likelihood = -17174.37108\n",
      "Iteration=21, theta_new=[-2.26679542  1.90035326], -likelihood = -17174.35094\n",
      "Iteration=22, theta_new=[-2.2668031  1.9005299], -likelihood = -17174.33128\n",
      "Iteration=23, theta_new=[-2.2668448   1.90068423], -likelihood = -17174.31500\n",
      "Iteration=24, theta_new=[-2.26691332  1.90080736], -likelihood = -17174.29902\n",
      "Iteration=25, theta_new=[-2.26699189  1.90089231], -likelihood = -17174.28458\n",
      "Iteration=26, theta_new=[-2.26706575  1.90101752], -likelihood = -17174.27360\n",
      "Iteration=27, theta_new=[-2.26713103  1.90113307], -likelihood = -17174.25841\n",
      "Iteration=28, theta_new=[-2.26718836  1.90123312], -likelihood = -17174.24425\n",
      "Iteration=29, theta_new=[-2.26722319  1.90130263], -likelihood = -17174.23174\n",
      "Iteration=30, theta_new=[-2.26726521  1.90135882], -likelihood = -17174.22311\n",
      "Iteration=31, theta_new=[-2.26730722  1.90141501], -likelihood = -17174.21560\n",
      "Iteration=32, theta_new=[-2.26733514  1.90146381], -likelihood = -17174.20801\n",
      "Iteration=33, theta_new=[-2.26736306  1.90151262], -likelihood = -17174.20169\n",
      "Iteration=34, theta_new=[-2.26737816  1.90157963], -likelihood = -17174.19530\n",
      "Iteration=35, theta_new=[-2.26739624  1.90160793], -likelihood = -17174.18730\n",
      "Iteration=36, theta_new=[-2.26741431  1.90163622], -likelihood = -17174.18349\n",
      "Iteration=37, theta_new=[-2.26743239  1.90166452], -likelihood = -17174.17966\n",
      "Iteration=38, theta_new=[-2.26745047  1.90169282], -likelihood = -17174.17582\n",
      "Iteration=39, theta_new=[-2.26744153  1.90174992], -likelihood = -17174.17189\n",
      "norm=0.0\n",
      "Iteration=40, theta_new=[-2.26744153  1.90174992], -likelihood = -17174.16564\n",
      "9-th start\n",
      "Iteration=1, theta_new=[-2.67367284  1.97476808], -likelihood = -16456.15946\n",
      "Iteration=2, theta_new=[-2.74913538  1.95775885], -likelihood = -16709.73475\n",
      "Iteration=3, theta_new=[-2.80356968  1.94616529], -likelihood = -17023.33117\n",
      "Iteration=4, theta_new=[-2.83389724  1.93811853], -likelihood = -17175.79336\n",
      "Iteration=5, theta_new=[-2.85004631  1.93246926], -likelihood = -17227.57177\n",
      "Iteration=6, theta_new=[-2.85840829  1.92850377], -likelihood = -17244.24553\n",
      "Iteration=7, theta_new=[-2.86271587  1.92567759], -likelihood = -17249.75726\n",
      "Iteration=8, theta_new=[-2.86495391  1.92367805], -likelihood = -17251.75103\n",
      "Iteration=9, theta_new=[-2.86609596  1.92226306], -likelihood = -17252.54278\n",
      "Iteration=10, theta_new=[-2.86668814  1.92127397], -likelihood = -17252.88297\n",
      "Iteration=11, theta_new=[-2.86698219  1.92056393], -likelihood = -17253.03784\n",
      "Iteration=12, theta_new=[-2.86712888  1.92006603], -likelihood = -17253.11321\n",
      "Iteration=13, theta_new=[-2.86718533  1.91967747], -likelihood = -17253.15013\n",
      "Iteration=14, theta_new=[-2.86724212  1.91944188], -likelihood = -17253.17056\n",
      "Iteration=15, theta_new=[-2.86722619  1.9192824 ], -likelihood = -17253.17938\n",
      "Iteration=16, theta_new=[-2.86723995  1.91916669], -likelihood = -17253.18398\n",
      "Iteration=17, theta_new=[-2.86723233  1.91905187], -likelihood = -17253.18648\n",
      "Iteration=18, theta_new=[-2.86722551  1.91900346], -likelihood = -17253.18843\n",
      "Iteration=19, theta_new=[-2.8672137  1.9189647], -likelihood = -17253.18908\n",
      "Iteration=20, theta_new=[-2.86723805  1.91889711], -likelihood = -17253.18941\n",
      "norm=0.0\n",
      "Iteration=21, theta_new=[-2.86723805  1.91889711], -likelihood = -17253.18997\n"
     ]
    }
   ],
   "source": [
    "est_theta2, neglhd_2, K2, mu2 = multi_start(10, X2, GS_2, GN_2, max_iter=50, eps=1e-6)"
   ]
  },
  {
   "cell_type": "code",
   "execution_count": 8,
   "id": "61a3038f-0338-4543-b350-c3c7d3ff3fa4",
   "metadata": {},
   "outputs": [
    {
     "name": "stdout",
     "output_type": "stream",
     "text": [
      "Погрешность в смысле разности углов: [0.00304006 0.69659406].\n",
      "Погрешность в смысле разности синусов углов [0.0028583  0.00052479].\n"
     ]
    }
   ],
   "source": [
    "print(f\"Погрешность в смысле разности углов: {np.abs(est_theta2-theta2)}.\\nПогрешность в смысле разности синусов углов {np.abs(np.sin(est_theta2)-np.sin(theta2))}.\")"
   ]
  },
  {
   "cell_type": "markdown",
   "id": "a9b0aff0-70f1-4222-aa8c-0e9440273cac",
   "metadata": {},
   "source": [
    "## Теперь имеет смысл определить примерный вид функции, оптимизируемой на М-шаге:"
   ]
  },
  {
   "cell_type": "code",
   "execution_count": 9,
   "id": "569d6c62-4af5-465c-98cd-1ef1ed941d93",
   "metadata": {},
   "outputs": [],
   "source": [
    "W1, W2 = goal_function(X1, GS_1, GN_2, 50)"
   ]
  },
  {
   "cell_type": "code",
   "execution_count": 10,
   "id": "6bbeb039-2000-4761-91f0-0626a1e76545",
   "metadata": {},
   "outputs": [
    {
     "data": {
      "text/plain": [
       "[<matplotlib.lines.Line2D at 0x2818a854a00>]"
      ]
     },
     "execution_count": 10,
     "metadata": {},
     "output_type": "execute_result"
    },
    {
     "data": {
      "image/png": "[encoded data removed]",
      "text/plain": [
       "<Figure size 640x480 with 1 Axes>"
      ]
     },
     "metadata": {},
     "output_type": "display_data"
    }
   ],
   "source": [
    "plt.title(\"График функции, подлежащей максимизации, на первом шаге ЕМ-алгоритма\")\n",
    "plt.plot(W1, W2.real, color='green')"
   ]
  },
  {
   "cell_type": "code",
   "execution_count": 11,
   "id": "80bb5e8c-72b3-47b0-bfb5-2eaff580b0e2",
   "metadata": {},
   "outputs": [],
   "source": [
    "# Переведем оценку угла прибытия в градусы\n",
    "est_theta1_degree = est_theta1[0]*180/np.pi"
   ]
  },
  {
   "cell_type": "code",
   "execution_count": 12,
   "id": "e3bea335-9996-4c65-9118-ef5dd9f4fd0c",
   "metadata": {},
   "outputs": [
    {
     "data": {
      "text/plain": [
       "29.323716052117142"
      ]
     },
     "execution_count": 12,
     "metadata": {},
     "output_type": "execute_result"
    }
   ],
   "source": [
    "est_theta1_degree"
   ]
  },
  {
   "cell_type": "markdown",
   "id": "058b2116-7c25-4c58-951c-05eaf5af366a",
   "metadata": {},
   "source": [
    "Ввиду того, что синус симметричен относительно $\\pi/2$, а синус используется в управляющих векторах, происходит такое искажение оценки, т.е. она симметрична относительно точки в окрестности истинного DOA."
   ]
  },
  {
   "cell_type": "code",
   "execution_count": 13,
   "id": "5389f048-c2a3-4744-a6d2-9830d5f4bc31",
   "metadata": {},
   "outputs": [],
   "source": [
    "if est_theta1_degree > 90:\n",
    "    est_theta1_degree = 90-(est_theta1_degree-90)"
   ]
  },
  {
   "cell_type": "code",
   "execution_count": 14,
   "id": "c73894b0-a1ac-45b0-ab0f-755e05a9c767",
   "metadata": {},
   "outputs": [
    {
     "data": {
      "text/plain": [
       "29.323716052117142"
      ]
     },
     "execution_count": 14,
     "metadata": {},
     "output_type": "execute_result"
    }
   ],
   "source": [
    "est_theta1_degree"
   ]
  },
  {
   "cell_type": "code",
   "execution_count": 15,
   "id": "fa978f63-5174-437f-ac3b-013d7efd1380",
   "metadata": {},
   "outputs": [],
   "source": [
    "# Истинное DOA в градусах\n",
    "theta1_degree = theta1[0]*180/np.pi"
   ]
  },
  {
   "cell_type": "code",
   "execution_count": 16,
   "id": "192b25f3-86dd-4aa2-bac4-dbfdc1439239",
   "metadata": {},
   "outputs": [
    {
     "data": {
      "text/plain": [
       "28.64788975654116"
      ]
     },
     "execution_count": 16,
     "metadata": {},
     "output_type": "execute_result"
    }
   ],
   "source": [
    "theta1_degree"
   ]
  },
  {
   "cell_type": "markdown",
   "id": "f5bf903c-2305-453b-88e0-3ef3873c4e3d",
   "metadata": {},
   "source": [
    "Теперь проведем сравнение с **CAPON**:"
   ]
  },
  {
   "cell_type": "code",
   "execution_count": 17,
   "id": "239a86cc-297f-4977-b5df-807f5e85c2f5",
   "metadata": {},
   "outputs": [],
   "source": [
    "R = space_covariance_matrix(X1)\n",
    "angles = np.linspace(-1*np.pi, np.pi, 1000)\n",
    "Powers = []\n",
    "for angle in angles:\n",
    "    a = steering_vector(dist_ratio, angle, 5)\n",
    "    Powers.append(capon_func(a,R).real)"
   ]
  },
  {
   "cell_type": "code",
   "execution_count": 18,
   "id": "936a4bf3-3d76-41cc-9602-ec56fe0ab98a",
   "metadata": {},
   "outputs": [
    {
     "data": {
      "text/plain": [
       "29.369369369369345"
      ]
     },
     "execution_count": 18,
     "metadata": {},
     "output_type": "execute_result"
    }
   ],
   "source": [
    "angles[np.argmax(Powers)]*180/np.pi"
   ]
  },
  {
   "cell_type": "code",
   "execution_count": 19,
   "id": "e770ca17-1eec-4d86-a66a-90bea148bfa8",
   "metadata": {},
   "outputs": [
    {
     "data": {
      "image/png": "[encoded data removed]",
      "text/plain": [
       "<Figure size 640x480 with 1 Axes>"
      ]
     },
     "metadata": {},
     "output_type": "display_data"
    }
   ],
   "source": [
    "plt.title(\"График мощности для CAPON\")\n",
    "plt.plot(angles*180/np.pi, Powers) \n",
    "plt.xlabel(\"Angle\")\n",
    "plt.ylabel(\"Power\")\n",
    "plt.grid()\n",
    "plt.show()"
   ]
  },
  {
   "cell_type": "code",
   "execution_count": 20,
   "id": "e8d8db39-2781-4331-88be-f49b76683ad5",
   "metadata": {},
   "outputs": [],
   "source": [
    "angles_near = np.linspace(0.5-0.1, 0.5+0.1, 100)\n",
    "Powers_near = []\n",
    "for angle in angles_near:\n",
    "    a = steering_vector(dist_ratio, angle, 5)\n",
    "    Powers_near.append(capon_func(a,R).real)"
   ]
  },
  {
   "cell_type": "code",
   "execution_count": 21,
   "id": "7b12f14b-8fa5-49b0-b85c-ed62670ded2c",
   "metadata": {},
   "outputs": [
    {
     "data": {
      "image/png": "[encoded data removed]",
      "text/plain": [
       "<Figure size 640x480 with 1 Axes>"
      ]
     },
     "metadata": {},
     "output_type": "display_data"
    }
   ],
   "source": [
    "plt.title(\"График мощности для CAPON на отрезке\")\n",
    "plt.plot(angles_near*180/np.pi, Powers_near) \n",
    "plt.xlabel(\"Angle\")\n",
    "plt.ylabel(\"Power\")\n",
    "plt.grid()\n",
    "plt.show()"
   ]
  },
  {
   "cell_type": "markdown",
   "id": "0a636a91-b54b-471c-a31f-eb50753fa7b6",
   "metadata": {},
   "source": [
    "# Оценка **CAPON** в градусах"
   ]
  },
  {
   "cell_type": "code",
   "execution_count": 22,
   "id": "74a126de-59cd-4d5f-9e07-aad711d8378e",
   "metadata": {},
   "outputs": [],
   "source": [
    "capon_theta1_degree = angles_near[np.argmax(Powers_near)]*180/np.pi"
   ]
  },
  {
   "cell_type": "code",
   "execution_count": 23,
   "id": "503aa5f2-2202-4daa-9fee-12f7a1338110",
   "metadata": {},
   "outputs": [
    {
     "data": {
      "text/plain": [
       "29.40025857843012"
      ]
     },
     "execution_count": 23,
     "metadata": {},
     "output_type": "execute_result"
    }
   ],
   "source": [
    "capon_theta1_degree"
   ]
  },
  {
   "cell_type": "code",
   "execution_count": 24,
   "id": "14332101-6409-470a-8cbf-50646436c490",
   "metadata": {},
   "outputs": [
    {
     "data": {
      "text/plain": [
       "29.323716052117142"
      ]
     },
     "execution_count": 24,
     "metadata": {},
     "output_type": "execute_result"
    }
   ],
   "source": [
    "# ЕМ-оценка\n",
    "est_theta1_degree"
   ]
  },
  {
   "cell_type": "code",
   "execution_count": 25,
   "id": "fe8269c3-8ced-48c3-873d-9aa41fc5a1a1",
   "metadata": {},
   "outputs": [
    {
     "data": {
      "text/plain": [
       "28.64788975654116"
      ]
     },
     "execution_count": 25,
     "metadata": {},
     "output_type": "execute_result"
    }
   ],
   "source": [
    "# Истинное значение\n",
    "theta1_degree"
   ]
  },
  {
   "cell_type": "code",
   "execution_count": null,
   "id": "475fc681-aece-4502-b290-dd711b23681a",
   "metadata": {},
   "outputs": [],
   "source": []
  }
 ],
 "metadata": {
  "kernelspec": {
   "display_name": "Python 3 (ipykernel)",
   "language": "python",
   "name": "python3"
  },
  "language_info": {
   "codemirror_mode": {
    "name": "ipython",
    "version": 3
   },
   "file_extension": ".py",
   "mimetype": "text/x-python",
   "name": "python",
   "nbconvert_exporter": "python",
   "pygments_lexer": "ipython3",
   "version": "3.10.9"
  }
 },
 "nbformat": 4,
 "nbformat_minor": 5
}
