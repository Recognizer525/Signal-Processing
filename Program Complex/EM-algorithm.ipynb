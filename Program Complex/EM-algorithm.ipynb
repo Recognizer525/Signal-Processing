{
 "cells": [
  {
   "cell_type": "code",
   "execution_count": 1,
   "id": "c9413b81-cfa1-46d3-92cb-3cfb0d1df8ea",
   "metadata": {},
   "outputs": [],
   "source": [
    "import numpy as np\n",
    "import matplotlib.pyplot as plt\n",
    "from sensors import *\n",
    "from functools import partial"
   ]
  },
  {
   "cell_type": "code",
   "execution_count": 2,
   "id": "1759ce5b-8986-420c-8f87-54925b3f1a87",
   "metadata": {},
   "outputs": [],
   "source": [
    "# Отношение расстояния между датчиками к длине волны\n",
    "dist_ratio = 0.5"
   ]
  },
  {
   "cell_type": "code",
   "execution_count": 3,
   "id": "01600988-c703-45e9-a505-a3e7b372cdc5",
   "metadata": {},
   "outputs": [],
   "source": [
    "Num_sensors1 = 5\n",
    "Num_emitters1 = 1\n",
    "sample_size1 = 100\n",
    "# DOA in radian\n",
    "theta1 = [0.5]\n",
    "GS_1 = np.array([[0.7]])\n",
    "GN_1 = 0.1*np.eye(5, dtype=np.float64)"
   ]
  },
  {
   "cell_type": "code",
   "execution_count": 4,
   "id": "33564dd6-9b2c-49d1-b056-21c6554bf883",
   "metadata": {},
   "outputs": [],
   "source": [
    "A1 = np.exp(-2j * np.pi * dist_ratio * np.arange(Num_sensors1).reshape(-1,1) * np.sin(theta1).reshape(1,-1))"
   ]
  },
  {
   "cell_type": "code",
   "execution_count": 5,
   "id": "23ddbe3c-d569-49ac-9d1b-319cb8cb94c5",
   "metadata": {},
   "outputs": [
    {
     "data": {
      "text/plain": [
       "array([[ 1.        +0.j        ],\n",
       "       [ 0.06459158-0.99791178j],\n",
       "       [-0.99165586-0.1289134j ],\n",
       "       [-0.19269681+0.98125834j],\n",
       "       [ 0.96676267+0.25567545j]])"
      ]
     },
     "execution_count": 5,
     "metadata": {},
     "output_type": "execute_result"
    }
   ],
   "source": [
    "A1"
   ]
  },
  {
   "cell_type": "code",
   "execution_count": 6,
   "id": "3f05461d-6601-42e5-b997-1a433d7c9a0c",
   "metadata": {},
   "outputs": [],
   "source": [
    "s1 = CN(Num_emitters1, sample_size1, GS_1)\n",
    "n1 = CN(Num_sensors1, sample_size1, GN_1)\n",
    "X1 = np.zeros((sample_size1, Num_sensors1), dtype=np.complex128)\n",
    "for i in range(sample_size1):\n",
    "    X1[i] = A1 @ s1[i] + n1[i]"
   ]
  },
  {
   "cell_type": "code",
   "execution_count": 7,
   "id": "8d540c1b-76ae-4e24-9f02-b04619d7c550",
   "metadata": {},
   "outputs": [
    {
     "name": "stdout",
     "output_type": "stream",
     "text": [
      "Initial theta = [[0.90568055]]\n",
      "K=[[0.01944444-5.82867088e-17j]]\n",
      "theta_new=[0.75673855]\n",
      "Iteration=1\n",
      "K=[[0.01944444+0.j]]\n",
      "theta_new=[0.66672805]\n",
      "Iteration=2\n",
      "K=[[0.01944444-7.60155827e-16j]]\n",
      "theta_new=[0.61027754]\n",
      "Iteration=3\n",
      "K=[[0.01944444+1.55431223e-16j]]\n",
      "theta_new=[0.57386352]\n",
      "Iteration=4\n",
      "K=[[0.01944444+1.45716772e-17j]]\n",
      "theta_new=[0.55001792]\n",
      "Iteration=5\n",
      "K=[[0.01944444-2.55004351e-16j]]\n",
      "theta_new=[0.5342801]\n",
      "Iteration=6\n",
      "K=[[0.01944444-1.03216047e-16j]]\n",
      "theta_new=[0.52379277]\n",
      "Iteration=7\n",
      "K=[[0.01944444-4.17417836e-19j]]\n",
      "theta_new=[0.51681057]\n",
      "Iteration=8\n",
      "K=[[0.01944444+2.30718222e-17j]]\n",
      "theta_new=[0.51216735]\n",
      "Iteration=9\n",
      "K=[[0.01944444-1.00787434e-16j]]\n",
      "theta_new=[0.50904133]\n",
      "Iteration=10\n",
      "K=[[0.01944444-6.67868538e-17j]]\n",
      "theta_new=[0.50695346]\n",
      "Iteration=11\n",
      "K=[[0.01944444+2.18575158e-17j]]\n",
      "theta_new=[0.50556726]\n",
      "Iteration=12\n",
      "K=[[0.01944444-3.32719963e-16j]]\n",
      "theta_new=[0.50467857]\n",
      "Iteration=13\n",
      "K=[[0.01944444+1.06858966e-16j]]\n",
      "theta_new=[0.50403786]\n",
      "Iteration=14\n",
      "K=[[0.01944444+9.22872889e-17j]]\n",
      "theta_new=[0.50359486]\n",
      "Iteration=15\n",
      "K=[[0.01944444-8.50014503e-17j]]\n",
      "theta_new=[0.50329979]\n",
      "Iteration=16\n",
      "K=[[0.01944444+2.9629077e-16j]]\n",
      "theta_new=[0.50310319]\n",
      "Iteration=17\n",
      "K=[[0.01944444-1.21430643e-17j]]\n",
      "theta_new=[0.50295579]\n",
      "Iteration=18\n",
      "K=[[0.01944444-3.6429193e-17j]]\n",
      "theta_new=[0.50285756]\n",
      "Iteration=19\n",
      "K=[[0.01944444-9.47159018e-17j]]\n",
      "theta_new=[0.50280845]\n",
      "Iteration=20\n"
     ]
    }
   ],
   "source": [
    "est_theta1 = EM(X1, GS_1, GN_1)"
   ]
  },
  {
   "cell_type": "code",
   "execution_count": 8,
   "id": "cc6f749f-595a-4ca6-8955-5fff82f699e8",
   "metadata": {},
   "outputs": [
    {
     "data": {
      "text/plain": [
       "array([0.00280845])"
      ]
     },
     "execution_count": 8,
     "metadata": {},
     "output_type": "execute_result"
    }
   ],
   "source": [
    "np.abs(est_theta1-theta1)"
   ]
  },
  {
   "cell_type": "code",
   "execution_count": 9,
   "id": "39f05013-62e1-4947-b934-62028fc23d96",
   "metadata": {},
   "outputs": [
    {
     "data": {
      "text/plain": [
       "array([0.00246275])"
      ]
     },
     "execution_count": 9,
     "metadata": {},
     "output_type": "execute_result"
    }
   ],
   "source": [
    "np.abs(np.sin(est_theta1)-np.sin(theta1))"
   ]
  },
  {
   "cell_type": "code",
   "execution_count": 10,
   "id": "6c9c1e0b-6f7d-43a2-b972-cd0fed4d6c30",
   "metadata": {},
   "outputs": [],
   "source": [
    "Num_sensors2 = 5\n",
    "Num_emitters2 = 2\n",
    "sample_size2 = 100\n",
    "# DOA in radian\n",
    "theta2 = np.array([0.34906585, 1.22173048])\n",
    "GS_2 = np.array([[2,0],[0,3]])\n",
    "GN_2 = 0.1*np.eye(5, dtype=np.float64)"
   ]
  },
  {
   "cell_type": "code",
   "execution_count": 11,
   "id": "c03cb4f6-00ff-4341-86b5-b3d73965348a",
   "metadata": {},
   "outputs": [],
   "source": [
    "# Матрица управляющих векторов\n",
    "A2 = np.exp(-2j * np.pi * dist_ratio * np.arange(Num_sensors2).reshape(-1,1) * np.sin(theta2).reshape(1,-1))"
   ]
  },
  {
   "cell_type": "code",
   "execution_count": 12,
   "id": "1773c31a-944c-422d-bb6b-d14e3c217d75",
   "metadata": {},
   "outputs": [
    {
     "data": {
      "text/plain": [
       "array([[ 1.        +0.j        ,  1.        +0.j        ],\n",
       "       [ 0.47618256-0.87934645j, -0.98210585-0.18832978j],\n",
       "       [-0.54650034-0.83745888j,  0.92906379+0.36991955j],\n",
       "       [-0.99665042+0.08177982j, -0.84277211-0.53827054j],\n",
       "       [-0.40267475+0.91534313j,  0.72631905+0.68735773j]])"
      ]
     },
     "execution_count": 12,
     "metadata": {},
     "output_type": "execute_result"
    }
   ],
   "source": [
    "A2"
   ]
  },
  {
   "cell_type": "code",
   "execution_count": 13,
   "id": "4c1fc5e5-0a72-4741-ab11-7bdda17f0f6e",
   "metadata": {},
   "outputs": [],
   "source": [
    "s2 = CN(Num_emitters2, sample_size2, GS_2)\n",
    "n2 = CN(Num_sensors2, sample_size2, GN_2)\n",
    "X2 = np.zeros((sample_size2, Num_sensors2), dtype=np.complex128)\n",
    "for i in range(sample_size2):\n",
    "    X2[i] = A2 @ s2[i] + n2[i]"
   ]
  },
  {
   "cell_type": "code",
   "execution_count": 14,
   "id": "256aecfb-ec73-4db6-978d-0aaeff7163d7",
   "metadata": {},
   "outputs": [
    {
     "name": "stdout",
     "output_type": "stream",
     "text": [
      "Initial theta = [[ 0.90568055]\n",
      " [-0.74927934]]\n",
      "K=[[ 0.02091006+3.69286540e-15j -0.00472409+9.64185679e-04j]\n",
      " [-0.00472409-9.64185679e-04j  0.0209793 -9.80015839e-15j]]\n",
      "theta_new=[ 0.97792001 -0.84641559]\n",
      "Iteration=1\n",
      "K=[[ 0.01986168-2.26827672e-16j -0.00096156-5.14911675e-04j]\n",
      " [-0.00096156+5.14911675e-04j  0.01992745-1.69666630e-15j]]\n",
      "theta_new=[ 1.02330112 -0.91507188]\n",
      "Iteration=2\n",
      "K=[[0.02016504-6.00670508e-15j 0.0016417 +2.15640832e-03j]\n",
      " [0.0016417 -2.15640832e-03j 0.02023181+5.93349817e-15j]]\n",
      "theta_new=[ 1.05497526 -0.96266306]\n",
      "Iteration=3\n",
      "K=[[0.02145166+3.09133950e-15j 0.00217249+5.54850851e-03j]\n",
      " [0.00217249-5.54850851e-03j 0.0215227 -6.21255812e-15j]]\n",
      "theta_new=[ 1.07846896 -0.99488206]\n",
      "Iteration=4\n",
      "K=[[0.02307536+1.45004843e-15j 0.001635  +8.55051895e-03j]\n",
      " [0.001635  -8.55051895e-03j 0.02315177-1.14171451e-14j]]\n",
      "theta_new=[ 1.09657295 -1.01485356]\n",
      "Iteration=5\n",
      "K=[[0.02460367-2.24591645e-15j 0.00074839+1.08614178e-02j]\n",
      " [0.00074839-1.08614178e-02j 0.02468514+6.51675359e-15j]]\n",
      "theta_new=[ 1.11093847 -1.02473494]\n",
      "Iteration=6\n",
      "K=[[ 2.57684392e-02+8.64201305e-15j -5.40138752e-05+1.24198435e-02j]\n",
      " [-5.40138752e-05-1.24198435e-02j  2.58537652e-02-3.99162337e-15j]]\n",
      "theta_new=[ 1.12277593 -1.02643535]\n",
      "Iteration=7\n",
      "K=[[ 0.02645942+4.62131492e-15j -0.00056489+1.32821696e-02j]\n",
      " [-0.00056489-1.32821696e-02j  0.02654703-1.16156505e-14j]]\n",
      "theta_new=[ 1.13292346 -1.02166136]\n",
      "Iteration=8\n",
      "K=[[ 0.02668451+2.98120692e-15j -0.00073587+1.35544633e-02j]\n",
      " [-0.00073587-1.35544633e-02j  0.02677287-4.07548996e-15j]]\n",
      "theta_new=[ 1.14194275 -1.01189245]\n",
      "Iteration=9\n",
      "K=[[ 0.0265209 -5.49720583e-15j -0.00061139+1.33569467e-02j]\n",
      " [-0.00061139-1.33569467e-02j  0.02660872+3.52507175e-15j]]\n",
      "theta_new=[ 1.15027766 -0.9986906 ]\n",
      "Iteration=10\n",
      "K=[[ 0.02609622+1.09099551e-15j -0.00029359+1.28340762e-02j]\n",
      " [-0.00029359-1.28340762e-02j  0.02618263+9.73045468e-15j]]\n",
      "theta_new=[ 1.15812576 -0.98328641]\n",
      "Iteration=11\n",
      "K=[[0.02552069+2.12764702e-15j 0.00012343+1.21001383e-02j]\n",
      " [0.00012343-1.21001383e-02j 0.02560519-5.88663976e-15j]]\n",
      "theta_new=[ 1.16560095 -0.96708928]\n",
      "Iteration=12\n",
      "K=[[0.02490542-2.43964856e-15j 0.00054881+1.12793167e-02j]\n",
      " [0.00054881-1.12793167e-02j 0.02498789-8.30450784e-15j]]\n",
      "theta_new=[ 1.17279213 -0.95104203]\n",
      "Iteration=13\n",
      "K=[[0.02431739-2.62828896e-16j 0.00093145+1.04546197e-02j]\n",
      " [0.00093145-1.04546197e-02j 0.02439791-3.81676943e-15j]]\n",
      "theta_new=[ 1.1796363  -0.93610694]\n",
      "Iteration=14\n",
      "K=[[0.02380389+3.05124207e-15j 0.00124216+9.69708810e-03j]\n",
      " [0.00124216-9.69708810e-03j 0.02388271-6.87829128e-15j]]\n",
      "theta_new=[ 1.18605947 -0.92287719]\n",
      "Iteration=15\n",
      "K=[[0.02338275+5.96185918e-15j 0.00147708+9.04563952e-03j]\n",
      " [0.00147708-9.04563952e-03j 0.02346017-9.25324117e-15j]]\n",
      "theta_new=[ 1.19203654 -0.91154344]\n",
      "Iteration=16\n",
      "K=[[0.02305086+2.15453161e-15j 0.00164704+8.51026919e-03j]\n",
      " [0.00164704-8.51026919e-03j 0.02312719-2.11117623e-15j]]\n",
      "theta_new=[ 1.19751971 -0.90219285]\n",
      "Iteration=17\n",
      "K=[[0.02280066-1.56933092e-15j 0.0017648 +8.09220526e-03j]\n",
      " [0.0017648 -8.09220526e-03j 0.02287616-6.96138142e-16j]]\n",
      "theta_new=[ 1.20246214 -0.89472732]\n",
      "Iteration=18\n",
      "K=[[0.02261928-1.97788842e-15j 0.00184382+7.78053554e-03j]\n",
      " [0.00184382-7.78053554e-03j 0.02269418-7.20552856e-15j]]\n",
      "theta_new=[ 1.20689112 -0.88890988]\n",
      "Iteration=19\n",
      "K=[[0.02249299-3.30169259e-16j 0.00189534+7.55890710e-03j]\n",
      " [0.00189534-7.55890710e-03j 0.02256747-3.36012135e-16j]]\n",
      "theta_new=[ 1.21082203 -0.88455713]\n",
      "Iteration=20\n"
     ]
    }
   ],
   "source": [
    "est_theta2 = EM(X2, GS_2, GN_2)"
   ]
  },
  {
   "cell_type": "code",
   "execution_count": 15,
   "id": "27df82cf-68d7-448f-9047-9818b8236ea1",
   "metadata": {},
   "outputs": [
    {
     "data": {
      "text/plain": [
       "array([0.86175618, 2.10628761])"
      ]
     },
     "execution_count": 15,
     "metadata": {},
     "output_type": "execute_result"
    }
   ],
   "source": [
    "np.abs(est_theta2-theta2)"
   ]
  },
  {
   "cell_type": "code",
   "execution_count": 16,
   "id": "61a3038f-0338-4543-b350-c3c7d3ff3fa4",
   "metadata": {},
   "outputs": [
    {
     "data": {
      "text/plain": [
       "array([0.59388574, 1.71332707])"
      ]
     },
     "execution_count": 16,
     "metadata": {},
     "output_type": "execute_result"
    }
   ],
   "source": [
    "np.abs(np.sin(est_theta2)-np.sin(theta2))"
   ]
  },
  {
   "cell_type": "code",
   "execution_count": 18,
   "id": "569d6c62-4af5-465c-98cd-1ef1ed941d93",
   "metadata": {},
   "outputs": [],
   "source": [
    "W1, W2 = goal_function(X1, GS_1, GN_2, 50)"
   ]
  },
  {
   "cell_type": "code",
   "execution_count": 19,
   "id": "6bbeb039-2000-4761-91f0-0626a1e76545",
   "metadata": {},
   "outputs": [
    {
     "data": {
      "text/plain": [
       "[<matplotlib.lines.Line2D at 0x1e1e9811870>]"
      ]
     },
     "execution_count": 19,
     "metadata": {},
     "output_type": "execute_result"
    },
    {
     "data": {
      "image/png": "[encoded data removed]",
      "text/plain": [
       "<Figure size 640x480 with 1 Axes>"
      ]
     },
     "metadata": {},
     "output_type": "display_data"
    }
   ],
   "source": [
    "plt.title(\"График функции, подлежащей максимизации, на первом шаге ЕМ-алгоритма\")\n",
    "plt.plot(W1, W2.real, color='green')"
   ]
  },
  {
   "cell_type": "code",
   "execution_count": null,
   "id": "db250388-a8c0-4c78-8116-6b61fea37ff2",
   "metadata": {},
   "outputs": [],
   "source": []
  }
 ],
 "metadata": {
  "kernelspec": {
   "display_name": "Python 3 (ipykernel)",
   "language": "python",
   "name": "python3"
  },
  "language_info": {
   "codemirror_mode": {
    "name": "ipython",
    "version": 3
   },
   "file_extension": ".py",
   "mimetype": "text/x-python",
   "name": "python",
   "nbconvert_exporter": "python",
   "pygments_lexer": "ipython3",
   "version": "3.10.9"
  }
 },
 "nbformat": 4,
 "nbformat_minor": 5
}
