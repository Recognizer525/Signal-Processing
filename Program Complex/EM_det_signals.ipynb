{
 "cells": [
  {
   "cell_type": "code",
   "execution_count": 1,
   "id": "e28cccb2-82aa-4130-85b0-ed45506397b1",
   "metadata": {},
   "outputs": [],
   "source": [
    "import numpy as np\n",
    "import matplotlib.pyplot as plt\n",
    "import em_dtools\n",
    "from functools import partial"
   ]
  },
  {
   "cell_type": "code",
   "execution_count": 2,
   "id": "9d55aed5-2bc2-47cb-9fe7-e78bdb757034",
   "metadata": {},
   "outputs": [],
   "source": [
    "dist_ratio = 0.5"
   ]
  },
  {
   "cell_type": "code",
   "execution_count": 3,
   "id": "f1404a9c-e87c-41f6-9080-a83555320b04",
   "metadata": {},
   "outputs": [],
   "source": [
    "Num_sensors1 = 5\n",
    "Num_emitters1 = 1\n",
    "sample_size1 = 100\n",
    "theta1_rad = [0.5] # Направление прибытия (DOA) в радианах\n",
    "theta1_deg = np.rad2deg(theta1_rad[0]) # Направление прибытия (DOA) в градусах\n",
    "GN_1 = 4.1*np.eye(Num_sensors1, dtype=np.float64) # Ковариация шума\n",
    "A1 = np.exp(-2j * np.pi * dist_ratio * np.arange(Num_sensors1).reshape(-1,1) * np.sin(theta1_rad).reshape(1,-1)) # Матрица управляющих векторов\n",
    "# Генерация векторов сигнала, шума и принятого сигнала\n",
    "S1 = em_dtools.generate_deterministic_signals(Num_emitters1, sample_size1)\n",
    "n1 = em_dtools.generate_stochastic_signals(Num_sensors1, sample_size1, GN_1)\n",
    "X1 = (A1 @ S1.T + n1.T).T"
   ]
  },
  {
   "cell_type": "code",
   "execution_count": 4,
   "id": "5b784ec2-302e-49af-935e-56e0203811e0",
   "metadata": {},
   "outputs": [
    {
     "data": {
      "text/plain": [
       "(100, 1)"
      ]
     },
     "execution_count": 4,
     "metadata": {},
     "output_type": "execute_result"
    }
   ],
   "source": [
    "S1.shape"
   ]
  },
  {
   "cell_type": "code",
   "execution_count": 5,
   "id": "1c19eb4a-8543-44e5-bd0c-95748e48815e",
   "metadata": {},
   "outputs": [],
   "source": [
    "#EM_theta1_rad, neglhd_1, K1, mu1 = em_dtools.multi_start_EM(X1, GN_1, 10, max_iter=50, eps=1e-6)"
   ]
  },
  {
   "cell_type": "code",
   "execution_count": 6,
   "id": "385f862c-c3bd-4ce9-a0d2-2f81fe053da6",
   "metadata": {},
   "outputs": [],
   "source": [
    "#EM_theta1_deg = np.rad2deg(EM_theta1_rad)"
   ]
  },
  {
   "cell_type": "code",
   "execution_count": 7,
   "id": "803140b2-c1de-471f-9dd3-a25b0dae7c64",
   "metadata": {},
   "outputs": [],
   "source": [
    "#print(f\"Погрешность в смысле разности углов в градусах: {np.abs(EM_theta1_deg-theta1_deg)}.\\nПогрешность в смысле разности синусов углов {np.abs(np.sin(EM_theta1_rad)-np.sin(theta1_rad))}.\")"
   ]
  },
  {
   "cell_type": "code",
   "execution_count": null,
   "id": "817b23c2-73a7-4ecb-bbff-7dc502c11101",
   "metadata": {},
   "outputs": [],
   "source": []
  }
 ],
 "metadata": {
  "kernelspec": {
   "display_name": "Python 3 (ipykernel)",
   "language": "python",
   "name": "python3"
  },
  "language_info": {
   "codemirror_mode": {
    "name": "ipython",
    "version": 3
   },
   "file_extension": ".py",
   "mimetype": "text/x-python",
   "name": "python",
   "nbconvert_exporter": "python",
   "pygments_lexer": "ipython3",
   "version": "3.10.9"
  }
 },
 "nbformat": 4,
 "nbformat_minor": 5
}
