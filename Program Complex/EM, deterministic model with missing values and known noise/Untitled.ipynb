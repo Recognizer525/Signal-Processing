{
 "cells": [
  {
   "cell_type": "code",
   "execution_count": 2,
   "id": "6b622c44-b962-4968-a392-39d4d9af5df8",
   "metadata": {},
   "outputs": [],
   "source": [
    "import numpy as np\n",
    "import em_dtools_kn as em"
   ]
  },
  {
   "cell_type": "code",
   "execution_count": 7,
   "id": "19837efd-36e3-4ca3-8859-6315292647a1",
   "metadata": {},
   "outputs": [],
   "source": [
    "A = em.A_ULA(5, np.array([-0.5, 0.1, 0.7]))"
   ]
  },
  {
   "cell_type": "code",
   "execution_count": 10,
   "id": "1c13402e-4b74-47d5-a5e4-d0fdaf771531",
   "metadata": {},
   "outputs": [
    {
     "data": {
      "text/plain": [
       "array([[ 1.        +0.j        ,  1.        +0.j        ,\n",
       "         1.        +0.j        ],\n",
       "       [ 0.06459158+0.99791178j,  0.95121811-0.30851923j,\n",
       "        -0.43773075-0.8991061j ],\n",
       "       [-0.99165586+0.1289134j ,  0.80963177-0.58693815j,\n",
       "        -0.61678357+0.78713279j],\n",
       "       [-0.19269681-0.98125834j,  0.58905469-0.80809317j,\n",
       "         0.97770103+0.21000165j],\n",
       "       [ 0.96676267-0.25567545j,  0.31100721-0.95040755j,\n",
       "        -0.23915604-0.97098115j]])"
      ]
     },
     "execution_count": 10,
     "metadata": {},
     "output_type": "execute_result"
    }
   ],
   "source": [
    "A"
   ]
  },
  {
   "cell_type": "code",
   "execution_count": null,
   "id": "66bfaa6c-efa3-409d-9416-d3f5675bf73c",
   "metadata": {},
   "outputs": [],
   "source": []
  }
 ],
 "metadata": {
  "kernelspec": {
   "display_name": "Python 3 (ipykernel)",
   "language": "python",
   "name": "python3"
  },
  "language_info": {
   "codemirror_mode": {
    "name": "ipython",
    "version": 3
   },
   "file_extension": ".py",
   "mimetype": "text/x-python",
   "name": "python",
   "nbconvert_exporter": "python",
   "pygments_lexer": "ipython3",
   "version": "3.10.9"
  }
 },
 "nbformat": 4,
 "nbformat_minor": 5
}
