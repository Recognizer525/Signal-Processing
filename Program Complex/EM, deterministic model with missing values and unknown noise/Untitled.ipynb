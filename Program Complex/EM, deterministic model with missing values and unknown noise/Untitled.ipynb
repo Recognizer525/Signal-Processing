{
 "cells": [
  {
   "cell_type": "code",
   "execution_count": 1,
   "id": "6b622c44-b962-4968-a392-39d4d9af5df8",
   "metadata": {},
   "outputs": [],
   "source": [
    "import numpy as np\n",
    "import em_dtools_kn as em"
   ]
  },
  {
   "cell_type": "code",
   "execution_count": 2,
   "id": "19837efd-36e3-4ca3-8859-6315292647a1",
   "metadata": {},
   "outputs": [],
   "source": [
    "A = em.A_ULA(5, np.array([-0.5, 0.1, 0.7]))"
   ]
  },
  {
   "cell_type": "code",
   "execution_count": null,
   "id": "0776db4c-6d60-4ed8-ba34-afbb34508a31",
   "metadata": {},
   "outputs": [],
   "source": []
  }
 ],
 "metadata": {
  "kernelspec": {
   "display_name": "Python 3 (ipykernel)",
   "language": "python",
   "name": "python3"
  },
  "language_info": {
   "codemirror_mode": {
    "name": "ipython",
    "version": 3
   },
   "file_extension": ".py",
   "mimetype": "text/x-python",
   "name": "python",
   "nbconvert_exporter": "python",
   "pygments_lexer": "ipython3",
   "version": "3.10.9"
  }
 },
 "nbformat": 4,
 "nbformat_minor": 5
}
