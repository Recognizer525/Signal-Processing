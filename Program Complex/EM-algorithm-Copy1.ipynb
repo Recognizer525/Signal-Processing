{
 "cells": [
  {
   "cell_type": "code",
   "execution_count": 1,
   "id": "c9413b81-cfa1-46d3-92cb-3cfb0d1df8ea",
   "metadata": {},
   "outputs": [],
   "source": [
    "import numpy as np\n",
    "import matplotlib.pyplot as plt\n",
    "from sensors import *\n",
    "from functools import partial"
   ]
  },
  {
   "cell_type": "code",
   "execution_count": 2,
   "id": "6c9c1e0b-6f7d-43a2-b972-cd0fed4d6c30",
   "metadata": {},
   "outputs": [],
   "source": [
    "dist_ratio = 0.5\n",
    "Num_sensors = 5\n",
    "Num_emitters = 2\n",
    "sample_size = 100\n",
    "# DOA in radian\n",
    "theta1 = np.array([0.34906585, 1.22173048])\n",
    "GS_1 = np.array([[2,0],[0,3]])\n",
    "GN_1 = 0.1*np.eye(5, dtype=np.float64)"
   ]
  },
  {
   "cell_type": "code",
   "execution_count": 3,
   "id": "dee941ca-5c28-45a7-9fd7-be47fcff8a59",
   "metadata": {},
   "outputs": [
    {
     "data": {
      "text/plain": [
       "array([0.34906585, 1.22173048])"
      ]
     },
     "execution_count": 3,
     "metadata": {},
     "output_type": "execute_result"
    }
   ],
   "source": [
    "theta1"
   ]
  },
  {
   "cell_type": "code",
   "execution_count": 4,
   "id": "c03cb4f6-00ff-4341-86b5-b3d73965348a",
   "metadata": {},
   "outputs": [],
   "source": [
    "A1 = np.zeros((Num_sensors, Num_emitters),dtype=np.complex128)\n",
    "for i in range(Num_emitters):\n",
    "    A1[:,i] = np.exp(-2j * np.pi * dist_ratio * np.arange(Num_sensors) * np.sin(theta1[i]))"
   ]
  },
  {
   "cell_type": "code",
   "execution_count": 5,
   "id": "1773c31a-944c-422d-bb6b-d14e3c217d75",
   "metadata": {},
   "outputs": [
    {
     "data": {
      "text/plain": [
       "array([[ 1.        +0.j        ,  1.        +0.j        ],\n",
       "       [ 0.47618256-0.87934645j, -0.98210585-0.18832978j],\n",
       "       [-0.54650034-0.83745888j,  0.92906379+0.36991955j],\n",
       "       [-0.99665042+0.08177982j, -0.84277211-0.53827054j],\n",
       "       [-0.40267475+0.91534313j,  0.72631905+0.68735773j]])"
      ]
     },
     "execution_count": 5,
     "metadata": {},
     "output_type": "execute_result"
    }
   ],
   "source": [
    "A1"
   ]
  },
  {
   "cell_type": "code",
   "execution_count": 6,
   "id": "4c1fc5e5-0a72-4741-ab11-7bdda17f0f6e",
   "metadata": {},
   "outputs": [],
   "source": [
    "s1 = CN(Num_emitters,sample_size,GS_1)\n",
    "n1 = CN(Num_sensors,sample_size,GN_1)\n",
    "X1 = np.zeros((sample_size, 5), dtype=np.complex128)\n",
    "for i in range(sample_size):\n",
    "    X1[i] = A1 @ s1[i] + n1[i]"
   ]
  },
  {
   "cell_type": "code",
   "execution_count": 7,
   "id": "3af55516-fcba-4378-a722-04d8499b9640",
   "metadata": {},
   "outputs": [
    {
     "name": "stdout",
     "output_type": "stream",
     "text": [
      "Initial theta = [[ 0.90568055]\n",
      " [-0.74927934]]\n",
      "K=[[ 0.02091006+3.69286540e-15j -0.00472409+9.64185679e-04j]\n",
      " [-0.00472409-9.64185679e-04j  0.0209793 -9.80015839e-15j]]\n",
      "theta_new=[ 0.97972975 -0.85441747]\n",
      "Iteration=1\n",
      "K=[[ 0.01983304-1.92313622e-16j -0.00067786-3.98218393e-04j]\n",
      " [-0.00067786+3.98218393e-04j  0.01989871+2.90784018e-15j]]\n",
      "theta_new=[ 1.02885214 -0.93499545]\n",
      "Iteration=2\n",
      "K=[[0.02047322-1.85610436e-15j 0.00196389+3.15137381e-03j]\n",
      " [0.00196389-3.15137381e-03j 0.02054102+8.48941484e-15j]]\n",
      "theta_new=[ 1.06423254 -0.99416546]\n",
      "Iteration=3\n",
      "K=[[0.02260406+4.72654786e-15j 0.00185019+7.75402103e-03j]\n",
      " [0.00185019-7.75402103e-03j 0.0226789 -1.07221156e-14j]]\n",
      "theta_new=[ 1.090627   -1.03506751]\n",
      "Iteration=4\n",
      "K=[[0.02535814+1.69519592e-15j 0.00023803+1.18871222e-02j]\n",
      " [0.00023803-1.18871222e-02j 0.0254421 -8.58350247e-15j]]\n",
      "theta_new=[ 1.11067975 -1.05901059]\n",
      "Iteration=5\n",
      "K=[[ 0.02789385+6.34266629e-16j -0.00168632+1.49538389e-02j]\n",
      " [-0.00168632-1.49538389e-02j  0.02798622-5.71856529e-17j]]\n",
      "theta_new=[ 1.12637839 -1.0677146 ]\n",
      "Iteration=6\n",
      "K=[[ 0.02958126+1.24452455e-15j -0.00308311+1.67551768e-02j]\n",
      " [-0.00308311-1.67551768e-02j  0.02967922-3.10140058e-15j]]\n",
      "theta_new=[ 1.1392778 -1.0633403]\n",
      "Iteration=7\n",
      "K=[[ 0.03014907-3.77082888e-15j -0.0035675 +1.73280466e-02j]\n",
      " [-0.0035675 -1.73280466e-02j  0.0302489 +1.10474526e-14j]]\n",
      "theta_new=[ 1.15062901 -1.04839067]\n",
      "Iteration=8\n",
      "K=[[ 0.02969411+1.10806354e-15j -0.00317887+1.68702551e-02j]\n",
      " [-0.00317887-1.68702551e-02j  0.02979244-5.88278860e-15j]]\n",
      "theta_new=[ 1.16131657 -1.0256907 ]\n",
      "Iteration=9\n",
      "K=[[ 0.02854947-7.62900837e-16j -0.00222056+1.56726608e-02j]\n",
      " [-0.00222056-1.56726608e-02j  0.02864401+1.41097290e-15j]]\n",
      "theta_new=[ 1.17180918 -0.99850858]\n",
      "Iteration=10\n",
      "K=[[ 0.02712174+1.58991774e-15j -0.00107364+1.40722857e-02j]\n",
      " [-0.00107364-1.40722857e-02j  0.02721155+7.73305949e-15j]]\n",
      "theta_new=[ 1.1822585  -0.97046821]\n",
      "Iteration=11\n",
      "K=[[ 2.57599691e-02-3.35414285e-16j -4.78939922e-05+1.24090097e-02j]\n",
      " [-4.78939922e-05-1.24090097e-02j  2.58452671e-02+1.44825126e-14j]]\n",
      "theta_new=[ 1.19245297 -0.94458027]\n",
      "Iteration=12\n",
      "K=[[0.02464769-5.02225546e-16j 0.00071969+1.09230500e-02j]\n",
      " [0.00071969-1.09230500e-02j 0.0247293 +1.36152724e-14j]]\n",
      "theta_new=[ 1.20211375 -0.92274109]\n",
      "Iteration=13\n",
      "K=[[0.02383106+2.17107956e-15j 0.00122635+9.73812853e-03j]\n",
      " [0.00122635-9.73812853e-03j 0.02390997+6.92655408e-16j]]\n",
      "theta_new=[ 1.21095677 -0.90567297]\n",
      "Iteration=14\n",
      "K=[[0.02327745-2.47121807e-15j 0.00153257+8.87802265e-03j]\n",
      " [0.00153257-8.87802265e-03j 0.02335453+1.25653052e-15j]]\n",
      "theta_new=[ 1.21882108 -0.89305631]\n",
      "Iteration=15\n",
      "K=[[0.02292301-1.19424574e-15j 0.00170842+8.29828677e-03j]\n",
      " [0.00170842-8.29828677e-03j 0.02299891-1.52171028e-15j]]\n",
      "theta_new=[ 1.225694   -0.88419174]\n",
      "Iteration=16\n",
      "K=[[0.02271199+2.10260223e-15j 0.00180414+7.94077684e-03j]\n",
      " [0.00180414-7.94077684e-03j 0.02278719-8.19598628e-15j]]\n",
      "theta_new=[ 1.23163663 -0.87832203]\n",
      "Iteration=17\n",
      "K=[[0.02260295+3.09121082e-17j 0.00185065+7.75209642e-03j]\n",
      " [0.00185065-7.75209642e-03j 0.0226778 +3.49245569e-15j]]\n",
      "theta_new=[ 1.23673893 -0.87465821]\n",
      "Iteration=18\n",
      "K=[[0.02256243-3.46861762e-15j 0.00186739+7.68123892e-03j]\n",
      " [0.00186739-7.68123892e-03j 0.02263714+1.38766115e-14j]]\n",
      "theta_new=[ 1.24115638 -0.8725813 ]\n",
      "Iteration=19\n",
      "K=[[0.0225689 -5.51681732e-15j 0.00186473+7.69257845e-03j]\n",
      " [0.00186473-7.69257845e-03j 0.02264363+7.38511822e-15j]]\n",
      "theta_new=[ 1.24496201 -0.87163422]\n",
      "Iteration=20\n"
     ]
    }
   ],
   "source": [
    "theta_estimate1 = EM(X1, GS_1, GN_1)"
   ]
  },
  {
   "cell_type": "code",
   "execution_count": 8,
   "id": "6c8b7a47-827e-4c92-9559-c62f088d7014",
   "metadata": {},
   "outputs": [
    {
     "data": {
      "text/plain": [
       "array([ 1.24496201, -0.87163422])"
      ]
     },
     "execution_count": 8,
     "metadata": {},
     "output_type": "execute_result"
    }
   ],
   "source": [
    "theta_estimate1"
   ]
  },
  {
   "cell_type": "code",
   "execution_count": 9,
   "id": "8f9e4166-9aa2-46ef-88dc-16530bed8b97",
   "metadata": {},
   "outputs": [
    {
     "data": {
      "text/plain": [
       "array([0.34906585, 1.22173048])"
      ]
     },
     "execution_count": 9,
     "metadata": {},
     "output_type": "execute_result"
    }
   ],
   "source": [
    "theta1"
   ]
  },
  {
   "cell_type": "code",
   "execution_count": 10,
   "id": "eb68b10d-3211-4723-8443-a0d805c26dc2",
   "metadata": {},
   "outputs": [
    {
     "data": {
      "text/plain": [
       "array([-0.89589616,  2.0933647 ])"
      ]
     },
     "execution_count": 10,
     "metadata": {},
     "output_type": "execute_result"
    }
   ],
   "source": [
    "theta1-theta_estimate1"
   ]
  },
  {
   "cell_type": "code",
   "execution_count": 11,
   "id": "61a3038f-0338-4543-b350-c3c7d3ff3fa4",
   "metadata": {},
   "outputs": [
    {
     "data": {
      "text/plain": [
       "array([ 0.60536385, -1.70507433])"
      ]
     },
     "execution_count": 11,
     "metadata": {},
     "output_type": "execute_result"
    }
   ],
   "source": [
    "np.sin(theta_estimate1)-np.sin(theta1)"
   ]
  },
  {
   "cell_type": "code",
   "execution_count": 12,
   "id": "07f23bde-530c-400f-8a10-8a0a59176889",
   "metadata": {},
   "outputs": [],
   "source": [
    "theta2 = [0.5]\n",
    "GS_2 = np.array([[0.7]])\n",
    "GN_2 = 0.1*np.eye(5, dtype=np.float64)"
   ]
  },
  {
   "cell_type": "code",
   "execution_count": 13,
   "id": "b74ede85-4b72-4628-b7f1-46a2bfe768bf",
   "metadata": {},
   "outputs": [],
   "source": [
    "A2 = np.zeros((5, 1),dtype=np.complex128)\n",
    "for i in range(1):\n",
    "    A2[:,i] = np.exp(-2j * np.pi * dist_ratio * np.arange(5) * np.sin(theta2[i]))"
   ]
  },
  {
   "cell_type": "code",
   "execution_count": 14,
   "id": "c3f4848b-d644-4fac-81be-280419b853b8",
   "metadata": {},
   "outputs": [
    {
     "data": {
      "text/plain": [
       "array([[ 1.        +0.j        ],\n",
       "       [ 0.06459158-0.99791178j],\n",
       "       [-0.99165586-0.1289134j ],\n",
       "       [-0.19269681+0.98125834j],\n",
       "       [ 0.96676267+0.25567545j]])"
      ]
     },
     "execution_count": 14,
     "metadata": {},
     "output_type": "execute_result"
    }
   ],
   "source": [
    "A2"
   ]
  },
  {
   "cell_type": "code",
   "execution_count": 15,
   "id": "4956d1eb-601e-47e3-8e66-725c9eb1d3fa",
   "metadata": {},
   "outputs": [],
   "source": [
    "s2 = CN(1,sample_size,GS_2)\n",
    "n2 = CN(5,sample_size,GN_2)\n",
    "X2 = np.zeros((sample_size, 5), dtype=np.complex128)\n",
    "for i in range(sample_size):\n",
    "    X2[i] = A2 @ s2[i] + n2[i]"
   ]
  },
  {
   "cell_type": "code",
   "execution_count": 16,
   "id": "569d6c62-4af5-465c-98cd-1ef1ed941d93",
   "metadata": {},
   "outputs": [],
   "source": [
    "W1, W2 = goal_function(X2, GS_2, GN_2, 50)"
   ]
  },
  {
   "cell_type": "code",
   "execution_count": 17,
   "id": "6bbeb039-2000-4761-91f0-0626a1e76545",
   "metadata": {},
   "outputs": [
    {
     "data": {
      "text/plain": [
       "[<matplotlib.lines.Line2D at 0x1cfacadaa40>]"
      ]
     },
     "execution_count": 17,
     "metadata": {},
     "output_type": "execute_result"
    },
    {
     "data": {
      "image/png": "[encoded data removed]",
      "text/plain": [
       "<Figure size 640x480 with 1 Axes>"
      ]
     },
     "metadata": {},
     "output_type": "display_data"
    }
   ],
   "source": [
    "plt.title(\"График функции, подлежащей максимизации, на первом шаге ЕМ-алгоритма\")\n",
    "plt.plot(W1, W2.real, color='green')"
   ]
  },
  {
   "cell_type": "code",
   "execution_count": 18,
   "id": "f0ad2519-28a4-41f5-8698-606a0b58805b",
   "metadata": {},
   "outputs": [
    {
     "name": "stdout",
     "output_type": "stream",
     "text": [
      "Initial theta = [[0.90568055]]\n",
      "K=[[0.01944444-5.82867088e-17j]]\n",
      "theta_new=[0.74992826]\n",
      "Iteration=1\n",
      "K=[[0.01944444+5.82867088e-17j]]\n",
      "theta_new=[0.66058134]\n",
      "Iteration=2\n",
      "K=[[0.01944444-1.53002611e-16j]]\n",
      "theta_new=[0.60497381]\n",
      "Iteration=3\n",
      "K=[[0.01944444-3.93435284e-16j]]\n",
      "theta_new=[0.56917165]\n",
      "Iteration=4\n",
      "K=[[0.01944444-1.60288449e-16j]]\n",
      "theta_new=[0.54565997]\n",
      "Iteration=5\n",
      "K=[[0.01944444+9.47159018e-17j]]\n",
      "theta_new=[0.53015342]\n",
      "Iteration=6\n",
      "K=[[0.01944444+7.2858386e-17j]]\n",
      "theta_new=[0.51982474]\n",
      "Iteration=7\n",
      "K=[[0.01944444+3.21791205e-17j]]\n",
      "theta_new=[0.51292082]\n",
      "Iteration=8\n",
      "K=[[0.01944444-4.73579509e-17j]]\n",
      "theta_new=[0.50831255]\n",
      "Iteration=9\n",
      "K=[[0.01944444-7.77156117e-17j]]\n",
      "theta_new=[0.50521006]\n",
      "Iteration=10\n",
      "K=[[0.01944444-3.44863027e-16j]]\n",
      "theta_new=[0.50313791]\n",
      "Iteration=11\n",
      "K=[[0.01944444+4.00721123e-16j]]\n",
      "theta_new=[0.50173757]\n",
      "Iteration=12\n",
      "K=[[0.01944444-1.36002321e-16j]]\n",
      "theta_new=[0.50085561]\n",
      "Iteration=13\n",
      "K=[[0.01944444+2.64718802e-16j]]\n",
      "theta_new=[0.50021976]\n",
      "Iteration=14\n",
      "K=[[0.01944444-3.03576608e-16j]]\n",
      "theta_new=[0.49978011]\n",
      "Iteration=15\n",
      "K=[[0.01944444-1.45716772e-16j]]\n",
      "theta_new=[0.49948727]\n",
      "Iteration=16\n",
      "K=[[0.01944444+2.42861287e-18j]]\n",
      "theta_new=[0.49929216]\n",
      "Iteration=17\n",
      "K=[[0.01944444+8.74300632e-17j]]\n",
      "theta_new=[0.49914588]\n",
      "Iteration=18\n",
      "K=[[0.01944444-1.99146255e-16j]]\n",
      "theta_new=[0.49904839]\n",
      "Iteration=19\n",
      "K=[[0.01944444+1.09287579e-16j]]\n",
      "theta_new=[0.49904839]\n",
      "norm=0.0\n",
      "Iteration=20\n"
     ]
    }
   ],
   "source": [
    "theta_estimate2=EM(X2, GS_2, GN_2)"
   ]
  },
  {
   "cell_type": "code",
   "execution_count": 19,
   "id": "b07f261b-e5cc-45b7-9e28-cdbe40aca681",
   "metadata": {},
   "outputs": [
    {
     "data": {
      "text/plain": [
       "array([0.49904839])"
      ]
     },
     "execution_count": 19,
     "metadata": {},
     "output_type": "execute_result"
    }
   ],
   "source": [
    "theta_estimate2"
   ]
  },
  {
   "cell_type": "code",
   "execution_count": 20,
   "id": "cc13f26f-4cdb-482c-88e5-967ce565ff31",
   "metadata": {},
   "outputs": [
    {
     "data": {
      "text/plain": [
       "array([0.00095161])"
      ]
     },
     "execution_count": 20,
     "metadata": {},
     "output_type": "execute_result"
    }
   ],
   "source": [
    "np.abs(theta_estimate2-theta2)"
   ]
  },
  {
   "cell_type": "code",
   "execution_count": null,
   "id": "db250388-a8c0-4c78-8116-6b61fea37ff2",
   "metadata": {},
   "outputs": [],
   "source": []
  }
 ],
 "metadata": {
  "kernelspec": {
   "display_name": "Python 3 (ipykernel)",
   "language": "python",
   "name": "python3"
  },
  "language_info": {
   "codemirror_mode": {
    "name": "ipython",
    "version": 3
   },
   "file_extension": ".py",
   "mimetype": "text/x-python",
   "name": "python",
   "nbconvert_exporter": "python",
   "pygments_lexer": "ipython3",
   "version": "3.10.9"
  }
 },
 "nbformat": 4,
 "nbformat_minor": 5
}
