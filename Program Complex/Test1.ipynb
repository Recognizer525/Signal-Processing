{
 "cells": [
  {
   "cell_type": "code",
   "execution_count": 1,
   "id": "61f6543a-5bed-4ef0-883e-86578d03be3a",
   "metadata": {},
   "outputs": [],
   "source": [
    "import numpy as np\n",
    "from sensors import *"
   ]
  },
  {
   "cell_type": "code",
   "execution_count": 2,
   "id": "70a07ee3-ab98-44c8-930d-1fefd2deec01",
   "metadata": {},
   "outputs": [],
   "source": [
    "X = np.array([0.5, 0.4, 0.8, 1.3])"
   ]
  },
  {
   "cell_type": "code",
   "execution_count": 3,
   "id": "8a11844a-b40d-4e56-8452-21ef4cf8b173",
   "metadata": {},
   "outputs": [
    {
     "data": {
      "text/plain": [
       "array([28.64788976, 22.91831181, 45.83662361, 74.48451337])"
      ]
     },
     "execution_count": 3,
     "metadata": {},
     "output_type": "execute_result"
    }
   ],
   "source": [
    "rad_to_deg(X)"
   ]
  },
  {
   "cell_type": "code",
   "execution_count": 4,
   "id": "f6f62f23-5e4f-4adf-9edc-c21c8afc151c",
   "metadata": {},
   "outputs": [
    {
     "data": {
      "text/plain": [
       "array([28.64788976, 22.91831181, 45.83662361, 74.48451337])"
      ]
     },
     "execution_count": 4,
     "metadata": {},
     "output_type": "execute_result"
    }
   ],
   "source": [
    "np.rad2deg(X)"
   ]
  },
  {
   "cell_type": "code",
   "execution_count": null,
   "id": "c6308d32-036b-4be1-9ae5-799f5b5183dd",
   "metadata": {},
   "outputs": [],
   "source": []
  }
 ],
 "metadata": {
  "kernelspec": {
   "display_name": "Python 3 (ipykernel)",
   "language": "python",
   "name": "python3"
  },
  "language_info": {
   "codemirror_mode": {
    "name": "ipython",
    "version": 3
   },
   "file_extension": ".py",
   "mimetype": "text/x-python",
   "name": "python",
   "nbconvert_exporter": "python",
   "pygments_lexer": "ipython3",
   "version": "3.10.9"
  }
 },
 "nbformat": 4,
 "nbformat_minor": 5
}
