{
 "cells": [
  {
   "cell_type": "markdown",
   "id": "80484267-c725-4a89-ade4-3cd938b766fe",
   "metadata": {},
   "source": [
    "# ECM-алгоритм для случая, когда шум известен, а сигналы предполагаются стохастическими"
   ]
  },
  {
   "cell_type": "code",
   "execution_count": 1,
   "id": "96c331ee-dc84-4a15-bc09-1346d67a415e",
   "metadata": {},
   "outputs": [],
   "source": [
    "import numpy as np\n",
    "import matplotlib.pyplot as plt\n",
    "import em_stools\n",
    "from functools import partial"
   ]
  },
  {
   "cell_type": "code",
   "execution_count": 2,
   "id": "9d55aed5-2bc2-47cb-9fe7-e78bdb757034",
   "metadata": {},
   "outputs": [],
   "source": [
    "dist_ratio = 0.5"
   ]
  },
  {
   "cell_type": "code",
   "execution_count": 3,
   "id": "f1404a9c-e87c-41f6-9080-a83555320b04",
   "metadata": {},
   "outputs": [],
   "source": [
    "Num_sensors1 = 5\n",
    "Num_emitters1 = 1\n",
    "sample_size1 = 100\n",
    "theta1_rad = [0.5] # Направление прибытия (DOA) в радианах\n",
    "theta1_deg = np.rad2deg(theta1_rad[0]) # Направление прибытия (DOA) в градусах\n",
    "P1 = 1 * np.eye(Num_emitters1, dtype=np.float64) # Ковариация шума\n",
    "Q1 = 1.1 * np.eye(Num_sensors1, dtype=np.float64) # Ковариация шума\n",
    "A1 = np.exp(-2j * np.pi * dist_ratio * np.arange(Num_sensors1).reshape(-1,1) * np.sin(theta1_rad)) # Матрица управляющих векторов\n",
    "# Генерация векторов сигнала, шума и принятого сигнала\n",
    "S1 = em_stools.gss(Num_emitters1, sample_size1, P1)\n",
    "n1 = em_stools.gss(Num_sensors1, sample_size1, Q1)\n",
    "X1 = (A1 @ S1.T + n1.T).T"
   ]
  },
  {
   "cell_type": "code",
   "execution_count": 4,
   "id": "04c95acd-48a4-4db2-8bee-1b0c49ffb7db",
   "metadata": {},
   "outputs": [
    {
     "data": {
      "text/plain": [
       "(100, 1)"
      ]
     },
     "execution_count": 4,
     "metadata": {},
     "output_type": "execute_result"
    }
   ],
   "source": [
    "S1.shape"
   ]
  },
  {
   "cell_type": "code",
   "execution_count": 5,
   "id": "0a53c210-3da7-44e8-af03-ef4e700989c3",
   "metadata": {},
   "outputs": [],
   "source": [
    "X1_with_mv = em_stools.MCAR(X1, [2,4], [40, 40])"
   ]
  },
  {
   "cell_type": "code",
   "execution_count": 6,
   "id": "1c19eb4a-8543-44e5-bd0c-95748e48815e",
   "metadata": {},
   "outputs": [
    {
     "name": "stdout",
     "output_type": "stream",
     "text": [
      "0-th start\n",
      "Initial theta = [-2.83488836]\n",
      "diff of theta is [2.52087355] on iteration 0\n",
      "likelihood is -14996.85383625273 on iteration 0\n",
      "diff of theta is [-0.00903902] on iteration 1\n",
      "likelihood is -16960.92044980946 on iteration 1\n",
      "diff of theta is [6.26705069] on iteration 5\n",
      "likelihood is -18074.95263229498 on iteration 5\n",
      "diff of theta is [-2.0501128] on iteration 11\n",
      "likelihood is -94910.58428932857 on iteration 11\n",
      "diff of theta is [0.00291186] on iteration 16\n",
      "likelihood is -99210.9611810773 on iteration 16\n",
      "diff of theta is [-58.68698416] on iteration 21\n",
      "likelihood is -99342.24961790472 on iteration 21\n",
      "diff of theta is [31.4158051] on iteration 26\n",
      "likelihood is -99347.18445791911 on iteration 26\n",
      "1-th start\n",
      "Initial theta = [-2.86887136]\n",
      "diff of theta is [8.88016706] on iteration 0\n",
      "likelihood is -14817.021529728603 on iteration 0\n",
      "diff of theta is [12.56732054] on iteration 1\n",
      "likelihood is -16675.306315819736 on iteration 1\n",
      "diff of theta is [-18.89959471] on iteration 5\n",
      "likelihood is -56820.804004797814 on iteration 5\n",
      "diff of theta is [-4.08591961] on iteration 11\n",
      "likelihood is -98067.52789876539 on iteration 11\n",
      "diff of theta is [-0.00177378] on iteration 16\n",
      "likelihood is -99295.85600038973 on iteration 16\n",
      "diff of theta is [8.42728805] on iteration 21\n",
      "likelihood is -99345.40627652133 on iteration 21\n",
      "diff of theta is [0.00714758] on iteration 26\n",
      "likelihood is -98534.28180372102 on iteration 26\n",
      "2-th start\n",
      "Initial theta = [-0.32903623]\n",
      "diff of theta is [-0.01189884] on iteration 0\n",
      "likelihood is -16174.160570681915 on iteration 0\n",
      "diff of theta is [-0.01369757] on iteration 1\n",
      "likelihood is -17512.916728500382 on iteration 1\n",
      "diff of theta is [-0.0168123] on iteration 5\n",
      "likelihood is -19423.41007216141 on iteration 5\n",
      "diff of theta is [0.00597862] on iteration 11\n",
      "likelihood is -98777.85056374272 on iteration 11\n",
      "diff of theta is [-22.99830891] on iteration 16\n",
      "likelihood is -99324.60669099785 on iteration 16\n",
      "diff of theta is [4.1429631] on iteration 21\n",
      "likelihood is -99346.31409301529 on iteration 21\n",
      "diff of theta is [4.43572668] on iteration 26\n",
      "likelihood is -21886.229877429945 on iteration 26\n",
      "3-th start\n",
      "Initial theta = [2.8344867]\n",
      "diff of theta is [-18.89779217] on iteration 0\n",
      "likelihood is -50993.13003737257 on iteration 0\n",
      "diff of theta is [-25.17033254] on iteration 1\n",
      "likelihood is -75277.2683608436 on iteration 1\n",
      "diff of theta is [-0.01142667] on iteration 5\n",
      "likelihood is -97167.6351849324 on iteration 5\n",
      "diff of theta is [-0.00168376] on iteration 11\n",
      "likelihood is -99300.92616521736 on iteration 11\n",
      "diff of theta is [29.27193798] on iteration 16\n",
      "likelihood is -99345.55810207935 on iteration 16\n",
      "diff of theta is [18.84962282] on iteration 21\n",
      "likelihood is -99347.35563375789 on iteration 21\n",
      "diff of theta is [-2.14194698] on iteration 26\n",
      "likelihood is -99347.42627211954 on iteration 26\n",
      "4-th start\n",
      "Initial theta = [-2.08143765]\n",
      "diff of theta is [0.99235349] on iteration 0\n",
      "likelihood is -18904.852371552417 on iteration 0\n",
      "diff of theta is [-0.02612271] on iteration 1\n",
      "likelihood is -21394.44425021574 on iteration 1\n",
      "diff of theta is [3.73822265] on iteration 5\n",
      "likelihood is -21885.269584539805 on iteration 5\n",
      "diff of theta is [0.00416533] on iteration 11\n",
      "likelihood is -99066.82208572917 on iteration 11\n",
      "diff of theta is [-12.56554269] on iteration 16\n",
      "likelihood is -99335.99176754412 on iteration 16\n",
      "diff of theta is [-50.26531355] on iteration 21\n",
      "likelihood is -99346.96354053453 on iteration 21\n",
      "diff of theta is [-0.53557726] on iteration 26\n",
      "likelihood is -22352.337445339977 on iteration 26\n",
      "5-th start\n",
      "Initial theta = [-1.9246683]\n",
      "diff of theta is [0.70295506] on iteration 0\n",
      "likelihood is -20335.239413524556 on iteration 0\n",
      "diff of theta is [3.80275094] on iteration 1\n",
      "likelihood is -22003.514878682694 on iteration 1\n",
      "diff of theta is [0.00627981] on iteration 5\n",
      "likelihood is -98710.27891409182 on iteration 5\n",
      "diff of theta is [18.85046885] on iteration 11\n",
      "likelihood is -99333.89826795469 on iteration 11\n",
      "diff of theta is [2.14068327] on iteration 16\n",
      "likelihood is -99346.85437774139 on iteration 16\n",
      "diff of theta is [25.1326916] on iteration 21\n",
      "likelihood is -99347.39124655402 on iteration 21\n",
      "diff of theta is [-8.42489021] on iteration 26\n",
      "likelihood is -99347.42346126238 on iteration 26\n",
      "6-th start\n",
      "Initial theta = [0.20336959]\n",
      "diff of theta is [0.06042813] on iteration 0\n",
      "likelihood is -12700.70212641579 on iteration 0\n",
      "diff of theta is [88.02046965] on iteration 1\n",
      "likelihood is -46092.912968316705 on iteration 1\n",
      "diff of theta is [-31.39395979] on iteration 5\n",
      "likelihood is -89992.19220287885 on iteration 5\n",
      "diff of theta is [6.27985605] on iteration 11\n",
      "likelihood is -99166.07980028052 on iteration 11\n",
      "diff of theta is [4.44529027] on iteration 16\n",
      "likelihood is -99821.14001856292 on iteration 16\n",
      "diff of theta is [-0.60439617] on iteration 21\n",
      "likelihood is -22463.29100784229 on iteration 21\n",
      "diff of theta is [41.87172708] on iteration 26\n",
      "likelihood is -98947.07981179202 on iteration 26\n",
      "7-th start\n",
      "Initial theta = [0.98360982]\n",
      "diff of theta is [-17.61459924] on iteration 0\n",
      "likelihood is -13084.266322155496 on iteration 0\n",
      "diff of theta is [25.21614744] on iteration 1\n",
      "likelihood is -22286.24638285455 on iteration 1\n",
      "diff of theta is [-0.03747177] on iteration 5\n",
      "likelihood is -80638.22171185973 on iteration 5\n",
      "diff of theta is [-29.30690792] on iteration 11\n",
      "likelihood is -98905.42559732482 on iteration 11\n",
      "diff of theta is [-0.02175895] on iteration 16\n",
      "likelihood is -22544.450464306075 on iteration 16\n",
      "diff of theta is [0.62236241] on iteration 21\n",
      "likelihood is -22481.51420238705 on iteration 21\n",
      "diff of theta is [0.00528265] on iteration 26\n",
      "likelihood is -98910.45553080825 on iteration 26\n",
      "8-th start\n",
      "Initial theta = [0.51131793]\n",
      "diff of theta is [58.67078212] on iteration 0\n",
      "likelihood is -53125.7240136915 on iteration 0\n",
      "diff of theta is [-62.82956577] on iteration 1\n",
      "likelihood is -98981.8265976999 on iteration 1\n",
      "diff of theta is [12.56575937] on iteration 5\n",
      "likelihood is -99341.20723286996 on iteration 5\n",
      "diff of theta is [-0.56758334] on iteration 11\n",
      "likelihood is -22409.827409730107 on iteration 11\n",
      "diff of theta is [3.84440177] on iteration 16\n",
      "likelihood is -22034.613789660056 on iteration 16\n",
      "diff of theta is [4.16536932] on iteration 21\n",
      "likelihood is -99109.73664281177 on iteration 21\n",
      "diff of theta is [56.54943368] on iteration 26\n",
      "likelihood is -99337.92301502751 on iteration 26\n",
      "9-th start\n",
      "Initial theta = [2.72188548]\n",
      "diff of theta is [-8.5638285] on iteration 0\n",
      "likelihood is -76466.90007984661 on iteration 0\n",
      "diff of theta is [2.24323366] on iteration 1\n",
      "likelihood is -95021.91099130752 on iteration 1\n",
      "diff of theta is [-0.0045054] on iteration 5\n",
      "likelihood is -99012.80356824525 on iteration 5\n",
      "diff of theta is [6.30917399] on iteration 11\n",
      "likelihood is -22483.438102515014 on iteration 11\n",
      "diff of theta is [35.88618358] on iteration 16\n",
      "likelihood is -22016.8705192065 on iteration 16\n",
      "diff of theta is [0.00360029] on iteration 21\n",
      "likelihood is -99137.75636522802 on iteration 21\n",
      "diff of theta is [6.26064374] on iteration 26\n",
      "likelihood is -22533.291967975412 on iteration 26\n",
      "best_start=0\n"
     ]
    }
   ],
   "source": [
    "EM_theta1_rad, lhd_1 = em_stools.multi_start_EM(X1, 1, Q1, 10, max_iter=30, eps=1e-6)"
   ]
  },
  {
   "cell_type": "code",
   "execution_count": 7,
   "id": "385f862c-c3bd-4ce9-a0d2-2f81fe053da6",
   "metadata": {},
   "outputs": [],
   "source": [
    "EM_theta1_deg = np.rad2deg(EM_theta1_rad)"
   ]
  },
  {
   "cell_type": "code",
   "execution_count": 8,
   "id": "803140b2-c1de-471f-9dd3-a25b0dae7c64",
   "metadata": {},
   "outputs": [
    {
     "name": "stdout",
     "output_type": "stream",
     "text": [
      "Погрешность в смысле разности углов в градусах: [2.06360596].\n",
      "Погрешность в смысле разности синусов углов [0.03128989].\n"
     ]
    }
   ],
   "source": [
    "print(f\"Погрешность в смысле разности углов в градусах: {np.abs(EM_theta1_deg-theta1_deg)}.\\nПогрешность в смысле разности синусов углов {np.abs(np.sin(EM_theta1_rad)-np.sin(theta1_rad))}.\")"
   ]
  },
  {
   "cell_type": "code",
   "execution_count": null,
   "id": "9cd5e718-10a2-4f00-aca4-8ca6c40392dc",
   "metadata": {},
   "outputs": [],
   "source": []
  },
  {
   "cell_type": "code",
   "execution_count": null,
   "id": "68eb1257-c7ee-4a30-a603-aba888ea025e",
   "metadata": {},
   "outputs": [],
   "source": []
  },
  {
   "cell_type": "code",
   "execution_count": null,
   "id": "1d9fcdac-7a9e-4215-bf35-b145d3dacec0",
   "metadata": {},
   "outputs": [],
   "source": []
  }
 ],
 "metadata": {
  "kernelspec": {
   "display_name": "Python 3",
   "language": "python",
   "name": "python3"
  },
  "language_info": {
   "codemirror_mode": {
    "name": "ipython",
    "version": 3
   },
   "file_extension": ".py",
   "mimetype": "text/x-python",
   "name": "python",
   "nbconvert_exporter": "python",
   "pygments_lexer": "ipython3",
   "version": "3.10.11"
  }
 },
 "nbformat": 4,
 "nbformat_minor": 5
}
