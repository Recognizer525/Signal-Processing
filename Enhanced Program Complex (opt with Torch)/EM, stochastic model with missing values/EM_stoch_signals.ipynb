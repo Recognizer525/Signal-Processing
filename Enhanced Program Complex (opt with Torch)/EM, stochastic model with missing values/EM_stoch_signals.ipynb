{
 "cells": [
  {
   "cell_type": "markdown",
   "id": "80484267-c725-4a89-ade4-3cd938b766fe",
   "metadata": {},
   "source": [
    "# ECM-алгоритм для случая, когда шум известен, а сигналы предполагаются стохастическими"
   ]
  },
  {
   "cell_type": "code",
   "execution_count": 1,
   "id": "96c331ee-dc84-4a15-bc09-1346d67a415e",
   "metadata": {},
   "outputs": [],
   "source": [
    "import numpy as np\n",
    "import matplotlib.pyplot as plt\n",
    "import em_stools\n",
    "from functools import partial"
   ]
  },
  {
   "cell_type": "code",
   "execution_count": 2,
   "id": "9d55aed5-2bc2-47cb-9fe7-e78bdb757034",
   "metadata": {},
   "outputs": [],
   "source": [
    "dist_ratio = 0.5"
   ]
  },
  {
   "cell_type": "code",
   "execution_count": 3,
   "id": "f1404a9c-e87c-41f6-9080-a83555320b04",
   "metadata": {},
   "outputs": [],
   "source": [
    "Num_sensors1 = 5\n",
    "Num_emitters1 = 1\n",
    "sample_size1 = 100\n",
    "theta1_rad = [0.5] # Направление прибытия (DOA) в радианах\n",
    "theta1_deg = np.rad2deg(theta1_rad[0]) # Направление прибытия (DOA) в градусах\n",
    "P1 = 1 * np.eye(Num_emitters1, dtype=np.float64) # Ковариация шума\n",
    "Q1 = 1.1 * np.eye(Num_sensors1, dtype=np.float64) # Ковариация шума\n",
    "A1 = np.exp(-2j * np.pi * dist_ratio * np.arange(Num_sensors1).reshape(-1,1) * np.sin(theta1_rad)) # Матрица управляющих векторов\n",
    "# Генерация векторов сигнала, шума и принятого сигнала\n",
    "S1 = em_stools.gss(Num_emitters1, sample_size1, P1)\n",
    "n1 = em_stools.gss(Num_sensors1, sample_size1, Q1)\n",
    "X1 = (A1 @ S1.T + n1.T).T"
   ]
  },
  {
   "cell_type": "code",
   "execution_count": 4,
   "id": "04c95acd-48a4-4db2-8bee-1b0c49ffb7db",
   "metadata": {},
   "outputs": [
    {
     "data": {
      "text/plain": [
       "(100, 1)"
      ]
     },
     "execution_count": 4,
     "metadata": {},
     "output_type": "execute_result"
    }
   ],
   "source": [
    "S1.shape"
   ]
  },
  {
   "cell_type": "code",
   "execution_count": 5,
   "id": "0a53c210-3da7-44e8-af03-ef4e700989c3",
   "metadata": {},
   "outputs": [],
   "source": [
    "X1_with_mv = em_stools.MCAR(X1, [2,4], [40, 40])"
   ]
  },
  {
   "cell_type": "code",
   "execution_count": 6,
   "id": "1c19eb4a-8543-44e5-bd0c-95748e48815e",
   "metadata": {},
   "outputs": [
    {
     "name": "stdout",
     "output_type": "stream",
     "text": [
      "0-th start\n",
      "Initial theta = [-2.83488836]\n",
      "diff of theta is [2.52087354] on iteration 0\n",
      "likelihood is -14996.902645669077 on iteration 0\n",
      "diff of theta is [-0.00893824] on iteration 1\n",
      "likelihood is -16960.989608066004 on iteration 1\n",
      "diff of theta is [18.80452206] on iteration 5\n",
      "likelihood is -72772.64603829595 on iteration 5\n",
      "diff of theta is [12.57270193] on iteration 11\n",
      "likelihood is -98710.93929120444 on iteration 11\n",
      "diff of theta is [-8.41707231] on iteration 16\n",
      "likelihood is -99321.5091262334 on iteration 16\n",
      "diff of theta is [10.42612689] on iteration 21\n",
      "likelihood is -99346.70411580185 on iteration 21\n",
      "diff of theta is [6.77849898] on iteration 26\n",
      "likelihood is -22512.115788170726 on iteration 26\n",
      "1-th start\n",
      "Initial theta = [-2.86887136]\n",
      "diff of theta is [8.88016715] on iteration 0\n",
      "likelihood is -14817.069685814373 on iteration 0\n",
      "diff of theta is [-2.59875332] on iteration 1\n",
      "likelihood is -16675.36296974248 on iteration 1\n",
      "diff of theta is [15.17670271] on iteration 5\n",
      "likelihood is -16733.861295918265 on iteration 5\n",
      "diff of theta is [-3.62312507] on iteration 11\n",
      "likelihood is -16918.441782699058 on iteration 11\n",
      "diff of theta is [-18.86108926] on iteration 16\n",
      "likelihood is -17765.84561776872 on iteration 16\n",
      "diff of theta is [-22.81760622] on iteration 21\n",
      "likelihood is -86064.44946494554 on iteration 21\n",
      "diff of theta is [-0.00565053] on iteration 26\n",
      "likelihood is -98819.46564407693 on iteration 26\n",
      "2-th start\n",
      "Initial theta = [-0.32903623]\n",
      "diff of theta is [-0.01189884] on iteration 0\n",
      "likelihood is -16174.2142852426 on iteration 0\n",
      "diff of theta is [-0.01369756] on iteration 1\n",
      "likelihood is -17512.97623127317 on iteration 1\n",
      "diff of theta is [-0.01681231] on iteration 5\n",
      "likelihood is -19423.458019847665 on iteration 5\n",
      "diff of theta is [0.0059896] on iteration 11\n",
      "likelihood is -98776.0850845101 on iteration 11\n",
      "diff of theta is [-6.2843836] on iteration 16\n",
      "likelihood is -99324.51460234271 on iteration 16\n",
      "diff of theta is [1.83542434] on iteration 21\n",
      "likelihood is -99827.7090138387 on iteration 21\n",
      "diff of theta is [0.00525836] on iteration 26\n",
      "likelihood is -98910.43558298964 on iteration 26\n",
      "3-th start\n",
      "Initial theta = [2.8344867]\n",
      "diff of theta is [-18.89779248] on iteration 0\n",
      "likelihood is -50993.304886762155 on iteration 0\n",
      "diff of theta is [11.6074069] on iteration 1\n",
      "likelihood is -75685.47603029406 on iteration 1\n",
      "diff of theta is [-4.16918066] on iteration 5\n",
      "likelihood is -97844.10947043887 on iteration 5\n",
      "diff of theta is [69.11440149] on iteration 11\n",
      "likelihood is -99341.121809047 on iteration 11\n",
      "diff of theta is [3.91615311] on iteration 16\n",
      "likelihood is -21888.97655379588 on iteration 16\n",
      "diff of theta is [0.00268422] on iteration 21\n",
      "likelihood is -99227.18180960968 on iteration 21\n",
      "diff of theta is [-37.69856059] on iteration 26\n",
      "likelihood is -99342.85697388834 on iteration 26\n",
      "4-th start\n",
      "Initial theta = [-2.08143765]\n",
      "diff of theta is [0.9923535] on iteration 0\n",
      "likelihood is -18904.915375642722 on iteration 0\n",
      "diff of theta is [-0.93735722] on iteration 1\n",
      "likelihood is -21394.522002809364 on iteration 1\n",
      "diff of theta is [3.73830761] on iteration 5\n",
      "likelihood is -21885.738095197783 on iteration 5\n",
      "diff of theta is [0.00417341] on iteration 11\n",
      "likelihood is -99067.43315905538 on iteration 11\n",
      "diff of theta is [12.56715896] on iteration 16\n",
      "likelihood is -99336.36599724325 on iteration 16\n",
      "diff of theta is [6.28335278] on iteration 21\n",
      "likelihood is -99347.3335818509 on iteration 21\n",
      "diff of theta is [-2.07958161] on iteration 26\n",
      "likelihood is -96649.87394708717 on iteration 26\n",
      "best_start=3\n"
     ]
    }
   ],
   "source": [
    "EM_theta1_rad, lhd_1 = em_stools.multi_start_EM(X1, 1, Q1, 5, max_iter=30, eps=1e-6)"
   ]
  },
  {
   "cell_type": "code",
   "execution_count": 7,
   "id": "385f862c-c3bd-4ce9-a0d2-2f81fe053da6",
   "metadata": {},
   "outputs": [],
   "source": [
    "EM_theta1_deg = np.rad2deg(EM_theta1_rad)"
   ]
  },
  {
   "cell_type": "code",
   "execution_count": 8,
   "id": "803140b2-c1de-471f-9dd3-a25b0dae7c64",
   "metadata": {},
   "outputs": [
    {
     "name": "stdout",
     "output_type": "stream",
     "text": [
      "Погрешность в смысле разности углов в градусах: [102.7264993].\n",
      "Погрешность в смысле разности синусов углов [1.4410645].\n"
     ]
    }
   ],
   "source": [
    "print(f\"Погрешность в смысле разности углов в градусах: {np.abs(EM_theta1_deg-theta1_deg)}.\\nПогрешность в смысле разности синусов углов {np.abs(np.sin(EM_theta1_rad)-np.sin(theta1_rad))}.\")"
   ]
  },
  {
   "cell_type": "code",
   "execution_count": null,
   "id": "68eb1257-c7ee-4a30-a603-aba888ea025e",
   "metadata": {},
   "outputs": [],
   "source": []
  },
  {
   "cell_type": "code",
   "execution_count": null,
   "id": "1d9fcdac-7a9e-4215-bf35-b145d3dacec0",
   "metadata": {},
   "outputs": [],
   "source": []
  }
 ],
 "metadata": {
  "kernelspec": {
   "display_name": "Python 3",
   "language": "python",
   "name": "python3"
  },
  "language_info": {
   "codemirror_mode": {
    "name": "ipython",
    "version": 3
   },
   "file_extension": ".py",
   "mimetype": "text/x-python",
   "name": "python",
   "nbconvert_exporter": "python",
   "pygments_lexer": "ipython3",
   "version": "3.10.11"
  }
 },
 "nbformat": 4,
 "nbformat_minor": 5
}
